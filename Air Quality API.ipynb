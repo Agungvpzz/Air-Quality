{
 "cells": [
  {
   "cell_type": "markdown",
   "id": "cbf62299-f30c-4ca1-8f19-85d597b81b97",
   "metadata": {
    "deletable": true,
    "editable": true,
    "frozen": false
   },
   "source": [
    "- https://geopandas.org/en/stable/docs/user_guide.html\n",
    "- https://open-meteo.com/en/docs/air-quality-api\n",
    "- https://open-meteo.com/en/docs/air-quality-api#domains=cams_global"
   ]
  },
  {
   "cell_type": "code",
   "execution_count": 1,
   "id": "50ddc708-82a8-446a-9e66-fc6e0663a2cd",
   "metadata": {
    "deletable": true,
    "editable": true,
    "execution": {
     "iopub.execute_input": "2024-07-24T06:52:57.011262Z",
     "iopub.status.busy": "2024-07-24T06:52:57.011262Z",
     "iopub.status.idle": "2024-07-24T06:53:01.405652Z",
     "shell.execute_reply": "2024-07-24T06:53:01.403108Z",
     "shell.execute_reply.started": "2024-07-24T06:52:57.011262Z"
    },
    "frozen": false
   },
   "outputs": [],
   "source": [
    "import os\n",
    "\n",
    "import pandas as pd\n",
    "import geopandas as gpd\n",
    "\n",
    "import folium\n",
    "import leafmap"
   ]
  },
  {
   "cell_type": "markdown",
   "id": "52a2b610-7061-414f-9506-ec531ca64bf8",
   "metadata": {
    "deletable": true,
    "editable": true,
    "execution": {
     "iopub.execute_input": "2024-07-24T03:02:30.536921Z",
     "iopub.status.busy": "2024-07-24T03:02:30.536921Z",
     "iopub.status.idle": "2024-07-24T03:02:30.549617Z",
     "shell.execute_reply": "2024-07-24T03:02:30.547729Z",
     "shell.execute_reply.started": "2024-07-24T03:02:30.536921Z"
    },
    "frozen": false
   },
   "source": [
    "### Load Data"
   ]
  },
  {
   "cell_type": "code",
   "execution_count": 2,
   "id": "c4c6ef09-e9a7-4a0b-b3e2-5a9cc07f3a93",
   "metadata": {
    "deletable": true,
    "editable": true,
    "execution": {
     "iopub.execute_input": "2024-07-24T06:53:03.808578Z",
     "iopub.status.busy": "2024-07-24T06:53:03.807614Z",
     "iopub.status.idle": "2024-07-24T06:53:03.829452Z",
     "shell.execute_reply": "2024-07-24T06:53:03.827341Z",
     "shell.execute_reply.started": "2024-07-24T06:53:03.808578Z"
    },
    "frozen": false
   },
   "outputs": [],
   "source": [
    "path = \"F:\\Data\\datas\\geo\"\n",
    "Indo_kec_shp_pathfile = os.path.join(path, \"batas_kec\", \"batas_kec.shp\")"
   ]
  },
  {
   "cell_type": "code",
   "execution_count": 3,
   "id": "979ff268-b1a3-49a2-b24d-6a22aa3223b0",
   "metadata": {
    "deletable": true,
    "editable": true,
    "execution": {
     "iopub.execute_input": "2024-07-24T06:53:05.032712Z",
     "iopub.status.busy": "2024-07-24T06:53:05.031970Z",
     "iopub.status.idle": "2024-07-24T06:53:05.691549Z",
     "shell.execute_reply": "2024-07-24T06:53:05.687638Z",
     "shell.execute_reply.started": "2024-07-24T06:53:05.032712Z"
    },
    "frozen": false
   },
   "outputs": [],
   "source": [
    "gdf_Indo_kec = gpd.read_file(Indo_kec_shp_pathfile)"
   ]
  },
  {
   "cell_type": "code",
   "execution_count": 4,
   "id": "b6f383bd-efbb-4ede-8039-4fec03ea48fc",
   "metadata": {
    "collapsed": true,
    "deletable": true,
    "editable": true,
    "execution": {
     "iopub.execute_input": "2024-07-24T06:53:06.726979Z",
     "iopub.status.busy": "2024-07-24T06:53:06.725978Z",
     "iopub.status.idle": "2024-07-24T06:53:06.763310Z",
     "shell.execute_reply": "2024-07-24T06:53:06.762311Z",
     "shell.execute_reply.started": "2024-07-24T06:53:06.726979Z"
    },
    "frozen": false,
    "jupyter": {
     "outputs_hidden": true
    },
    "scrolled": true
   },
   "outputs": [
    {
     "data": {
      "text/plain": [
       "<Geographic 2D CRS: EPSG:4326>\n",
       "Name: WGS 84\n",
       "Axis Info [ellipsoidal]:\n",
       "- Lat[north]: Geodetic latitude (degree)\n",
       "- Lon[east]: Geodetic longitude (degree)\n",
       "Area of Use:\n",
       "- name: World.\n",
       "- bounds: (-180.0, -90.0, 180.0, 90.0)\n",
       "Datum: World Geodetic System 1984 ensemble\n",
       "- Ellipsoid: WGS 84\n",
       "- Prime Meridian: Greenwich"
      ]
     },
     "execution_count": 4,
     "metadata": {},
     "output_type": "execute_result"
    }
   ],
   "source": [
    "gdf_Indo_kec_jakarta = gdf_Indo_kec.query(\"NAME_1 == 'Jakarta Raya'\")\n",
    "gdf_Indo_kec_jakarta.crs"
   ]
  },
  {
   "cell_type": "code",
   "execution_count": null,
   "id": "e54085b2-7571-457d-a170-7b9b5d69012a",
   "metadata": {
    "deletable": true,
    "editable": true,
    "frozen": false
   },
   "outputs": [],
   "source": [
    "gdf_Indo_kec_jakarta.shape"
   ]
  },
  {
   "cell_type": "code",
   "execution_count": 29,
   "id": "976b63cc-7d68-43ae-8d33-52b42a75ea64",
   "metadata": {
    "deletable": true,
    "editable": true,
    "execution": {
     "iopub.execute_input": "2024-07-24T07:09:27.309972Z",
     "iopub.status.busy": "2024-07-24T07:09:27.309972Z",
     "iopub.status.idle": "2024-07-24T07:09:27.330080Z",
     "shell.execute_reply": "2024-07-24T07:09:27.329081Z",
     "shell.execute_reply.started": "2024-07-24T07:09:27.309972Z"
    },
    "frozen": false
   },
   "outputs": [],
   "source": [
    "gdf_Indo_kec_jakarta = gdf_Indo_kec_jakarta.reset_index(drop=True)\n",
    "gdf_Indo_kec_jakarta['latitude'] = gdf_Indo_kec_jakarta.geometry.centroid.y\n",
    "gdf_Indo_kec_jakarta['longitude'] = gdf_Indo_kec_jakarta.geometry.centroid.x"
   ]
  },
  {
   "cell_type": "code",
   "execution_count": 70,
   "id": "1c1d7c74-4b75-4e6d-a210-87be5c777208",
   "metadata": {
    "deletable": true,
    "editable": true,
    "execution": {
     "iopub.execute_input": "2024-07-24T10:58:44.661472Z",
     "iopub.status.busy": "2024-07-24T10:58:44.660476Z",
     "iopub.status.idle": "2024-07-24T10:58:44.771355Z",
     "shell.execute_reply": "2024-07-24T10:58:44.771355Z",
     "shell.execute_reply.started": "2024-07-24T10:58:44.661472Z"
    },
    "frozen": false
   },
   "outputs": [],
   "source": [
    "gdf_Indo_kec_jakarta.to_csv(\"Indo_Kec_Jakarta.csv\", index=False)"
   ]
  },
  {
   "cell_type": "code",
   "execution_count": null,
   "id": "4574da6e-8255-4fd6-828f-5e47a76acb5c",
   "metadata": {
    "deletable": true,
    "editable": true,
    "frozen": false
   },
   "outputs": [],
   "source": [
    "gdf_Indo_kec_jakarta.plot()"
   ]
  },
  {
   "cell_type": "code",
   "execution_count": null,
   "id": "77088b66-d053-4049-84ba-35ba783d7896",
   "metadata": {
    "deletable": true,
    "editable": true,
    "frozen": false
   },
   "outputs": [],
   "source": [
    "gdf_Indo_kec_jakarta.explore()"
   ]
  },
  {
   "cell_type": "markdown",
   "id": "c6e9e9a6-1768-4007-b93f-0692193edcd4",
   "metadata": {
    "deletable": true,
    "editable": true,
    "execution": {
     "iopub.execute_input": "2024-07-24T14:18:27.524740Z",
     "iopub.status.busy": "2024-07-24T14:18:27.523741Z",
     "iopub.status.idle": "2024-07-24T14:18:27.547678Z",
     "shell.execute_reply": "2024-07-24T14:18:27.544685Z",
     "shell.execute_reply.started": "2024-07-24T14:18:27.524740Z"
    },
    "frozen": false
   },
   "source": [
    "### Open-Meteo API"
   ]
  },
  {
   "cell_type": "code",
   "execution_count": 79,
   "id": "0236cd83-f2ff-48be-ab7c-ad1603a2f87d",
   "metadata": {
    "deletable": true,
    "editable": true,
    "execution": {
     "iopub.execute_input": "2024-07-24T14:20:51.243213Z",
     "iopub.status.busy": "2024-07-24T14:20:51.242180Z",
     "iopub.status.idle": "2024-07-24T14:20:51.369350Z",
     "shell.execute_reply": "2024-07-24T14:20:51.368154Z",
     "shell.execute_reply.started": "2024-07-24T14:20:51.243213Z"
    },
    "frozen": false
   },
   "outputs": [],
   "source": [
    "Jagakarsa = gdf_Indo_kec_jakarta.query(\"NAME_2=='Jakarta Selatan' & NAME_3=='Jagakarsa'\").copy()"
   ]
  },
  {
   "cell_type": "code",
   "execution_count": 80,
   "id": "ef4f3de8-de09-446f-9c2d-39d6a29f295b",
   "metadata": {
    "deletable": true,
    "editable": true,
    "execution": {
     "iopub.execute_input": "2024-07-24T14:20:52.803208Z",
     "iopub.status.busy": "2024-07-24T14:20:52.803208Z",
     "iopub.status.idle": "2024-07-24T14:20:52.824281Z",
     "shell.execute_reply": "2024-07-24T14:20:52.823202Z",
     "shell.execute_reply.started": "2024-07-24T14:20:52.803208Z"
    },
    "frozen": false
   },
   "outputs": [],
   "source": [
    "Penjaringan = gdf_Indo_kec_jakarta.query(\"NAME_2=='Jakarta Utara' & NAME_3=='Penjaringan'\").copy()"
   ]
  },
  {
   "cell_type": "code",
   "execution_count": 89,
   "id": "bb297fb1-7c41-48f0-a631-e636bb48e47f",
   "metadata": {
    "deletable": true,
    "editable": true,
    "execution": {
     "iopub.execute_input": "2024-07-24T14:22:52.278127Z",
     "iopub.status.busy": "2024-07-24T14:22:52.278127Z",
     "iopub.status.idle": "2024-07-24T14:22:52.291092Z",
     "shell.execute_reply": "2024-07-24T14:22:52.288147Z",
     "shell.execute_reply.started": "2024-07-24T14:22:52.278127Z"
    },
    "frozen": false
   },
   "outputs": [],
   "source": [
    "def get_weather_api(lat, lon):\n",
    "    url = \"https://air-quality-api.open-meteo.com/v1/air-quality\"\n",
    "    \n",
    "    params = {\n",
    "        \"latitude\": lat,\n",
    "        \"longitude\": lon,\n",
    "        \"hourly\": [\"pm10\", \"pm2_5\"]\n",
    "    }\n",
    "    \n",
    "    responses = openmeteo.weather_api(url, params=params)\n",
    "\n",
    "    return responses"
   ]
  },
  {
   "cell_type": "code",
   "execution_count": 90,
   "id": "646a6d79-2dfe-4375-afa6-ce4d46465420",
   "metadata": {
    "deletable": true,
    "editable": true,
    "execution": {
     "iopub.execute_input": "2024-07-24T14:23:27.373752Z",
     "iopub.status.busy": "2024-07-24T14:23:27.372752Z",
     "iopub.status.idle": "2024-07-24T14:23:28.378327Z",
     "shell.execute_reply": "2024-07-24T14:23:28.377368Z",
     "shell.execute_reply.started": "2024-07-24T14:23:27.373752Z"
    },
    "frozen": false
   },
   "outputs": [],
   "source": [
    "Jagakarsa_weather = get_weather_api(Jagakarsa['latitude'].iloc[0], Jagakarsa['longitude'].iloc[0])"
   ]
  },
  {
   "cell_type": "code",
   "execution_count": 95,
   "id": "3149bc6c-0daf-4924-9cd9-3d35948ca84f",
   "metadata": {
    "deletable": true,
    "editable": true,
    "execution": {
     "iopub.execute_input": "2024-07-24T14:28:05.772529Z",
     "iopub.status.busy": "2024-07-24T14:28:05.772438Z",
     "iopub.status.idle": "2024-07-24T14:28:06.618166Z",
     "shell.execute_reply": "2024-07-24T14:28:06.616359Z",
     "shell.execute_reply.started": "2024-07-24T14:28:05.772529Z"
    },
    "frozen": false
   },
   "outputs": [],
   "source": [
    "Penjaringan_weather = get_weather_api(Penjaringan['latitude'].iloc[0], Penjaringan['longitude'].iloc[0])"
   ]
  },
  {
   "cell_type": "code",
   "execution_count": 96,
   "id": "dabc139b-ef30-4e5b-a88e-0252124a30ba",
   "metadata": {
    "collapsed": true,
    "deletable": true,
    "editable": true,
    "execution": {
     "iopub.execute_input": "2024-07-24T14:28:13.094691Z",
     "iopub.status.busy": "2024-07-24T14:28:13.093731Z",
     "iopub.status.idle": "2024-07-24T14:28:13.133139Z",
     "shell.execute_reply": "2024-07-24T14:28:13.132141Z",
     "shell.execute_reply.started": "2024-07-24T14:28:13.094691Z"
    },
    "frozen": false,
    "jupyter": {
     "outputs_hidden": true
    },
    "scrolled": true
   },
   "outputs": [
    {
     "name": "stdout",
     "output_type": "stream",
     "text": [
      "Coordinates -6.0°N 106.80001831054688°E\n",
      "Elevation 7.0 m asl\n",
      "Timezone None None\n",
      "Timezone difference to GMT+0 0 s\n"
     ]
    },
    {
     "data": {
      "text/html": [
       "<div>\n",
       "<style scoped>\n",
       "    .dataframe tbody tr th:only-of-type {\n",
       "        vertical-align: middle;\n",
       "    }\n",
       "\n",
       "    .dataframe tbody tr th {\n",
       "        vertical-align: top;\n",
       "    }\n",
       "\n",
       "    .dataframe thead th {\n",
       "        text-align: right;\n",
       "    }\n",
       "</style>\n",
       "<table border=\"1\" class=\"dataframe\">\n",
       "  <thead>\n",
       "    <tr style=\"text-align: right;\">\n",
       "      <th></th>\n",
       "      <th>date</th>\n",
       "      <th>pm10</th>\n",
       "      <th>pm2_5</th>\n",
       "    </tr>\n",
       "  </thead>\n",
       "  <tbody>\n",
       "    <tr>\n",
       "      <th>0</th>\n",
       "      <td>2024-07-24 00:00:00+00:00</td>\n",
       "      <td>143.899994</td>\n",
       "      <td>98.000000</td>\n",
       "    </tr>\n",
       "    <tr>\n",
       "      <th>1</th>\n",
       "      <td>2024-07-24 01:00:00+00:00</td>\n",
       "      <td>143.000000</td>\n",
       "      <td>95.900002</td>\n",
       "    </tr>\n",
       "    <tr>\n",
       "      <th>2</th>\n",
       "      <td>2024-07-24 02:00:00+00:00</td>\n",
       "      <td>104.300003</td>\n",
       "      <td>69.199997</td>\n",
       "    </tr>\n",
       "    <tr>\n",
       "      <th>3</th>\n",
       "      <td>2024-07-24 03:00:00+00:00</td>\n",
       "      <td>89.400002</td>\n",
       "      <td>59.000000</td>\n",
       "    </tr>\n",
       "    <tr>\n",
       "      <th>4</th>\n",
       "      <td>2024-07-24 04:00:00+00:00</td>\n",
       "      <td>81.500000</td>\n",
       "      <td>54.000000</td>\n",
       "    </tr>\n",
       "    <tr>\n",
       "      <th>...</th>\n",
       "      <td>...</td>\n",
       "      <td>...</td>\n",
       "      <td>...</td>\n",
       "    </tr>\n",
       "    <tr>\n",
       "      <th>115</th>\n",
       "      <td>2024-07-28 19:00:00+00:00</td>\n",
       "      <td>80.800003</td>\n",
       "      <td>51.900002</td>\n",
       "    </tr>\n",
       "    <tr>\n",
       "      <th>116</th>\n",
       "      <td>2024-07-28 20:00:00+00:00</td>\n",
       "      <td>80.300003</td>\n",
       "      <td>52.400002</td>\n",
       "    </tr>\n",
       "    <tr>\n",
       "      <th>117</th>\n",
       "      <td>2024-07-28 21:00:00+00:00</td>\n",
       "      <td>82.900002</td>\n",
       "      <td>54.500000</td>\n",
       "    </tr>\n",
       "    <tr>\n",
       "      <th>118</th>\n",
       "      <td>2024-07-28 22:00:00+00:00</td>\n",
       "      <td>87.500000</td>\n",
       "      <td>58.099998</td>\n",
       "    </tr>\n",
       "    <tr>\n",
       "      <th>119</th>\n",
       "      <td>2024-07-28 23:00:00+00:00</td>\n",
       "      <td>95.000000</td>\n",
       "      <td>63.599998</td>\n",
       "    </tr>\n",
       "  </tbody>\n",
       "</table>\n",
       "<p>120 rows × 3 columns</p>\n",
       "</div>"
      ],
      "text/plain": [
       "                         date        pm10      pm2_5\n",
       "0   2024-07-24 00:00:00+00:00  143.899994  98.000000\n",
       "1   2024-07-24 01:00:00+00:00  143.000000  95.900002\n",
       "2   2024-07-24 02:00:00+00:00  104.300003  69.199997\n",
       "3   2024-07-24 03:00:00+00:00   89.400002  59.000000\n",
       "4   2024-07-24 04:00:00+00:00   81.500000  54.000000\n",
       "..                        ...         ...        ...\n",
       "115 2024-07-28 19:00:00+00:00   80.800003  51.900002\n",
       "116 2024-07-28 20:00:00+00:00   80.300003  52.400002\n",
       "117 2024-07-28 21:00:00+00:00   82.900002  54.500000\n",
       "118 2024-07-28 22:00:00+00:00   87.500000  58.099998\n",
       "119 2024-07-28 23:00:00+00:00   95.000000  63.599998\n",
       "\n",
       "[120 rows x 3 columns]"
      ]
     },
     "execution_count": 96,
     "metadata": {},
     "output_type": "execute_result"
    }
   ],
   "source": [
    "get_df_from_weather_api(Penjaringan_weather[0])"
   ]
  },
  {
   "cell_type": "code",
   "execution_count": 94,
   "id": "4fed5c13-4830-4118-988d-109a05fc1c2a",
   "metadata": {
    "collapsed": true,
    "deletable": true,
    "editable": true,
    "execution": {
     "iopub.execute_input": "2024-07-24T14:27:16.504933Z",
     "iopub.status.busy": "2024-07-24T14:27:16.503729Z",
     "iopub.status.idle": "2024-07-24T14:27:16.958232Z",
     "shell.execute_reply": "2024-07-24T14:27:16.957235Z",
     "shell.execute_reply.started": "2024-07-24T14:27:16.504933Z"
    },
    "frozen": false,
    "jupyter": {
     "outputs_hidden": true
    }
   },
   "outputs": [
    {
     "name": "stdout",
     "output_type": "stream",
     "text": [
      "Coordinates -6.400001525878906°N 106.80001831054688°E\n",
      "Elevation 59.0 m asl\n",
      "Timezone None None\n",
      "Timezone difference to GMT+0 0 s\n"
     ]
    },
    {
     "data": {
      "text/html": [
       "<div>\n",
       "<style scoped>\n",
       "    .dataframe tbody tr th:only-of-type {\n",
       "        vertical-align: middle;\n",
       "    }\n",
       "\n",
       "    .dataframe tbody tr th {\n",
       "        vertical-align: top;\n",
       "    }\n",
       "\n",
       "    .dataframe thead th {\n",
       "        text-align: right;\n",
       "    }\n",
       "</style>\n",
       "<table border=\"1\" class=\"dataframe\">\n",
       "  <thead>\n",
       "    <tr style=\"text-align: right;\">\n",
       "      <th></th>\n",
       "      <th>date</th>\n",
       "      <th>pm10</th>\n",
       "      <th>pm2_5</th>\n",
       "    </tr>\n",
       "  </thead>\n",
       "  <tbody>\n",
       "    <tr>\n",
       "      <th>0</th>\n",
       "      <td>2024-07-24 00:00:00+00:00</td>\n",
       "      <td>124.800003</td>\n",
       "      <td>86.400002</td>\n",
       "    </tr>\n",
       "    <tr>\n",
       "      <th>1</th>\n",
       "      <td>2024-07-24 01:00:00+00:00</td>\n",
       "      <td>121.099998</td>\n",
       "      <td>82.900002</td>\n",
       "    </tr>\n",
       "    <tr>\n",
       "      <th>2</th>\n",
       "      <td>2024-07-24 02:00:00+00:00</td>\n",
       "      <td>90.300003</td>\n",
       "      <td>61.500000</td>\n",
       "    </tr>\n",
       "    <tr>\n",
       "      <th>3</th>\n",
       "      <td>2024-07-24 03:00:00+00:00</td>\n",
       "      <td>79.199997</td>\n",
       "      <td>53.900002</td>\n",
       "    </tr>\n",
       "    <tr>\n",
       "      <th>4</th>\n",
       "      <td>2024-07-24 04:00:00+00:00</td>\n",
       "      <td>68.500000</td>\n",
       "      <td>46.900002</td>\n",
       "    </tr>\n",
       "    <tr>\n",
       "      <th>...</th>\n",
       "      <td>...</td>\n",
       "      <td>...</td>\n",
       "      <td>...</td>\n",
       "    </tr>\n",
       "    <tr>\n",
       "      <th>115</th>\n",
       "      <td>2024-07-28 19:00:00+00:00</td>\n",
       "      <td>148.500000</td>\n",
       "      <td>101.300003</td>\n",
       "    </tr>\n",
       "    <tr>\n",
       "      <th>116</th>\n",
       "      <td>2024-07-28 20:00:00+00:00</td>\n",
       "      <td>142.500000</td>\n",
       "      <td>97.599998</td>\n",
       "    </tr>\n",
       "    <tr>\n",
       "      <th>117</th>\n",
       "      <td>2024-07-28 21:00:00+00:00</td>\n",
       "      <td>135.500000</td>\n",
       "      <td>92.900002</td>\n",
       "    </tr>\n",
       "    <tr>\n",
       "      <th>118</th>\n",
       "      <td>2024-07-28 22:00:00+00:00</td>\n",
       "      <td>131.800003</td>\n",
       "      <td>90.599998</td>\n",
       "    </tr>\n",
       "    <tr>\n",
       "      <th>119</th>\n",
       "      <td>2024-07-28 23:00:00+00:00</td>\n",
       "      <td>131.800003</td>\n",
       "      <td>90.800003</td>\n",
       "    </tr>\n",
       "  </tbody>\n",
       "</table>\n",
       "<p>120 rows × 3 columns</p>\n",
       "</div>"
      ],
      "text/plain": [
       "                         date        pm10       pm2_5\n",
       "0   2024-07-24 00:00:00+00:00  124.800003   86.400002\n",
       "1   2024-07-24 01:00:00+00:00  121.099998   82.900002\n",
       "2   2024-07-24 02:00:00+00:00   90.300003   61.500000\n",
       "3   2024-07-24 03:00:00+00:00   79.199997   53.900002\n",
       "4   2024-07-24 04:00:00+00:00   68.500000   46.900002\n",
       "..                        ...         ...         ...\n",
       "115 2024-07-28 19:00:00+00:00  148.500000  101.300003\n",
       "116 2024-07-28 20:00:00+00:00  142.500000   97.599998\n",
       "117 2024-07-28 21:00:00+00:00  135.500000   92.900002\n",
       "118 2024-07-28 22:00:00+00:00  131.800003   90.599998\n",
       "119 2024-07-28 23:00:00+00:00  131.800003   90.800003\n",
       "\n",
       "[120 rows x 3 columns]"
      ]
     },
     "execution_count": 94,
     "metadata": {},
     "output_type": "execute_result"
    }
   ],
   "source": [
    "get_df_from_weather_api(Jagakarsa_weather[0])"
   ]
  },
  {
   "cell_type": "code",
   "execution_count": 93,
   "id": "f2bcd1a3-ca25-449c-a80d-5bcd8fce82f2",
   "metadata": {
    "deletable": true,
    "editable": true,
    "execution": {
     "iopub.execute_input": "2024-07-24T14:27:00.099123Z",
     "iopub.status.busy": "2024-07-24T14:27:00.098126Z",
     "iopub.status.idle": "2024-07-24T14:27:00.125645Z",
     "shell.execute_reply": "2024-07-24T14:27:00.122652Z",
     "shell.execute_reply.started": "2024-07-24T14:27:00.099123Z"
    },
    "frozen": false
   },
   "outputs": [],
   "source": [
    "def get_df_from_weather_api(response):\n",
    "    print(f\"Coordinates {response.Latitude()}°N {response.Longitude()}°E\")\n",
    "    print(f\"Elevation {response.Elevation()} m asl\")\n",
    "    print(f\"Timezone {response.Timezone()} {response.TimezoneAbbreviation()}\")\n",
    "    print(f\"Timezone difference to GMT+0 {response.UtcOffsetSeconds()} s\")\n",
    "    \n",
    "    # Process hourly data. The order of variables needs to be the same as requested.\n",
    "    hourly = response.Hourly()\n",
    "    hourly_pm10 = hourly.Variables(0).ValuesAsNumpy()\n",
    "    hourly_pm2_5 = hourly.Variables(1).ValuesAsNumpy()\n",
    "    \n",
    "    hourly_data = {\"date\": pd.date_range(\n",
    "        start = pd.to_datetime(hourly.Time(), unit = \"s\", utc = True),\n",
    "        end = pd.to_datetime(hourly.TimeEnd(), unit = \"s\", utc = True),\n",
    "        freq = pd.Timedelta(seconds = hourly.Interval()),\n",
    "        inclusive = \"left\"\n",
    "    )}\n",
    "    hourly_data[\"pm10\"] = hourly_pm10\n",
    "    hourly_data[\"pm2_5\"] = hourly_pm2_5\n",
    "    \n",
    "    hourly_dataframe = pd.DataFrame(data = hourly_data)\n",
    "\n",
    "    return hourly_dataframe"
   ]
  },
  {
   "cell_type": "code",
   "execution_count": null,
   "id": "a266efa6-034f-454a-8618-0cc9a226180e",
   "metadata": {
    "deletable": true,
    "editable": true,
    "frozen": false
   },
   "outputs": [],
   "source": [
    "print(f\"Coordinates {response.Latitude()}°N {response.Longitude()}°E\")\n",
    "print(f\"Elevation {response.Elevation()} m asl\")\n",
    "print(f\"Timezone {response.Timezone()} {response.TimezoneAbbreviation()}\")\n",
    "print(f\"Timezone difference to GMT+0 {response.UtcOffsetSeconds()} s\")"
   ]
  }
 ],
 "metadata": {
  "kernelspec": {
   "display_name": "Python 3 (ipykernel)",
   "language": "python",
   "name": "python3"
  },
  "language_info": {
   "codemirror_mode": {
    "name": "ipython",
    "version": 3
   },
   "file_extension": ".py",
   "mimetype": "text/x-python",
   "name": "python",
   "nbconvert_exporter": "python",
   "pygments_lexer": "ipython3",
   "version": "3.9.12"
  }
 },
 "nbformat": 4,
 "nbformat_minor": 5
}
