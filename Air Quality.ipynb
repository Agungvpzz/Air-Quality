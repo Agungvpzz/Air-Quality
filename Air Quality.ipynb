{
 "cells": [
  {
   "cell_type": "markdown",
   "id": "396cbe9d-6c33-4b5b-87bf-06342d6cf33a",
   "metadata": {
    "deletable": true,
    "editable": true,
    "frozen": false
   },
   "source": [
    "Administrative Boundary Indonesia (https://imcarto.webflow.io/gdb)"
   ]
  },
  {
   "cell_type": "code",
   "execution_count": 1,
   "id": "a8d51d80-4100-44b0-bb02-c5dceba3f1c5",
   "metadata": {
    "deletable": true,
    "editable": true,
    "execution": {
     "iopub.execute_input": "2024-07-26T02:19:38.485303Z",
     "iopub.status.busy": "2024-07-26T02:19:38.484306Z",
     "iopub.status.idle": "2024-07-26T02:19:46.621361Z",
     "shell.execute_reply": "2024-07-26T02:19:46.620365Z",
     "shell.execute_reply.started": "2024-07-26T02:19:38.485303Z"
    },
    "frozen": false
   },
   "outputs": [],
   "source": [
    "import os\n",
    "\n",
    "import pandas as pd\n",
    "import geopandas as gpd\n",
    "\n",
    "import folium"
   ]
  },
  {
   "cell_type": "markdown",
   "id": "9d37ad16-c65f-4cd5-a233-899d94a5f1ec",
   "metadata": {
    "deletable": true,
    "editable": true,
    "execution": {
     "iopub.execute_input": "2024-07-25T14:09:20.152225Z",
     "iopub.status.busy": "2024-07-25T14:09:20.151227Z",
     "iopub.status.idle": "2024-07-25T14:09:20.161200Z",
     "shell.execute_reply": "2024-07-25T14:09:20.160203Z",
     "shell.execute_reply.started": "2024-07-25T14:09:20.152225Z"
    },
    "frozen": false
   },
   "source": [
    "### Load Boundaries Geo-Location"
   ]
  },
  {
   "cell_type": "code",
   "execution_count": 2,
   "id": "0f1461aa-5bf0-43e2-8a0d-047dc70660f0",
   "metadata": {
    "deletable": true,
    "editable": true,
    "execution": {
     "iopub.execute_input": "2024-07-26T02:19:55.765883Z",
     "iopub.status.busy": "2024-07-26T02:19:55.764887Z",
     "iopub.status.idle": "2024-07-26T02:19:55.774858Z",
     "shell.execute_reply": "2024-07-26T02:19:55.773861Z",
     "shell.execute_reply.started": "2024-07-26T02:19:55.765883Z"
    },
    "frozen": false
   },
   "outputs": [],
   "source": [
    "path = \"F:\\Data\\datas\\geo\"\n",
    "Indo_kec_shp_pathfile = os.path.join(path, \"batas_kec\", \"batas_kec.shp\")"
   ]
  },
  {
   "cell_type": "code",
   "execution_count": 3,
   "id": "f2feb9dd-c53f-4c02-b26b-ec0da747d97e",
   "metadata": {
    "deletable": true,
    "editable": true,
    "execution": {
     "iopub.execute_input": "2024-07-26T02:19:56.531512Z",
     "iopub.status.busy": "2024-07-26T02:19:56.530515Z",
     "iopub.status.idle": "2024-07-26T02:20:08.255108Z",
     "shell.execute_reply": "2024-07-26T02:20:08.254153Z",
     "shell.execute_reply.started": "2024-07-26T02:19:56.531512Z"
    },
    "frozen": false
   },
   "outputs": [],
   "source": [
    "gdf_Indo_kec = gpd.read_file(Indo_kec_shp_pathfile)"
   ]
  },
  {
   "cell_type": "code",
   "execution_count": 4,
   "id": "fe705201-175c-4429-befa-32b4bf012cb8",
   "metadata": {
    "collapsed": true,
    "deletable": true,
    "editable": true,
    "execution": {
     "iopub.execute_input": "2024-07-26T02:20:09.192550Z",
     "iopub.status.busy": "2024-07-26T02:20:09.191552Z",
     "iopub.status.idle": "2024-07-26T02:20:09.367300Z",
     "shell.execute_reply": "2024-07-26T02:20:09.366302Z",
     "shell.execute_reply.started": "2024-07-26T02:20:09.192550Z"
    },
    "frozen": false,
    "jupyter": {
     "outputs_hidden": true
    }
   },
   "outputs": [
    {
     "data": {
      "text/plain": [
       "<Geographic 2D CRS: EPSG:4326>\n",
       "Name: WGS 84\n",
       "Axis Info [ellipsoidal]:\n",
       "- Lat[north]: Geodetic latitude (degree)\n",
       "- Lon[east]: Geodetic longitude (degree)\n",
       "Area of Use:\n",
       "- name: World.\n",
       "- bounds: (-180.0, -90.0, 180.0, 90.0)\n",
       "Datum: World Geodetic System 1984 ensemble\n",
       "- Ellipsoid: WGS 84\n",
       "- Prime Meridian: Greenwich"
      ]
     },
     "execution_count": 4,
     "metadata": {},
     "output_type": "execute_result"
    }
   ],
   "source": [
    "gdf_Indo_kec_jakarta = gdf_Indo_kec.query(\"NAME_1 == 'Jakarta Raya'\").copy()\n",
    "gdf_Indo_kec_jakarta.crs"
   ]
  },
  {
   "cell_type": "code",
   "execution_count": 5,
   "id": "efb5b405-5acb-4781-8321-390f8248daa9",
   "metadata": {
    "deletable": true,
    "editable": true,
    "execution": {
     "iopub.execute_input": "2024-07-26T02:20:15.386639Z",
     "iopub.status.busy": "2024-07-26T02:20:15.385641Z",
     "iopub.status.idle": "2024-07-26T02:20:16.528740Z",
     "shell.execute_reply": "2024-07-26T02:20:16.527741Z",
     "shell.execute_reply.started": "2024-07-26T02:20:15.386639Z"
    },
    "frozen": false,
    "scrolled": true
   },
   "outputs": [
    {
     "name": "stderr",
     "output_type": "stream",
     "text": [
      "F:\\Users\\work\\AppData\\Local\\Temp\\ipykernel_13016\\86598428.py:2: UserWarning: Geometry is in a geographic CRS. Results from 'centroid' are likely incorrect. Use 'GeoSeries.to_crs()' to re-project geometries to a projected CRS before this operation.\n",
      "\n",
      "  gdf_Indo_kec_jakarta['cent_lat'] = gdf_Indo_kec_jakarta.geometry.centroid.y\n",
      "F:\\Users\\work\\AppData\\Local\\Temp\\ipykernel_13016\\86598428.py:3: UserWarning: Geometry is in a geographic CRS. Results from 'centroid' are likely incorrect. Use 'GeoSeries.to_crs()' to re-project geometries to a projected CRS before this operation.\n",
      "\n",
      "  gdf_Indo_kec_jakarta['cent_lon'] = gdf_Indo_kec_jakarta.geometry.centroid.x\n"
     ]
    }
   ],
   "source": [
    "gdf_Indo_kec_jakarta = gdf_Indo_kec_jakarta.reset_index(drop=True)\n",
    "gdf_Indo_kec_jakarta['cent_lat'] = gdf_Indo_kec_jakarta.geometry.centroid.y\n",
    "gdf_Indo_kec_jakarta['cent_lon'] = gdf_Indo_kec_jakarta.geometry.centroid.x"
   ]
  },
  {
   "cell_type": "code",
   "execution_count": 6,
   "id": "6327dee5-ec52-4c93-a63d-778df1339439",
   "metadata": {
    "deletable": true,
    "editable": true,
    "execution": {
     "iopub.execute_input": "2024-07-26T02:20:21.069867Z",
     "iopub.status.busy": "2024-07-26T02:20:21.068869Z",
     "iopub.status.idle": "2024-07-26T02:20:21.676626Z",
     "shell.execute_reply": "2024-07-26T02:20:21.674626Z",
     "shell.execute_reply.started": "2024-07-26T02:20:21.069867Z"
    },
    "frozen": false
   },
   "outputs": [],
   "source": [
    "df_ispa_dki_all = pd.read_csv(\"df_ispa_dki_all.csv\")"
   ]
  },
  {
   "cell_type": "code",
   "execution_count": 7,
   "id": "79decb2f-f78c-4e17-a6e4-14efce3aa1ef",
   "metadata": {
    "deletable": true,
    "editable": true,
    "execution": {
     "iopub.execute_input": "2024-07-26T02:20:24.817336Z",
     "iopub.status.busy": "2024-07-26T02:20:24.816340Z",
     "iopub.status.idle": "2024-07-26T02:20:25.160509Z",
     "shell.execute_reply": "2024-07-26T02:20:25.158510Z",
     "shell.execute_reply.started": "2024-07-26T02:20:24.817336Z"
    },
    "frozen": false
   },
   "outputs": [],
   "source": [
    "df_ispa_dki_all_geo = df_ispa_dki_all.merge(\n",
    "    gdf_Indo_kec_jakarta[['NAME_3', 'geometry']], \n",
    "    left_on='sub_district', right_on='NAME_3', how='left'\n",
    ").drop(\"NAME_3\", axis=1)"
   ]
  },
  {
   "cell_type": "code",
   "execution_count": 8,
   "id": "e5c7c9ba-ea18-4373-93cd-eb33c546ec36",
   "metadata": {
    "deletable": true,
    "editable": true,
    "execution": {
     "iopub.execute_input": "2024-07-26T02:20:28.012854Z",
     "iopub.status.busy": "2024-07-26T02:20:28.011856Z",
     "iopub.status.idle": "2024-07-26T02:20:28.041960Z",
     "shell.execute_reply": "2024-07-26T02:20:28.039967Z",
     "shell.execute_reply.started": "2024-07-26T02:20:28.012854Z"
    },
    "frozen": false
   },
   "outputs": [],
   "source": [
    "df_ispa_dki_all_geo = gpd.GeoDataFrame(df_ispa_dki_all_geo)"
   ]
  },
  {
   "cell_type": "code",
   "execution_count": null,
   "id": "315cac94-4d35-4bec-8728-2ef9cb92f29a",
   "metadata": {
    "deletable": true,
    "editable": true,
    "frozen": false
   },
   "outputs": [],
   "source": [
    "df_ispa_dki_all_geo.query(\"year==2015 & month=='Jan'\").explore()"
   ]
  },
  {
   "cell_type": "markdown",
   "id": "4d8cc36b-1d42-4e21-928a-77f79fbf5622",
   "metadata": {
    "execution": {
     "iopub.execute_input": "2024-07-26T02:20:38.308184Z",
     "iopub.status.busy": "2024-07-26T02:20:38.306995Z",
     "iopub.status.idle": "2024-07-26T02:20:38.321150Z",
     "shell.execute_reply": "2024-07-26T02:20:38.320158Z",
     "shell.execute_reply.started": "2024-07-26T02:20:38.308184Z"
    }
   },
   "source": [
    "### Folium Map"
   ]
  },
  {
   "cell_type": "code",
   "execution_count": 54,
   "id": "0e3f5560-8a45-4c6d-861a-a64855c58bb1",
   "metadata": {
    "execution": {
     "iopub.execute_input": "2024-07-26T02:38:40.075707Z",
     "iopub.status.busy": "2024-07-26T02:38:40.075707Z",
     "iopub.status.idle": "2024-07-26T02:38:40.088706Z",
     "shell.execute_reply": "2024-07-26T02:38:40.086678Z",
     "shell.execute_reply.started": "2024-07-26T02:38:40.075707Z"
    }
   },
   "outputs": [],
   "source": [
    "from branca.colormap import linear"
   ]
  },
  {
   "cell_type": "code",
   "execution_count": null,
   "id": "a3a2a88b-0565-4a2f-b9d8-40aa72507f52",
   "metadata": {},
   "outputs": [],
   "source": [
    "['YlOrBr_05', 'YlOrRd_04', 'YlOrRd_05', 'Reds_09', 'Reds_05', 'YlOrRd_08', 'magma']"
   ]
  },
  {
   "cell_type": "code",
   "execution_count": 88,
   "id": "5d38b223-4ada-455b-b767-7e980f85ffb2",
   "metadata": {
    "execution": {
     "iopub.execute_input": "2024-07-26T02:56:37.110877Z",
     "iopub.status.busy": "2024-07-26T02:56:37.109879Z",
     "iopub.status.idle": "2024-07-26T02:56:37.128304Z",
     "shell.execute_reply": "2024-07-26T02:56:37.127308Z",
     "shell.execute_reply.started": "2024-07-26T02:56:37.110877Z"
    }
   },
   "outputs": [],
   "source": [
    "colormap = linear.YlOrRd_08.scale(\n",
    "    df_ispa_dki_all_geo[\"pm10\"].min(), \n",
    "    df_ispa_dki_all_geo[\"pm10\"].max()\n",
    ")\n",
    "colormap.caption = \"pm10 scale\""
   ]
  },
  {
   "cell_type": "code",
   "execution_count": 43,
   "id": "54b9d0a2-4108-48cf-a65b-8e8b885268cd",
   "metadata": {
    "execution": {
     "iopub.execute_input": "2024-07-26T02:36:41.371632Z",
     "iopub.status.busy": "2024-07-26T02:36:41.371632Z",
     "iopub.status.idle": "2024-07-26T02:36:41.391753Z",
     "shell.execute_reply": "2024-07-26T02:36:41.385037Z",
     "shell.execute_reply.started": "2024-07-26T02:36:41.371632Z"
    }
   },
   "outputs": [],
   "source": [
    "map_category_color = {\n",
    "    'SEDANG': 'lightblue', \n",
    "    'BAIK': 'green', \n",
    "    'TIDAK SEHAT': '#ffff00',\n",
    "    'SANGAT TIDAK SEHAT': 'tomato',\n",
    "    'BERBAHAYA': 'black'\n",
    "}"
   ]
  },
  {
   "cell_type": "code",
   "execution_count": 103,
   "id": "a151ddb5-d8df-4f3e-b28f-ce35eab36159",
   "metadata": {
    "execution": {
     "iopub.execute_input": "2024-07-26T03:03:28.232993Z",
     "iopub.status.busy": "2024-07-26T03:03:28.231996Z",
     "iopub.status.idle": "2024-07-26T03:03:28.316600Z",
     "shell.execute_reply": "2024-07-26T03:03:28.315541Z",
     "shell.execute_reply.started": "2024-07-26T03:03:28.232993Z"
    }
   },
   "outputs": [
    {
     "data": {
      "text/plain": [
       "<folium.map.LayerControl at 0x252843f9eb0>"
      ]
     },
     "execution_count": 103,
     "metadata": {},
     "output_type": "execute_result"
    }
   ],
   "source": [
    "m = folium.Map([-6.2, 107], zoom_start=10)\n",
    "popup = folium.GeoJsonPopup(fields=[\"station\", \"pm10\", \"pm25\", \"o3\"])\n",
    "\n",
    "folium.GeoJson(\n",
    "    df_ispa_dki_all_geo.query(\"date=='2015-02-25'\"),\n",
    "    name=\"pm10\",\n",
    "    control=True,\n",
    "    zoom_on_click=True,\n",
    "    style_function=lambda feature: {\n",
    "        # \"fillColor\": map_category_color[feature['properties']['category']],\n",
    "        \"fillColor\": colormap(feature['properties']['pm10']),\n",
    "        \"color\": \"black\",\n",
    "        \"weight\": 2,\n",
    "        \"dashArray\": \"5, 5\",\n",
    "        \"fillOpacity\": 0.9,\n",
    "    },\n",
    "    highlight_function=lambda feature: {\"fillColor\": \"#ffff00\"},\n",
    "    popup=popup,\n",
    "    popup_keep_highlighted=True,\n",
    "    show=False\n",
    ").add_to(m)\n",
    "colormap.add_to(m)\n",
    "folium.LayerControl().add_to(m)"
   ]
  },
  {
   "cell_type": "code",
   "execution_count": 104,
   "id": "414f494f-5c6b-4da3-9dfa-7b5bb306a6ce",
   "metadata": {
    "execution": {
     "iopub.execute_input": "2024-07-26T03:03:30.329893Z",
     "iopub.status.busy": "2024-07-26T03:03:30.325903Z",
     "iopub.status.idle": "2024-07-26T03:03:31.745991Z",
     "shell.execute_reply": "2024-07-26T03:03:31.732026Z",
     "shell.execute_reply.started": "2024-07-26T03:03:30.329893Z"
    }
   },
   "outputs": [
    {
     "data": {
      "text/html": [
       "<div style=\"width:100%;\"><div style=\"position:relative;width:100%;height:0;padding-bottom:60%;\"><span style=\"color:#565656\">Make this Notebook Trusted to load map: File -> Trust Notebook</span><iframe srcdoc=\"&lt;!DOCTYPE html&gt;\n",
       "&lt;html&gt;\n",
       "&lt;head&gt;\n",
       "    \n",
       "    &lt;meta http-equiv=&quot;content-type&quot; content=&quot;text/html; charset=UTF-8&quot; /&gt;\n",
       "    \n",
       "        &lt;script&gt;\n",
       "            L_NO_TOUCH = false;\n",
       "            L_DISABLE_3D = false;\n",
       "        &lt;/script&gt;\n",
       "    \n",
       "    &lt;style&gt;html, body {width: 100%;height: 100%;margin: 0;padding: 0;}&lt;/style&gt;\n",
       "    &lt;style&gt;#map {position:absolute;top:0;bottom:0;right:0;left:0;}&lt;/style&gt;\n",
       "    &lt;script src=&quot;https://cdn.jsdelivr.net/npm/leaflet@1.9.3/dist/leaflet.js&quot;&gt;&lt;/script&gt;\n",
       "    &lt;script src=&quot;https://code.jquery.com/jquery-3.7.1.min.js&quot;&gt;&lt;/script&gt;\n",
       "    &lt;script src=&quot;https://cdn.jsdelivr.net/npm/bootstrap@5.2.2/dist/js/bootstrap.bundle.min.js&quot;&gt;&lt;/script&gt;\n",
       "    &lt;script src=&quot;https://cdnjs.cloudflare.com/ajax/libs/Leaflet.awesome-markers/2.0.2/leaflet.awesome-markers.js&quot;&gt;&lt;/script&gt;\n",
       "    &lt;link rel=&quot;stylesheet&quot; href=&quot;https://cdn.jsdelivr.net/npm/leaflet@1.9.3/dist/leaflet.css&quot;/&gt;\n",
       "    &lt;link rel=&quot;stylesheet&quot; href=&quot;https://cdn.jsdelivr.net/npm/bootstrap@5.2.2/dist/css/bootstrap.min.css&quot;/&gt;\n",
       "    &lt;link rel=&quot;stylesheet&quot; href=&quot;https://netdna.bootstrapcdn.com/bootstrap/3.0.0/css/bootstrap-glyphicons.css&quot;/&gt;\n",
       "    &lt;link rel=&quot;stylesheet&quot; href=&quot;https://cdn.jsdelivr.net/npm/@fortawesome/fontawesome-free@6.2.0/css/all.min.css&quot;/&gt;\n",
       "    &lt;link rel=&quot;stylesheet&quot; href=&quot;https://cdnjs.cloudflare.com/ajax/libs/Leaflet.awesome-markers/2.0.2/leaflet.awesome-markers.css&quot;/&gt;\n",
       "    &lt;link rel=&quot;stylesheet&quot; href=&quot;https://cdn.jsdelivr.net/gh/python-visualization/folium/folium/templates/leaflet.awesome.rotate.min.css&quot;/&gt;\n",
       "    \n",
       "            &lt;meta name=&quot;viewport&quot; content=&quot;width=device-width,\n",
       "                initial-scale=1.0, maximum-scale=1.0, user-scalable=no&quot; /&gt;\n",
       "            &lt;style&gt;\n",
       "                #map_be721433ccba1a5c2ed810bdb430fda3 {\n",
       "                    position: relative;\n",
       "                    width: 100.0%;\n",
       "                    height: 100.0%;\n",
       "                    left: 0.0%;\n",
       "                    top: 0.0%;\n",
       "                }\n",
       "                .leaflet-container { font-size: 1rem; }\n",
       "            &lt;/style&gt;\n",
       "        \n",
       "    \n",
       "                    &lt;style&gt;\n",
       "                        .foliumpopup {\n",
       "                            margin: auto;\n",
       "                        }\n",
       "                       .foliumpopup table{\n",
       "                            margin: auto;\n",
       "                        }\n",
       "                        .foliumpopup tr{\n",
       "                            text-align: left;\n",
       "                        }\n",
       "                        .foliumpopup th{\n",
       "                            padding: 2px; padding-right: 8px;\n",
       "                        }\n",
       "                    &lt;/style&gt;\n",
       "            \n",
       "    &lt;script src=&quot;https://cdnjs.cloudflare.com/ajax/libs/d3/3.5.5/d3.min.js&quot;&gt;&lt;/script&gt;\n",
       "&lt;/head&gt;\n",
       "&lt;body&gt;\n",
       "    \n",
       "    \n",
       "            &lt;div class=&quot;folium-map&quot; id=&quot;map_be721433ccba1a5c2ed810bdb430fda3&quot; &gt;&lt;/div&gt;\n",
       "        \n",
       "&lt;/body&gt;\n",
       "&lt;script&gt;\n",
       "    \n",
       "    \n",
       "            var map_be721433ccba1a5c2ed810bdb430fda3 = L.map(\n",
       "                &quot;map_be721433ccba1a5c2ed810bdb430fda3&quot;,\n",
       "                {\n",
       "                    center: [-6.2, 107.0],\n",
       "                    crs: L.CRS.EPSG3857,\n",
       "                    zoom: 10,\n",
       "                    zoomControl: true,\n",
       "                    preferCanvas: false,\n",
       "                }\n",
       "            );\n",
       "\n",
       "            \n",
       "\n",
       "        \n",
       "    \n",
       "            var tile_layer_51e2c2f350abbb6d239321e815aac142 = L.tileLayer(\n",
       "                &quot;https://tile.openstreetmap.org/{z}/{x}/{y}.png&quot;,\n",
       "                {&quot;attribution&quot;: &quot;\\u0026copy; \\u003ca href=\\&quot;https://www.openstreetmap.org/copyright\\&quot;\\u003eOpenStreetMap\\u003c/a\\u003e contributors&quot;, &quot;detectRetina&quot;: false, &quot;maxNativeZoom&quot;: 19, &quot;maxZoom&quot;: 19, &quot;minZoom&quot;: 0, &quot;noWrap&quot;: false, &quot;opacity&quot;: 1, &quot;subdomains&quot;: &quot;abc&quot;, &quot;tms&quot;: false}\n",
       "            );\n",
       "        \n",
       "    \n",
       "            tile_layer_51e2c2f350abbb6d239321e815aac142.addTo(map_be721433ccba1a5c2ed810bdb430fda3);\n",
       "        \n",
       "    \n",
       "        function geo_json_bb0754a3f2c818d8f461fbaf5b542250_styler(feature) {\n",
       "            switch(feature.id) {\n",
       "                case &quot;7213&quot;: \n",
       "                    return {&quot;color&quot;: &quot;black&quot;, &quot;dashArray&quot;: &quot;5, 5&quot;, &quot;fillColor&quot;: &quot;#fece6aff&quot;, &quot;fillOpacity&quot;: 0.9, &quot;weight&quot;: 2};\n",
       "                case &quot;7214&quot;: \n",
       "                    return {&quot;color&quot;: &quot;black&quot;, &quot;dashArray&quot;: &quot;5, 5&quot;, &quot;fillColor&quot;: &quot;#fff1a9ff&quot;, &quot;fillOpacity&quot;: 0.9, &quot;weight&quot;: 2};\n",
       "                case &quot;7215&quot;: \n",
       "                    return {&quot;color&quot;: &quot;black&quot;, &quot;dashArray&quot;: &quot;5, 5&quot;, &quot;fillColor&quot;: &quot;#fff6b6ff&quot;, &quot;fillOpacity&quot;: 0.9, &quot;weight&quot;: 2};\n",
       "                case &quot;7216&quot;: \n",
       "                    return {&quot;color&quot;: &quot;black&quot;, &quot;dashArray&quot;: &quot;5, 5&quot;, &quot;fillColor&quot;: &quot;#fec05bff&quot;, &quot;fillOpacity&quot;: 0.9, &quot;weight&quot;: 2};\n",
       "                default:\n",
       "                    return {&quot;color&quot;: &quot;black&quot;, &quot;dashArray&quot;: &quot;5, 5&quot;, &quot;fillColor&quot;: &quot;#fea847ff&quot;, &quot;fillOpacity&quot;: 0.9, &quot;weight&quot;: 2};\n",
       "            }\n",
       "        }\n",
       "        function geo_json_bb0754a3f2c818d8f461fbaf5b542250_highlighter(feature) {\n",
       "            switch(feature.id) {\n",
       "                default:\n",
       "                    return {&quot;fillColor&quot;: &quot;#ffff00&quot;};\n",
       "            }\n",
       "        }\n",
       "\n",
       "        function geo_json_bb0754a3f2c818d8f461fbaf5b542250_onEachFeature(feature, layer) {\n",
       "            layer.on({\n",
       "                mouseout: function(e) {\n",
       "                    if(typeof e.target.setStyle === &quot;function&quot;){\n",
       "                        if (!e.target.isPopupOpen())\n",
       "                            geo_json_bb0754a3f2c818d8f461fbaf5b542250.resetStyle(e.target);\n",
       "                    }\n",
       "                },\n",
       "                mouseover: function(e) {\n",
       "                    if(typeof e.target.setStyle === &quot;function&quot;){\n",
       "                        const highlightStyle = geo_json_bb0754a3f2c818d8f461fbaf5b542250_highlighter(e.target.feature)\n",
       "                        e.target.setStyle(highlightStyle);\n",
       "                    }\n",
       "                },\n",
       "                popupopen: function(e) {\n",
       "                    if(typeof e.target.setStyle === &quot;function&quot;){\n",
       "                        const highlightStyle = geo_json_bb0754a3f2c818d8f461fbaf5b542250_highlighter(e.target.feature)\n",
       "                        e.target.setStyle(highlightStyle);\n",
       "                        e.target.bindPopup(e.popup)\n",
       "                    }\n",
       "                },\n",
       "                popupclose: function(e) {\n",
       "                    if(typeof e.target.setStyle === &quot;function&quot;){\n",
       "                        geo_json_bb0754a3f2c818d8f461fbaf5b542250.resetStyle(e.target);\n",
       "                        e.target.unbindPopup()\n",
       "                    }\n",
       "                },\n",
       "                click: function(e) {\n",
       "                    if (typeof e.target.getBounds === &#x27;function&#x27;) {\n",
       "                        map_be721433ccba1a5c2ed810bdb430fda3.fitBounds(e.target.getBounds());\n",
       "                    }\n",
       "                    else if (typeof e.target.getLatLng === &#x27;function&#x27;){\n",
       "                        let zoom = map_be721433ccba1a5c2ed810bdb430fda3.getZoom()\n",
       "                        zoom = zoom &gt; 12 ? zoom : zoom + 1\n",
       "                        map_be721433ccba1a5c2ed810bdb430fda3.flyTo(e.target.getLatLng(), zoom)\n",
       "                    }\n",
       "                }\n",
       "            });\n",
       "        };\n",
       "        var geo_json_bb0754a3f2c818d8f461fbaf5b542250 = L.geoJson(null, {\n",
       "                onEachFeature: geo_json_bb0754a3f2c818d8f461fbaf5b542250_onEachFeature,\n",
       "            \n",
       "                style: geo_json_bb0754a3f2c818d8f461fbaf5b542250_styler,\n",
       "        });\n",
       "\n",
       "        function geo_json_bb0754a3f2c818d8f461fbaf5b542250_add (data) {\n",
       "            geo_json_bb0754a3f2c818d8f461fbaf5b542250\n",
       "                .addData(data);\n",
       "        }\n",
       "            geo_json_bb0754a3f2c818d8f461fbaf5b542250_add({&quot;bbox&quot;: [106.74770355, -6.37072992, 106.92280579, -6.13676596], &quot;features&quot;: [{&quot;bbox&quot;: [106.87866974, -6.18311214, 106.92245483, -6.13676596], &quot;geometry&quot;: {&quot;coordinates&quot;: [[[106.90662384, -6.18063831], [106.90654755, -6.18060684], [106.90571594, -6.18025351], [106.90522766, -6.18004656], [106.905159, -6.18001938], [106.90446472, -6.17972898], [106.90437317, -6.17968941], [106.90415192, -6.17960072], [106.90385437, -6.17949581], [106.90362549, -6.17940235], [106.9029541, -6.17915726], [106.90247345, -6.17897034], [106.90200043, -6.17876005], [106.90177917, -6.17867851], [106.90161133, -6.17863178], [106.90133667, -6.17853451], [106.90024567, -6.17835426], [106.90000153, -6.17835712], [106.89956665, -6.17836189], [106.89938354, -6.17833996], [106.89928436, -6.17832851], [106.89918518, -6.17831612], [106.89911652, -6.17828608], [106.89897919, -6.17823076], [106.89878082, -6.1781826], [106.89868164, -6.17817211], [106.89787292, -6.17809105], [106.89749908, -6.17808819], [106.8973999, -6.17808914], [106.89717865, -6.17809582], [106.89707947, -6.17809916], [106.89700317, -6.17810202], [106.89663696, -6.17806816], [106.89643097, -6.17799616], [106.89614105, -6.17781734], [106.89568329, -6.17744398], [106.89546967, -6.17725229], [106.89508057, -6.17691326], [106.89434052, -6.17622232], [106.89427185, -6.17615652], [106.89376068, -6.17568445], [106.89346313, -6.17541075], [106.89323425, -6.17520475], [106.89312744, -6.17511654], [106.89244843, -6.17450809], [106.89232635, -6.17439985], [106.89214325, -6.17423582], [106.89165497, -6.17373419], [106.89149475, -6.17357063], [106.89130402, -6.1733942], [106.89123535, -6.17332697], [106.89095306, -6.17316246], [106.89064026, -6.17298269], [106.88991547, -6.17251825], [106.88951874, -6.17226028], [106.88919067, -6.17208481], [106.88868713, -6.17182112], [106.88858032, -6.17175102], [106.88794708, -6.17133379], [106.88760376, -6.17113543], [106.88729095, -6.17095757], [106.88719177, -6.17089367], [106.88572693, -6.16998482], [106.88552094, -6.16985321], [106.88529205, -6.16970682], [106.88490295, -6.16944742], [106.88451385, -6.16920948], [106.8840332, -6.16891146], [106.88378143, -6.16876936], [106.88333893, -6.16851902], [106.8830719, -6.16835213], [106.88227844, -6.16785336], [106.8813324, -6.16729259], [106.88111115, -6.16714334], [106.88083649, -6.16698265], [106.88066864, -6.16688681], [106.8796463, -6.16653824], [106.87924957, -6.1664834], [106.87880707, -6.16646338], [106.87866974, -6.16644001], [106.87889862, -6.16627026], [106.87906647, -6.16612864], [106.87924194, -6.16591406], [106.87944794, -6.1655798], [106.87956238, -6.16532135], [106.8797226, -6.16511631], [106.8799057, -6.16490078], [106.88057709, -6.16390562], [106.88085938, -6.16339779], [106.88105011, -6.16301346], [106.88111115, -6.16288042], [106.88117981, -6.16279459], [106.88128662, -6.16268444], [106.88141632, -6.16250181], [106.88161469, -6.16216087], [106.88189697, -6.16170311], [106.88204193, -6.16143656], [106.88219452, -6.1611824], [106.88234711, -6.16092634], [106.88238525, -6.16086388], [106.88258362, -6.16055632], [106.88285065, -6.16013002], [106.88313293, -6.15966988], [106.88347626, -6.15908003], [106.88362122, -6.15883017], [106.88375854, -6.15857983], [106.8839798, -6.15818977], [106.88465118, -6.15708017], [106.8854599, -6.15578461], [106.88564301, -6.15549088], [106.88578796, -6.15528727], [106.88594818, -6.15500784], [106.88613892, -6.15471554], [106.88642883, -6.1542201], [106.8866806, -6.15383911], [106.8875351, -6.15235281], [106.88796234, -6.15166664], [106.88826752, -6.15114594], [106.88832855, -6.15102959], [106.88852692, -6.15066528], [106.88865662, -6.15038395], [106.88877869, -6.1501298], [106.88887787, -6.14993954], [106.88903046, -6.14957094], [106.88912964, -6.14932823], [106.88923645, -6.14907598], [106.8895874, -6.14816189], [106.88973236, -6.14771032], [106.8898468, -6.1471467], [106.88994598, -6.14671993], [106.89003754, -6.1463604], [106.89015961, -6.14586544], [106.89027405, -6.14537048], [106.89034271, -6.14501524], [106.89041901, -6.14468527], [106.89061737, -6.14354372], [106.89065552, -6.1433506], [106.89069366, -6.14304972], [106.8907547, -6.14269209], [106.89076996, -6.14256191], [106.89076996, -6.14241362], [106.89078522, -6.14233828], [106.89085388, -6.14208221], [106.89104462, -6.14137602], [106.8911438, -6.1408062], [106.89129639, -6.14004898], [106.89147949, -6.13941956], [106.8915329, -6.13907099], [106.89154053, -6.13899326], [106.89168549, -6.1382122], [106.8917923, -6.13711023], [106.89185333, -6.13684988], [106.89187622, -6.13676596], [106.89220428, -6.13684082], [106.89232635, -6.13686895], [106.89274597, -6.13696146], [106.89331818, -6.13707542], [106.89364624, -6.1371541], [106.89401245, -6.1372323], [106.89496613, -6.13747263], [106.89567566, -6.13763905], [106.89676666, -6.13789988], [106.89752197, -6.13808012], [106.89806366, -6.13822985], [106.89887238, -6.13843012], [106.89993286, -6.13868999], [106.90009308, -6.13873005], [106.90036011, -6.13881016], [106.9009552, -6.13896465], [106.90144348, -6.13909006], [106.90156555, -6.13911152], [106.9017334, -6.13914013], [106.90267181, -6.13933372], [106.90348053, -6.1395402], [106.90363312, -6.13955975], [106.90396118, -6.13960266], [106.9041748, -6.1396699], [106.90435791, -6.13970327], [106.9044342, -6.13985062], [106.90451813, -6.14002037], [106.90452576, -6.14019012], [106.90460968, -6.14047337], [106.9046402, -6.14071083], [106.90470886, -6.14083529], [106.90483856, -6.14119768], [106.904953, -6.14148045], [106.90511322, -6.14185381], [106.9052887, -6.14213991], [106.9053421, -6.14221001], [106.90546417, -6.14244175], [106.90555573, -6.14258909], [106.90562439, -6.1427021], [106.90564728, -6.1428299], [106.90576172, -6.14308023], [106.90586853, -6.14323997], [106.90599823, -6.14341784], [106.90611267, -6.14357996], [106.90621185, -6.14367008], [106.9063797, -6.14354992], [106.90660858, -6.14343739], [106.90673828, -6.14337015], [106.90706635, -6.14331007], [106.90718079, -6.14330149], [106.907341, -6.14325666], [106.90743256, -6.14320993], [106.90756989, -6.14312124], [106.90789795, -6.1429801], [106.90808868, -6.14296007], [106.90840149, -6.14298153], [106.90850067, -6.14295006], [106.90863037, -6.14287996], [106.90885162, -6.14270592], [106.90904236, -6.14256001], [106.90943909, -6.14235592], [106.90953827, -6.14233351], [106.90975952, -6.14227009], [106.90984344, -6.14223003], [106.91010284, -6.14209986], [106.91021729, -6.1420598], [106.91036987, -6.14203691], [106.91064453, -6.14199495], [106.91108704, -6.14182901], [106.91151428, -6.14161682], [106.91159058, -6.14158058], [106.91165924, -6.14153147], [106.91177368, -6.1414485], [106.9118576, -6.14138985], [106.91201019, -6.14133978], [106.91220856, -6.14127016], [106.91226959, -6.14117002], [106.91226959, -6.14104986], [106.91230774, -6.14069986], [106.91239929, -6.14055824], [106.91252136, -6.14045], [106.91265869, -6.14033985], [106.91281891, -6.14021015], [106.91285706, -6.14010286], [106.91287994, -6.14003086], [106.91291046, -6.13991737], [106.91292572, -6.13984537], [106.91295624, -6.1397171], [106.91298676, -6.1396184], [106.91307831, -6.1395402], [106.91316986, -6.1394701], [106.91324615, -6.13944006], [106.91332245, -6.13941002], [106.91335297, -6.13931894], [106.913414, -6.13919497], [106.91345978, -6.13907671], [106.9134903, -6.13899899], [106.91352844, -6.13884449], [106.9135437, -6.13865948], [106.91368103, -6.13831902], [106.91375732, -6.13824892], [106.91397095, -6.13805008], [106.91408539, -6.13797808], [106.91425323, -6.13793135], [106.9143219, -6.13788986], [106.9143219, -6.1377902], [106.91435242, -6.1375761], [106.91436768, -6.1374402], [106.9144516, -6.13742018], [106.91452789, -6.13742018], [106.91487885, -6.13752985], [106.91508484, -6.1375761], [106.91523743, -6.13760996], [106.91553497, -6.1375227], [106.91574097, -6.1374402], [106.91596222, -6.13740015], [106.91635895, -6.13740015], [106.91649628, -6.1374402], [106.91670227, -6.13754702], [106.91679382, -6.13759565], [106.91678619, -6.13769054], [106.91674805, -6.13785934], [106.91673279, -6.13807154], [106.91674042, -6.13815451], [106.91675568, -6.13828754], [106.91677094, -6.13855839], [106.91677856, -6.13863754], [106.91674805, -6.13895655], [106.91672516, -6.13926554], [106.91661835, -6.13951111], [106.91657257, -6.13961601], [106.91654968, -6.13968801], [106.91644287, -6.13995028], [106.91641235, -6.14029551], [106.91639709, -6.14052296], [106.91634369, -6.14067936], [106.91629028, -6.14085245], [106.91621399, -6.14102077], [106.91614532, -6.14118242], [106.91612244, -6.14133501], [106.91610718, -6.14147091], [106.91610718, -6.14184141], [106.91603088, -6.1424284], [106.91599274, -6.14252281], [106.91590118, -6.14274645], [106.91577148, -6.14306784], [106.91569519, -6.14377832], [106.91551208, -6.14419842], [106.9153595, -6.14474726], [106.91539764, -6.14502621], [106.91549683, -6.14531279], [106.9156189, -6.14563942], [106.91572571, -6.14581919], [106.91590881, -6.14611864], [106.91598511, -6.1462245], [106.91612244, -6.1464057], [106.91641998, -6.14680576], [106.91652679, -6.14694977], [106.91707611, -6.14752054], [106.91716003, -6.14774418], [106.91727448, -6.14814758], [106.91739655, -6.1487031], [106.91751099, -6.14908361], [106.91757965, -6.1492486], [106.91761017, -6.14939451], [106.9176712, -6.14957714], [106.91765594, -6.14971876], [106.91764069, -6.14994812], [106.91762543, -6.15004826], [106.91755676, -6.15021372], [106.91751099, -6.15033293], [106.91741943, -6.1505971], [106.91735077, -6.15078306], [106.91733551, -6.15098572], [106.91733551, -6.15109444], [106.91740417, -6.15130806], [106.91741943, -6.15149117], [106.91744995, -6.15159607], [106.91748047, -6.15172958], [106.9175415, -6.15180969], [106.9176178, -6.15191889], [106.91767883, -6.15196657], [106.91777802, -6.15204], [106.91790009, -6.15218544], [106.91795349, -6.15225267], [106.91799927, -6.15233707], [106.91808319, -6.15247869], [106.91837311, -6.15292501], [106.91860962, -6.15320778], [106.91867828, -6.15340137], [106.9187088, -6.1534853], [106.91877747, -6.15376329], [106.91884613, -6.15401649], [106.91887665, -6.15411282], [106.91902161, -6.15446234], [106.91909027, -6.15459156], [106.91912842, -6.15465736], [106.91920471, -6.15474463], [106.91928101, -6.15488052], [106.91942596, -6.15522289], [106.91941833, -6.15542841], [106.91942596, -6.15562725], [106.91960907, -6.15587378], [106.91970825, -6.15598011], [106.91979218, -6.15614462], [106.91983032, -6.15622997], [106.91986847, -6.15634632], [106.91990662, -6.15646648], [106.91993713, -6.15655422], [106.9200058, -6.15678549], [106.92004395, -6.15694618], [106.92012024, -6.15711021], [106.92016602, -6.15717506], [106.92033386, -6.15739441], [106.92040253, -6.15747356], [106.92049408, -6.15760899], [106.92061615, -6.15779209], [106.92082977, -6.15805912], [106.9209671, -6.1582346], [106.92101288, -6.15829229], [106.9211731, -6.15849304], [106.9213562, -6.15871668], [106.92142487, -6.15885639], [106.92145538, -6.15896273], [106.92138672, -6.15917158], [106.92133331, -6.1593132], [106.92127228, -6.15943527], [106.92124939, -6.15952492], [106.92121887, -6.15965796], [106.92124939, -6.15976381], [106.92131805, -6.15990114], [106.92145538, -6.16007757], [106.92150116, -6.16013575], [106.92158508, -6.16025639], [106.92169952, -6.16051149], [106.92185211, -6.16085529], [106.92185974, -6.1609869], [106.921875, -6.16115046], [106.92189026, -6.1613698], [106.92192078, -6.16172743], [106.92192841, -6.1618638], [106.92194366, -6.16207027], [106.92197418, -6.16217089], [106.92201996, -6.16224718], [106.92189026, -6.1623683], [106.92176819, -6.16259527], [106.92170715, -6.16290426], [106.92160034, -6.16358423], [106.92152405, -6.16411972], [106.9213028, -6.16509056], [106.9212265, -6.16566515], [106.92111206, -6.16613722], [106.92093658, -6.16687059], [106.92097473, -6.16712761], [106.92101288, -6.16735983], [106.92098999, -6.16764069], [106.92086029, -6.16789007], [106.92073822, -6.16811419], [106.92070007, -6.16819048], [106.92069244, -6.16834354], [106.92061615, -6.16863108], [106.92036438, -6.16980457], [106.92037964, -6.17009068], [106.9203949, -6.17046118], [106.92041016, -6.17068624], [106.92045593, -6.17123032], [106.9205246, -6.1719346], [106.92058563, -6.17237329], [106.92067719, -6.1729908], [106.92074585, -6.17324591], [106.92084503, -6.17333412], [106.92095184, -6.17344093], [106.92097473, -6.17357588], [106.92098999, -6.17382908], [106.92108917, -6.17438412], [106.92131042, -6.17560863], [106.92136383, -6.17609644], [106.92144775, -6.17689657], [106.92188263, -6.17823505], [106.92190552, -6.17832088], [106.92189026, -6.17846632], [106.92176819, -6.17906475], [106.92186737, -6.17935896], [106.92194366, -6.1796174], [106.92193604, -6.17981863], [106.92189789, -6.18003511], [106.92182159, -6.18020821], [106.92163086, -6.18058014], [106.92166901, -6.18069029], [106.92169952, -6.18076706], [106.92186737, -6.18113327], [106.92191315, -6.18148518], [106.92201996, -6.18152332], [106.92212677, -6.18185711], [106.92216492, -6.18207216], [106.92245483, -6.18311214], [106.92230988, -6.18310547], [106.92097473, -6.18301678], [106.92079163, -6.18300486], [106.92060089, -6.18299294], [106.92048645, -6.18298435], [106.91947937, -6.18289518], [106.91870117, -6.18282557], [106.91854858, -6.18281507], [106.91793823, -6.18277454], [106.91724396, -6.18272829], [106.91675568, -6.18269873], [106.91608429, -6.1826582], [106.91496277, -6.18256283], [106.91474915, -6.18253756], [106.91429138, -6.18248415], [106.91407776, -6.18247747], [106.91398621, -6.18247461], [106.91326141, -6.18250179], [106.91286469, -6.18262959], [106.91259003, -6.18271399], [106.91214752, -6.18276644], [106.91205597, -6.1827774], [106.91184235, -6.18270683], [106.91177368, -6.18267918], [106.91151428, -6.18256855], [106.91139984, -6.18252087], [106.91122437, -6.18244219], [106.91114807, -6.18240452], [106.91103363, -6.18234968], [106.91091156, -6.18231726], [106.91066742, -6.18227959], [106.91054535, -6.1822896], [106.91029358, -6.18231106], [106.91014099, -6.18242884], [106.91007996, -6.18248272], [106.90911865, -6.18190956], [106.90888214, -6.18177891], [106.90875244, -6.18170738], [106.90755463, -6.18102694], [106.90662384, -6.18063831]]], &quot;type&quot;: &quot;Polygon&quot;}, &quot;id&quot;: &quot;7213&quot;, &quot;properties&quot;: {&quot;category&quot;: &quot;SEDANG&quot;, &quot;co&quot;: 36.0, &quot;critical&quot;: &quot;O3&quot;, &quot;date&quot;: &quot;2015-02-25&quot;, &quot;day&quot;: 25, &quot;day_of_week&quot;: &quot;Wed&quot;, &quot;district&quot;: &quot;Jakarta Utara&quot;, &quot;max&quot;: 86.0, &quot;month&quot;: &quot;Feb&quot;, &quot;no2&quot;: 15.0, &quot;o3&quot;: 86.0, &quot;pm10&quot;: 60.0, &quot;pm25&quot;: null, &quot;quarter&quot;: 1, &quot;so2&quot;: 8.0, &quot;station&quot;: &quot;DKI2 (Kelapa Gading)&quot;, &quot;sub_district&quot;: &quot;Kelapa Gading&quot;, &quot;year&quot;: 2015}, &quot;type&quot;: &quot;Feature&quot;}, {&quot;bbox&quot;: [106.79243469, -6.3655138, 106.85848999, -6.29531908], &quot;geometry&quot;: {&quot;coordinates&quot;: [[[106.79466248, -6.36492348], [106.79463959, -6.36482239], [106.79459381, -6.36458874], [106.79456329, -6.36450911], [106.79447937, -6.3643055], [106.79434967, -6.36418676], [106.79427338, -6.36420727], [106.79393005, -6.36435556], [106.7938385, -6.36429358], [106.79374695, -6.3641634], [106.79359436, -6.36389542], [106.7934494, -6.36376143], [106.79322815, -6.36362791], [106.79309845, -6.36353016], [106.79309082, -6.36345005], [106.79314423, -6.36332893], [106.79329681, -6.36304092], [106.79327393, -6.36294556], [106.79320526, -6.36271906], [106.79327393, -6.36263657], [106.79345703, -6.3625145], [106.79360199, -6.36242056], [106.79360199, -6.36225033], [106.79356384, -6.36200523], [106.7935257, -6.36176014], [106.79351807, -6.36115026], [106.79348755, -6.36106634], [106.79345703, -6.36098576], [106.79334259, -6.3607583], [106.79332733, -6.36063862], [106.79338837, -6.36051035], [106.79348755, -6.36031532], [106.79349518, -6.36019373], [106.79344177, -6.3599925], [106.79337311, -6.35990906], [106.79329681, -6.35989618], [106.79270172, -6.35982037], [106.79260254, -6.35970783], [106.79251099, -6.35952711], [106.79247284, -6.35936499], [106.79246521, -6.35917425], [106.79246521, -6.35872841], [106.79249573, -6.3583684], [106.79253387, -6.35795307], [106.79260254, -6.35790396], [106.79280853, -6.35787678], [106.79291534, -6.35782242], [106.79296875, -6.3577137], [106.79296112, -6.35760832], [106.79293823, -6.35741043], [106.79296875, -6.35719585], [106.79298401, -6.35708427], [106.79309845, -6.35694981], [106.79319763, -6.35674], [106.79320526, -6.35665751], [106.79318237, -6.35646629], [106.79315186, -6.35635519], [106.79309082, -6.35618448], [106.79301453, -6.3559804], [106.79286957, -6.35524035], [106.79293823, -6.3551054], [106.79307556, -6.35497379], [106.79332733, -6.35478258], [106.79353333, -6.35470676], [106.79389954, -6.35456896], [106.7939682, -6.35449553], [106.7939682, -6.35441732], [106.79389954, -6.35425377], [106.79384613, -6.35417891], [106.79380035, -6.35411596], [106.79362488, -6.35395908], [106.79353333, -6.35393572], [106.79325867, -6.35392952], [106.79321289, -6.35383272], [106.79321289, -6.35374355], [106.79327393, -6.35361814], [106.79332733, -6.35346889], [106.79331207, -6.35332108], [106.79325867, -6.35320425], [106.79315948, -6.35310555], [106.7929306, -6.35291672], [106.79273987, -6.35256338], [106.79265594, -6.35246754], [106.79259491, -6.35238409], [106.79259491, -6.35227919], [106.79264069, -6.35219765], [106.79316711, -6.35158014], [106.79337311, -6.35152817], [106.7935791, -6.35146761], [106.79376984, -6.35136843], [106.79390717, -6.35123158], [106.79399109, -6.35109091], [106.79399109, -6.35095072], [106.79393768, -6.35075808], [106.79384613, -6.35063601], [106.79362488, -6.35038471], [106.79354858, -6.35008526], [106.79342651, -6.34978485], [106.7933197, -6.34969902], [106.7928772, -6.34939528], [106.79284668, -6.34924984], [106.7928009, -6.34898853], [106.79269409, -6.34883118], [106.79243469, -6.34841871], [106.7924881, -6.34824181], [106.79259491, -6.34801817], [106.79273987, -6.34789133], [106.79322815, -6.34755516], [106.79334259, -6.34745979], [106.79358673, -6.34720039], [106.79389191, -6.34700489], [106.79412842, -6.34679794], [106.79441071, -6.34654474], [106.79460144, -6.34651709], [106.79478455, -6.34640217], [106.79515839, -6.34609413], [106.79534149, -6.3459897], [106.79548645, -6.3459692], [106.79560852, -6.3460021], [106.79571533, -6.3460784], [106.7958374, -6.34625721], [106.79603577, -6.34650803], [106.79616547, -6.34656572], [106.79633331, -6.34658623], [106.79655457, -6.34655142], [106.79667664, -6.34647894], [106.79680634, -6.34633636], [106.79686737, -6.34625196], [106.79694366, -6.34613991], [106.79710388, -6.34593773], [106.79730988, -6.34569454], [106.79737854, -6.34548378], [106.79736328, -6.345366], [106.79734802, -6.34505939], [106.79738617, -6.34494638], [106.79740906, -6.34485865], [106.79749298, -6.34476566], [106.79761505, -6.34472942], [106.79799652, -6.34466696], [106.79816437, -6.34458113], [106.79820251, -6.34445143], [106.79832458, -6.34431124], [106.7984848, -6.34421825], [106.79872131, -6.34410572], [106.79883575, -6.34401464], [106.79890442, -6.34390688], [106.79890442, -6.34377909], [106.79891968, -6.34351444], [106.79894257, -6.34339428], [106.79903412, -6.34328508], [106.79914856, -6.34325266], [106.79927826, -6.3432312], [106.79934692, -6.34317875], [106.7993927, -6.34308863], [106.79941559, -6.34301853], [106.79940033, -6.34293079], [106.79935455, -6.34279823], [106.79935455, -6.34265232], [106.79951477, -6.34243774], [106.79963684, -6.34228325], [106.79971313, -6.34210157], [106.79959106, -6.34174681], [106.79956818, -6.34159136], [106.79957581, -6.34147453], [106.79959106, -6.34132719], [106.79962921, -6.34123993], [106.79966736, -6.34114408], [106.79975128, -6.34099102], [106.79984283, -6.34081316], [106.79992676, -6.34066057], [106.80001831, -6.34046936], [106.8000412, -6.34034252], [106.80001831, -6.34027147], [106.79968262, -6.33963251], [106.79959869, -6.339468], [106.79955292, -6.33938837], [106.79911804, -6.33892775], [106.79905701, -6.33884954], [106.79894257, -6.33866644], [106.79879761, -6.33847427], [106.79871368, -6.33836889], [106.79867554, -6.33816671], [106.79872894, -6.33790302], [106.79883575, -6.33751059], [106.79886627, -6.33717966], [106.79886627, -6.3370986], [106.79884338, -6.33693647], [106.79879761, -6.33683395], [106.79875183, -6.33670902], [106.79871368, -6.33653164], [106.79882813, -6.33610964], [106.79884338, -6.33587503], [106.7988739, -6.33552122], [106.79889679, -6.33527279], [106.79895782, -6.33497095], [106.79907227, -6.33475637], [106.79914093, -6.3346138], [106.79918671, -6.33439922], [106.79912567, -6.33406878], [106.79911804, -6.33396006], [106.79927826, -6.33359337], [106.79934692, -6.33348846], [106.79946136, -6.33348083], [106.79961395, -6.33341742], [106.79962158, -6.33330965], [106.79979706, -6.3333168], [106.80006409, -6.33341455], [106.80020142, -6.33347082], [106.80028534, -6.33350372], [106.8007431, -6.33358669], [106.80102539, -6.33363914], [106.80110931, -6.33363867], [106.80124664, -6.33363676], [106.80154419, -6.3335104], [106.80169678, -6.33341789], [106.80183411, -6.33311033], [106.80188751, -6.33293915], [106.80186462, -6.33282137], [106.80179596, -6.33237267], [106.80176544, -6.33229303], [106.80154419, -6.33213329], [106.80145264, -6.33206654], [106.80135345, -6.33192968], [106.80130005, -6.331738], [106.80128479, -6.33161545], [106.80132294, -6.33150339], [106.80144501, -6.33137131], [106.80171204, -6.33134556], [106.80190277, -6.33129883], [106.8020401, -6.33123589], [106.80245209, -6.33082438], [106.80260468, -6.33069992], [106.80267334, -6.33064175], [106.80290222, -6.33051062], [106.80321503, -6.33017588], [106.80332184, -6.33007765], [106.8033905, -6.32996368], [106.80339813, -6.32967377], [106.80337524, -6.3291378], [106.80336761, -6.32898426], [106.80335236, -6.32887745], [106.80335236, -6.32865286], [106.80334473, -6.32846975], [106.8033371, -6.32789326], [106.80335236, -6.32772684], [106.80341339, -6.3275876], [106.80357361, -6.3273983], [106.80384827, -6.32715654], [106.80399323, -6.3270483], [106.80410004, -6.32693005], [106.80412292, -6.32643843], [106.80412292, -6.32636452], [106.80404663, -6.3256197], [106.80402374, -6.32550287], [106.80400848, -6.32540226], [106.80405426, -6.325284], [106.80415344, -6.32520056], [106.80441284, -6.3250742], [106.80448914, -6.32501078], [106.80451202, -6.32462788], [106.80452728, -6.32447577], [106.80458832, -6.32433271], [106.80469513, -6.32421303], [106.80491638, -6.32410622], [106.80503082, -6.32408047], [106.80519867, -6.32413292], [106.80565643, -6.32438231], [106.80579376, -6.32445002], [106.80588531, -6.32446003], [106.80599976, -6.32439566], [106.80612183, -6.32424164], [106.80622864, -6.32395506], [106.80623627, -6.32381535], [106.80621338, -6.32371616], [106.80609131, -6.32355118], [106.80596161, -6.32338238], [106.80587769, -6.32323837], [106.80584717, -6.32306099], [106.80601501, -6.32271719], [106.80648804, -6.32268429], [106.80666351, -6.32265186], [106.80679321, -6.3225975], [106.80691528, -6.32248306], [106.80697632, -6.3223815], [106.80702209, -6.32223654], [106.80706024, -6.32198095], [106.80709076, -6.32169819], [106.80710602, -6.32155228], [106.80712128, -6.32142878], [106.80712891, -6.32133913], [106.80713654, -6.32119417], [106.80715942, -6.32110119], [106.80718231, -6.32102156], [106.80731201, -6.32092524], [106.80728912, -6.32062292], [106.80730438, -6.32047749], [106.80738068, -6.3202858], [106.80745697, -6.32013607], [106.80747223, -6.32003736], [106.80741882, -6.31989622], [106.80739594, -6.31982422], [106.8073349, -6.3196435], [106.8073349, -6.31953573], [106.80747223, -6.31920862], [106.80758667, -6.31905556], [106.80768585, -6.3189702], [106.8078537, -6.31893349], [106.80797577, -6.31891394], [106.80805969, -6.31884766], [106.80809021, -6.31876516], [106.80796814, -6.31866312], [106.80789948, -6.31860447], [106.80780029, -6.31847286], [106.80770874, -6.3182416], [106.80765533, -6.3179369], [106.80764771, -6.31770897], [106.807724, -6.31747198], [106.80796051, -6.3172183], [106.80802155, -6.31715393], [106.80815887, -6.31700754], [106.8082962, -6.31687546], [106.80839539, -6.31680059], [106.80845642, -6.316679], [106.80845642, -6.3162508], [106.80847931, -6.31614399], [106.80872345, -6.31602859], [106.8088913, -6.31599855], [106.80899048, -6.31596041], [106.80905914, -6.31588364], [106.80909729, -6.31532478], [106.80913544, -6.31518841], [106.80917358, -6.31505728], [106.80915833, -6.31491375], [106.80898285, -6.31464386], [106.80892944, -6.31451607], [106.80892944, -6.31443024], [106.80892944, -6.31429005], [106.80888367, -6.31412983], [106.8087616, -6.31403971], [106.80841064, -6.31362343], [106.80828857, -6.31346416], [106.80821228, -6.31340218], [106.80802917, -6.3133502], [106.80795288, -6.31333017], [106.80789948, -6.31326008], [106.80789185, -6.31310987], [106.80792999, -6.31294012], [106.80800629, -6.31281996], [106.80815125, -6.31270981], [106.80834198, -6.31263018], [106.80815125, -6.31202984], [106.80806732, -6.31189013], [106.80792999, -6.31170988], [106.80787659, -6.31158018], [106.8078537, -6.31141996], [106.80796051, -6.31102991], [106.80808258, -6.31107998], [106.80818176, -6.31114674], [106.80840302, -6.31128311], [106.80854034, -6.31138515], [106.80883789, -6.31156969], [106.80896759, -6.31165838], [106.80905914, -6.31167984], [106.80919647, -6.31168985], [106.80927277, -6.31165981], [106.80931854, -6.31157017], [106.80940247, -6.31131792], [106.80942535, -6.31120539], [106.80957031, -6.31097984], [106.80964661, -6.31092978], [106.8098526, -6.3108511], [106.80999756, -6.31083012], [106.81031799, -6.31078005], [106.81054688, -6.31079006], [106.81083679, -6.31088877], [106.81096649, -6.3109374], [106.81111908, -6.31095839], [106.81125641, -6.31091022], [106.81139374, -6.31085587], [106.81154633, -6.31080008], [106.81188202, -6.31073999], [106.81204224, -6.31071997], [106.81240845, -6.31071997], [106.81275177, -6.31073999], [106.81361389, -6.31074238], [106.81436157, -6.31082058], [106.81459045, -6.31084538], [106.81593323, -6.31068802], [106.81721497, -6.31050062], [106.81777191, -6.31018353], [106.8176651, -6.31174994], [106.81764221, -6.31217241], [106.81761169, -6.31264496], [106.81768036, -6.3136754], [106.81770325, -6.31397724], [106.81771851, -6.31471968], [106.81710052, -6.31506729], [106.81651306, -6.31607056], [106.81645203, -6.31622982], [106.81639099, -6.31647015], [106.81636047, -6.31668997], [106.81635284, -6.31683016], [106.81660461, -6.316926], [106.81690979, -6.31703997], [106.81755829, -6.31722021], [106.81774902, -6.31725979], [106.81784821, -6.31725979], [106.81800079, -6.31717253], [106.81806183, -6.3170886], [106.81825256, -6.31712008], [106.81848145, -6.31716013], [106.81880951, -6.31723022], [106.8190918, -6.31727314], [106.81942749, -6.31728983], [106.81967926, -6.31731844], [106.81999207, -6.3173461], [106.82028961, -6.31737232], [106.82043457, -6.31738281], [106.82052612, -6.31750154], [106.82092285, -6.31755495], [106.82115936, -6.31754923], [106.82137299, -6.3175292], [106.82175446, -6.31751776], [106.82209015, -6.31746483], [106.82245636, -6.31740808], [106.8227005, -6.31740427], [106.82320404, -6.3173604], [106.82352448, -6.31740093], [106.82382202, -6.31748486], [106.82377625, -6.3177495], [106.82480621, -6.31778812], [106.82481384, -6.31788635], [106.82501984, -6.31823063], [106.82524109, -6.31843042], [106.82534027, -6.31856823], [106.82550812, -6.31878948], [106.82570648, -6.31897593], [106.82597351, -6.31921721], [106.82604218, -6.31950808], [106.82616425, -6.32006693], [106.82623291, -6.32035828], [106.82633209, -6.32060719], [106.8262558, -6.32102251], [106.82624054, -6.32169199], [106.82720947, -6.32192278], [106.82750702, -6.32191658], [106.82762146, -6.32191467], [106.82782745, -6.32191038], [106.82808685, -6.32195425], [106.82828522, -6.32180691], [106.82879639, -6.32188654], [106.82913971, -6.32198715], [106.82932281, -6.32136583], [106.82956696, -6.32116175], [106.83032227, -6.3211894], [106.83115387, -6.32126808], [106.83150482, -6.32132769], [106.83176422, -6.32140827], [106.8319397, -6.3214426], [106.83198547, -6.32138157], [106.83211517, -6.32107115], [106.83222198, -6.32082748], [106.83228302, -6.32072544], [106.8323288, -6.32062387], [106.83241272, -6.3204813], [106.83259583, -6.32025242], [106.8326416, -6.32018614], [106.83275604, -6.32006407], [106.83290863, -6.3198905], [106.83321381, -6.3193717], [106.83333588, -6.31917858], [106.83344269, -6.31900024], [106.83348083, -6.31887341], [106.83351898, -6.3187108], [106.83357239, -6.31862926], [106.83363342, -6.31854296], [106.83376312, -6.31841993], [106.83394623, -6.31825018], [106.83413696, -6.31812477], [106.83421326, -6.31809998], [106.83448792, -6.31826019], [106.83457184, -6.31829977], [106.83477783, -6.31835985], [106.83486938, -6.31837988], [106.83509827, -6.31838512], [106.83526611, -6.31774187], [106.83537292, -6.31721926], [106.8355484, -6.31677485], [106.83575439, -6.31638288], [106.83586884, -6.31617355], [106.83586884, -6.31562328], [106.83592987, -6.31526136], [106.83600616, -6.31506824], [106.83602905, -6.3147912], [106.83605957, -6.31448174], [106.83621979, -6.31347227], [106.83628082, -6.31309509], [106.83638, -6.31274128], [106.83643341, -6.31250048], [106.83659363, -6.31181669], [106.83650208, -6.31156826], [106.83659363, -6.31061602], [106.83664703, -6.30997562], [106.83674622, -6.30970764], [106.83682251, -6.30935287], [106.83709717, -6.30804729], [106.83708191, -6.30716372], [106.83714294, -6.30624056], [106.83724976, -6.30549669], [106.83718872, -6.30494261], [106.8371582, -6.30444431], [106.83716583, -6.30428028], [106.83718872, -6.30386591], [106.8371048, -6.30366564], [106.83704376, -6.30307913], [106.83694458, -6.30292702], [106.83668518, -6.30267859], [106.83662415, -6.30241394], [106.83655548, -6.30197573], [106.8374176, -6.30234814], [106.83792114, -6.30259752], [106.83798981, -6.30262852], [106.83975983, -6.30336046], [106.83984375, -6.30303431], [106.83992767, -6.30278826], [106.83999634, -6.30254984], [106.84005737, -6.30214024], [106.84008789, -6.30191708], [106.84010315, -6.30183744], [106.8401947, -6.30110788], [106.84024048, -6.30078983], [106.84033966, -6.29955149], [106.84037018, -6.29899979], [106.84042358, -6.2983799], [106.84043121, -6.2981801], [106.84049225, -6.29776001], [106.84055328, -6.29745007], [106.84059143, -6.29727983], [106.84059906, -6.29714012], [106.84064484, -6.29689932], [106.84079742, -6.29609013], [106.84082031, -6.2959218], [106.8408432, -6.29581022], [106.84095764, -6.29531908], [106.84107971, -6.29536009], [106.84134674, -6.29542017], [106.8414917, -6.29546738], [106.84243774, -6.2957201], [106.84279633, -6.29582024], [106.84291077, -6.29584599], [106.8430481, -6.29587984], [106.84314728, -6.29589987], [106.84329987, -6.29595995], [106.84375, -6.29616022], [106.84396362, -6.29628992], [106.84406281, -6.29635], [106.84436035, -6.29672003], [106.84448242, -6.29682016], [106.84494019, -6.29692984], [106.84512329, -6.29695988], [106.84544373, -6.29701996], [106.84552002, -6.29703856], [106.84575653, -6.29708004], [106.84597015, -6.29711008], [106.84620667, -6.29715014], [106.84636688, -6.29718018], [106.84648895, -6.2972002], [106.84690094, -6.29728985], [106.84706116, -6.29731607], [106.84747314, -6.29743004], [106.8476181, -6.29743004], [106.84784698, -6.29748583], [106.8479538, -6.29749012], [106.84806824, -6.29750395], [106.84882355, -6.29766607], [106.84896088, -6.29778242], [106.84947205, -6.29767275], [106.84972382, -6.29764414], [106.84976196, -6.29770517], [106.84976959, -6.29778242], [106.84998322, -6.29778528], [106.85015869, -6.29774523], [106.85023499, -6.29768801], [106.85054016, -6.29776335], [106.85063171, -6.29780579], [106.85084534, -6.29789925], [106.85102844, -6.29792166], [106.85116577, -6.29792929], [106.85131836, -6.29795599], [106.85145569, -6.29783869], [106.85186005, -6.29770184], [106.85192108, -6.29774094], [106.85214233, -6.29803038], [106.85212708, -6.2982583], [106.85214233, -6.29897928], [106.85203552, -6.29913139], [106.85195923, -6.29922676], [106.85180664, -6.29928398], [106.8516922, -6.29936028], [106.85148621, -6.29937983], [106.85110474, -6.29907799], [106.850914, -6.29894543], [106.85035706, -6.2987957], [106.84986877, -6.29881668], [106.84967804, -6.2988739], [106.84960175, -6.29904509], [106.84962463, -6.29915905], [106.84975433, -6.29967642], [106.84977722, -6.29976559], [106.84989166, -6.29991722], [106.85009766, -6.3000679], [106.85032654, -6.30025721], [106.85057831, -6.30044603], [106.85121918, -6.30087566], [106.85149384, -6.30103922], [106.85162354, -6.30109358], [106.85182953, -6.30103207], [106.8519516, -6.30091], [106.85214996, -6.30050755], [106.85231018, -6.30006838], [106.85247803, -6.29992199], [106.85282898, -6.29982567], [106.8531723, -6.2997551], [106.85355377, -6.2998085], [106.85398865, -6.29960585], [106.8544693, -6.29945803], [106.85462952, -6.29945755], [106.85481262, -6.29965782], [106.85488892, -6.29989481], [106.85500336, -6.30080748], [106.8549881, -6.30108356], [106.85496521, -6.30135536], [106.85482025, -6.30177593], [106.85460663, -6.30214214], [106.85443878, -6.30234337], [106.85442352, -6.302526], [106.85445404, -6.30260563], [106.85473633, -6.30332851], [106.85484314, -6.30347443], [106.85557556, -6.30389166], [106.85682678, -6.30450821], [106.8574295, -6.30472517], [106.85813904, -6.30506945], [106.85845184, -6.30537891], [106.85848999, -6.30550623], [106.85848999, -6.30562401], [106.85848999, -6.30572557], [106.85832977, -6.30590868], [106.85787201, -6.30609322], [106.85761261, -6.30616713], [106.85741425, -6.30625916], [106.85739899, -6.30642319], [106.85743713, -6.30673695], [106.85765839, -6.3075161], [106.85768127, -6.30768919], [106.85768127, -6.30779743], [106.85761261, -6.30801439], [106.85746765, -6.3083396], [106.85722351, -6.30853558], [106.85715485, -6.30869484], [106.85707855, -6.30888271], [106.85690308, -6.30938148], [106.85684967, -6.30957699], [106.85682678, -6.30966139], [106.85677338, -6.30988026], [106.85686493, -6.31037807], [106.85697174, -6.31048632], [106.85704041, -6.31059408], [106.85721588, -6.31068039], [106.85766602, -6.31061363], [106.85792542, -6.31063414], [106.85816956, -6.3107419], [106.85832214, -6.31091452], [106.85832214, -6.31108809], [106.858284, -6.31117964], [106.85825348, -6.31128311], [106.85767365, -6.31191349], [106.85754395, -6.31202745], [106.85687256, -6.31263113], [106.85635376, -6.31304455], [106.85592651, -6.31347942], [106.85559845, -6.31376219], [106.85514069, -6.31382847], [106.85488129, -6.31382942], [106.85479736, -6.31369972], [106.85470581, -6.31359196], [106.85464478, -6.31320238], [106.85470581, -6.31287718], [106.85470581, -6.31268215], [106.85462189, -6.31240082], [106.85444641, -6.31218481], [106.85389709, -6.31178856], [106.85357666, -6.31155968], [106.85322571, -6.31134415], [106.85292053, -6.31104231], [106.85270691, -6.31093454], [106.85262299, -6.31097841], [106.85236359, -6.31106567], [106.85224915, -6.31126118], [106.85216522, -6.31173801], [106.85218048, -6.31203842], [106.85218811, -6.31232262], [106.85211182, -6.31275415], [106.85190582, -6.31305695], [106.85168457, -6.31330204], [106.85146332, -6.31382608], [106.85124207, -6.3143692], [106.8511734, -6.31476307], [106.85128784, -6.31511927], [106.85150146, -6.31542253], [106.85162354, -6.31563759], [106.85169983, -6.3157711], [106.85173035, -6.31598759], [106.85157776, -6.31632566], [106.85131836, -6.31652403], [106.85031128, -6.31696939], [106.84972382, -6.31728554], [106.84950256, -6.31744385], [106.8493576, -6.31771421], [106.8493576, -6.31793451], [106.84937286, -6.31811237], [106.84937286, -6.31821251], [106.84939575, -6.31832886], [106.84938049, -6.3185997], [106.84925842, -6.3187871], [106.84912872, -6.31882477], [106.84905243, -6.31885433], [106.84892273, -6.31888151], [106.84867859, -6.31867313], [106.84835052, -6.31845331], [106.84828186, -6.31839085], [106.84822083, -6.31835079], [106.84786224, -6.31831551], [106.84748077, -6.31829357], [106.84710693, -6.31825972], [106.84687805, -6.31815624], [106.84679413, -6.31799364], [106.84685516, -6.31781912], [106.84701538, -6.31766701], [106.84745789, -6.31763077], [106.84770203, -6.31759453], [106.8479538, -6.31753778], [106.84819031, -6.31744432], [106.84832764, -6.31735754], [106.84848022, -6.31713867], [106.848526, -6.31704473], [106.84874725, -6.31652689], [106.84882355, -6.31623602], [106.84889221, -6.3159461], [106.8489151, -6.31574535], [106.84888458, -6.31563044], [106.84883881, -6.31545544], [106.8486557, -6.31529951], [106.84848785, -6.31519556], [106.84835052, -6.31511402], [106.84802246, -6.31517267], [106.84791565, -6.31520319], [106.84777069, -6.31525469], [106.84739685, -6.31540632], [106.84733582, -6.31545877], [106.84708405, -6.31569242], [106.84703064, -6.31575251], [106.84696198, -6.31583786], [106.84683228, -6.31600857], [106.84674835, -6.31619835], [106.84667206, -6.31642199], [106.84661865, -6.31650352], [106.84656525, -6.31656456], [106.84642029, -6.31676626], [106.84637451, -6.31685209], [106.84633636, -6.31693792], [106.84616089, -6.31704664], [106.84597015, -6.31703377], [106.84580231, -6.31700277], [106.8456955, -6.31694841], [106.84557343, -6.3168993], [106.84548187, -6.31686401], [106.8453064, -6.31679249], [106.84513092, -6.3167119], [106.84500885, -6.31665134], [106.8449173, -6.3166213], [106.844841, -6.31660557], [106.84471893, -6.31658173], [106.84455109, -6.31655836], [106.84447479, -6.31657076], [106.84436035, -6.316607], [106.8442688, -6.31664848], [106.84420776, -6.31671286], [106.84416962, -6.31683588], [106.84415436, -6.31700373], [106.84416962, -6.31726742], [106.84410858, -6.31757975], [106.84400177, -6.31815577], [106.84395599, -6.31831169], [106.84383392, -6.31845617], [106.84360504, -6.31852913], [106.84352112, -6.31850529], [106.84329224, -6.31838608], [106.84289551, -6.3181715], [106.84270477, -6.31808853], [106.84246826, -6.31801701], [106.84165955, -6.31812811], [106.84075165, -6.3183589], [106.84028625, -6.31848049], [106.83999634, -6.31862545], [106.83956909, -6.31893921], [106.83921051, -6.31939602], [106.83872986, -6.32007885], [106.83856201, -6.32026815], [106.83846283, -6.32045698], [106.83835602, -6.32062483], [106.83829498, -6.32072973], [106.83829498, -6.32083464], [106.83827209, -6.32098103], [106.83829498, -6.32108593], [106.83850861, -6.32144117], [106.8388443, -6.32164955], [106.83921814, -6.32171106], [106.83988953, -6.32154083], [106.8405838, -6.32130814], [106.84087372, -6.32137012], [106.84093475, -6.32149553], [106.84095764, -6.32168388], [106.84081268, -6.32183075], [106.84011841, -6.32206392], [106.84005737, -6.32216883], [106.83995819, -6.32254601], [106.83999634, -6.32267189], [106.84004211, -6.32277632], [106.84029388, -6.32296371], [106.84123993, -6.32337952], [106.84152985, -6.32362986], [106.84169769, -6.32385826], [106.8419342, -6.32417297], [106.84254456, -6.32496691], [106.84290314, -6.32557297], [106.84310913, -6.32626343], [106.84309387, -6.32672405], [106.84305573, -6.3268919], [106.84291077, -6.32714176], [106.84275055, -6.32735825], [106.84254456, -6.32753706], [106.84235382, -6.32763958], [106.84217834, -6.32771635], [106.84203339, -6.32770395], [106.84185791, -6.32757759], [106.84170532, -6.32704449], [106.84163666, -6.32682848], [106.84157562, -6.32673979], [106.84146118, -6.32667637], [106.84130859, -6.32668972], [106.84115601, -6.32688093], [106.84075165, -6.32792473], [106.84052277, -6.32856131], [106.84030151, -6.32900667], [106.84024811, -6.32912111], [106.84023285, -6.32921028], [106.84022522, -6.32929945], [106.84024048, -6.32941389], [106.84041595, -6.32965469], [106.84130859, -6.3304143], [106.84140015, -6.33049345], [106.84181976, -6.3308444], [106.84207153, -6.33099604], [106.84243011, -6.3310585], [106.84279633, -6.33113337], [106.84315491, -6.33127165], [106.84329987, -6.33141041], [106.84339905, -6.33159685], [106.84339905, -6.33174706], [106.84332275, -6.33180761], [106.84308624, -6.33198881], [106.842453, -6.33212662], [106.84178925, -6.33226395], [106.84099579, -6.33222198], [106.84064484, -6.33216286], [106.84042358, -6.33216381], [106.8401947, -6.33217955], [106.84011841, -6.33222485], [106.83997345, -6.33239079], [106.83985138, -6.33284235], [106.83975983, -6.33356476], [106.83976746, -6.33382034], [106.83976746, -6.33403063], [106.8397522, -6.33419609], [106.83973694, -6.33438778], [106.83970642, -6.33488798], [106.83972168, -6.33520412], [106.83973694, -6.33532429], [106.83978271, -6.33545923], [106.83987427, -6.33563948], [106.83999634, -6.33577442], [106.84008789, -6.33587933], [106.84017944, -6.33595419], [106.84037781, -6.33646202], [106.84033966, -6.33676577], [106.84028625, -6.33687115], [106.840271, -6.33700085], [106.84025574, -6.33720207], [106.84030151, -6.3376236], [106.84035492, -6.33792639], [106.84037018, -6.33821297], [106.84035492, -6.33838844], [106.84030914, -6.33853197], [106.8401947, -6.33888292], [106.83986664, -6.33942556], [106.83960724, -6.33971357], [106.83938599, -6.34001684], [106.83929443, -6.34016085], [106.83927917, -6.34025621], [106.83924866, -6.34035206], [106.8392334, -6.3404479], [106.83927917, -6.34057522], [106.83930969, -6.34065437], [106.83943939, -6.34079742], [106.83956909, -6.3408289], [106.83977509, -6.34084415], [106.8399353, -6.34084368], [106.84023285, -6.34081078], [106.84047699, -6.34085751], [106.84065247, -6.34100008], [106.84082031, -6.3412714], [106.84087372, -6.34136581], [106.84095764, -6.34179592], [106.84094238, -6.34197664], [106.84069824, -6.34253597], [106.84036255, -6.3425684], [106.84002686, -6.34260082], [106.83932495, -6.34235287], [106.83885956, -6.34196663], [106.83851624, -6.34133148], [106.83847809, -6.34125423], [106.83802795, -6.34121799], [106.83760834, -6.34151554], [106.83738708, -6.34167433], [106.83682251, -6.34207392], [106.83556366, -6.34371853], [106.83531952, -6.34405565], [106.83534241, -6.34445381], [106.83544159, -6.34456873], [106.83563232, -6.34479952], [106.8359375, -6.34499264], [106.83633423, -6.34507275], [106.8366394, -6.34492874], [106.83756256, -6.34358835], [106.83807373, -6.34333181], [106.8391037, -6.34334278], [106.83979034, -6.34394169], [106.83968353, -6.345119], [106.83931732, -6.34589291], [106.83913422, -6.34628534], [106.83861542, -6.34665012], [106.83781433, -6.34664059], [106.83760071, -6.34693956], [106.83753967, -6.34713364], [106.83763885, -6.34732723], [106.83810425, -6.34796667], [106.83809662, -6.34835243], [106.83808136, -6.34910202], [106.83807373, -6.34931946], [106.83815002, -6.34956932], [106.83843994, -6.34988117], [106.83852386, -6.34996891], [106.83898926, -6.35052347], [106.83929443, -6.35126114], [106.83913422, -6.3519001], [106.83840179, -6.35206556], [106.83577728, -6.35182476], [106.83532715, -6.35200167], [106.8354187, -6.3524518], [106.83573914, -6.35281086], [106.83576965, -6.35288095], [106.83583069, -6.35300303], [106.83580017, -6.35409927], [106.83596802, -6.35452795], [106.83589172, -6.3545785], [106.8358078, -6.35462904], [106.83570862, -6.35469627], [106.8353653, -6.35492659], [106.83524323, -6.3550024], [106.83513641, -6.35505199], [106.83496094, -6.35511732], [106.83433533, -6.35525513], [106.83422089, -6.35528421], [106.83335876, -6.35541391], [106.83301544, -6.35546541], [106.83291626, -6.35547495], [106.83280945, -6.35549164], [106.83237457, -6.35556126], [106.8321228, -6.35559082], [106.83201599, -6.35560322], [106.83174896, -6.35563898], [106.83150482, -6.35567427], [106.83135223, -6.35569715], [106.83096313, -6.35575438], [106.83068848, -6.35585785], [106.83047485, -6.35601044], [106.83021545, -6.35611868], [106.82907104, -6.35634851], [106.82733917, -6.35685444], [106.82667542, -6.35661077], [106.82637024, -6.35648394], [106.82628632, -6.35643435], [106.82424927, -6.35616827], [106.8239212, -6.35612535], [106.82382965, -6.35642242], [106.82301331, -6.35608721], [106.82257843, -6.35595798], [106.82239532, -6.35592365], [106.82225037, -6.35584688], [106.8216629, -6.35561419], [106.82134247, -6.35570574], [106.82121277, -6.35575581], [106.82110596, -6.35587978], [106.82102203, -6.35615206], [106.82100677, -6.35639954], [106.82085419, -6.35665941], [106.81977844, -6.35618544], [106.81962585, -6.3564744], [106.81887817, -6.35606194], [106.81845856, -6.35651875], [106.81777954, -6.35636663], [106.81754303, -6.35630035], [106.81678772, -6.35624981], [106.81665802, -6.35624123], [106.81642151, -6.35617971], [106.8163147, -6.35615206], [106.81607056, -6.3560791], [106.81591797, -6.35603094], [106.81587982, -6.35621071], [106.81570435, -6.35652256], [106.81562805, -6.35658216], [106.81536102, -6.35645294], [106.81526184, -6.35643196], [106.81505585, -6.35682917], [106.81485748, -6.35732174], [106.81473541, -6.35761309], [106.81468201, -6.35785055], [106.81461334, -6.35819054], [106.81459045, -6.35830307], [106.8144989, -6.35871649], [106.81446075, -6.35886955], [106.81435394, -6.35898495], [106.81430817, -6.35922718], [106.81391144, -6.35912895], [106.81388092, -6.35923862], [106.8137207, -6.35941792], [106.81359863, -6.35957623], [106.81348419, -6.35969257], [106.81345367, -6.35978746], [106.81331635, -6.35989332], [106.81304932, -6.36029291], [106.81263733, -6.36079025], [106.81252289, -6.36097622], [106.81255341, -6.36109877], [106.8126297, -6.36125708], [106.81256104, -6.36139679], [106.81244659, -6.36157799], [106.81218719, -6.36178589], [106.81201172, -6.36196518], [106.81187439, -6.3621068], [106.81180573, -6.36217451], [106.81168365, -6.36231041], [106.81152344, -6.36239481], [106.81124115, -6.36239147], [106.8110733, -6.3623848], [106.81062317, -6.36279583], [106.81053162, -6.36295557], [106.81048584, -6.36337852], [106.81048584, -6.36360264], [106.81050873, -6.36370707], [106.81058502, -6.36399174], [106.80931091, -6.36415482], [106.80854797, -6.36401272], [106.80773163, -6.36372471], [106.80719757, -6.36353731], [106.80712128, -6.36351013], [106.8066864, -6.36346483], [106.80640411, -6.36342621], [106.80625916, -6.36340618], [106.80581665, -6.36341906], [106.8057251, -6.36343479], [106.80553436, -6.36343527], [106.80527496, -6.36346149], [106.80503082, -6.36345959], [106.80460358, -6.36346722], [106.8042984, -6.36348152], [106.80412292, -6.36348963], [106.80396271, -6.36349726], [106.80371094, -6.36353683], [106.80358887, -6.36355877], [106.80341339, -6.36358309], [106.80327606, -6.36354685], [106.80307007, -6.36344624], [106.80299377, -6.36342144], [106.80185699, -6.36404514], [106.80133057, -6.36433125], [106.8012085, -6.36439848], [106.80001068, -6.36528444], [106.79994965, -6.36538792], [106.79986572, -6.3655138], [106.79958344, -6.36546516], [106.79933167, -6.36540222], [106.7990799, -6.36532116], [106.79851532, -6.36508799], [106.79826355, -6.36499214], [106.79816437, -6.3649683], [106.79797363, -6.36494875], [106.79771423, -6.36492252], [106.79761505, -6.36491156], [106.79746246, -6.36489582], [106.79715729, -6.36489964], [106.79695892, -6.36491251], [106.796875, -6.36491776], [106.79675293, -6.36491346], [106.7966156, -6.36491871], [106.79634094, -6.3649292], [106.79618835, -6.36493492], [106.795784, -6.36491346], [106.79569244, -6.36490965], [106.79567719, -6.36500168], [106.79531097, -6.36497736], [106.79482269, -6.36493015], [106.79466248, -6.36492348]]], &quot;type&quot;: &quot;Polygon&quot;}, &quot;id&quot;: &quot;7214&quot;, &quot;properties&quot;: {&quot;category&quot;: &quot;TIDAK SEHAT&quot;, &quot;co&quot;: 45.0, &quot;critical&quot;: &quot;O3&quot;, &quot;date&quot;: &quot;2015-02-25&quot;, &quot;day&quot;: 25, &quot;day_of_week&quot;: &quot;Wed&quot;, &quot;district&quot;: &quot;Jakarta Selatan&quot;, &quot;max&quot;: 121.0, &quot;month&quot;: &quot;Feb&quot;, &quot;no2&quot;: 11.0, &quot;o3&quot;: 121.0, &quot;pm10&quot;: 22.0, &quot;pm25&quot;: null, &quot;quarter&quot;: 1, &quot;so2&quot;: 12.0, &quot;station&quot;: &quot;DKI3 (Jagakarsa)&quot;, &quot;sub_district&quot;: &quot;Jagakarsa&quot;, &quot;year&quot;: 2015}, &quot;type&quot;: &quot;Feature&quot;}, {&quot;bbox&quot;: [106.8205719, -6.2086277, 106.85574341, -6.18170977], &quot;geometry&quot;: {&quot;coordinates&quot;: [[[106.84905243, -6.2075429], [106.84895325, -6.20752048], [106.84886169, -6.20756912], [106.84854126, -6.20773172], [106.84831238, -6.20788145], [106.84815216, -6.20792007], [106.84811401, -6.20804834], [106.84793091, -6.20816994], [106.84771729, -6.20833826], [106.84765625, -6.20838261], [106.84739685, -6.20850468], [106.84715271, -6.2086091], [106.84703827, -6.20860386], [106.84680176, -6.2086277], [106.84655762, -6.20861864], [106.84628296, -6.20856762], [106.84609222, -6.20855856], [106.84573364, -6.2084341], [106.84542084, -6.20832825], [106.84501648, -6.20819378], [106.84482574, -6.20812559], [106.84394836, -6.20783472], [106.84332275, -6.20761538], [106.84320831, -6.20757246], [106.84306335, -6.20751858], [106.84285736, -6.20744276], [106.84252167, -6.20732117], [106.84230804, -6.20724344], [106.84196472, -6.20711899], [106.84156036, -6.20696735], [106.84078217, -6.20668173], [106.84049988, -6.20658112], [106.83940125, -6.20617723], [106.83920288, -6.20611906], [106.83882141, -6.20598221], [106.83863068, -6.20592308], [106.83856964, -6.20587778], [106.83836365, -6.20579815], [106.83795166, -6.20564604], [106.83773804, -6.20557022], [106.83744812, -6.20547867], [106.83716583, -6.20539522], [106.83690643, -6.20533991], [106.83654785, -6.20527554], [106.83617401, -6.20523024], [106.8358078, -6.20518446], [106.835495, -6.20513153], [106.83541107, -6.20511723], [106.83500671, -6.20506144], [106.83461761, -6.20500374], [106.833992, -6.20492172], [106.83242798, -6.20468092], [106.83192444, -6.20462751], [106.83119202, -6.20452976], [106.83071899, -6.20445251], [106.83041382, -6.20439863], [106.83017731, -6.20434523], [106.82991791, -6.20428276], [106.82952881, -6.20421362], [106.82932281, -6.20416451], [106.82910156, -6.20411491], [106.82878876, -6.20405626], [106.82817841, -6.20391655], [106.82772827, -6.20380783], [106.8274765, -6.20375013], [106.8272171, -6.20369339], [106.82692719, -6.20362663], [106.82654572, -6.20354128], [106.82632446, -6.2034893], [106.82587433, -6.20338631], [106.82540131, -6.20329475], [106.82482147, -6.20314598], [106.82351685, -6.20284843], [106.82320404, -6.2028017], [106.82271576, -6.20266342], [106.82273865, -6.20252991], [106.82289124, -6.20186996], [106.82311249, -6.20031023], [106.82312775, -6.19970989], [106.82312012, -6.19917011], [106.82309723, -6.19863987], [106.82309723, -6.19796991], [106.82302856, -6.19786739], [106.82276917, -6.19748688], [106.82250977, -6.19722986], [106.82228851, -6.19699001], [106.82177734, -6.19650984], [106.82132721, -6.19603014], [106.82121277, -6.19590998], [106.82108307, -6.19578981], [106.82096863, -6.19561005], [106.82083893, -6.19538927], [106.82077789, -6.19529009], [106.8205719, -6.19439983], [106.82058716, -6.19429016], [106.82061768, -6.19418001], [106.82067108, -6.19411993], [106.8207016, -6.19399023], [106.82076263, -6.19363022], [106.82087708, -6.19310999], [106.820961, -6.1926899], [106.82105255, -6.19206142], [106.82106781, -6.1918602], [106.82118225, -6.19131994], [106.82125854, -6.19107008], [106.82132721, -6.19089985], [106.82144928, -6.19070005], [106.82182312, -6.1901598], [106.82203674, -6.18981981], [106.82224274, -6.18939543], [106.82235718, -6.18906021], [106.8223877, -6.18894005], [106.82240295, -6.18865013], [106.82243347, -6.18816996], [106.82244873, -6.18775988], [106.82247162, -6.18740988], [106.82244873, -6.1869998], [106.82224274, -6.18698978], [106.82199097, -6.18697023], [106.82185364, -6.18696451], [106.82159424, -6.18604755], [106.82157898, -6.18535137], [106.82167053, -6.18524265], [106.82167053, -6.1843915], [106.82137299, -6.1843462], [106.82137299, -6.18322802], [106.82164001, -6.18330002], [106.82176208, -6.18333006], [106.82195282, -6.18333006], [106.82245636, -6.18333006], [106.82292938, -6.18326998], [106.82357788, -6.18325996], [106.82402802, -6.18321991], [106.82457733, -6.18319988], [106.82466888, -6.18319988], [106.8248291, -6.18318462], [106.82508087, -6.18315983], [106.82524872, -6.18314981], [106.825737, -6.1831398], [106.82637787, -6.18311024], [106.82694244, -6.1830802], [106.82731628, -6.18304014], [106.82753754, -6.18303013], [106.82826233, -6.18299007], [106.82840729, -6.18298006], [106.82862854, -6.18297005], [106.82975769, -6.18290997], [106.82988739, -6.18289804], [106.82997894, -6.18288994], [106.83061218, -6.18284988], [106.83085632, -6.18284988], [106.83158875, -6.18279982], [106.83187103, -6.18277979], [106.83213043, -6.18275023], [106.83329773, -6.18268013], [106.83338928, -6.18254995], [106.83350372, -6.18263006], [106.83360291, -6.1826601], [106.83371735, -6.18271017], [106.83425903, -6.18254995], [106.83476257, -6.18240023], [106.83495331, -6.1823101], [106.83621216, -6.18190002], [106.83634186, -6.18184996], [106.83644104, -6.18181992], [106.83663177, -6.18170977], [106.83679199, -6.18183994], [106.83683014, -6.18193007], [106.83683777, -6.18213987], [106.83679199, -6.18239021], [106.83669281, -6.1827302], [106.83657837, -6.18304014], [106.83644104, -6.1833601], [106.83634186, -6.18356991], [106.83624268, -6.18376017], [106.83618164, -6.18395996], [106.83615112, -6.18416023], [106.83615875, -6.18431997], [106.83615875, -6.18446016], [106.83618164, -6.18459988], [106.83631897, -6.18481016], [106.83653259, -6.18502998], [106.83680725, -6.18524981], [106.83706665, -6.18540001], [106.83719635, -6.18551016], [106.83731079, -6.18560982], [106.83748627, -6.18580008], [106.83766937, -6.18597984], [106.83773804, -6.18603992], [106.83785248, -6.18607998], [106.83796692, -6.18608999], [106.83812714, -6.18605995], [106.83844757, -6.18591976], [106.83879089, -6.18573999], [106.83889771, -6.18569565], [106.83916473, -6.18559456], [106.83937836, -6.18553019], [106.83969879, -6.1854701], [106.84004211, -6.1854701], [106.84037781, -6.18548012], [106.84059143, -6.18553019], [106.8407135, -6.18560982], [106.84078217, -6.18571997], [106.84079742, -6.18591976], [106.84075165, -6.18614006], [106.8405838, -6.18651009], [106.84044647, -6.18677998], [106.84042358, -6.18694019], [106.84044647, -6.18703985], [106.84056854, -6.18717003], [106.84072876, -6.18725014], [106.84117889, -6.18739986], [106.84140778, -6.1875], [106.8415451, -6.187572], [106.84162903, -6.18762016], [106.84172821, -6.18773985], [106.84176636, -6.18791008], [106.84175873, -6.18807983], [106.84172821, -6.1882], [106.8416214, -6.1883502], [106.84133911, -6.18861008], [106.84117889, -6.18876982], [106.84107208, -6.18889999], [106.84101868, -6.18901014], [106.84101105, -6.18912983], [106.84101868, -6.18924999], [106.8411026, -6.18939018], [106.84119415, -6.18948364], [106.84156799, -6.18983984], [106.84194183, -6.19016981], [106.8422699, -6.19048023], [106.84242249, -6.19062901], [106.84262085, -6.19079018], [106.8429184, -6.1909399], [106.8430481, -6.19100809], [106.84317017, -6.19107008], [106.84346008, -6.19117022], [106.84387207, -6.19130993], [106.84420776, -6.19146013], [106.8445282, -6.19160986], [106.84475708, -6.19175005], [106.8449707, -6.1918602], [106.84509277, -6.19196987], [106.84523773, -6.19218016], [106.84523773, -6.19229984], [106.84520721, -6.19238997], [106.84496307, -6.1926198], [106.84472656, -6.19280529], [106.84465027, -6.19287014], [106.84423065, -6.19316006], [106.84394836, -6.19337988], [106.84375, -6.1935401], [106.84365845, -6.19363022], [106.84362793, -6.19377995], [106.84355927, -6.19401979], [106.84355164, -6.19421291], [106.84355927, -6.19453001], [106.8436203, -6.19480991], [106.84365082, -6.19517994], [106.84368896, -6.1953702], [106.84381866, -6.19554996], [106.84403229, -6.19568014], [106.84432983, -6.1957798], [106.84470367, -6.19581985], [106.84510803, -6.19581985], [106.84542084, -6.19579983], [106.8456192, -6.19579983], [106.84571838, -6.19586992], [106.84578705, -6.19597006], [106.84581757, -6.19611979], [106.84577942, -6.19628], [106.84570313, -6.19648981], [106.84546661, -6.19694996], [106.84523773, -6.19739008], [106.84507751, -6.19770002], [106.8449707, -6.19797993], [106.84490967, -6.19820023], [106.84488678, -6.19840002], [106.84494019, -6.19861984], [106.84500885, -6.19879007], [106.8451767, -6.19901991], [106.84537506, -6.19917107], [106.84561157, -6.19930887], [106.84580994, -6.19938993], [106.84606171, -6.19938993], [106.84622192, -6.19929981], [106.84644318, -6.19915009], [106.84664154, -6.19895983], [106.84684753, -6.19876003], [106.84706879, -6.1985898], [106.84731293, -6.19847012], [106.84758759, -6.19839001], [106.84790039, -6.19834995], [106.84829712, -6.19834995], [106.84853363, -6.19836998], [106.84868622, -6.19841003], [106.84883118, -6.19845009], [106.84890747, -6.1985302], [106.84896851, -6.19871998], [106.84906769, -6.19897985], [106.84918976, -6.19922018], [106.84931946, -6.19941998], [106.84970856, -6.19980001], [106.85002899, -6.20008993], [106.85032654, -6.20035982], [106.85050201, -6.20057011], [106.85059357, -6.20073986], [106.85069275, -6.20091009], [106.85077667, -6.20113993], [106.85102844, -6.20163012], [106.85105896, -6.20170593], [106.85124969, -6.20213842], [106.85138702, -6.20238018], [106.85145569, -6.20244312], [106.85159302, -6.20244265], [106.85184479, -6.20234394], [106.85212708, -6.2021718], [106.8524704, -6.20193863], [106.85260773, -6.20191336], [106.85271454, -6.20190096], [106.85292053, -6.20193672], [106.85338593, -6.20209408], [106.85397339, -6.20227528], [106.85430908, -6.20233536], [106.85470581, -6.20237064], [106.85498047, -6.20239449], [106.85511017, -6.20243025], [106.85528564, -6.20255232], [106.85542297, -6.20272255], [106.85549164, -6.20288134], [106.85559082, -6.20318651], [106.85569, -6.20360184], [106.85574341, -6.20398092], [106.85572052, -6.20423698], [106.85569763, -6.20444536], [106.85568237, -6.20466566], [106.85553741, -6.20500851], [106.85528564, -6.2054615], [106.85508728, -6.20579243], [106.85476685, -6.20603991], [106.85462952, -6.20614386], [106.85436249, -6.20633411], [106.8540802, -6.20653343], [106.85392761, -6.20657682], [106.85378265, -6.2065773], [106.85364532, -6.20656919], [106.853508, -6.20650959], [106.85331726, -6.20641518], [106.85321045, -6.20633841], [106.85308838, -6.20621824], [106.85294342, -6.2060895], [106.85282135, -6.20599508], [106.85269165, -6.2059269], [106.85258484, -6.20589304], [106.85244751, -6.20589352], [106.8522644, -6.20590258], [106.852005, -6.20592928], [106.85161591, -6.20595646], [106.85137939, -6.20593166], [106.85115051, -6.20587206], [106.85092926, -6.20579529], [106.85068512, -6.20566702], [106.85061646, -6.20563269], [106.85043335, -6.20554733], [106.85031128, -6.20552206], [106.85012054, -6.20554829], [106.84992981, -6.20559216], [106.8497467, -6.20569611], [106.84954834, -6.20585155], [106.8494339, -6.206007], [106.8493576, -6.20614529], [106.8493042, -6.20636892], [106.84922791, -6.20672226], [106.84914398, -6.20710135], [106.84909058, -6.20742893], [106.84905243, -6.2075429]]], &quot;type&quot;: &quot;Polygon&quot;}, &quot;id&quot;: &quot;7215&quot;, &quot;properties&quot;: {&quot;category&quot;: &quot;SEDANG&quot;, &quot;co&quot;: 24.0, &quot;critical&quot;: &quot;O3&quot;, &quot;date&quot;: &quot;2015-02-25&quot;, &quot;day&quot;: 25, &quot;day_of_week&quot;: &quot;Wed&quot;, &quot;district&quot;: &quot;Jakarta Pusat&quot;, &quot;max&quot;: 56.0, &quot;month&quot;: &quot;Feb&quot;, &quot;no2&quot;: 18.0, &quot;o3&quot;: 56.0, &quot;pm10&quot;: 15.0, &quot;pm25&quot;: null, &quot;quarter&quot;: 1, &quot;so2&quot;: 7.0, &quot;station&quot;: &quot;DKI1 (Bunderan HI)&quot;, &quot;sub_district&quot;: &quot;Menteng&quot;, &quot;year&quot;: 2015}, &quot;type&quot;: &quot;Feature&quot;}, {&quot;bbox&quot;: [106.74770355, -6.22521257, 106.78355408, -6.15790892], &quot;geometry&quot;: {&quot;coordinates&quot;: [[[106.77711487, -6.21613646], [106.77709961, -6.21621943], [106.77707672, -6.21657848], [106.77713776, -6.21686506], [106.77723694, -6.21697378], [106.77744293, -6.21709728], [106.77783203, -6.21728945], [106.77794647, -6.21732712], [106.7782135, -6.21744728], [106.77832794, -6.21755648], [106.77838135, -6.21766806], [106.77843475, -6.21790123], [106.7784729, -6.21832037], [106.77848053, -6.21878099], [106.77848816, -6.21896648], [106.7784729, -6.21976852], [106.7784729, -6.22012472], [106.77848053, -6.22038651], [106.77848053, -6.22069311], [106.77848053, -6.22086811], [106.77848053, -6.22113657], [106.7784729, -6.22182369], [106.77846527, -6.22215033], [106.77846527, -6.2222681], [106.77845764, -6.22247648], [106.77845764, -6.22321987], [106.77845764, -6.22332191], [106.77845764, -6.22438717], [106.77845001, -6.22483587], [106.77837372, -6.22481871], [106.77775574, -6.22482014], [106.77727509, -6.22484827], [106.77700806, -6.22485399], [106.77666473, -6.22488689], [106.77629852, -6.22494411], [106.77612305, -6.22495604], [106.77359772, -6.22502041], [106.77162933, -6.22507048], [106.76990509, -6.22517824], [106.76980591, -6.22518158], [106.76954651, -6.22519207], [106.76866913, -6.22520494], [106.76808167, -6.22521257], [106.7673645, -6.22521114], [106.76699066, -6.22517776], [106.76673126, -6.22490025], [106.76657104, -6.22474957], [106.76644135, -6.22454882], [106.7663269, -6.22433853], [106.76624298, -6.2241807], [106.76612854, -6.22403765], [106.76580048, -6.22367382], [106.76563263, -6.22333002], [106.76554871, -6.22297621], [106.76554871, -6.22287989], [106.76560211, -6.22278976], [106.76586914, -6.22266006], [106.76593781, -6.22258997], [106.76595306, -6.22243977], [106.76584625, -6.22238255], [106.76573944, -6.22233248], [106.76547241, -6.22220993], [106.76537323, -6.22214985], [106.76532745, -6.22208977], [106.76535034, -6.22201014], [106.76551819, -6.22191], [106.76558685, -6.22185993], [106.76561737, -6.22178984], [106.76547241, -6.22160006], [106.76531219, -6.22139978], [106.76525879, -6.22130013], [106.76526642, -6.22111988], [106.76529694, -6.22095013], [106.76525879, -6.22071981], [106.76521301, -6.22056007], [106.76542664, -6.22038984], [106.76551819, -6.22033024], [106.76553345, -6.21994019], [106.76550293, -6.21971989], [106.76531982, -6.21928978], [106.76522064, -6.21914005], [106.76512146, -6.21899986], [106.76508331, -6.21879005], [106.76528931, -6.2186799], [106.76541138, -6.21857023], [106.76534271, -6.21836996], [106.7651062, -6.21818018], [106.76495361, -6.21802998], [106.7648468, -6.21791983], [106.76473999, -6.21776009], [106.76467133, -6.21767998], [106.76455688, -6.2174201], [106.76437378, -6.21701002], [106.76429749, -6.21689987], [106.76421356, -6.21683979], [106.76386261, -6.21678019], [106.76371002, -6.21674013], [106.76355743, -6.21652985], [106.76347351, -6.21629], [106.76345062, -6.21608019], [106.76342773, -6.21595001], [106.76335907, -6.21587992], [106.76326752, -6.21584988], [106.76313782, -6.21591997], [106.76296234, -6.21607018], [106.76283264, -6.21619987], [106.76277161, -6.21615982], [106.76273346, -6.21606016], [106.76274109, -6.21575022], [106.76274872, -6.21521997], [106.76274109, -6.21495008], [106.76277161, -6.21485996], [106.76286316, -6.21477985], [106.76332092, -6.21467018], [106.76339722, -6.21464014], [106.76358032, -6.21463013], [106.76419067, -6.21466017], [106.76441193, -6.21444988], [106.76447296, -6.21436024], [106.76434326, -6.21377993], [106.76431274, -6.21365023], [106.7645874, -6.21357012], [106.7648468, -6.21341991], [106.76516724, -6.21310997], [106.76566315, -6.21247005], [106.76584625, -6.21219015], [106.76612854, -6.21155024], [106.7661972, -6.21134996], [106.76624298, -6.21095991], [106.76624298, -6.21073008], [106.76618195, -6.2105298], [106.76577759, -6.20988989], [106.76554871, -6.20924997], [106.76540375, -6.20912981], [106.76524353, -6.20906019], [106.76509857, -6.20906019], [106.76483154, -6.2091198], [106.76473236, -6.20909977], [106.76470184, -6.20896006], [106.76480865, -6.20865011], [106.76481628, -6.20814991], [106.76481628, -6.2079401], [106.76496124, -6.20768023], [106.76506805, -6.20752001], [106.7651062, -6.20740986], [106.7651062, -6.20732021], [106.76496124, -6.20720005], [106.76483154, -6.20712996], [106.76467133, -6.20703983], [106.76451874, -6.20692015], [106.76442719, -6.20681], [106.76441193, -6.20643997], [106.76438141, -6.20633984], [106.76432037, -6.20628023], [106.76413727, -6.20625019], [106.76383209, -6.20624018], [106.7634201, -6.20611], [106.76334381, -6.20605993], [106.76338959, -6.20593977], [106.76351166, -6.20588017], [106.76376343, -6.20589018], [106.76396179, -6.20593023], [106.7640686, -6.20589018], [106.76412964, -6.20578003], [106.76416016, -6.20555019], [106.76413727, -6.20535994], [106.76409912, -6.2052598], [106.76397705, -6.20519018], [106.76377869, -6.2051301], [106.7636795, -6.20510006], [106.76361084, -6.20502996], [106.76360321, -6.20492983], [106.76363373, -6.20483017], [106.76378632, -6.20464993], [106.76412964, -6.2044301], [106.76425171, -6.20434999], [106.76434326, -6.20422983], [106.76438141, -6.20401001], [106.76437378, -6.20373011], [106.76437378, -6.20290995], [106.76435852, -6.2027998], [106.76428223, -6.20270014], [106.76412201, -6.20265007], [106.76393127, -6.2026], [106.76390076, -6.20217991], [106.76390076, -6.20193005], [106.76383972, -6.20168018], [106.76377869, -6.20148993], [106.76374817, -6.2013402], [106.76364136, -6.20126009], [106.76344299, -6.20113993], [106.76331329, -6.20101976], [106.76322174, -6.20082998], [106.76319122, -6.19944], [106.76319122, -6.19927979], [106.76307678, -6.19913006], [106.76296997, -6.19898987], [106.76290131, -6.19876003], [106.7628479, -6.19832993], [106.7628479, -6.19815016], [106.76278687, -6.19792986], [106.76264191, -6.19766998], [106.76244354, -6.19715977], [106.76239777, -6.19709015], [106.76226044, -6.19705009], [106.76212311, -6.19705009], [106.76203156, -6.19700003], [106.76196289, -6.1967001], [106.76194763, -6.19654989], [106.7618866, -6.19643021], [106.76171112, -6.19628], [106.76157379, -6.19622993], [106.76142883, -6.19622993], [106.7612381, -6.19631004], [106.76087952, -6.19681978], [106.76081085, -6.1969099], [106.7607193, -6.19694996], [106.76052094, -6.19680023], [106.76036835, -6.19661999], [106.76026154, -6.19642019], [106.76010895, -6.19633007], [106.76000977, -6.19624996], [106.7599411, -6.1961298], [106.75985718, -6.19558001], [106.75980377, -6.19544983], [106.75956726, -6.19521999], [106.75868988, -6.19448996], [106.75849915, -6.19431019], [106.7583313, -6.19413996], [106.75804901, -6.19384003], [106.75788879, -6.19372988], [106.75776672, -6.19365978], [106.75769043, -6.1935401], [106.75765991, -6.19329023], [106.75762177, -6.19314003], [106.7575531, -6.19306993], [106.75737, -6.19303989], [106.75714874, -6.19305992], [106.75695801, -6.19308996], [106.75704193, -6.19270992], [106.75708008, -6.19245005], [106.7568512, -6.19244003], [106.75684357, -6.19195986], [106.75705719, -6.19097996], [106.75708008, -6.19063997], [106.75710297, -6.19042015], [106.7571106, -6.19034624], [106.75713348, -6.19025993], [106.75749207, -6.19011021], [106.75756836, -6.19003916], [106.75766754, -6.18993616], [106.75784302, -6.18976498], [106.75798798, -6.1896801], [106.7580719, -6.18974018], [106.75816345, -6.18987322], [106.75827026, -6.18996], [106.75836945, -6.18992996], [106.75852966, -6.18978977], [106.75862122, -6.18961], [106.75863647, -6.18949986], [106.75861359, -6.18935108], [106.75855255, -6.18928957], [106.75852966, -6.18909121], [106.75852203, -6.18901014], [106.75849152, -6.18891001], [106.75844574, -6.18881226], [106.7583313, -6.18879604], [106.75823212, -6.18886232], [106.75816345, -6.18891191], [106.75804901, -6.18893003], [106.75789642, -6.18873978], [106.75784302, -6.18859005], [106.75785828, -6.18839979], [106.75811005, -6.18771362], [106.75814819, -6.18760014], [106.75826263, -6.18731022], [106.75827789, -6.18715], [106.75826263, -6.18702984], [106.75817108, -6.18694019], [106.75807953, -6.18692017], [106.75798035, -6.18695021], [106.75764465, -6.18735075], [106.75753784, -6.18737268], [106.75745392, -6.18740606], [106.75737, -6.18749475], [106.75728607, -6.1875391], [106.75717163, -6.18753004], [106.75701141, -6.18706989], [106.75689697, -6.18686628], [106.75688171, -6.18676949], [106.75683594, -6.1867013], [106.75679016, -6.18661594], [106.7567215, -6.18653011], [106.75666809, -6.18638992], [106.75666809, -6.18621016], [106.75675964, -6.18593979], [106.75682068, -6.18580008], [106.75684357, -6.18565989], [106.7567749, -6.18555069], [106.75670624, -6.18536377], [106.75659943, -6.18524981], [106.75650787, -6.18499994], [106.75647736, -6.18479013], [106.75649261, -6.1846571], [106.75650787, -6.18444014], [106.75653076, -6.18415022], [106.75657654, -6.18393993], [106.75666046, -6.18380022], [106.75678253, -6.18366003], [106.75721741, -6.18349981], [106.75758362, -6.18333006], [106.75763702, -6.18322992], [106.75765228, -6.18308258], [106.75765991, -6.18297005], [106.75760651, -6.18283987], [106.75743103, -6.18270016], [106.75682068, -6.18227005], [106.75668335, -6.18218803], [106.75648499, -6.18210649], [106.75640106, -6.18205976], [106.7559967, -6.18184996], [106.75583649, -6.18171978], [106.75566101, -6.18146992], [106.75556946, -6.18121529], [106.75549316, -6.18100023], [106.75544739, -6.1807971], [106.75544739, -6.18070316], [106.75537109, -6.18065357], [106.75523376, -6.18065929], [106.75511932, -6.18070889], [106.75499725, -6.18076372], [106.75486755, -6.1807642], [106.75479126, -6.18081379], [106.75469971, -6.18076992], [106.75466156, -6.18058014], [106.75473022, -6.18036985], [106.75474548, -6.18029594], [106.75467682, -6.18018007], [106.75463867, -6.18010998], [106.75457764, -6.18003988], [106.75450897, -6.18000984], [106.75437927, -6.1799798], [106.75427246, -6.18000984], [106.75418091, -6.1800499], [106.75409698, -6.18008995], [106.75400543, -6.17999029], [106.7538147, -6.18005562], [106.75376892, -6.18011475], [106.75366211, -6.18020439], [106.75359344, -6.18022919], [106.75352478, -6.18025446], [106.75341034, -6.18036366], [106.75333405, -6.18038368], [106.75325775, -6.18034983], [106.75319672, -6.18030024], [106.75312805, -6.18024015], [106.75305939, -6.18021011], [106.75298309, -6.1801424], [106.75288391, -6.18012285], [106.7527771, -6.1801033], [106.7526474, -6.18011379], [106.75249481, -6.18013906], [106.75238037, -6.18010473], [106.7522049, -6.18013477], [106.75212097, -6.18014002], [106.75202942, -6.18015051], [106.7519455, -6.18013573], [106.75186157, -6.18016577], [106.75179291, -6.18021059], [106.75167084, -6.1802702], [106.75157928, -6.18031979], [106.75150299, -6.1803298], [106.75140381, -6.1803298], [106.75132751, -6.18031979], [106.75118256, -6.18030024], [106.751091, -6.18029022], [106.75057983, -6.18048], [106.7505188, -6.18052006], [106.75042725, -6.18058014], [106.75032806, -6.18063021], [106.7502594, -6.18065977], [106.75016785, -6.18068981], [106.75006866, -6.18064022], [106.75, -6.18059015], [106.74992371, -6.18048], [106.74984741, -6.18041992], [106.74974823, -6.18030977], [106.74957275, -6.1801157], [106.74944305, -6.18001986], [106.74934387, -6.17993498], [106.74912262, -6.17972946], [106.74895477, -6.17956924], [106.74868774, -6.1792841], [106.74854279, -6.17912674], [106.74848175, -6.1790657], [106.74838257, -6.17895985], [106.74822235, -6.17872], [106.7477417, -6.17787981], [106.74770355, -6.17769003], [106.74770355, -6.17744017], [106.7477417, -6.17698002], [106.74781036, -6.17665005], [106.74787903, -6.17629004], [106.74801636, -6.17594004], [106.7481308, -6.17544985], [106.74829865, -6.17459011], [106.74842072, -6.17409992], [106.74845886, -6.17393017], [106.74854279, -6.17359018], [106.74858856, -6.1733098], [106.74880981, -6.17305994], [106.74907684, -6.17293978], [106.74936676, -6.17285013], [106.74960327, -6.17268991], [106.74987793, -6.17237997], [106.75, -6.17225981], [106.75013733, -6.17217016], [106.75019836, -6.17209005], [106.75022888, -6.17200994], [106.75022125, -6.17173004], [106.75029755, -6.17153978], [106.75045013, -6.17138004], [106.75063324, -6.17128992], [106.7507782, -6.17121983], [106.75099182, -6.17096996], [106.75096893, -6.17089987], [106.75083923, -6.17057991], [106.75087738, -6.17050982], [106.75099182, -6.17045021], [106.75108337, -6.17045021], [106.75115967, -6.1704402], [106.75131989, -6.17041016], [106.75154877, -6.17030001], [106.75174713, -6.1702199], [106.75183868, -6.17015982], [106.75193787, -6.16997004], [106.75205231, -6.16978979], [106.75215149, -6.16961002], [106.75218964, -6.16942978], [106.75218201, -6.16917992], [106.75212097, -6.16907978], [106.75195313, -6.16896009], [106.75186157, -6.16889], [106.75164032, -6.16871023], [106.75180054, -6.16851997], [106.75189972, -6.16849995], [106.75247955, -6.16844988], [106.75256348, -6.16840982], [106.75267029, -6.16836977], [106.75280762, -6.16827011], [106.75286102, -6.16817999], [106.75286102, -6.16807985], [106.75287628, -6.16780996], [106.75302887, -6.16762018], [106.75324249, -6.16767979], [106.75344086, -6.16774988], [106.75350952, -6.16769981], [106.75354767, -6.16759014], [106.75354004, -6.16734982], [106.75364685, -6.16708994], [106.7537384, -6.16707993], [106.75379944, -6.16703987], [106.75382996, -6.16691017], [106.75388336, -6.16681004], [106.75399017, -6.16669989], [106.7543869, -6.16640997], [106.75492859, -6.16605997], [106.75501251, -6.16574001], [106.75507355, -6.16563988], [106.75524139, -6.16563988], [106.75566101, -6.16561985], [106.75585175, -6.16556978], [106.7559967, -6.16547012], [106.75634003, -6.16513014], [106.75666809, -6.16477013], [106.75672913, -6.16460991], [106.75675201, -6.1644001], [106.75675964, -6.16394997], [106.75676727, -6.1637001], [106.75694275, -6.16279984], [106.75697327, -6.16248989], [106.75701141, -6.16227007], [106.75713348, -6.16203022], [106.75724792, -6.16197014], [106.75736237, -6.16197014], [106.75778198, -6.16199017], [106.75785828, -6.16193008], [106.75791931, -6.16179991], [106.75791168, -6.16167021], [106.75782776, -6.16098022], [106.75788879, -6.16065979], [106.75798798, -6.16055012], [106.75891113, -6.15972996], [106.7593689, -6.15919018], [106.75946045, -6.15921021], [106.75975037, -6.15927982], [106.76004791, -6.15935993], [106.76052856, -6.15945005], [106.76106262, -6.15957022], [106.7614212, -6.15964985], [106.76303864, -6.15996981], [106.76319122, -6.15998983], [106.76355743, -6.16004992], [106.76373291, -6.16008997], [106.76402283, -6.16013002], [106.76477814, -6.16024017], [106.76580811, -6.1603899], [106.76598358, -6.16040993], [106.76611328, -6.16042995], [106.76644897, -6.16047001], [106.76661682, -6.16049004], [106.76663208, -6.16037989], [106.76663971, -6.16028023], [106.76667023, -6.16011], [106.76670074, -6.16002989], [106.76674652, -6.15995979], [106.76680756, -6.15987015], [106.76685333, -6.15981007], [106.76692963, -6.15967989], [106.76698303, -6.15959978], [106.7670517, -6.15948009], [106.76708984, -6.15938997], [106.76712799, -6.15931988], [106.76715851, -6.15923023], [106.76719666, -6.15914011], [106.76721954, -6.15907001], [106.76725006, -6.15898991], [106.76728058, -6.15887022], [106.76731873, -6.15879011], [106.76732635, -6.15871], [106.76737213, -6.15860987], [106.76741791, -6.15847015], [106.76744843, -6.15838003], [106.76750183, -6.15821981], [106.76753235, -6.15813017], [106.7675705, -6.15805006], [106.76766968, -6.15790892], [106.76773834, -6.15797997], [106.7678299, -6.15805006], [106.76796722, -6.15813017], [106.76831055, -6.15834999], [106.76870728, -6.15875006], [106.76879883, -6.15894985], [106.76898193, -6.15932989], [106.76907349, -6.15961981], [106.76912689, -6.15983009], [106.7695694, -6.16091013], [106.76966095, -6.16106987], [106.76979828, -6.16118002], [106.76988983, -6.16126013], [106.77062988, -6.16165018], [106.7714386, -6.16193008], [106.77229309, -6.16225004], [106.77323151, -6.16264009], [106.77381134, -6.16287994], [106.77401733, -6.16296005], [106.77510834, -6.16337013], [106.7756424, -6.16356993], [106.77587128, -6.16367006], [106.77613831, -6.16379023], [106.77681732, -6.16404009], [106.77706146, -6.16413021], [106.77719116, -6.16421986], [106.77755737, -6.16436005], [106.77767181, -6.16439009], [106.77776337, -6.16442013], [106.7782135, -6.16460991], [106.77880096, -6.16485977], [106.77893829, -6.1648798], [106.77922821, -6.16495991], [106.77941132, -6.16501999], [106.7795105, -6.16499996], [106.77989197, -6.16497993], [106.78014374, -6.16496992], [106.78016663, -6.1651001], [106.78025818, -6.16556978], [106.7802887, -6.16591978], [106.78028107, -6.16601992], [106.7802124, -6.16611004], [106.78012085, -6.16613007], [106.77999115, -6.16618013], [106.77984619, -6.16625023], [106.77976227, -6.16630983], [106.77967072, -6.16636992], [106.77960205, -6.16641998], [106.77953339, -6.16652012], [106.7795105, -6.16661978], [106.77951813, -6.16669989], [106.77951813, -6.16677999], [106.77953339, -6.16688013], [106.77954102, -6.16696978], [106.77954102, -6.16709995], [106.77954102, -6.16724014], [106.77954102, -6.16738987], [106.77955627, -6.16755009], [106.77955627, -6.16764021], [106.77955627, -6.16772985], [106.77957153, -6.16781998], [106.77957153, -6.16790009], [106.77957153, -6.16800022], [106.77957916, -6.16809988], [106.77957916, -6.16819], [106.77957916, -6.16830015], [106.77958679, -6.16840982], [106.77958679, -6.16850996], [106.77958679, -6.16862011], [106.77958679, -6.16871977], [106.77960205, -6.16882992], [106.77960205, -6.16894007], [106.77960205, -6.1690402], [106.77960205, -6.16913986], [106.77960968, -6.16924], [106.77960968, -6.16933012], [106.77960968, -6.16941977], [106.77960968, -6.16949987], [106.77960968, -6.16959], [106.77961731, -6.16976976], [106.77961731, -6.16985989], [106.77961731, -6.16995001], [106.77961731, -6.17008018], [106.77961731, -6.1702199], [106.77961731, -6.17031002], [106.77961731, -6.17041016], [106.77961731, -6.17051983], [106.77961731, -6.17061996], [106.77963257, -6.17076015], [106.77963257, -6.17083979], [106.77963257, -6.17098999], [106.77963257, -6.1710701], [106.77963257, -6.17115021], [106.77963257, -6.17129993], [106.7796402, -6.17138004], [106.7796402, -6.17146015], [106.7796402, -6.17160988], [106.7796402, -6.1717], [106.77964783, -6.17186022], [106.77964783, -6.17194986], [106.77964783, -6.17203999], [106.77964783, -6.17212009], [106.77964783, -6.17222977], [106.77966309, -6.17231989], [106.77966309, -6.17241001], [106.77966309, -6.17252016], [106.77966309, -6.17260981], [106.77967072, -6.17269993], [106.77967072, -6.17278004], [106.77967072, -6.17287016], [106.77967072, -6.17294979], [106.77967072, -6.17308998], [106.77967834, -6.17322016], [106.77967834, -6.17331982], [106.77967834, -6.17340994], [106.77967834, -6.17349005], [106.77967834, -6.17363024], [106.77967834, -6.17381001], [106.77967834, -6.17390013], [106.77967834, -6.17403984], [106.77967834, -6.17416], [106.77967834, -6.17424011], [106.77967834, -6.17437983], [106.77967834, -6.17447996], [106.77967834, -6.1745801], [106.77970123, -6.17473984], [106.77970123, -6.17482996], [106.77970123, -6.17492008], [106.77970123, -6.17502022], [106.77970123, -6.17512989], [106.77970123, -6.17523003], [106.77970123, -6.17534018], [106.77970123, -6.17544985], [106.77970123, -6.17556], [106.77970123, -6.17566013], [106.77970886, -6.17575979], [106.77970886, -6.17586994], [106.77970886, -6.17598009], [106.77970886, -6.17608023], [106.77970886, -6.17616987], [106.77970886, -6.17627001], [106.77971649, -6.17637014], [106.77971649, -6.17645979], [106.77971649, -6.17654991], [106.77971649, -6.17665005], [106.77971649, -6.17674017], [106.77971649, -6.17682981], [106.77973175, -6.17691994], [106.77973175, -6.17701006], [106.77973175, -6.17710018], [106.77973175, -6.17718983], [106.77973175, -6.17727995], [106.77973175, -6.17736006], [106.77973175, -6.17746019], [106.77973938, -6.17755985], [106.77973938, -6.17764997], [106.77973938, -6.17775011], [106.77973938, -6.17784023], [106.77973938, -6.17793989], [106.77973938, -6.17804003], [106.77973938, -6.17813015], [106.77973938, -6.17822981], [106.77973938, -6.17832994], [106.77974701, -6.17843008], [106.77974701, -6.17854023], [106.77974701, -6.17861986], [106.77974701, -6.17872], [106.77974701, -6.17880011], [106.77974701, -6.17889023], [106.77974701, -6.17903996], [106.77974701, -6.17918015], [106.77976227, -6.17931986], [106.77976227, -6.17946005], [106.77976227, -6.17959976], [106.77976227, -6.17972994], [106.77976227, -6.17982006], [106.77976227, -6.1799202], [106.7797699, -6.18006992], [106.77977753, -6.18017006], [106.77980804, -6.18026018], [106.77986145, -6.18035984], [106.77992249, -6.18048], [106.77996826, -6.18060017], [106.77999878, -6.18066978], [106.78003693, -6.18073988], [106.78006744, -6.18080997], [106.78009796, -6.18088007], [106.78014374, -6.18094015], [106.7802124, -6.18107986], [106.78028107, -6.18121004], [106.7803421, -6.1813302], [106.78041077, -6.18146992], [106.78044891, -6.18154001], [106.78048706, -6.18162012], [106.78053284, -6.18169022], [106.78056335, -6.18175983], [106.78060913, -6.18182993], [106.78063965, -6.18191004], [106.7807312, -6.18205023], [106.78077698, -6.18213987], [106.78082275, -6.18221998], [106.78086853, -6.18230009], [106.78090668, -6.1823802], [106.78095245, -6.18244982], [106.7809906, -6.18254995], [106.78103638, -6.18265009], [106.78108978, -6.1827302], [106.78112793, -6.18281984], [106.78117371, -6.18288994], [106.78121948, -6.18297005], [106.78130341, -6.18310022], [106.78134155, -6.18317986], [106.78138733, -6.18325996], [106.78144836, -6.1833601], [106.78151703, -6.18347979], [106.78156281, -6.18354988], [106.78160095, -6.18361998], [106.7816391, -6.18369007], [106.78167725, -6.18376017], [106.78172302, -6.18382978], [106.78175354, -6.18389988], [106.78179932, -6.18397999], [106.78182983, -6.18405008], [106.78186798, -6.18413019], [106.78191376, -6.18419981], [106.78195953, -6.18427992], [106.78199768, -6.18435001], [106.78205109, -6.18443012], [106.7820816, -6.18451023], [106.78212738, -6.18456984], [106.7821579, -6.18463993], [106.78221893, -6.18472004], [106.78227234, -6.18479013], [106.78231812, -6.18486977], [106.78237152, -6.18494987], [106.7824173, -6.18500996], [106.78250885, -6.18515015], [106.78253937, -6.18521976], [106.78263092, -6.18543005], [106.78285217, -6.18539], [106.78301239, -6.18535995], [106.78320313, -6.1853199], [106.78331757, -6.18528986], [106.78334808, -6.1854701], [106.78340912, -6.1858201], [106.78344727, -6.18626022], [106.78341675, -6.18638992], [106.78344727, -6.18653011], [106.78349304, -6.18685007], [106.78343964, -6.1875], [106.78330994, -6.18811989], [106.78323364, -6.1884799], [106.78312683, -6.1889801], [106.78299713, -6.18921995], [106.78253174, -6.19025993], [106.78244019, -6.1905098], [106.78238678, -6.19074011], [106.78234863, -6.19097996], [106.78227997, -6.19148016], [106.78227234, -6.19165993], [106.78222656, -6.19210005], [106.78222656, -6.19266987], [106.7822113, -6.19323015], [106.78218842, -6.19329977], [106.7821579, -6.19342995], [106.78211975, -6.1936698], [106.78208923, -6.19417], [106.78206635, -6.19487], [106.78206635, -6.19516993], [106.78211212, -6.19560003], [106.78218079, -6.19651985], [106.78220367, -6.19709015], [106.78220367, -6.19718981], [106.78221893, -6.19754982], [106.78222656, -6.19785976], [106.78225708, -6.19810009], [106.78227997, -6.19855022], [106.7822876, -6.19884014], [106.78234863, -6.19937992], [106.78238678, -6.19974995], [106.78243256, -6.2000699], [106.78251648, -6.20097017], [106.78259277, -6.20141983], [106.78260803, -6.20157003], [106.78263855, -6.20193005], [106.78266144, -6.20214987], [106.78269958, -6.20262003], [106.78272247, -6.20269012], [106.78291321, -6.20425987], [106.78295898, -6.20475006], [106.78302765, -6.20529985], [106.78307343, -6.20571995], [106.78308868, -6.20600986], [106.78308868, -6.20608997], [106.78312683, -6.20629978], [106.78314209, -6.20654011], [106.78314209, -6.20671988], [106.78314209, -6.20710897], [106.78316498, -6.20746088], [106.78317261, -6.20753288], [106.78321075, -6.20790005], [106.78323364, -6.20826626], [106.78326416, -6.20858955], [106.78334045, -6.20932579], [106.7833786, -6.20960617], [106.78347778, -6.21043348], [106.78350067, -6.21083689], [106.7835083, -6.21098995], [106.78353882, -6.21134806], [106.78355408, -6.21216249], [106.78348541, -6.21241426], [106.78334808, -6.21269608], [106.78317261, -6.21294689], [106.78310394, -6.21298409], [106.78294373, -6.21310234], [106.78278351, -6.21321869], [106.78252411, -6.2132864], [106.78231812, -6.21330166], [106.78167725, -6.21333313], [106.78104401, -6.21336079], [106.78070068, -6.2133646], [106.78058624, -6.21337318], [106.78018188, -6.21340847], [106.77998352, -6.21341705], [106.77938843, -6.21344233], [106.77876282, -6.21347189], [106.77809143, -6.21350336], [106.77783966, -6.21353388], [106.77774811, -6.21358585], [106.77767944, -6.21368027], [106.77762604, -6.21407747], [106.77762604, -6.21424961], [106.77763367, -6.21471691], [106.77761078, -6.21504784], [106.77758026, -6.21524429], [106.77754974, -6.21538687], [106.77750397, -6.21548414], [106.77736664, -6.21572018], [106.77711487, -6.21613646]]], &quot;type&quot;: &quot;Polygon&quot;}, &quot;id&quot;: &quot;7216&quot;, &quot;properties&quot;: {&quot;category&quot;: &quot;SEDANG&quot;, &quot;co&quot;: 25.0, &quot;critical&quot;: &quot;PM10&quot;, &quot;date&quot;: &quot;2015-02-25&quot;, &quot;day&quot;: 25, &quot;day_of_week&quot;: &quot;Wed&quot;, &quot;district&quot;: &quot;Jakarta Barat&quot;, &quot;max&quot;: 69.0, &quot;month&quot;: &quot;Feb&quot;, &quot;no2&quot;: 8.0, &quot;o3&quot;: 62.0, &quot;pm10&quot;: 69.0, &quot;pm25&quot;: null, &quot;quarter&quot;: 1, &quot;so2&quot;: 3.0, &quot;station&quot;: &quot;DKI5 (Kebon Jeruk)&quot;, &quot;sub_district&quot;: &quot;Kebonjeruk&quot;, &quot;year&quot;: 2015}, &quot;type&quot;: &quot;Feature&quot;}, {&quot;bbox&quot;: [106.8833313, -6.37072992, 106.92280579, -6.28437662], &quot;geometry&quot;: {&quot;coordinates&quot;: [[[106.91809845, -6.34387541], [106.91784668, -6.34384918], [106.91775513, -6.34383917], [106.9173584, -6.34378767], [106.91729736, -6.34385204], [106.91723633, -6.34399319], [106.91716766, -6.34451532], [106.91714478, -6.34470272], [106.91711426, -6.34491062], [106.91707611, -6.34517002], [106.91703796, -6.34535551], [106.91699982, -6.3455224], [106.91698456, -6.34561157], [106.91699219, -6.34570503], [106.91702271, -6.34581852], [106.91722107, -6.34604549], [106.91718292, -6.34612465], [106.91712952, -6.34619188], [106.91699219, -6.34622765], [106.91678619, -6.3462348], [106.91665649, -6.34623909], [106.91655731, -6.34623194], [106.91642761, -6.34622908], [106.91614532, -6.3462038], [106.91599274, -6.34622955], [106.9159317, -6.34628057], [106.9159317, -6.34641218], [106.91598511, -6.34651899], [106.91622925, -6.34684801], [106.91661072, -6.34680843], [106.91674042, -6.34688425], [106.91721344, -6.34787273], [106.91724396, -6.34794569], [106.91717529, -6.34804344], [106.91703796, -6.34818459], [106.91694641, -6.34820366], [106.91683197, -6.34821272], [106.91669464, -6.34822416], [106.91656494, -6.34828234], [106.91649628, -6.34831762], [106.91633606, -6.34847403], [106.91618347, -6.34868193], [106.91612244, -6.3487916], [106.91613007, -6.34891653], [106.91623688, -6.34895086], [106.91661835, -6.34909964], [106.91675568, -6.34914207], [106.9168396, -6.34920359], [106.91693878, -6.34927273], [106.91699219, -6.34934855], [106.91709137, -6.34947443], [106.91718292, -6.34958792], [106.91736603, -6.34982204], [106.9177475, -6.35020256], [106.91777802, -6.35028505], [106.9178009, -6.35038137], [106.91778564, -6.35048866], [106.91775513, -6.35061455], [106.91763306, -6.35077572], [106.91745758, -6.35083199], [106.91727448, -6.35085344], [106.91705322, -6.35088873], [106.91695404, -6.35100174], [106.91675568, -6.35127783], [106.91664886, -6.35135078], [106.91654205, -6.35144281], [106.91647339, -6.35158825], [106.91647339, -6.35168505], [106.91674805, -6.35175991], [106.91676331, -6.35185194], [106.91676331, -6.35204506], [106.91677856, -6.35262918], [106.91693115, -6.35272551], [106.91719818, -6.35280085], [106.91732025, -6.35288334], [106.91729736, -6.3529911], [106.91690826, -6.35336828], [106.91673279, -6.35361767], [106.91665649, -6.353652], [106.9165802, -6.35368919], [106.9162674, -6.35381985], [106.91616821, -6.35397291], [106.91597748, -6.35424995], [106.91571808, -6.35464716], [106.91563416, -6.35471106], [106.91552734, -6.3548007], [106.9154892, -6.35489702], [106.91546631, -6.35499096], [106.91550446, -6.35510015], [106.91587067, -6.35528469], [106.91602325, -6.35535812], [106.91668701, -6.35571623], [106.91687012, -6.35582829], [106.9169693, -6.35593033], [106.91706848, -6.35608912], [106.917099, -6.35629034], [106.91713715, -6.35643387], [106.917099, -6.35649729], [106.91704559, -6.35658121], [106.91688538, -6.35663652], [106.91674042, -6.3566308], [106.91663361, -6.35660839], [106.91654968, -6.35656452], [106.91632843, -6.35647583], [106.91607666, -6.35643911], [106.91598511, -6.35644341], [106.91574097, -6.35647917], [106.91562653, -6.35655546], [106.9152832, -6.35685158], [106.91518402, -6.35705614], [106.91504669, -6.35735607], [106.91493225, -6.35744095], [106.91474152, -6.35759163], [106.914711, -6.3576827], [106.91474152, -6.35787392], [106.91479492, -6.3581748], [106.91477966, -6.35839176], [106.91455841, -6.35843229], [106.91388702, -6.35851669], [106.91372681, -6.35859966], [106.91363525, -6.35869646], [106.91360474, -6.35881615], [106.91371918, -6.35888815], [106.91404724, -6.35890245], [106.91413116, -6.35893679], [106.91420746, -6.35896778], [106.91433716, -6.35907412], [106.91440582, -6.35917711], [106.91453552, -6.35929585], [106.91468048, -6.35948563], [106.91452789, -6.35960913], [106.91433716, -6.35976648], [106.91425323, -6.35996008], [106.91436005, -6.36018085], [106.91452789, -6.36032486], [106.91469574, -6.36040115], [106.9148407, -6.36046696], [106.91491699, -6.36047316], [106.91508484, -6.36037827], [106.91526031, -6.36032915], [106.91535187, -6.36041307], [106.91545105, -6.36052322], [106.91546631, -6.3606081], [106.91544342, -6.36068201], [106.91542053, -6.36077976], [106.91533661, -6.36091089], [106.91519165, -6.36103582], [106.91501617, -6.36109161], [106.91465759, -6.36122131], [106.91457367, -6.36135626], [106.91457367, -6.36146927], [106.9146347, -6.36162138], [106.91480255, -6.36183453], [106.91501617, -6.36203051], [106.91558075, -6.36242914], [106.91576385, -6.36248684], [106.916008, -6.36256361], [106.9161377, -6.36266708], [106.91622162, -6.3628068], [106.91620636, -6.36288881], [106.91613007, -6.36302614], [106.91599274, -6.36317348], [106.91585541, -6.36322784], [106.91567993, -6.36323404], [106.91545868, -6.36320114], [106.91513824, -6.36314487], [106.91501617, -6.36318827], [106.9148941, -6.36328793], [106.91487885, -6.36337376], [106.91492462, -6.36353207], [106.91503143, -6.36391258], [106.91500092, -6.36401176], [106.91493988, -6.36413336], [106.91486359, -6.36419296], [106.91453552, -6.36467314], [106.91451263, -6.3648839], [106.9144516, -6.36527443], [106.91437531, -6.36546087], [106.91434479, -6.36554575], [106.91411591, -6.36546421], [106.91384125, -6.3653636], [106.91368103, -6.36528301], [106.91353607, -6.36516714], [106.91345215, -6.36509609], [106.91327667, -6.36489105], [106.9130249, -6.36463022], [106.91287231, -6.36454344], [106.91253662, -6.36442041], [106.9124527, -6.36440277], [106.91236115, -6.36438274], [106.91215515, -6.3643384], [106.91204071, -6.36431217], [106.91189575, -6.36427975], [106.91136169, -6.36415863], [106.91101074, -6.36400747], [106.91043854, -6.36375713], [106.91021729, -6.36356401], [106.91016388, -6.36344957], [106.91008759, -6.36321068], [106.90997314, -6.36304903], [106.90973663, -6.36284161], [106.90957642, -6.36274719], [106.90944672, -6.36269045], [106.90913391, -6.3625536], [106.90895081, -6.36247301], [106.90885162, -6.36234474], [106.90870667, -6.36213732], [106.90840149, -6.36181688], [106.90773773, -6.36129189], [106.90763092, -6.36120653], [106.90707397, -6.36091614], [106.90687561, -6.36083937], [106.90663147, -6.36080122], [106.90631104, -6.36087322], [106.90593719, -6.36095381], [106.90585327, -6.36100531], [106.9056778, -6.36115694], [106.9056015, -6.36123753], [106.9054718, -6.36143446], [106.90536499, -6.36156654], [106.90528107, -6.36170864], [106.90517426, -6.36192751], [106.90511322, -6.36205006], [106.90503693, -6.36226273], [106.90497589, -6.36241436], [106.90491486, -6.36257219], [106.9048233, -6.36268187], [106.90466309, -6.36286879], [106.90449524, -6.36306572], [106.90435028, -6.36321068], [106.90421295, -6.36335564], [106.90415192, -6.36344481], [106.90406799, -6.36356544], [106.90395355, -6.3637042], [106.90386963, -6.3638587], [106.9037323, -6.36404562], [106.90363312, -6.36417484], [106.90349579, -6.36437798], [106.90341187, -6.36450768], [106.90298462, -6.36513901], [106.90272522, -6.36557388], [106.90255737, -6.366117], [106.90252686, -6.36677647], [106.90240479, -6.36761522], [106.90234375, -6.3680048], [106.90196991, -6.36885595], [106.90116882, -6.36951971], [106.90086365, -6.36961079], [106.90036774, -6.36975908], [106.90014648, -6.36968803], [106.89897919, -6.36931515], [106.89844513, -6.36909056], [106.89759064, -6.36875248], [106.89728546, -6.36912155], [106.89686584, -6.36963177], [106.89647675, -6.3701086], [106.8961792, -6.37022543], [106.89601135, -6.37044287], [106.89575958, -6.37072992], [106.89581299, -6.37034988], [106.89579773, -6.37010002], [106.89576721, -6.3698101], [106.89562225, -6.36929989], [106.89502716, -6.3680501], [106.89491272, -6.3671999], [106.89483643, -6.36676979], [106.89472961, -6.36630011], [106.89466095, -6.36600018], [106.89450836, -6.36521006], [106.8943634, -6.36439991], [106.89408875, -6.36304998], [106.89399719, -6.36254978], [106.89392853, -6.36217022], [106.89376831, -6.36109018], [106.89341736, -6.35934019], [106.89325714, -6.35852003], [106.89322662, -6.35827017], [106.89315796, -6.35783005], [106.89308929, -6.35747004], [106.89279175, -6.35607004], [106.89235687, -6.35439014], [106.89228058, -6.35411978], [106.89202881, -6.35325003], [106.89170837, -6.35198021], [106.89151001, -6.3513298], [106.89150238, -6.35122013], [106.89125824, -6.35040998], [106.89111328, -6.34993982], [106.89100647, -6.34954977], [106.89082336, -6.3488698], [106.89070129, -6.34843016], [106.89038849, -6.34735012], [106.89032745, -6.34713984], [106.89015961, -6.34647989], [106.89003754, -6.34597015], [106.88993073, -6.34547997], [106.88989258, -6.34521008], [106.88983917, -6.34485006], [106.8897934, -6.34462023], [106.8896637, -6.34389019], [106.88939667, -6.34253979], [106.88928986, -6.34195995], [106.88906097, -6.34076977], [106.88892365, -6.34006023], [106.88871765, -6.33906984], [106.88870239, -6.33894014], [106.88861847, -6.33854008], [106.8885498, -6.33810997], [106.8884964, -6.33776999], [106.88816071, -6.33600998], [106.88809967, -6.33572006], [106.88803101, -6.33542013], [106.88775635, -6.33388996], [106.88764191, -6.33325005], [106.88760376, -6.33305979], [106.88751984, -6.33269978], [106.88741302, -6.33213997], [106.88735962, -6.33190012], [106.88733673, -6.33175993], [106.88732147, -6.33158016], [106.88719177, -6.33050013], [106.88713837, -6.32988024], [106.88712311, -6.32951021], [106.88709259, -6.32839012], [106.88710785, -6.32791996], [106.88710022, -6.32743979], [106.88703918, -6.32565022], [106.88703918, -6.32386017], [106.88697052, -6.32313013], [106.88694763, -6.32231998], [106.88694763, -6.32208014], [106.88694763, -6.32177019], [106.88694763, -6.32149982], [106.88694763, -6.32050991], [106.88694763, -6.31991005], [106.8868103, -6.31847], [106.88677979, -6.31814003], [106.88670349, -6.31748009], [106.88638306, -6.31578016], [106.88636017, -6.31571007], [106.88616943, -6.31473017], [106.88609314, -6.31442022], [106.88571167, -6.31276989], [106.88562012, -6.31233978], [106.88555908, -6.31206989], [106.88536835, -6.31127977], [106.88529968, -6.31093979], [106.8852005, -6.31052017], [106.88495636, -6.30943012], [106.8848877, -6.30916023], [106.88474274, -6.30856991], [106.88466644, -6.30824995], [106.88461304, -6.30790997], [106.88446808, -6.30726004], [106.88410187, -6.30557013], [106.88385773, -6.3045001], [106.8837204, -6.30395985], [106.88361359, -6.30348015], [106.88349152, -6.30293989], [106.88343048, -6.30265999], [106.8833313, -6.30219984], [106.88410187, -6.30195999], [106.88453674, -6.30193996], [106.88511658, -6.30192995], [106.88626862, -6.30192995], [106.88645935, -6.30192995], [106.88691711, -6.30192995], [106.88871002, -6.30193996], [106.88934326, -6.30192995], [106.88935089, -6.30168009], [106.88935089, -6.3014698], [106.88935089, -6.30124998], [106.88934326, -6.30053997], [106.88970184, -6.30056], [106.89002228, -6.30058002], [106.89031982, -6.30056], [106.89064026, -6.30047989], [106.89093018, -6.30046988], [106.89217377, -6.30051994], [106.89221191, -6.3003602], [106.89221191, -6.30000019], [106.8924408, -6.2999301], [106.8927536, -6.29991007], [106.89276123, -6.29918003], [106.89276123, -6.29901981], [106.8927536, -6.29801989], [106.89276886, -6.29715014], [106.89260864, -6.29711008], [106.8924408, -6.29707003], [106.89218903, -6.29696989], [106.89198303, -6.29693985], [106.89179993, -6.2968998], [106.89150238, -6.29686022], [106.89109039, -6.29671001], [106.89054871, -6.29635], [106.89038849, -6.296], [106.89019012, -6.29557991], [106.89006805, -6.29536009], [106.88960266, -6.29462004], [106.88952637, -6.29430008], [106.88947296, -6.29401016], [106.8894577, -6.29384995], [106.88944244, -6.2936101], [106.88935852, -6.29328012], [106.88923645, -6.29293013], [106.88909149, -6.29278994], [106.88863373, -6.29208994], [106.8885498, -6.29191017], [106.8884964, -6.29155016], [106.88851929, -6.29132986], [106.8886795, -6.29078007], [106.88876343, -6.29047012], [106.88948822, -6.29034996], [106.88977814, -6.29029989], [106.89012909, -6.29024982], [106.89064026, -6.29018021], [106.89131927, -6.29009008], [106.89154053, -6.29009008], [106.89203644, -6.29004002], [106.89250946, -6.28999996], [106.89331818, -6.28990984], [106.89378357, -6.28985023], [106.89424896, -6.28980017], [106.89556122, -6.28963995], [106.89575195, -6.2895999], [106.89620209, -6.28948021], [106.89643097, -6.2894001], [106.89669037, -6.2892499], [106.89688873, -6.28908014], [106.89701843, -6.28893995], [106.89756012, -6.28837013], [106.89817047, -6.28757], [106.89823151, -6.28747988], [106.89872742, -6.28676987], [106.89898682, -6.2864399], [106.89911652, -6.28626013], [106.89927673, -6.28605986], [106.89932251, -6.28599977], [106.89962769, -6.28565979], [106.89980316, -6.28550005], [106.90000916, -6.2853899], [106.90033722, -6.28531981], [106.90052032, -6.28529978], [106.90090179, -6.28525019], [106.90133667, -6.28519011], [106.90158081, -6.28517008], [106.9017334, -6.28516006], [106.90267944, -6.28506994], [106.90294647, -6.28501987], [106.9031601, -6.28499985], [106.90380859, -6.28492022], [106.90412903, -6.28489017], [106.90444946, -6.28485012], [106.90498352, -6.28480005], [106.90544128, -6.28474998], [106.90586853, -6.28470993], [106.90648651, -6.28465986], [106.90691376, -6.28459978], [106.9070282, -6.28458977], [106.90792847, -6.28446007], [106.90823364, -6.28442001], [106.90853882, -6.28439999], [106.90860748, -6.28437662], [106.90892029, -6.28559685], [106.90904236, -6.28570461], [106.90953827, -6.28583574], [106.90995789, -6.28594542], [106.90999603, -6.28605509], [106.90988159, -6.28620863], [106.90963745, -6.28636742], [106.90949249, -6.28647137], [106.9095459, -6.28657627], [106.90966034, -6.2866168], [106.90973663, -6.28670025], [106.9103241, -6.28686619], [106.9104538, -6.28698874], [106.91027832, -6.28720999], [106.91020203, -6.28727913], [106.90998077, -6.28745556], [106.90997314, -6.28756762], [106.91005707, -6.28772831], [106.91001129, -6.28810358], [106.90977478, -6.28837204], [106.9095993, -6.28857517], [106.90959167, -6.2887001], [106.90965271, -6.28886557], [106.90973663, -6.28900671], [106.91000366, -6.2890029], [106.91004944, -6.28908443], [106.91007996, -6.28924274], [106.9100647, -6.28941917], [106.90992737, -6.28975821], [106.90985107, -6.28986025], [106.90979767, -6.28997755], [106.90958405, -6.29017019], [106.90949249, -6.29028225], [106.90943146, -6.29050255], [106.90937042, -6.29061604], [106.90932465, -6.29076529], [106.9093399, -6.29087305], [106.90958405, -6.29093933], [106.90972137, -6.29078293], [106.90983582, -6.29066753], [106.91014099, -6.29025745], [106.91046143, -6.28993368], [106.9105835, -6.28987169], [106.91046143, -6.29042768], [106.91046906, -6.29061842], [106.91055298, -6.29080439], [106.91083527, -6.2908597], [106.9109726, -6.29075289], [106.91108704, -6.29064131], [106.91114807, -6.29054308], [106.91137695, -6.29031467], [106.91156006, -6.29027319], [106.91164398, -6.29022264], [106.91176605, -6.29021311], [106.91181183, -6.29030609], [106.91161346, -6.29056549], [106.9108963, -6.29119825], [106.9107132, -6.29127169], [106.91053772, -6.291327], [106.91040802, -6.29142141], [106.91035461, -6.29158735], [106.91039276, -6.29178429], [106.91046906, -6.29198885], [106.91065216, -6.2921567], [106.91093445, -6.29232025], [106.91110992, -6.29235935], [106.91122437, -6.29229641], [106.91122437, -6.29219294], [106.91123962, -6.29211235], [106.91120911, -6.29202223], [106.91111755, -6.29181862], [106.9111557, -6.29167652], [106.91133118, -6.2914176], [106.91149902, -6.29160309], [106.91155243, -6.29167557], [106.91168213, -6.29197931], [106.91143036, -6.29241943], [106.91136169, -6.2925477], [106.91124725, -6.29272413], [106.91110229, -6.29293776], [106.91083527, -6.29282475], [106.9105072, -6.2928009], [106.91035461, -6.29293489], [106.91026306, -6.29323435], [106.91026306, -6.29331398], [106.91024017, -6.29363823], [106.91022491, -6.29383469], [106.91022491, -6.29392004], [106.91020203, -6.29414845], [106.9101944, -6.2942667], [106.91026306, -6.29430628], [106.91040802, -6.29421949], [106.91053009, -6.29416418], [106.91065216, -6.29425573], [106.91100311, -6.29453659], [106.91123199, -6.29456615], [106.91146088, -6.29465294], [106.91165924, -6.29456329], [106.91178894, -6.29444361], [106.91189575, -6.29443073], [106.91216278, -6.29446363], [106.912323, -6.29455662], [106.9123764, -6.29468822], [106.91238403, -6.2947998], [106.91235352, -6.29490757], [106.91223907, -6.29503202], [106.91208649, -6.29508352], [106.91188812, -6.29516506], [106.91178131, -6.29520702], [106.91171265, -6.29523611], [106.91150665, -6.29552364], [106.91139984, -6.29564619], [106.91114044, -6.29586124], [106.91107178, -6.29595709], [106.91109467, -6.29612303], [106.91111755, -6.29620504], [106.91120148, -6.29627705], [106.91133881, -6.2963109], [106.91184235, -6.29638386], [106.91186523, -6.29659414], [106.91182709, -6.29679489], [106.91172028, -6.29715633], [106.91170502, -6.29729033], [106.91175079, -6.29780579], [106.91178131, -6.29812431], [106.91182709, -6.2982564], [106.91188812, -6.2983079], [106.91199493, -6.29831314], [106.91223145, -6.29829693], [106.91233826, -6.2982955], [106.91249847, -6.29836798], [106.91275024, -6.29857302], [106.9128418, -6.29867506], [106.91290283, -6.29874992], [106.91301727, -6.29884291], [106.91316223, -6.29890108], [106.91333771, -6.29892063], [106.91353607, -6.2988534], [106.91361237, -6.29880524], [106.91371918, -6.29867411], [106.91372681, -6.29857206], [106.91368866, -6.29848289], [106.91358185, -6.29829597], [106.91362762, -6.29820108], [106.91370392, -6.29815197], [106.91384888, -6.29811811], [106.91419983, -6.29811716], [106.91437531, -6.29808235], [106.91446686, -6.29800224], [106.91451263, -6.29789305], [106.91464996, -6.29721642], [106.91480255, -6.29707289], [106.9148941, -6.29705954], [106.91527557, -6.29708719], [106.91550446, -6.29719353], [106.91571045, -6.29732895], [106.91606903, -6.29763269], [106.91630554, -6.29773712], [106.91654968, -6.29779673], [106.91680908, -6.29800892], [106.91699219, -6.2981534], [106.91709137, -6.2981863], [106.91722107, -6.29817533], [106.91734314, -6.29810905], [106.91762543, -6.29795313], [106.91770172, -6.2979846], [106.91777039, -6.29811764], [106.91777039, -6.29823399], [106.91776276, -6.29895735], [106.91777039, -6.29927444], [106.91777039, -6.29952478], [106.91789246, -6.29968262], [106.91802216, -6.2997632], [106.91815186, -6.29975939], [106.91825104, -6.29970217], [106.91825867, -6.29961491], [106.91827393, -6.29945993], [106.91834259, -6.29936838], [106.91857147, -6.29919147], [106.91866302, -6.29912663], [106.91897583, -6.2990551], [106.91918945, -6.2990818], [106.91921997, -6.29914808], [106.91921234, -6.29930878], [106.91919708, -6.29970551], [106.91920471, -6.29999876], [106.91914368, -6.30014324], [106.91901398, -6.30033016], [106.91888428, -6.30054426], [106.91899109, -6.30059958], [106.91915894, -6.30062103], [106.91925812, -6.30068874], [106.91941833, -6.30078363], [106.91950989, -6.30075264], [106.91962433, -6.3006587], [106.91989136, -6.30035305], [106.92033386, -6.30003643], [106.92042542, -6.30003643], [106.92050171, -6.30008936], [106.9206543, -6.30019808], [106.92085266, -6.30049992], [106.92100525, -6.30097961], [106.92103577, -6.30131912], [106.92100525, -6.30141687], [106.92092896, -6.30145693], [106.92082214, -6.30146694], [106.92057037, -6.30149651], [106.9205246, -6.30159807], [106.9205246, -6.30176115], [106.92056274, -6.30182457], [106.92063141, -6.30186081], [106.92079163, -6.30186367], [106.92088318, -6.30189896], [106.92098999, -6.30202961], [106.92103577, -6.30217648], [106.92112732, -6.3026104], [106.92125702, -6.30296516], [106.92133331, -6.30319357], [106.92137909, -6.30328274], [106.92150879, -6.30332756], [106.92175293, -6.30334949], [106.92182922, -6.30338717], [106.9217453, -6.30358934], [106.92163086, -6.30380344], [106.92164612, -6.30404043], [106.92163849, -6.30412626], [106.92163086, -6.30431032], [106.92147827, -6.30447388], [106.92140198, -6.30458498], [106.92144012, -6.30465221], [106.92154694, -6.30473804], [106.92173767, -6.3048811], [106.92173767, -6.30497599], [106.92170715, -6.30514574], [106.92163849, -6.30522156], [106.9214325, -6.30541229], [106.92139435, -6.30552244], [106.9214325, -6.30560446], [106.92159271, -6.30591965], [106.92157745, -6.30601549], [106.92151642, -6.30644131], [106.92152405, -6.30676985], [106.92153931, -6.30698729], [106.92155457, -6.30713654], [106.92153931, -6.30733252], [106.92142487, -6.3074441], [106.92112732, -6.30729389], [106.92095947, -6.30724621], [106.92090607, -6.30736732], [106.92098236, -6.30750322], [106.92114258, -6.30780602], [106.92099762, -6.30793047], [106.92092896, -6.3079772], [106.92071533, -6.30813551], [106.92066956, -6.30822563], [106.92062378, -6.30829811], [106.92066956, -6.30839872], [106.92089844, -6.30876589], [106.9211731, -6.30923319], [106.9211731, -6.3093996], [106.92114258, -6.30975437], [106.92098236, -6.31032848], [106.92095947, -6.31045294], [106.92100525, -6.31056643], [106.92108917, -6.31063557], [106.92125702, -6.3107028], [106.9214325, -6.31079769], [106.92153931, -6.31089163], [106.92147064, -6.31094837], [106.92108154, -6.31097507], [106.92084503, -6.31114101], [106.92047119, -6.31133556], [106.92030334, -6.31129265], [106.92018127, -6.31127405], [106.92012787, -6.31141424], [106.92016602, -6.31159163], [106.92024994, -6.31170464], [106.92049408, -6.3119607], [106.92062378, -6.31216097], [106.92076111, -6.31229544], [106.92087555, -6.312356], [106.92100525, -6.31234121], [106.92128754, -6.31226778], [106.92153168, -6.31224012], [106.92178345, -6.31224871], [106.92195892, -6.3123126], [106.92209625, -6.31241274], [106.92207336, -6.31256294], [106.92192078, -6.31274986], [106.92180634, -6.31293726], [106.92186737, -6.31305599], [106.92197418, -6.31317949], [106.92201233, -6.31331587], [106.92208099, -6.31346846], [106.92224884, -6.31335831], [106.92235565, -6.31329584], [106.92248535, -6.31330252], [106.92250824, -6.31344652], [106.9224472, -6.31357288], [106.92230225, -6.31384325], [106.92233276, -6.31394482], [106.9224472, -6.3140955], [106.9225235, -6.31413794], [106.92259979, -6.31412983], [106.92272949, -6.31413603], [106.92280579, -6.3142395], [106.92276001, -6.31431627], [106.92259216, -6.31459379], [106.92219543, -6.31535959], [106.92201233, -6.31551647], [106.92192841, -6.31566858], [106.92195129, -6.31581879], [106.92204285, -6.31597519], [106.92221832, -6.31629467], [106.92221069, -6.31650019], [106.9221344, -6.31660604], [106.92201233, -6.31679249], [106.92195129, -6.31693363], [106.92194366, -6.31705093], [106.92199707, -6.3172965], [106.92207336, -6.31760263], [106.92201233, -6.31766367], [106.92181396, -6.31780529], [106.92166901, -6.31790733], [106.92140961, -6.31809187], [106.9213028, -6.3180809], [106.92114258, -6.31801176], [106.92100525, -6.31796503], [106.9209137, -6.31800556], [106.92076874, -6.31813812], [106.92072296, -6.31826162], [106.92072296, -6.31843424], [106.92076874, -6.31858826], [106.9209137, -6.31884146], [106.9211731, -6.31931639], [106.9210968, -6.31945372], [106.92089844, -6.31964588], [106.92085266, -6.31973457], [106.92086029, -6.31986189], [106.92087555, -6.32018805], [106.92077637, -6.32035255], [106.92048645, -6.32072496], [106.92042542, -6.32109928], [106.92045593, -6.32129383], [106.92051697, -6.32138395], [106.92063904, -6.32146978], [106.92099762, -6.32162523], [106.92115021, -6.32177925], [106.92120361, -6.32191706], [106.92123413, -6.32218313], [106.92125702, -6.32250595], [106.92134094, -6.32262516], [106.92151642, -6.32277441], [106.92167664, -6.32289553], [106.92169189, -6.32296753], [106.92165375, -6.32320738], [106.92154694, -6.32363415], [106.92147827, -6.32420969], [106.92124939, -6.32436466], [106.92095184, -6.32447481], [106.92090607, -6.32455444], [106.92073822, -6.3247571], [106.92050934, -6.32501173], [106.92037964, -6.32506275], [106.92015076, -6.32508039], [106.91966248, -6.32510757], [106.91940308, -6.32510519], [106.91921234, -6.32512665], [106.91912842, -6.32518721], [106.91903687, -6.32530499], [106.91894531, -6.32551146], [106.91894531, -6.32568645], [106.91902161, -6.32581758], [106.91913605, -6.32602692], [106.9190979, -6.32625151], [106.91901398, -6.32650518], [106.91889954, -6.32662296], [106.91847229, -6.32694674], [106.91833496, -6.32707977], [106.91829681, -6.32719374], [106.9182663, -6.32761431], [106.91815948, -6.32790899], [106.91821289, -6.32820988], [106.91825104, -6.32841158], [106.91837311, -6.32855225], [106.91854095, -6.32863283], [106.91877747, -6.32870626], [106.91934204, -6.32844877], [106.91973114, -6.32841587], [106.91984558, -6.32840872], [106.92004395, -6.32848835], [106.9201889, -6.32860184], [106.92040253, -6.32886839], [106.92035675, -6.32900572], [106.9202652, -6.32919121], [106.92025757, -6.32932663], [106.92029572, -6.3294735], [106.92044067, -6.32980824], [106.92058563, -6.33040476], [106.92069244, -6.33049059], [106.92081451, -6.33059454], [106.92088318, -6.33065557], [106.92093658, -6.33077765], [106.92094421, -6.33097219], [106.92088318, -6.33150625], [106.92075348, -6.33225632], [106.92069244, -6.33287001], [106.92059326, -6.33299255], [106.92027283, -6.33326864], [106.92015839, -6.33336973], [106.91991425, -6.33352566], [106.91983795, -6.33357], [106.91973114, -6.33368683], [106.91970062, -6.33381653], [106.91963196, -6.3342309], [106.91947937, -6.33481693], [106.91942596, -6.33516932], [106.91950989, -6.33546543], [106.91958618, -6.33579731], [106.91957855, -6.33606958], [106.91954803, -6.33657026], [106.91953278, -6.3367691], [106.91943359, -6.33686256], [106.91912842, -6.33715153], [106.91908264, -6.33727598], [106.91908264, -6.33744621], [106.91912842, -6.33782673], [106.9192276, -6.33808279], [106.91947937, -6.33846855], [106.91950226, -6.33862734], [106.91915894, -6.33876944], [106.91886139, -6.33891058], [106.91875458, -6.33894968], [106.91859436, -6.33901882], [106.91838837, -6.33907366], [106.91822815, -6.33917093], [106.91822052, -6.33932209], [106.91822052, -6.33959007], [106.91828156, -6.33972692], [106.91848755, -6.33994436], [106.91886902, -6.33993816], [106.91895294, -6.33999157], [106.91911316, -6.34015942], [106.91927338, -6.34041739], [106.91957092, -6.34111309], [106.91963196, -6.34137487], [106.91960907, -6.3415494], [106.91947174, -6.34158707], [106.91925049, -6.34159613], [106.91902161, -6.34156942], [106.91886902, -6.34157133], [106.91880035, -6.34162855], [106.91874695, -6.34176159], [106.91866302, -6.34201956], [106.91857147, -6.34224272], [106.91854858, -6.34237003], [106.91850281, -6.34244776], [106.91854095, -6.34256363], [106.91863251, -6.34271431], [106.91864777, -6.34278822], [106.91877747, -6.34284639], [106.91925049, -6.34296465], [106.91930389, -6.34307957], [106.91944122, -6.34349251], [106.91942596, -6.34360123], [106.91930389, -6.34361029], [106.91915131, -6.34363794], [106.91893768, -6.34356546], [106.9188385, -6.34359503], [106.91851044, -6.34371614], [106.91809845, -6.34387541]]], &quot;type&quot;: &quot;Polygon&quot;}, &quot;id&quot;: &quot;7217&quot;, &quot;properties&quot;: {&quot;category&quot;: &quot;SEDANG&quot;, &quot;co&quot;: 43.0, &quot;critical&quot;: &quot;O3&quot;, &quot;date&quot;: &quot;2015-02-25&quot;, &quot;day&quot;: 25, &quot;day_of_week&quot;: &quot;Wed&quot;, &quot;district&quot;: &quot;Jakarta Timur&quot;, &quot;max&quot;: 98.0, &quot;month&quot;: &quot;Feb&quot;, &quot;no2&quot;: 11.0, &quot;o3&quot;: 98.0, &quot;pm10&quot;: 85.0, &quot;pm25&quot;: null, &quot;quarter&quot;: 1, &quot;so2&quot;: 20.0, &quot;station&quot;: &quot;DKI4 (Lubang Buaya)&quot;, &quot;sub_district&quot;: &quot;Cipayung&quot;, &quot;year&quot;: 2015}, &quot;type&quot;: &quot;Feature&quot;}], &quot;type&quot;: &quot;FeatureCollection&quot;});\n",
       "\n",
       "        \n",
       "    \n",
       "    geo_json_bb0754a3f2c818d8f461fbaf5b542250.bindPopup(\n",
       "    function(layer){\n",
       "    let div = L.DomUtil.create(&#x27;div&#x27;);\n",
       "    \n",
       "    let handleObject = feature=&gt;typeof(feature)==&#x27;object&#x27; ? JSON.stringify(feature) : feature;\n",
       "    let fields = [&quot;station&quot;, &quot;pm10&quot;, &quot;pm25&quot;, &quot;o3&quot;];\n",
       "    let aliases = [&quot;station&quot;, &quot;pm10&quot;, &quot;pm25&quot;, &quot;o3&quot;];\n",
       "    let table = &#x27;&lt;table&gt;&#x27; +\n",
       "        String(\n",
       "        fields.map(\n",
       "        (v,i)=&gt;\n",
       "        `&lt;tr&gt;\n",
       "            &lt;th&gt;${aliases[i].toLocaleString()}&lt;/th&gt;\n",
       "            \n",
       "            &lt;td&gt;${handleObject(layer.feature.properties[v]).toLocaleString()}&lt;/td&gt;\n",
       "        &lt;/tr&gt;`).join(&#x27;&#x27;))\n",
       "    +&#x27;&lt;/table&gt;&#x27;;\n",
       "    div.innerHTML=table;\n",
       "    \n",
       "    return div\n",
       "    }\n",
       "    ,{&quot;className&quot;: &quot;foliumpopup&quot;});\n",
       "                     \n",
       "    \n",
       "    var color_map_8f364836538a2e5629eb29dbb1a9f053 = {};\n",
       "\n",
       "    \n",
       "    color_map_8f364836538a2e5629eb29dbb1a9f053.color = d3.scale.threshold()\n",
       "              .domain([2.0, 2.3547094188376754, 2.7094188376753507, 3.064128256513026, 3.4188376753507015, 3.773547094188377, 4.128256513026052, 4.482965931863728, 4.837675350701403, 5.192384769539078, 5.547094188376754, 5.901803607214429, 6.2565130260521045, 6.61122244488978, 6.965931863727455, 7.320641282565131, 7.675350701402806, 8.030060120240481, 8.384769539078157, 8.739478957915832, 9.094188376753507, 9.448897795591183, 9.803607214428858, 10.158316633266534, 10.513026052104209, 10.867735470941884, 11.22244488977956, 11.577154308617235, 11.93186372745491, 12.286573146292586, 12.641282565130261, 12.995991983967937, 13.350701402805612, 13.705410821643287, 14.060120240480963, 14.414829659318638, 14.769539078156313, 15.124248496993989, 15.478957915831664, 15.83366733466934, 16.188376753507015, 16.54308617234469, 16.897795591182366, 17.252505010020037, 17.607214428857716, 17.961923847695388, 18.316633266533067, 18.671342685370742, 19.026052104208418, 19.380761523046093, 19.73547094188377, 20.090180360721444, 20.44488977955912, 20.799599198396795, 21.15430861723447, 21.509018036072145, 21.86372745490982, 22.218436873747496, 22.57314629258517, 22.927855711422847, 23.282565130260522, 23.637274549098198, 23.991983967935873, 24.34669338677355, 24.701402805611224, 25.0561122244489, 25.410821643286575, 25.76553106212425, 26.120240480961925, 26.4749498997996, 26.829659318637276, 27.18436873747495, 27.539078156312627, 27.893787575150302, 28.248496993987978, 28.603206412825653, 28.95791583166333, 29.312625250501004, 29.66733466933868, 30.022044088176354, 30.37675350701403, 30.731462925851705, 31.08617234468938, 31.440881763527056, 31.795591182364728, 32.1503006012024, 32.505010020040075, 32.859719438877754, 33.21442885771543, 33.569138276553105, 33.923847695390776, 34.278557114228455, 34.633266533066134, 34.987975951903806, 35.342685370741485, 35.69739478957916, 36.052104208416836, 36.40681362725451, 36.76152304609219, 37.11623246492986, 37.47094188376754, 37.82565130260521, 38.18036072144289, 38.53507014028056, 38.88977955911824, 39.24448897795591, 39.59919839679359, 39.95390781563126, 40.30861723446894, 40.66332665330661, 41.01803607214429, 41.37274549098196, 41.72745490981964, 42.08216432865731, 42.43687374749499, 42.791583166332664, 43.14629258517034, 43.501002004008015, 43.855711422845694, 44.210420841683366, 44.565130260521045, 44.91983967935872, 45.274549098196395, 45.62925851703407, 45.983967935871746, 46.33867735470942, 46.6933867735471, 47.04809619238477, 47.40280561122245, 47.75751503006012, 48.1122244488978, 48.46693386773547, 48.82164328657315, 49.17635270541082, 49.5310621242485, 49.88577154308617, 50.24048096192385, 50.59519038076152, 50.9498997995992, 51.30460921843687, 51.65931863727455, 52.014028056112224, 52.3687374749499, 52.723446893787575, 53.078156312625254, 53.432865731462925, 53.787575150300604, 54.142284569138276, 54.496993987975955, 54.85170340681363, 55.206412825651306, 55.56112224448898, 55.91583166332666, 56.27054108216433, 56.62525050100201, 56.97995991983968, 57.33466933867736, 57.68937875751503, 58.04408817635271, 58.39879759519038, 58.75350701402806, 59.10821643286573, 59.46292585170341, 59.81763527054108, 60.17234468937876, 60.52705410821643, 60.88176352705411, 61.236472945891784, 61.591182364729455, 61.945891783567134, 62.300601202404806, 62.655310621242485, 63.01002004008016, 63.364729458917836, 63.71943887775551, 64.0741482965932, 64.42885771543087, 64.78356713426854, 65.13827655310621, 65.49298597194388, 65.84769539078155, 66.20240480961924, 66.55711422845691, 66.91182364729458, 67.26653306613227, 67.62124248496994, 67.97595190380761, 68.33066132264528, 68.68537074148297, 69.04008016032064, 69.39478957915831, 69.74949899799599, 70.10420841683367, 70.45891783567134, 70.81362725450902, 71.16833667334669, 71.52304609218437, 71.87775551102204, 72.23246492985972, 72.58717434869739, 72.94188376753507, 73.29659318637275, 73.65130260521042, 74.00601202404809, 74.36072144288578, 74.71543086172345, 75.07014028056112, 75.42484969939879, 75.77955911823648, 76.13426853707415, 76.48897795591182, 76.84368737474949, 77.19839679358718, 77.55310621242485, 77.90781563126252, 78.2625250501002, 78.61723446893788, 78.97194388777555, 79.32665330661322, 79.6813627254509, 80.03607214428858, 80.39078156312625, 80.74549098196393, 81.1002004008016, 81.45490981963928, 81.80961923847696, 82.16432865731463, 82.5190380761523, 82.87374749498998, 83.22845691382766, 83.58316633266533, 83.937875751503, 84.29258517034069, 84.64729458917836, 85.00200400801603, 85.3567134268537, 85.71142284569139, 86.06613226452906, 86.42084168336673, 86.7755511022044, 87.13026052104209, 87.48496993987976, 87.83967935871743, 88.1943887775551, 88.54909819639279, 88.90380761523046, 89.25851703406813, 89.6132264529058, 89.96793587174349, 90.32264529058116, 90.67735470941884, 91.03206412825651, 91.3867735470942, 91.74148296593187, 92.09619238476954, 92.45090180360721, 92.8056112224449, 93.16032064128257, 93.51503006012024, 93.86973947895791, 94.2244488977956, 94.57915831663327, 94.93386773547094, 95.28857715430861, 95.6432865731463, 95.99799599198397, 96.35270541082164, 96.70741482965931, 97.062124248497, 97.41683366733467, 97.77154308617234, 98.12625250501002, 98.4809619238477, 98.83567134268537, 99.19038076152304, 99.54509018036072, 99.8997995991984, 100.25450901803607, 100.60921843687375, 100.96392785571142, 101.3186372745491, 101.67334669338678, 102.02805611222445, 102.38276553106212, 102.7374749498998, 103.09218436873748, 103.44689378757515, 103.80160320641282, 104.15631262525051, 104.51102204408818, 104.86573146292585, 105.22044088176352, 105.57515030060121, 105.92985971943888, 106.28456913827655, 106.63927855711422, 106.99398797595191, 107.34869739478958, 107.70340681362725, 108.05811623246493, 108.41282565130261, 108.76753507014028, 109.12224448897796, 109.47695390781563, 109.83166332665331, 110.18637274549098, 110.54108216432866, 110.89579158316633, 111.25050100200401, 111.60521042084169, 111.95991983967936, 112.31462925851703, 112.66933867735472, 113.02404809619239, 113.37875751503006, 113.73346693386773, 114.08817635270542, 114.44288577154309, 114.79759519038076, 115.15230460921843, 115.50701402805612, 115.86172344689379, 116.21643286573146, 116.57114228456913, 116.92585170340682, 117.28056112224449, 117.63527054108216, 117.98997995991984, 118.34468937875752, 118.6993987975952, 119.05410821643287, 119.40881763527054, 119.76352705410822, 120.1182364729459, 120.47294589178357, 120.82765531062124, 121.18236472945891, 121.5370741482966, 121.89178356713427, 122.24649298597194, 122.60120240480961, 122.9559118236473, 123.31062124248497, 123.66533066132264, 124.02004008016031, 124.374749498998, 124.72945891783567, 125.08416833667334, 125.43887775551102, 125.7935871743487, 126.14829659318637, 126.50300601202404, 126.85771543086172, 127.2124248496994, 127.56713426853707, 127.92184368737475, 128.27655310621242, 128.6312625250501, 128.98597194388776, 129.34068136272543, 129.6953907815631, 130.0501002004008, 130.40480961923848, 130.75951903807615, 131.11422845691382, 131.4689378757515, 131.82364729458916, 132.17835671342687, 132.53306613226454, 132.8877755511022, 133.24248496993988, 133.59719438877755, 133.95190380761522, 134.3066132264529, 134.66132264529057, 135.01603206412827, 135.37074148296594, 135.7254509018036, 136.08016032064128, 136.43486973947896, 136.78957915831663, 137.1442885771543, 137.49899799599197, 137.85370741482967, 138.20841683366734, 138.56312625250501, 138.9178356713427, 139.27254509018036, 139.62725450901803, 139.9819639278557, 140.33667334669337, 140.69138276553107, 141.04609218436875, 141.40080160320642, 141.7555110220441, 142.11022044088176, 142.46492985971943, 142.8196392785571, 143.17434869739478, 143.52905811623248, 143.88376753507015, 144.23847695390782, 144.5931863727455, 144.94789579158316, 145.30260521042084, 145.6573146292585, 146.01202404809618, 146.36673346693388, 146.72144288577155, 147.07615230460922, 147.4308617234469, 147.78557114228457, 148.14028056112224, 148.4949899799599, 148.84969939879758, 149.20440881763528, 149.55911823647295, 149.91382765531063, 150.2685370741483, 150.62324649298597, 150.97795591182364, 151.3326653306613, 151.68737474949899, 152.0420841683367, 152.39679358717436, 152.75150300601203, 153.1062124248497, 153.46092184368737, 153.81563126252505, 154.17034068136272, 154.5250501002004, 154.8797595190381, 155.23446893787576, 155.58917835671343, 155.9438877755511, 156.29859719438878, 156.65330661322645, 157.00801603206412, 157.3627254509018, 157.7174348697395, 158.07214428857716, 158.42685370741484, 158.7815631262525, 159.13627254509018, 159.49098196392785, 159.84569138276552, 160.2004008016032, 160.5551102204409, 160.90981963927857, 161.26452905811624, 161.6192384769539, 161.97394789579158, 162.32865731462925, 162.68336673346693, 163.0380761523046, 163.3927855711423, 163.74749498997997, 164.10220440881764, 164.4569138276553, 164.81162324649299, 165.16633266533066, 165.52104208416833, 165.875751503006, 166.2304609218437, 166.58517034068137, 166.93987975951904, 167.29458917835672, 167.6492985971944, 168.00400801603206, 168.35871743486973, 168.7134268537074, 169.0681362725451, 169.42284569138278, 169.77755511022045, 170.13226452905812, 170.4869739478958, 170.84168336673346, 171.19639278557113, 171.5511022044088, 171.9058116232465, 172.26052104208418, 172.61523046092185, 172.96993987975952, 173.3246492985972, 173.67935871743487, 174.03406813627254, 174.3887775551102, 174.7434869739479, 175.09819639278558, 175.45290581162325, 175.80761523046093, 176.1623246492986, 176.51703406813627, 176.87174348697394, 177.2264529058116, 177.5811623246493, 177.93587174348698, 178.29058116232466, 178.64529058116233, 179.0])\n",
       "              .range([&#x27;#ffffccff&#x27;, &#x27;#ffffccff&#x27;, &#x27;#ffffcbff&#x27;, &#x27;#ffffcaff&#x27;, &#x27;#fffecaff&#x27;, &#x27;#fffec9ff&#x27;, &#x27;#fffec9ff&#x27;, &#x27;#fffec8ff&#x27;, &#x27;#fffdc7ff&#x27;, &#x27;#fffdc7ff&#x27;, &#x27;#fffdc6ff&#x27;, &#x27;#fffdc5ff&#x27;, &#x27;#fffcc5ff&#x27;, &#x27;#fffcc4ff&#x27;, &#x27;#fffcc4ff&#x27;, &#x27;#fffcc3ff&#x27;, &#x27;#fffbc2ff&#x27;, &#x27;#fffbc2ff&#x27;, &#x27;#fffbc1ff&#x27;, &#x27;#fffbc1ff&#x27;, &#x27;#fffac0ff&#x27;, &#x27;#fffabfff&#x27;, &#x27;#fffabfff&#x27;, &#x27;#fffabeff&#x27;, &#x27;#fff9bdff&#x27;, &#x27;#fff9bdff&#x27;, &#x27;#fff9bcff&#x27;, &#x27;#fff9bcff&#x27;, &#x27;#fff8bbff&#x27;, &#x27;#fff8baff&#x27;, &#x27;#fff8baff&#x27;, &#x27;#fff8b9ff&#x27;, &#x27;#fff7b8ff&#x27;, &#x27;#fff7b8ff&#x27;, &#x27;#fff7b7ff&#x27;, &#x27;#fff7b7ff&#x27;, &#x27;#fff6b6ff&#x27;, &#x27;#fff6b5ff&#x27;, &#x27;#fff6b5ff&#x27;, &#x27;#fff6b4ff&#x27;, &#x27;#fff5b4ff&#x27;, &#x27;#fff5b3ff&#x27;, &#x27;#fff5b2ff&#x27;, &#x27;#fff5b2ff&#x27;, &#x27;#fff4b1ff&#x27;, &#x27;#fff4b0ff&#x27;, &#x27;#fff4b0ff&#x27;, &#x27;#fff4afff&#x27;, &#x27;#fff3afff&#x27;, &#x27;#fff3aeff&#x27;, &#x27;#fff3adff&#x27;, &#x27;#fff3adff&#x27;, &#x27;#fff2acff&#x27;, &#x27;#fff2abff&#x27;, &#x27;#fff2abff&#x27;, &#x27;#fff2aaff&#x27;, &#x27;#fff1aaff&#x27;, &#x27;#fff1a9ff&#x27;, &#x27;#fff1a8ff&#x27;, &#x27;#fff1a8ff&#x27;, &#x27;#fff0a7ff&#x27;, &#x27;#fff0a7ff&#x27;, &#x27;#fff0a6ff&#x27;, &#x27;#fff0a5ff&#x27;, &#x27;#ffefa5ff&#x27;, &#x27;#ffefa4ff&#x27;, &#x27;#ffefa3ff&#x27;, &#x27;#ffefa3ff&#x27;, &#x27;#ffeea2ff&#x27;, &#x27;#ffeea2ff&#x27;, &#x27;#ffeea1ff&#x27;, &#x27;#ffeea0ff&#x27;, &#x27;#ffeda0ff&#x27;, &#x27;#ffed9fff&#x27;, &#x27;#ffed9fff&#x27;, &#x27;#ffec9eff&#x27;, &#x27;#ffec9dff&#x27;, &#x27;#ffec9dff&#x27;, &#x27;#ffec9cff&#x27;, &#x27;#ffeb9cff&#x27;, &#x27;#ffeb9bff&#x27;, &#x27;#ffeb9aff&#x27;, &#x27;#ffea9aff&#x27;, &#x27;#ffea99ff&#x27;, &#x27;#ffea99ff&#x27;, &#x27;#ffea98ff&#x27;, &#x27;#ffe997ff&#x27;, &#x27;#ffe997ff&#x27;, &#x27;#ffe996ff&#x27;, &#x27;#ffe896ff&#x27;, &#x27;#ffe895ff&#x27;, &#x27;#ffe894ff&#x27;, &#x27;#ffe894ff&#x27;, &#x27;#ffe793ff&#x27;, &#x27;#ffe793ff&#x27;, &#x27;#ffe792ff&#x27;, &#x27;#ffe692ff&#x27;, &#x27;#ffe691ff&#x27;, &#x27;#ffe690ff&#x27;, &#x27;#ffe690ff&#x27;, &#x27;#ffe58fff&#x27;, &#x27;#ffe58fff&#x27;, &#x27;#ffe58eff&#x27;, &#x27;#ffe48dff&#x27;, &#x27;#ffe48dff&#x27;, &#x27;#ffe48cff&#x27;, &#x27;#ffe48cff&#x27;, &#x27;#ffe38bff&#x27;, &#x27;#ffe38aff&#x27;, &#x27;#ffe38aff&#x27;, &#x27;#ffe389ff&#x27;, &#x27;#ffe289ff&#x27;, &#x27;#ffe288ff&#x27;, &#x27;#ffe287ff&#x27;, &#x27;#ffe187ff&#x27;, &#x27;#ffe186ff&#x27;, &#x27;#ffe186ff&#x27;, &#x27;#ffe185ff&#x27;, &#x27;#ffe084ff&#x27;, &#x27;#ffe084ff&#x27;, &#x27;#ffe083ff&#x27;, &#x27;#ffdf83ff&#x27;, &#x27;#ffdf82ff&#x27;, &#x27;#ffdf82ff&#x27;, &#x27;#ffdf81ff&#x27;, &#x27;#ffde80ff&#x27;, &#x27;#ffde80ff&#x27;, &#x27;#ffde7fff&#x27;, &#x27;#ffdd7fff&#x27;, &#x27;#ffdd7eff&#x27;, &#x27;#ffdd7dff&#x27;, &#x27;#ffdd7dff&#x27;, &#x27;#ffdc7cff&#x27;, &#x27;#ffdc7cff&#x27;, &#x27;#ffdc7bff&#x27;, &#x27;#ffdb7aff&#x27;, &#x27;#ffdb7aff&#x27;, &#x27;#ffdb79ff&#x27;, &#x27;#ffdb79ff&#x27;, &#x27;#ffda78ff&#x27;, &#x27;#ffda77ff&#x27;, &#x27;#ffda77ff&#x27;, &#x27;#ffda76ff&#x27;, &#x27;#fed976ff&#x27;, &#x27;#fed975ff&#x27;, &#x27;#fed875ff&#x27;, &#x27;#fed774ff&#x27;, &#x27;#fed773ff&#x27;, &#x27;#fed673ff&#x27;, &#x27;#fed672ff&#x27;, &#x27;#fed572ff&#x27;, &#x27;#fed571ff&#x27;, &#x27;#fed470ff&#x27;, &#x27;#fed470ff&#x27;, &#x27;#fed36fff&#x27;, &#x27;#fed36fff&#x27;, &#x27;#fed26eff&#x27;, &#x27;#fed16dff&#x27;, &#x27;#fed16dff&#x27;, &#x27;#fed06cff&#x27;, &#x27;#fed06cff&#x27;, &#x27;#fecf6bff&#x27;, &#x27;#fecf6aff&#x27;, &#x27;#fece6aff&#x27;, &#x27;#fece69ff&#x27;, &#x27;#fecd69ff&#x27;, &#x27;#fecc68ff&#x27;, &#x27;#fecc68ff&#x27;, &#x27;#fecb67ff&#x27;, &#x27;#fecb66ff&#x27;, &#x27;#feca66ff&#x27;, &#x27;#feca65ff&#x27;, &#x27;#fec965ff&#x27;, &#x27;#fec964ff&#x27;, &#x27;#fec863ff&#x27;, &#x27;#fec863ff&#x27;, &#x27;#fec762ff&#x27;, &#x27;#fec662ff&#x27;, &#x27;#fec661ff&#x27;, &#x27;#fec560ff&#x27;, &#x27;#fec560ff&#x27;, &#x27;#fec45fff&#x27;, &#x27;#fec45fff&#x27;, &#x27;#fec35eff&#x27;, &#x27;#fec35dff&#x27;, &#x27;#fec25dff&#x27;, &#x27;#fec15cff&#x27;, &#x27;#fec15cff&#x27;, &#x27;#fec05bff&#x27;, &#x27;#fec05bff&#x27;, &#x27;#febf5aff&#x27;, &#x27;#febf59ff&#x27;, &#x27;#febe59ff&#x27;, &#x27;#febe58ff&#x27;, &#x27;#febd58ff&#x27;, &#x27;#febd57ff&#x27;, &#x27;#febc56ff&#x27;, &#x27;#febb56ff&#x27;, &#x27;#febb55ff&#x27;, &#x27;#feba55ff&#x27;, &#x27;#feba54ff&#x27;, &#x27;#feb953ff&#x27;, &#x27;#feb953ff&#x27;, &#x27;#feb852ff&#x27;, &#x27;#feb852ff&#x27;, &#x27;#feb751ff&#x27;, &#x27;#feb750ff&#x27;, &#x27;#feb650ff&#x27;, &#x27;#feb54fff&#x27;, &#x27;#feb54fff&#x27;, &#x27;#feb44eff&#x27;, &#x27;#feb44dff&#x27;, &#x27;#feb34dff&#x27;, &#x27;#feb34cff&#x27;, &#x27;#feb24cff&#x27;, &#x27;#feb24cff&#x27;, &#x27;#feb14bff&#x27;, &#x27;#feb14bff&#x27;, &#x27;#feb04bff&#x27;, &#x27;#feb04bff&#x27;, &#x27;#feaf4aff&#x27;, &#x27;#feae4aff&#x27;, &#x27;#feae4aff&#x27;, &#x27;#fead4aff&#x27;, &#x27;#fead4aff&#x27;, &#x27;#feac49ff&#x27;, &#x27;#feac49ff&#x27;, &#x27;#feab49ff&#x27;, &#x27;#feab49ff&#x27;, &#x27;#feaa48ff&#x27;, &#x27;#feaa48ff&#x27;, &#x27;#fea948ff&#x27;, &#x27;#fea948ff&#x27;, &#x27;#fea847ff&#x27;, &#x27;#fea847ff&#x27;, &#x27;#fea747ff&#x27;, &#x27;#fea747ff&#x27;, &#x27;#fea647ff&#x27;, &#x27;#fea646ff&#x27;, &#x27;#fea546ff&#x27;, &#x27;#fea546ff&#x27;, &#x27;#fea446ff&#x27;, &#x27;#fea445ff&#x27;, &#x27;#fea345ff&#x27;, &#x27;#fea245ff&#x27;, &#x27;#fea245ff&#x27;, &#x27;#fea145ff&#x27;, &#x27;#fea144ff&#x27;, &#x27;#fea044ff&#x27;, &#x27;#fea044ff&#x27;, &#x27;#fe9f44ff&#x27;, &#x27;#fe9f43ff&#x27;, &#x27;#fe9e43ff&#x27;, &#x27;#fe9e43ff&#x27;, &#x27;#fe9d43ff&#x27;, &#x27;#fe9d43ff&#x27;, &#x27;#fe9c42ff&#x27;, &#x27;#fe9c42ff&#x27;, &#x27;#fe9b42ff&#x27;, &#x27;#fe9b42ff&#x27;, &#x27;#fe9a41ff&#x27;, &#x27;#fe9a41ff&#x27;, &#x27;#fe9941ff&#x27;, &#x27;#fe9941ff&#x27;, &#x27;#fe9840ff&#x27;, &#x27;#fe9840ff&#x27;, &#x27;#fe9740ff&#x27;, &#x27;#fe9740ff&#x27;, &#x27;#fe9640ff&#x27;, &#x27;#fe953fff&#x27;, &#x27;#fe953fff&#x27;, &#x27;#fe943fff&#x27;, &#x27;#fe943fff&#x27;, &#x27;#fe933eff&#x27;, &#x27;#fe933eff&#x27;, &#x27;#fe923eff&#x27;, &#x27;#fe923eff&#x27;, &#x27;#fe913eff&#x27;, &#x27;#fe913dff&#x27;, &#x27;#fe903dff&#x27;, &#x27;#fe903dff&#x27;, &#x27;#fe8f3dff&#x27;, &#x27;#fe8f3cff&#x27;, &#x27;#fe8e3cff&#x27;, &#x27;#fe8e3cff&#x27;, &#x27;#fd8d3cff&#x27;, &#x27;#fd8c3cff&#x27;, &#x27;#fd8b3bff&#x27;, &#x27;#fd8b3bff&#x27;, &#x27;#fd8a3bff&#x27;, &#x27;#fd893bff&#x27;, &#x27;#fd883aff&#x27;, &#x27;#fd873aff&#x27;, &#x27;#fd863aff&#x27;, &#x27;#fd8539ff&#x27;, &#x27;#fd8439ff&#x27;, &#x27;#fd8339ff&#x27;, &#x27;#fd8339ff&#x27;, &#x27;#fd8238ff&#x27;, &#x27;#fd8138ff&#x27;, &#x27;#fd8038ff&#x27;, &#x27;#fd7f38ff&#x27;, &#x27;#fd7e37ff&#x27;, &#x27;#fd7d37ff&#x27;, &#x27;#fd7c37ff&#x27;, &#x27;#fd7b37ff&#x27;, &#x27;#fd7b36ff&#x27;, &#x27;#fd7a36ff&#x27;, &#x27;#fd7936ff&#x27;, &#x27;#fd7836ff&#x27;, &#x27;#fd7735ff&#x27;, &#x27;#fd7635ff&#x27;, &#x27;#fd7535ff&#x27;, &#x27;#fd7435ff&#x27;, &#x27;#fd7334ff&#x27;, &#x27;#fd7334ff&#x27;, &#x27;#fd7234ff&#x27;, &#x27;#fd7134ff&#x27;, &#x27;#fd7033ff&#x27;, &#x27;#fd6f33ff&#x27;, &#x27;#fd6e33ff&#x27;, &#x27;#fd6d33ff&#x27;, &#x27;#fd6c32ff&#x27;, &#x27;#fd6b32ff&#x27;, &#x27;#fd6b32ff&#x27;, &#x27;#fd6a32ff&#x27;, &#x27;#fd6931ff&#x27;, &#x27;#fd6831ff&#x27;, &#x27;#fd6731ff&#x27;, &#x27;#fd6631ff&#x27;, &#x27;#fd6530ff&#x27;, &#x27;#fd6430ff&#x27;, &#x27;#fd6330ff&#x27;, &#x27;#fd6330ff&#x27;, &#x27;#fd622fff&#x27;, &#x27;#fd612fff&#x27;, &#x27;#fd602fff&#x27;, &#x27;#fd5f2fff&#x27;, &#x27;#fd5e2eff&#x27;, &#x27;#fd5d2eff&#x27;, &#x27;#fd5c2eff&#x27;, &#x27;#fd5b2eff&#x27;, &#x27;#fd5b2dff&#x27;, &#x27;#fd5a2dff&#x27;, &#x27;#fd592dff&#x27;, &#x27;#fd582dff&#x27;, &#x27;#fd572cff&#x27;, &#x27;#fd562cff&#x27;, &#x27;#fd552cff&#x27;, &#x27;#fd542cff&#x27;, &#x27;#fd542bff&#x27;, &#x27;#fd532bff&#x27;, &#x27;#fd522bff&#x27;, &#x27;#fd512bff&#x27;, &#x27;#fd502aff&#x27;, &#x27;#fd4f2aff&#x27;, &#x27;#fc4e2aff&#x27;, &#x27;#fc4d2aff&#x27;, &#x27;#fc4d29ff&#x27;, &#x27;#fc4c29ff&#x27;, &#x27;#fb4b29ff&#x27;, &#x27;#fb4a29ff&#x27;, &#x27;#fb4a29ff&#x27;, &#x27;#fa4928ff&#x27;, &#x27;#fa4828ff&#x27;, &#x27;#f94828ff&#x27;, &#x27;#f94728ff&#x27;, &#x27;#f94628ff&#x27;, &#x27;#f84527ff&#x27;, &#x27;#f84527ff&#x27;, &#x27;#f84427ff&#x27;, &#x27;#f74327ff&#x27;, &#x27;#f74227ff&#x27;, &#x27;#f74226ff&#x27;, &#x27;#f64126ff&#x27;, &#x27;#f64026ff&#x27;, &#x27;#f63f26ff&#x27;, &#x27;#f53f26ff&#x27;, &#x27;#f53e25ff&#x27;, &#x27;#f53d25ff&#x27;, &#x27;#f43d25ff&#x27;, &#x27;#f43c25ff&#x27;, &#x27;#f33b25ff&#x27;, &#x27;#f33a24ff&#x27;, &#x27;#f33a24ff&#x27;, &#x27;#f23924ff&#x27;, &#x27;#f23824ff&#x27;, &#x27;#f23724ff&#x27;, &#x27;#f13723ff&#x27;, &#x27;#f13623ff&#x27;, &#x27;#f13523ff&#x27;, &#x27;#f03423ff&#x27;, &#x27;#f03423ff&#x27;, &#x27;#f03322ff&#x27;, &#x27;#ef3222ff&#x27;, &#x27;#ef3222ff&#x27;, &#x27;#ef3122ff&#x27;, &#x27;#ee3022ff&#x27;, &#x27;#ee2f21ff&#x27;, &#x27;#ed2f21ff&#x27;, &#x27;#ed2e21ff&#x27;, &#x27;#ed2d21ff&#x27;, &#x27;#ec2c21ff&#x27;, &#x27;#ec2c20ff&#x27;, &#x27;#ec2b20ff&#x27;, &#x27;#eb2a20ff&#x27;, &#x27;#eb2a20ff&#x27;, &#x27;#eb2920ff&#x27;, &#x27;#ea281fff&#x27;, &#x27;#ea271fff&#x27;, &#x27;#ea271fff&#x27;, &#x27;#e9261fff&#x27;, &#x27;#e9251fff&#x27;, &#x27;#e9241fff&#x27;, &#x27;#e8241eff&#x27;, &#x27;#e8231eff&#x27;, &#x27;#e8221eff&#x27;, &#x27;#e7211eff&#x27;, &#x27;#e7211eff&#x27;, &#x27;#e6201dff&#x27;, &#x27;#e61f1dff&#x27;, &#x27;#e61f1dff&#x27;, &#x27;#e51e1dff&#x27;, &#x27;#e51d1dff&#x27;, &#x27;#e51c1cff&#x27;, &#x27;#e41c1cff&#x27;, &#x27;#e41b1cff&#x27;, &#x27;#e41a1cff&#x27;, &#x27;#e3191cff&#x27;, &#x27;#e2191cff&#x27;, &#x27;#e2191cff&#x27;, &#x27;#e1181cff&#x27;, &#x27;#e0181cff&#x27;, &#x27;#e0181cff&#x27;, &#x27;#df171cff&#x27;, &#x27;#de171dff&#x27;, &#x27;#de171dff&#x27;, &#x27;#dd161dff&#x27;, &#x27;#dc161dff&#x27;, &#x27;#db151dff&#x27;, &#x27;#db151dff&#x27;, &#x27;#da151dff&#x27;, &#x27;#d9141eff&#x27;, &#x27;#d9141eff&#x27;, &#x27;#d8141eff&#x27;, &#x27;#d7131eff&#x27;, &#x27;#d7131eff&#x27;, &#x27;#d6131eff&#x27;, &#x27;#d5121eff&#x27;, &#x27;#d4121fff&#x27;, &#x27;#d4111fff&#x27;, &#x27;#d3111fff&#x27;, &#x27;#d2111fff&#x27;, &#x27;#d2101fff&#x27;, &#x27;#d1101fff&#x27;, &#x27;#d0101fff&#x27;, &#x27;#cf0f20ff&#x27;, &#x27;#cf0f20ff&#x27;, &#x27;#ce0f20ff&#x27;, &#x27;#cd0e20ff&#x27;, &#x27;#cd0e20ff&#x27;, &#x27;#cc0d20ff&#x27;, &#x27;#cb0d20ff&#x27;, &#x27;#cb0d21ff&#x27;, &#x27;#ca0c21ff&#x27;, &#x27;#c90c21ff&#x27;, &#x27;#c80c21ff&#x27;, &#x27;#c80b21ff&#x27;, &#x27;#c70b21ff&#x27;, &#x27;#c60a21ff&#x27;, &#x27;#c60a22ff&#x27;, &#x27;#c50a22ff&#x27;, &#x27;#c40922ff&#x27;, &#x27;#c40922ff&#x27;, &#x27;#c30922ff&#x27;, &#x27;#c20822ff&#x27;, &#x27;#c10822ff&#x27;, &#x27;#c10823ff&#x27;, &#x27;#c00723ff&#x27;, &#x27;#bf0723ff&#x27;, &#x27;#bf0623ff&#x27;, &#x27;#be0623ff&#x27;, &#x27;#bd0623ff&#x27;, &#x27;#bc0523ff&#x27;, &#x27;#bc0524ff&#x27;, &#x27;#bb0524ff&#x27;, &#x27;#ba0424ff&#x27;, &#x27;#ba0424ff&#x27;, &#x27;#b90424ff&#x27;, &#x27;#b80324ff&#x27;, &#x27;#b80324ff&#x27;, &#x27;#b70225ff&#x27;, &#x27;#b60225ff&#x27;, &#x27;#b50225ff&#x27;, &#x27;#b50125ff&#x27;, &#x27;#b40125ff&#x27;, &#x27;#b30125ff&#x27;, &#x27;#b30025ff&#x27;, &#x27;#b20026ff&#x27;, &#x27;#b10026ff&#x27;]);\n",
       "    \n",
       "\n",
       "    color_map_8f364836538a2e5629eb29dbb1a9f053.x = d3.scale.linear()\n",
       "              .domain([2.0, 179.0])\n",
       "              .range([0, 450 - 50]);\n",
       "\n",
       "    color_map_8f364836538a2e5629eb29dbb1a9f053.legend = L.control({position: &#x27;topright&#x27;});\n",
       "    color_map_8f364836538a2e5629eb29dbb1a9f053.legend.onAdd = function (map) {var div = L.DomUtil.create(&#x27;div&#x27;, &#x27;legend&#x27;); return div};\n",
       "    color_map_8f364836538a2e5629eb29dbb1a9f053.legend.addTo(map_be721433ccba1a5c2ed810bdb430fda3);\n",
       "\n",
       "    color_map_8f364836538a2e5629eb29dbb1a9f053.xAxis = d3.svg.axis()\n",
       "        .scale(color_map_8f364836538a2e5629eb29dbb1a9f053.x)\n",
       "        .orient(&quot;top&quot;)\n",
       "        .tickSize(1)\n",
       "        .tickValues([2.0, 27.285714285714285, 52.57142857142857, 77.85714285714285, 103.14285714285714, 128.42857142857144, 153.7142857142857, 179.0]);\n",
       "\n",
       "    color_map_8f364836538a2e5629eb29dbb1a9f053.svg = d3.select(&quot;.legend.leaflet-control&quot;).append(&quot;svg&quot;)\n",
       "        .attr(&quot;id&quot;, &#x27;legend&#x27;)\n",
       "        .attr(&quot;width&quot;, 450)\n",
       "        .attr(&quot;height&quot;, 40);\n",
       "\n",
       "    color_map_8f364836538a2e5629eb29dbb1a9f053.g = color_map_8f364836538a2e5629eb29dbb1a9f053.svg.append(&quot;g&quot;)\n",
       "        .attr(&quot;class&quot;, &quot;key&quot;)\n",
       "        .attr(&quot;transform&quot;, &quot;translate(25,16)&quot;);\n",
       "\n",
       "    color_map_8f364836538a2e5629eb29dbb1a9f053.g.selectAll(&quot;rect&quot;)\n",
       "        .data(color_map_8f364836538a2e5629eb29dbb1a9f053.color.range().map(function(d, i) {\n",
       "          return {\n",
       "            x0: i ? color_map_8f364836538a2e5629eb29dbb1a9f053.x(color_map_8f364836538a2e5629eb29dbb1a9f053.color.domain()[i - 1]) : color_map_8f364836538a2e5629eb29dbb1a9f053.x.range()[0],\n",
       "            x1: i &lt; color_map_8f364836538a2e5629eb29dbb1a9f053.color.domain().length ? color_map_8f364836538a2e5629eb29dbb1a9f053.x(color_map_8f364836538a2e5629eb29dbb1a9f053.color.domain()[i]) : color_map_8f364836538a2e5629eb29dbb1a9f053.x.range()[1],\n",
       "            z: d\n",
       "          };\n",
       "        }))\n",
       "      .enter().append(&quot;rect&quot;)\n",
       "        .attr(&quot;height&quot;, 40 - 30)\n",
       "        .attr(&quot;x&quot;, function(d) { return d.x0; })\n",
       "        .attr(&quot;width&quot;, function(d) { return d.x1 - d.x0; })\n",
       "        .style(&quot;fill&quot;, function(d) { return d.z; });\n",
       "\n",
       "    color_map_8f364836538a2e5629eb29dbb1a9f053.g.call(color_map_8f364836538a2e5629eb29dbb1a9f053.xAxis).append(&quot;text&quot;)\n",
       "        .attr(&quot;class&quot;, &quot;caption&quot;)\n",
       "        .attr(&quot;y&quot;, 21)\n",
       "        .text(&quot;pm10 scale&quot;);\n",
       "    \n",
       "            var layer_control_43a93efd40bda7af733e73b2721f9e29_layers = {\n",
       "                base_layers : {\n",
       "                    &quot;openstreetmap&quot; : tile_layer_51e2c2f350abbb6d239321e815aac142,\n",
       "                },\n",
       "                overlays :  {\n",
       "                    &quot;pm10&quot; : geo_json_bb0754a3f2c818d8f461fbaf5b542250,\n",
       "                },\n",
       "            };\n",
       "            let layer_control_43a93efd40bda7af733e73b2721f9e29 = L.control.layers(\n",
       "                layer_control_43a93efd40bda7af733e73b2721f9e29_layers.base_layers,\n",
       "                layer_control_43a93efd40bda7af733e73b2721f9e29_layers.overlays,\n",
       "                {&quot;autoZIndex&quot;: true, &quot;collapsed&quot;: true, &quot;position&quot;: &quot;topright&quot;}\n",
       "            ).addTo(map_be721433ccba1a5c2ed810bdb430fda3);\n",
       "\n",
       "        \n",
       "&lt;/script&gt;\n",
       "&lt;/html&gt;\" style=\"position:absolute;width:100%;height:100%;left:0;top:0;border:none !important;\" allowfullscreen webkitallowfullscreen mozallowfullscreen></iframe></div></div>"
      ],
      "text/plain": [
       "<folium.folium.Map at 0x2529fb123d0>"
      ]
     },
     "execution_count": 104,
     "metadata": {},
     "output_type": "execute_result"
    }
   ],
   "source": [
    "m"
   ]
  },
  {
   "cell_type": "code",
   "execution_count": 51,
   "id": "750f6fdd-9f0e-436c-9ca1-af4ce343f1b0",
   "metadata": {
    "execution": {
     "iopub.execute_input": "2024-07-26T02:37:13.908415Z",
     "iopub.status.busy": "2024-07-26T02:37:13.907896Z",
     "iopub.status.idle": "2024-07-26T02:37:13.960447Z",
     "shell.execute_reply": "2024-07-26T02:37:13.958451Z",
     "shell.execute_reply.started": "2024-07-26T02:37:13.908415Z"
    }
   },
   "outputs": [
    {
     "data": {
      "text/html": [
       "<div>\n",
       "<style scoped>\n",
       "    .dataframe tbody tr th:only-of-type {\n",
       "        vertical-align: middle;\n",
       "    }\n",
       "\n",
       "    .dataframe tbody tr th {\n",
       "        vertical-align: top;\n",
       "    }\n",
       "\n",
       "    .dataframe thead th {\n",
       "        text-align: right;\n",
       "    }\n",
       "</style>\n",
       "<table border=\"1\" class=\"dataframe\">\n",
       "  <thead>\n",
       "    <tr style=\"text-align: right;\">\n",
       "      <th></th>\n",
       "      <th>date</th>\n",
       "      <th>station</th>\n",
       "      <th>pm10</th>\n",
       "      <th>pm25</th>\n",
       "      <th>so2</th>\n",
       "      <th>co</th>\n",
       "      <th>o3</th>\n",
       "      <th>no2</th>\n",
       "      <th>max</th>\n",
       "      <th>critical</th>\n",
       "      <th>category</th>\n",
       "      <th>year</th>\n",
       "      <th>quarter</th>\n",
       "      <th>month</th>\n",
       "      <th>day</th>\n",
       "      <th>day_of_week</th>\n",
       "      <th>district</th>\n",
       "      <th>sub_district</th>\n",
       "      <th>geometry</th>\n",
       "    </tr>\n",
       "  </thead>\n",
       "  <tbody>\n",
       "    <tr>\n",
       "      <th>7213</th>\n",
       "      <td>2015-02-25</td>\n",
       "      <td>DKI2 (Kelapa Gading)</td>\n",
       "      <td>60.0</td>\n",
       "      <td>NaN</td>\n",
       "      <td>8.0</td>\n",
       "      <td>36.0</td>\n",
       "      <td>86.0</td>\n",
       "      <td>15.0</td>\n",
       "      <td>86.0</td>\n",
       "      <td>O3</td>\n",
       "      <td>SEDANG</td>\n",
       "      <td>2015</td>\n",
       "      <td>1</td>\n",
       "      <td>Feb</td>\n",
       "      <td>25</td>\n",
       "      <td>Wed</td>\n",
       "      <td>Jakarta Utara</td>\n",
       "      <td>Kelapa Gading</td>\n",
       "      <td>POLYGON ((106.90662 -6.18064, 106.90655 -6.180...</td>\n",
       "    </tr>\n",
       "    <tr>\n",
       "      <th>7214</th>\n",
       "      <td>2015-02-25</td>\n",
       "      <td>DKI3 (Jagakarsa)</td>\n",
       "      <td>22.0</td>\n",
       "      <td>NaN</td>\n",
       "      <td>12.0</td>\n",
       "      <td>45.0</td>\n",
       "      <td>121.0</td>\n",
       "      <td>11.0</td>\n",
       "      <td>121.0</td>\n",
       "      <td>O3</td>\n",
       "      <td>TIDAK SEHAT</td>\n",
       "      <td>2015</td>\n",
       "      <td>1</td>\n",
       "      <td>Feb</td>\n",
       "      <td>25</td>\n",
       "      <td>Wed</td>\n",
       "      <td>Jakarta Selatan</td>\n",
       "      <td>Jagakarsa</td>\n",
       "      <td>POLYGON ((106.79466 -6.36492, 106.79464 -6.364...</td>\n",
       "    </tr>\n",
       "    <tr>\n",
       "      <th>7215</th>\n",
       "      <td>2015-02-25</td>\n",
       "      <td>DKI1 (Bunderan HI)</td>\n",
       "      <td>15.0</td>\n",
       "      <td>NaN</td>\n",
       "      <td>7.0</td>\n",
       "      <td>24.0</td>\n",
       "      <td>56.0</td>\n",
       "      <td>18.0</td>\n",
       "      <td>56.0</td>\n",
       "      <td>O3</td>\n",
       "      <td>SEDANG</td>\n",
       "      <td>2015</td>\n",
       "      <td>1</td>\n",
       "      <td>Feb</td>\n",
       "      <td>25</td>\n",
       "      <td>Wed</td>\n",
       "      <td>Jakarta Pusat</td>\n",
       "      <td>Menteng</td>\n",
       "      <td>POLYGON ((106.84905 -6.20754, 106.84895 -6.207...</td>\n",
       "    </tr>\n",
       "    <tr>\n",
       "      <th>7216</th>\n",
       "      <td>2015-02-25</td>\n",
       "      <td>DKI5 (Kebon Jeruk)</td>\n",
       "      <td>69.0</td>\n",
       "      <td>NaN</td>\n",
       "      <td>3.0</td>\n",
       "      <td>25.0</td>\n",
       "      <td>62.0</td>\n",
       "      <td>8.0</td>\n",
       "      <td>69.0</td>\n",
       "      <td>PM10</td>\n",
       "      <td>SEDANG</td>\n",
       "      <td>2015</td>\n",
       "      <td>1</td>\n",
       "      <td>Feb</td>\n",
       "      <td>25</td>\n",
       "      <td>Wed</td>\n",
       "      <td>Jakarta Barat</td>\n",
       "      <td>Kebonjeruk</td>\n",
       "      <td>POLYGON ((106.77711 -6.21614, 106.7771 -6.2162...</td>\n",
       "    </tr>\n",
       "    <tr>\n",
       "      <th>7217</th>\n",
       "      <td>2015-02-25</td>\n",
       "      <td>DKI4 (Lubang Buaya)</td>\n",
       "      <td>85.0</td>\n",
       "      <td>NaN</td>\n",
       "      <td>20.0</td>\n",
       "      <td>43.0</td>\n",
       "      <td>98.0</td>\n",
       "      <td>11.0</td>\n",
       "      <td>98.0</td>\n",
       "      <td>O3</td>\n",
       "      <td>SEDANG</td>\n",
       "      <td>2015</td>\n",
       "      <td>1</td>\n",
       "      <td>Feb</td>\n",
       "      <td>25</td>\n",
       "      <td>Wed</td>\n",
       "      <td>Jakarta Timur</td>\n",
       "      <td>Cipayung</td>\n",
       "      <td>POLYGON ((106.9181 -6.34388, 106.91785 -6.3438...</td>\n",
       "    </tr>\n",
       "  </tbody>\n",
       "</table>\n",
       "</div>"
      ],
      "text/plain": [
       "            date               station  pm10  pm25   so2    co     o3   no2  \\\n",
       "7213  2015-02-25  DKI2 (Kelapa Gading)  60.0   NaN   8.0  36.0   86.0  15.0   \n",
       "7214  2015-02-25      DKI3 (Jagakarsa)  22.0   NaN  12.0  45.0  121.0  11.0   \n",
       "7215  2015-02-25    DKI1 (Bunderan HI)  15.0   NaN   7.0  24.0   56.0  18.0   \n",
       "7216  2015-02-25    DKI5 (Kebon Jeruk)  69.0   NaN   3.0  25.0   62.0   8.0   \n",
       "7217  2015-02-25   DKI4 (Lubang Buaya)  85.0   NaN  20.0  43.0   98.0  11.0   \n",
       "\n",
       "        max critical     category  year  quarter month  day day_of_week  \\\n",
       "7213   86.0       O3       SEDANG  2015        1   Feb   25         Wed   \n",
       "7214  121.0       O3  TIDAK SEHAT  2015        1   Feb   25         Wed   \n",
       "7215   56.0       O3       SEDANG  2015        1   Feb   25         Wed   \n",
       "7216   69.0     PM10       SEDANG  2015        1   Feb   25         Wed   \n",
       "7217   98.0       O3       SEDANG  2015        1   Feb   25         Wed   \n",
       "\n",
       "             district   sub_district  \\\n",
       "7213    Jakarta Utara  Kelapa Gading   \n",
       "7214  Jakarta Selatan      Jagakarsa   \n",
       "7215    Jakarta Pusat        Menteng   \n",
       "7216    Jakarta Barat     Kebonjeruk   \n",
       "7217    Jakarta Timur       Cipayung   \n",
       "\n",
       "                                               geometry  \n",
       "7213  POLYGON ((106.90662 -6.18064, 106.90655 -6.180...  \n",
       "7214  POLYGON ((106.79466 -6.36492, 106.79464 -6.364...  \n",
       "7215  POLYGON ((106.84905 -6.20754, 106.84895 -6.207...  \n",
       "7216  POLYGON ((106.77711 -6.21614, 106.7771 -6.2162...  \n",
       "7217  POLYGON ((106.9181 -6.34388, 106.91785 -6.3438...  "
      ]
     },
     "execution_count": 51,
     "metadata": {},
     "output_type": "execute_result"
    }
   ],
   "source": [
    "df_ispa_dki_all_geo.query(\"date=='2015-02-25'\")"
   ]
  }
 ],
 "metadata": {
  "kernelspec": {
   "display_name": "Python 3 (ipykernel)",
   "language": "python",
   "name": "python3"
  },
  "language_info": {
   "codemirror_mode": {
    "name": "ipython",
    "version": 3
   },
   "file_extension": ".py",
   "mimetype": "text/x-python",
   "name": "python",
   "nbconvert_exporter": "python",
   "pygments_lexer": "ipython3",
   "version": "3.9.12"
  }
 },
 "nbformat": 4,
 "nbformat_minor": 5
}
