{
 "cells": [
  {
   "cell_type": "markdown",
   "id": "12aada13-129b-416e-9834-455bec16e4f4",
   "metadata": {
    "deletable": true,
    "editable": true,
    "frozen": false
   },
   "source": [
    "Summary of Health Risks and Sources\n",
    "\n",
    "- PM10:\n",
    "    - Health Risks: Respiratory and cardiovascular problems, eye/nose/throat irritation.\n",
    "    - Sources: Natural (dust storms, wildfires), Human (construction, industrial, vehicles).\n",
    "- PM2.5:\n",
    "    - Health Risks: Deep lung penetration, cardiovascular problems, premature death, cancer.\n",
    "    - Sources: Combustion (vehicles, residential heating, power plants), secondary formation.\n",
    "- SO2:\n",
    "    - Health Risks: Respiratory problems, cardiovascular issues, contributes to acid rain.\n",
    "    - Sources: Fossil fuel combustion, volcanic eruptions.\n",
    "- CO:\n",
    "    - Health Risks: Oxygen deprivation, exacerbates heart disease.\n",
    "    - Sources: Incomplete combustion (vehicles, residential heating, industrial), wildfires.\n",
    "- O3:\n",
    "    - Health Risks: Respiratory irritation, decreased lung function, premature aging of the lungs.\n",
    "    - Sources: Secondary pollutant formed from sunlight reacting with hydrocarbons and NOx.\n",
    "- NO2:\n",
    "    - Health Risks: Respiratory problems, cardiovascular effects, contributes to ozone and PM2.5 formation.\n",
    "    - Sources: Combustion (vehicles, power plants, industrial), natural sources (lightning, soil)."
   ]
  },
  {
   "cell_type": "code",
   "execution_count": null,
   "id": "55139a4f-da0a-47c8-9aef-e7eb24bd5393",
   "metadata": {
    "deletable": true,
    "editable": true,
    "frozen": false
   },
   "outputs": [],
   "source": [
    "import pandas as pd\n",
    "import plotly.express as px\n",
    "import matplotlib.pyplot as plt\n",
    "import matplotlib.colors as mcolors"
   ]
  },
  {
   "cell_type": "markdown",
   "id": "9bb20c90-1af8-4f56-841b-d45d2f90d107",
   "metadata": {
    "deletable": true,
    "editable": true,
    "execution": {
     "iopub.execute_input": "2024-07-27T04:56:29.642662Z",
     "iopub.status.busy": "2024-07-27T04:56:29.640738Z",
     "iopub.status.idle": "2024-07-27T04:56:29.655265Z",
     "shell.execute_reply": "2024-07-27T04:56:29.653275Z",
     "shell.execute_reply.started": "2024-07-27T04:56:29.642662Z"
    },
    "frozen": false,
    "jp-MarkdownHeadingCollapsed": true
   },
   "source": [
    "### Remap Values"
   ]
  },
  {
   "cell_type": "code",
   "execution_count": null,
   "id": "54eeac63-3376-42c9-8720-33462f1e803d",
   "metadata": {
    "deletable": true,
    "editable": true,
    "frozen": false
   },
   "outputs": [],
   "source": [
    "cmap = plt.get_cmap(\"RdYlGn\")\n",
    "num_colors = 5\n",
    "colors = [cmap(i / num_colors) for i in range(num_colors)]\n",
    "hex_colors = [mcolors.to_hex(color) for color in colors]\n",
    "hex_colors"
   ]
  },
  {
   "cell_type": "code",
   "execution_count": null,
   "id": "730df03c-3f19-4419-808c-87c5f1ef064d",
   "metadata": {
    "deletable": true,
    "editable": true,
    "frozen": false
   },
   "outputs": [],
   "source": [
    "map_color_values = {\n",
    "    'Good': 'background: #66bd63; color:black;',\n",
    "    'Moderate': 'background: #d9ef8b; color:black;',\n",
    "    'Unhealthy for Sensitive Groups': 'background: #fee08b; color:black;',\n",
    "    'Unhealthy': 'background: #f46d43; color:white;',\n",
    "    'Very Unhealthy': 'background: #a50026; color:white;',\n",
    "    'No Record': 'background: black; color:black;'\n",
    "}"
   ]
  },
  {
   "cell_type": "code",
   "execution_count": null,
   "id": "7a24959b-088d-44c4-b912-9488c03de85e",
   "metadata": {
    "deletable": true,
    "editable": true,
    "frozen": false
   },
   "outputs": [],
   "source": [
    "def pm10_to_category(value):\n",
    "    if pd.isna(value): return \"No Record\"\n",
    "        \n",
    "    if value <= 50:\n",
    "        return \"Good\"\n",
    "    elif value <= 100:\n",
    "        return \"Moderate\"\n",
    "    elif value <= 150:\n",
    "        return \"Unhealthy for Sensitive Groups\"\n",
    "    elif value <= 200:\n",
    "        return \"Unhealthy\"\n",
    "    else:\n",
    "        return \"Very Unhealthy\"\n",
    "\n",
    "def pm2_5_to_category(value):\n",
    "    if pd.isna(value): return \"No Record\"\n",
    "        \n",
    "    if value <= 12:\n",
    "        return \"Good\"\n",
    "    elif value <= 35:\n",
    "        return \"Moderate\"\n",
    "    elif value <= 55:\n",
    "        return \"Unhealthy for Sensitive Groups\"\n",
    "    elif value <= 150:\n",
    "        return \"Unhealthy\"\n",
    "    else:\n",
    "        return \"Very Unhealthy\"\n",
    "\n",
    "def so2_to_category(value):\n",
    "    if pd.isna(value): return \"No Record\"\n",
    "    \n",
    "    if value <= 75:\n",
    "        return \"Good\"\n",
    "    elif value <= 185:\n",
    "        return \"Moderate\"\n",
    "    elif value <= 304:\n",
    "        return \"Unhealthy for Sensitive Groups\"\n",
    "    elif value <= 604:\n",
    "        return \"Unhealthy\"\n",
    "    else:\n",
    "        return \"Very Unhealthy\"\n",
    "\n",
    "def co_to_category(value):\n",
    "    if pd.isna(value): return \"No Record\"\n",
    "        \n",
    "    if value <= 4.4:\n",
    "        return \"Good\"\n",
    "    elif value <= 9.4:\n",
    "        return \"Moderate\"\n",
    "    elif value <= 12.4:\n",
    "        return \"Unhealthy for Sensitive Groups\"\n",
    "    elif value <= 15.4:\n",
    "        return \"Unhealthy\"\n",
    "    else:\n",
    "        return \"Very Unhealthy\"\n",
    "\n",
    "def o3_to_category(value):\n",
    "    if pd.isna(value): return \"No Record\"\n",
    "        \n",
    "    if value <= 54:\n",
    "        return \"Good\"\n",
    "    elif value <= 70:\n",
    "        return \"Moderate\"\n",
    "    elif value <= 85:\n",
    "        return \"Unhealthy for Sensitive Groups\"\n",
    "    elif value <= 105:\n",
    "        return \"Unhealthy\"\n",
    "    else:\n",
    "        return \"Very Unhealthy\"\n",
    "\n",
    "def no2_to_category(value):\n",
    "    if pd.isna(value): return \"No Record\"\n",
    "        \n",
    "    if value <= 53:\n",
    "        return \"Good\"\n",
    "    elif value <= 100:\n",
    "        return \"Moderate\"\n",
    "    elif value <= 360:\n",
    "        return \"Unhealthy for Sensitive Groups\"\n",
    "    elif value <= 649:\n",
    "        return \"Unhealthy\"\n",
    "    else:\n",
    "        return \"Very Unhealthy\""
   ]
  },
  {
   "cell_type": "markdown",
   "id": "b8e5ebbd-253b-4061-aa31-56c343ad4e93",
   "metadata": {
    "deletable": true,
    "editable": true,
    "execution": {
     "iopub.execute_input": "2024-07-27T04:57:26.527854Z",
     "iopub.status.busy": "2024-07-27T04:57:26.526856Z",
     "iopub.status.idle": "2024-07-27T04:57:26.535992Z",
     "shell.execute_reply": "2024-07-27T04:57:26.535992Z",
     "shell.execute_reply.started": "2024-07-27T04:57:26.527854Z"
    },
    "frozen": false
   },
   "source": [
    "### Load Dataset"
   ]
  },
  {
   "cell_type": "code",
   "execution_count": null,
   "id": "c1e0c4cf-253c-4eba-b625-13f588cfc92d",
   "metadata": {
    "deletable": true,
    "editable": true,
    "frozen": false
   },
   "outputs": [],
   "source": [
    "df= pd.read_csv(\"df_ispa_dki_all.csv\")\n",
    "df['date'] = pd.to_datetime(df['date'])"
   ]
  },
  {
   "cell_type": "code",
   "execution_count": null,
   "id": "3fe41074-15e9-4ed1-bd22-ebe055573f3e",
   "metadata": {
    "deletable": true,
    "editable": true,
    "frozen": false
   },
   "outputs": [],
   "source": [
    "df.isna().sum()"
   ]
  },
  {
   "cell_type": "markdown",
   "id": "0d24232c-d746-460d-ba2a-7996ce4db7fc",
   "metadata": {
    "deletable": true,
    "editable": true,
    "execution": {
     "iopub.execute_input": "2024-07-27T04:53:26.785516Z",
     "iopub.status.busy": "2024-07-27T04:53:26.785516Z",
     "iopub.status.idle": "2024-07-27T04:53:26.800667Z",
     "shell.execute_reply": "2024-07-27T04:53:26.800030Z",
     "shell.execute_reply.started": "2024-07-27T04:53:26.785516Z"
    },
    "frozen": false
   },
   "source": [
    "### Summary"
   ]
  },
  {
   "cell_type": "code",
   "execution_count": null,
   "id": "5798643c-483c-4b1d-817d-f156d4def512",
   "metadata": {
    "deletable": true,
    "editable": true,
    "frozen": false
   },
   "outputs": [],
   "source": [
    "def get_summary(df, col_place, col_value, mapfunc):\n",
    "    df = df.copy()\n",
    "    \n",
    "    places = df[col_place].unique()\n",
    "    val_counts = {}\n",
    "    for place in places:\n",
    "        _df = df.query(f\"{col_place}=='{place}'\")[col_value]        \n",
    "        val_counts[place] = _df.map(mapfunc).value_counts().to_dict()\n",
    "\n",
    "    df_val_counts = pd.DataFrame(val_counts)\n",
    "    df_val_counts.index.name = col_value\n",
    "    df_val_counts.columns.name = col_place\n",
    "    \n",
    "    return df_val_counts.fillna(0).astype(int)"
   ]
  },
  {
   "cell_type": "code",
   "execution_count": null,
   "id": "b967659b-6e95-422e-a048-4d570a8b95d4",
   "metadata": {
    "deletable": true,
    "editable": true,
    "frozen": false,
    "scrolled": true
   },
   "outputs": [],
   "source": [
    "get_summary(df, 'district', 'pm25', pm2_5_to_category)"
   ]
  },
  {
   "cell_type": "markdown",
   "id": "5d8b52c0-1bd9-4ef3-a7f4-046d1ff9478b",
   "metadata": {
    "deletable": true,
    "editable": true,
    "execution": {
     "iopub.execute_input": "2024-07-28T02:45:00.768558Z",
     "iopub.status.busy": "2024-07-28T02:45:00.767564Z",
     "iopub.status.idle": "2024-07-28T02:45:00.788858Z",
     "shell.execute_reply": "2024-07-28T02:45:00.785692Z",
     "shell.execute_reply.started": "2024-07-28T02:45:00.768558Z"
    },
    "frozen": false
   },
   "source": [
    "### Jakarta Air Quality in each Period of Date"
   ]
  },
  {
   "cell_type": "markdown",
   "id": "734fbc81-9965-420b-87b3-9bc054b23e7d",
   "metadata": {
    "deletable": true,
    "editable": true,
    "execution": {
     "iopub.execute_input": "2024-07-29T03:53:11.070408Z",
     "iopub.status.busy": "2024-07-29T03:53:11.070408Z",
     "iopub.status.idle": "2024-07-29T03:53:11.084947Z",
     "shell.execute_reply": "2024-07-29T03:53:11.083948Z",
     "shell.execute_reply.started": "2024-07-29T03:53:11.070408Z"
    },
    "frozen": false
   },
   "source": [
    "#### Year-month"
   ]
  },
  {
   "cell_type": "code",
   "execution_count": null,
   "id": "2502391a-9815-493a-8feb-af5316f32b8a",
   "metadata": {
    "deletable": true,
    "editable": true,
    "frozen": false
   },
   "outputs": [],
   "source": [
    "month_remap = df['month'].unique().tolist()"
   ]
  },
  {
   "cell_type": "code",
   "execution_count": null,
   "id": "daf2bc0b-f044-490c-bafe-5af1f1a76535",
   "metadata": {
    "deletable": true,
    "editable": true,
    "frozen": false
   },
   "outputs": [],
   "source": [
    "df_over_year_month = df.pivot_table(\n",
    "    index=['station'],\n",
    "    columns=['year',df['date'].dt.month.rename('month')],\n",
    "    values='pm25',\n",
    "    aggfunc='mean'\n",
    ").round(1)"
   ]
  },
  {
   "cell_type": "code",
   "execution_count": null,
   "id": "95d862e2-8093-4b92-bf12-195e4aa9458c",
   "metadata": {
    "deletable": true,
    "editable": true,
    "frozen": false
   },
   "outputs": [],
   "source": [
    "df_over_year_month.columns.levels[1]"
   ]
  },
  {
   "cell_type": "code",
   "execution_count": null,
   "id": "942cf2e3-2f4e-4bfd-8184-580d344fb0d6",
   "metadata": {
    "deletable": true,
    "editable": true,
    "frozen": false
   },
   "outputs": [],
   "source": [
    "df_over_year_month.columns = df_over_year_month.columns.set_levels(month_remap, level=1)"
   ]
  },
  {
   "cell_type": "code",
   "execution_count": null,
   "id": "67bddc99-6050-4486-9a57-ebf8142f4b65",
   "metadata": {
    "deletable": true,
    "editable": true,
    "frozen": false
   },
   "outputs": [],
   "source": [
    "df_over_year_month.style.map(lambda x: map_color_values[pm2_5_to_category(x)]).format(precision=1)"
   ]
  },
  {
   "cell_type": "markdown",
   "id": "38149def-16b0-41c8-8c72-5c7a5edd6f14",
   "metadata": {
    "deletable": true,
    "editable": true,
    "execution": {
     "iopub.execute_input": "2024-07-29T04:15:47.790575Z",
     "iopub.status.busy": "2024-07-29T04:15:47.788580Z",
     "iopub.status.idle": "2024-07-29T04:15:47.807551Z",
     "shell.execute_reply": "2024-07-29T04:15:47.806590Z",
     "shell.execute_reply.started": "2024-07-29T04:15:47.789616Z"
    },
    "frozen": false
   },
   "source": [
    "#### Monthly Trend in each Year"
   ]
  },
  {
   "cell_type": "code",
   "execution_count": null,
   "id": "d5454a6e-53c9-49f2-b66b-e43b3d146872",
   "metadata": {
    "deletable": true,
    "editable": true,
    "frozen": false
   },
   "outputs": [],
   "source": [
    "monthly_trend = df.groupby(\n",
    "    ['year', df['date'].dt.month.rename('month')]\n",
    ").agg({'pm25':'mean'}).T.melt()\n",
    "monthly_trend['value'] = monthly_trend['value'].round(2)"
   ]
  },
  {
   "cell_type": "code",
   "execution_count": null,
   "id": "1b1676ac-dd36-44a2-879d-3d03770f3573",
   "metadata": {
    "deletable": true,
    "editable": true,
    "frozen": false,
    "scrolled": true
   },
   "outputs": [],
   "source": [
    "monthly_trend = monthly_trend.dropna(axis=0, how='any')"
   ]
  },
  {
   "cell_type": "code",
   "execution_count": null,
   "id": "c2ccb547-d4dc-4401-95bb-478e015c48bf",
   "metadata": {
    "deletable": true,
    "editable": true,
    "frozen": false
   },
   "outputs": [],
   "source": [
    "fig_monthly_trend = px.line(\n",
    "    monthly_trend, x='month', y='value', color='year', template='plotly_white', \n",
    "    markers=True\n",
    ").update_traces(hovertemplate=None, textposition=\"top center\")\\\n",
    ".update_layout(xaxis=dict(nticks=20), hovermode='x', title='Monthly Trend in each Year')"
   ]
  },
  {
   "cell_type": "code",
   "execution_count": null,
   "id": "ec439166-4af4-4a3f-822a-28f03061944a",
   "metadata": {
    "deletable": true,
    "editable": true,
    "frozen": false
   },
   "outputs": [],
   "source": [
    "fig_monthly_trend"
   ]
  },
  {
   "cell_type": "markdown",
   "id": "47c857ab-3d08-4a42-9d3f-ec1e42bf1c13",
   "metadata": {
    "deletable": true,
    "editable": true,
    "execution": {
     "iopub.execute_input": "2024-07-29T04:31:25.299755Z",
     "iopub.status.busy": "2024-07-29T04:31:25.299755Z",
     "iopub.status.idle": "2024-07-29T04:31:25.312405Z",
     "shell.execute_reply": "2024-07-29T04:31:25.311635Z",
     "shell.execute_reply.started": "2024-07-29T04:31:25.299755Z"
    },
    "frozen": false
   },
   "source": [
    "#### Daily Trend in each Month"
   ]
  },
  {
   "cell_type": "code",
   "execution_count": null,
   "id": "db194785-6c06-4c77-a5d3-48e2c394e99d",
   "metadata": {
    "deletable": true,
    "editable": true,
    "frozen": false
   },
   "outputs": [],
   "source": [
    "day_of_month_trend = df.groupby(['year', 'day']).agg({'pm25':'mean'}).T.melt()\n",
    "day_of_month_trend['value'] = day_of_month_trend['value'].round(0)"
   ]
  },
  {
   "cell_type": "code",
   "execution_count": null,
   "id": "52f22b85-af40-4482-a4ec-4b667635abd7",
   "metadata": {
    "deletable": true,
    "editable": true,
    "frozen": false
   },
   "outputs": [],
   "source": [
    "day_of_month_trend = day_of_month_trend.dropna(axis=0, how='any')"
   ]
  },
  {
   "cell_type": "code",
   "execution_count": null,
   "id": "75692028-acc3-44c6-98e5-f7404fa5e926",
   "metadata": {
    "deletable": true,
    "editable": true,
    "frozen": false
   },
   "outputs": [],
   "source": [
    "fig_day_of_month_trend = px.line(\n",
    "    day_of_month_trend, x='day', y='value', color='year', template='plotly_white', \n",
    "    markers=True\n",
    ").update_traces(hovertemplate=None, textposition=\"top center\")\\\n",
    ".update_layout(xaxis=dict(nticks=20), hovermode='x', title='Day of Month Trend over Year')"
   ]
  },
  {
   "cell_type": "code",
   "execution_count": null,
   "id": "c64ac0f2-dc9c-4a59-af5a-c4f814384341",
   "metadata": {
    "deletable": true,
    "editable": true,
    "frozen": false,
    "scrolled": true
   },
   "outputs": [],
   "source": [
    "fig_day_of_month_trend"
   ]
  },
  {
   "cell_type": "markdown",
   "id": "3ee56e35-6516-4662-adfa-bec63e17ecf2",
   "metadata": {
    "deletable": true,
    "editable": true,
    "execution": {
     "iopub.execute_input": "2024-07-29T04:31:53.329910Z",
     "iopub.status.busy": "2024-07-29T04:31:53.329910Z",
     "iopub.status.idle": "2024-07-29T04:31:53.343086Z",
     "shell.execute_reply": "2024-07-29T04:31:53.342088Z",
     "shell.execute_reply.started": "2024-07-29T04:31:53.329910Z"
    },
    "frozen": false
   },
   "source": [
    "#### Day of Week Trend"
   ]
  },
  {
   "cell_type": "code",
   "execution_count": null,
   "id": "6d09e07d-961a-4e9a-8936-7137eaf9eef8",
   "metadata": {
    "deletable": true,
    "editable": true,
    "frozen": false
   },
   "outputs": [],
   "source": [
    "day_of_week_trend = df.groupby(['year', df['date'].dt.day_of_week.rename('dow')]).agg({'pm25':'mean'}).T.melt()\n",
    "day_of_week_trend['value'] = day_of_week_trend['value'].round(0)"
   ]
  },
  {
   "cell_type": "code",
   "execution_count": null,
   "id": "934f420a-3811-4733-80cd-ca855133c05b",
   "metadata": {
    "deletable": true,
    "editable": true,
    "frozen": false
   },
   "outputs": [],
   "source": [
    "day_of_week_trend = day_of_week_trend.dropna(axis=0, how='any')"
   ]
  },
  {
   "cell_type": "code",
   "execution_count": null,
   "id": "8fbd11fb-a033-4bae-a306-b6cecc5506d5",
   "metadata": {
    "deletable": true,
    "editable": true,
    "frozen": false
   },
   "outputs": [],
   "source": [
    "remap_dow = ['Monday', 'Tuesday', 'Wednesday', 'Thursday', 'Friday', 'Saturday', 'Sunday']"
   ]
  },
  {
   "cell_type": "code",
   "execution_count": null,
   "id": "5585f5b3-f414-4420-b776-598c160092b3",
   "metadata": {
    "deletable": true,
    "editable": true,
    "frozen": false
   },
   "outputs": [],
   "source": [
    "fig_day_of_week_trend = px.line(\n",
    "    day_of_week_trend, x='dow', y='value', color='year', template='plotly_white', \n",
    "    markers=True\n",
    ").update_traces(hovertemplate=None, textposition=\"top center\")\\\n",
    ".update_layout(\n",
    "    xaxis=dict(nticks=20, tickmode = 'array',  tickvals=[0, 1, 2, 3, 4, 5, 6], ticktext=remap_dow), \n",
    "    hovermode='x', title='Day of Week Trend over Year')"
   ]
  },
  {
   "cell_type": "code",
   "execution_count": null,
   "id": "ccc113b0-52db-481a-b79b-23c4773d7658",
   "metadata": {
    "deletable": true,
    "editable": true,
    "frozen": false,
    "scrolled": true
   },
   "outputs": [],
   "source": [
    "fig_day_of_week_trend"
   ]
  }
 ],
 "metadata": {
  "kernelspec": {
   "display_name": "Python 3 (ipykernel)",
   "language": "python",
   "name": "python3"
  },
  "language_info": {
   "codemirror_mode": {
    "name": "ipython",
    "version": 3
   },
   "file_extension": ".py",
   "mimetype": "text/x-python",
   "name": "python",
   "nbconvert_exporter": "python",
   "pygments_lexer": "ipython3",
   "version": "3.9.12"
  }
 },
 "nbformat": 4,
 "nbformat_minor": 5
}
