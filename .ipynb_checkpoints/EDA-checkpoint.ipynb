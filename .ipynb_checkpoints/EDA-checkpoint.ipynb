{
 "cells": [
  {
   "cell_type": "markdown",
   "id": "12aada13-129b-416e-9834-455bec16e4f4",
   "metadata": {
    "deletable": true,
    "editable": true,
    "frozen": false
   },
   "source": [
    "Summary of Health Risks and Sources\n",
    "\n",
    "- PM10:\n",
    "    - Health Risks: Respiratory and cardiovascular problems, eye/nose/throat irritation.\n",
    "    - Sources: Natural (dust storms, wildfires), Human (construction, industrial, vehicles).\n",
    "- PM2.5:\n",
    "    - Health Risks: Deep lung penetration, cardiovascular problems, premature death, cancer.\n",
    "    - Sources: Combustion (vehicles, residential heating, power plants), secondary formation.\n",
    "- SO2:\n",
    "    - Health Risks: Respiratory problems, cardiovascular issues, contributes to acid rain.\n",
    "    - Sources: Fossil fuel combustion, volcanic eruptions.\n",
    "- CO:\n",
    "    - Health Risks: Oxygen deprivation, exacerbates heart disease.\n",
    "    - Sources: Incomplete combustion (vehicles, residential heating, industrial), wildfires.\n",
    "- O3:\n",
    "    - Health Risks: Respiratory irritation, decreased lung function, premature aging of the lungs.\n",
    "    - Sources: Secondary pollutant formed from sunlight reacting with hydrocarbons and NOx.\n",
    "- NO2:\n",
    "    - Health Risks: Respiratory problems, cardiovascular effects, contributes to ozone and PM2.5 formation.\n",
    "    - Sources: Combustion (vehicles, power plants, industrial), natural sources (lightning, soil)."
   ]
  },
  {
   "cell_type": "code",
   "execution_count": 1,
   "id": "55139a4f-da0a-47c8-9aef-e7eb24bd5393",
   "metadata": {
    "deletable": true,
    "editable": true,
    "execution": {
     "iopub.execute_input": "2024-07-29T03:20:56.208353Z",
     "iopub.status.busy": "2024-07-29T03:20:56.207227Z",
     "iopub.status.idle": "2024-07-29T03:21:09.539136Z",
     "shell.execute_reply": "2024-07-29T03:21:09.537136Z",
     "shell.execute_reply.started": "2024-07-29T03:20:56.208353Z"
    },
    "frozen": false
   },
   "outputs": [],
   "source": [
    "import pandas as pd\n",
    "import plotly.express as px\n",
    "import matplotlib.pyplot as plt\n",
    "import matplotlib.colors as mcolors"
   ]
  },
  {
   "cell_type": "markdown",
   "id": "9bb20c90-1af8-4f56-841b-d45d2f90d107",
   "metadata": {
    "deletable": true,
    "editable": true,
    "execution": {
     "iopub.execute_input": "2024-07-27T04:56:29.642662Z",
     "iopub.status.busy": "2024-07-27T04:56:29.640738Z",
     "iopub.status.idle": "2024-07-27T04:56:29.655265Z",
     "shell.execute_reply": "2024-07-27T04:56:29.653275Z",
     "shell.execute_reply.started": "2024-07-27T04:56:29.642662Z"
    },
    "frozen": false,
    "jp-MarkdownHeadingCollapsed": true
   },
   "source": [
    "### Remap Values"
   ]
  },
  {
   "cell_type": "code",
   "execution_count": 2,
   "id": "54eeac63-3376-42c9-8720-33462f1e803d",
   "metadata": {
    "deletable": true,
    "editable": true,
    "execution": {
     "iopub.execute_input": "2024-07-29T03:21:11.409537Z",
     "iopub.status.busy": "2024-07-29T03:21:11.408537Z",
     "iopub.status.idle": "2024-07-29T03:21:11.520190Z",
     "shell.execute_reply": "2024-07-29T03:21:11.519229Z",
     "shell.execute_reply.started": "2024-07-29T03:21:11.409537Z"
    },
    "frozen": false
   },
   "outputs": [
    {
     "data": {
      "text/plain": [
       "['#a50026', '#f46d43', '#fee08b', '#d9ef8b', '#66bd63']"
      ]
     },
     "execution_count": 2,
     "metadata": {},
     "output_type": "execute_result"
    }
   ],
   "source": [
    "cmap = plt.get_cmap(\"RdYlGn\")\n",
    "num_colors = 5\n",
    "colors = [cmap(i / num_colors) for i in range(num_colors)]\n",
    "hex_colors = [mcolors.to_hex(color) for color in colors]\n",
    "hex_colors"
   ]
  },
  {
   "cell_type": "code",
   "execution_count": 3,
   "id": "730df03c-3f19-4419-808c-87c5f1ef064d",
   "metadata": {
    "deletable": true,
    "editable": true,
    "execution": {
     "iopub.execute_input": "2024-07-29T03:21:17.585220Z",
     "iopub.status.busy": "2024-07-29T03:21:17.585220Z",
     "iopub.status.idle": "2024-07-29T03:21:17.605166Z",
     "shell.execute_reply": "2024-07-29T03:21:17.603172Z",
     "shell.execute_reply.started": "2024-07-29T03:21:17.585220Z"
    },
    "frozen": false
   },
   "outputs": [],
   "source": [
    "map_color_values = {\n",
    "    'Good': 'background: #66bd63; color:black;',\n",
    "    'Moderate': 'background: #d9ef8b; color:black;',\n",
    "    'Unhealthy for Sensitive Groups': 'background: #fee08b; color:black;',\n",
    "    'Unhealthy': 'background: #f46d43; color:white;',\n",
    "    'Very Unhealthy': 'background: #a50026; color:white;',\n",
    "    'No Record': 'background: black; color:black;'\n",
    "}"
   ]
  },
  {
   "cell_type": "code",
   "execution_count": 4,
   "id": "7a24959b-088d-44c4-b912-9488c03de85e",
   "metadata": {
    "deletable": true,
    "editable": true,
    "execution": {
     "iopub.execute_input": "2024-07-29T03:21:18.148943Z",
     "iopub.status.busy": "2024-07-29T03:21:18.148943Z",
     "iopub.status.idle": "2024-07-29T03:21:18.245361Z",
     "shell.execute_reply": "2024-07-29T03:21:18.243864Z",
     "shell.execute_reply.started": "2024-07-29T03:21:18.148943Z"
    },
    "frozen": false
   },
   "outputs": [],
   "source": [
    "def pm10_to_category(value):\n",
    "    if pd.isna(value): return \"No Record\"\n",
    "        \n",
    "    if value <= 50:\n",
    "        return \"Good\"\n",
    "    elif value <= 100:\n",
    "        return \"Moderate\"\n",
    "    elif value <= 150:\n",
    "        return \"Unhealthy for Sensitive Groups\"\n",
    "    elif value <= 200:\n",
    "        return \"Unhealthy\"\n",
    "    else:\n",
    "        return \"Very Unhealthy\"\n",
    "\n",
    "def pm2_5_to_category(value):\n",
    "    if pd.isna(value): return \"No Record\"\n",
    "        \n",
    "    if value <= 12:\n",
    "        return \"Good\"\n",
    "    elif value <= 35:\n",
    "        return \"Moderate\"\n",
    "    elif value <= 55:\n",
    "        return \"Unhealthy for Sensitive Groups\"\n",
    "    elif value <= 150:\n",
    "        return \"Unhealthy\"\n",
    "    else:\n",
    "        return \"Very Unhealthy\"\n",
    "\n",
    "def so2_to_category(value):\n",
    "    if pd.isna(value): return \"No Record\"\n",
    "    \n",
    "    if value <= 75:\n",
    "        return \"Good\"\n",
    "    elif value <= 185:\n",
    "        return \"Moderate\"\n",
    "    elif value <= 304:\n",
    "        return \"Unhealthy for Sensitive Groups\"\n",
    "    elif value <= 604:\n",
    "        return \"Unhealthy\"\n",
    "    else:\n",
    "        return \"Very Unhealthy\"\n",
    "\n",
    "def co_to_category(value):\n",
    "    if pd.isna(value): return \"No Record\"\n",
    "        \n",
    "    if value <= 4.4:\n",
    "        return \"Good\"\n",
    "    elif value <= 9.4:\n",
    "        return \"Moderate\"\n",
    "    elif value <= 12.4:\n",
    "        return \"Unhealthy for Sensitive Groups\"\n",
    "    elif value <= 15.4:\n",
    "        return \"Unhealthy\"\n",
    "    else:\n",
    "        return \"Very Unhealthy\"\n",
    "\n",
    "def o3_to_category(value):\n",
    "    if pd.isna(value): return \"No Record\"\n",
    "        \n",
    "    if value <= 54:\n",
    "        return \"Good\"\n",
    "    elif value <= 70:\n",
    "        return \"Moderate\"\n",
    "    elif value <= 85:\n",
    "        return \"Unhealthy for Sensitive Groups\"\n",
    "    elif value <= 105:\n",
    "        return \"Unhealthy\"\n",
    "    else:\n",
    "        return \"Very Unhealthy\"\n",
    "\n",
    "def no2_to_category(value):\n",
    "    if pd.isna(value): return \"No Record\"\n",
    "        \n",
    "    if value <= 53:\n",
    "        return \"Good\"\n",
    "    elif value <= 100:\n",
    "        return \"Moderate\"\n",
    "    elif value <= 360:\n",
    "        return \"Unhealthy for Sensitive Groups\"\n",
    "    elif value <= 649:\n",
    "        return \"Unhealthy\"\n",
    "    else:\n",
    "        return \"Very Unhealthy\""
   ]
  },
  {
   "cell_type": "markdown",
   "id": "b8e5ebbd-253b-4061-aa31-56c343ad4e93",
   "metadata": {
    "deletable": true,
    "editable": true,
    "execution": {
     "iopub.execute_input": "2024-07-27T04:57:26.527854Z",
     "iopub.status.busy": "2024-07-27T04:57:26.526856Z",
     "iopub.status.idle": "2024-07-27T04:57:26.535992Z",
     "shell.execute_reply": "2024-07-27T04:57:26.535992Z",
     "shell.execute_reply.started": "2024-07-27T04:57:26.527854Z"
    },
    "frozen": false
   },
   "source": [
    "### Load Dataset"
   ]
  },
  {
   "cell_type": "code",
   "execution_count": 5,
   "id": "c1e0c4cf-253c-4eba-b625-13f588cfc92d",
   "metadata": {
    "deletable": true,
    "editable": true,
    "execution": {
     "iopub.execute_input": "2024-07-29T03:21:33.675006Z",
     "iopub.status.busy": "2024-07-29T03:21:33.674216Z",
     "iopub.status.idle": "2024-07-29T03:21:34.534427Z",
     "shell.execute_reply": "2024-07-29T03:21:34.533168Z",
     "shell.execute_reply.started": "2024-07-29T03:21:33.675006Z"
    },
    "frozen": false
   },
   "outputs": [],
   "source": [
    "df= pd.read_csv(\"df_ispa_dki_all.csv\")\n",
    "df['date'] = pd.to_datetime(df['date'])"
   ]
  },
  {
   "cell_type": "code",
   "execution_count": 6,
   "id": "3fe41074-15e9-4ed1-bd22-ebe055573f3e",
   "metadata": {
    "collapsed": true,
    "deletable": true,
    "editable": true,
    "execution": {
     "iopub.execute_input": "2024-07-29T03:21:35.061780Z",
     "iopub.status.busy": "2024-07-29T03:21:35.061780Z",
     "iopub.status.idle": "2024-07-29T03:21:35.254382Z",
     "shell.execute_reply": "2024-07-29T03:21:35.252801Z",
     "shell.execute_reply.started": "2024-07-29T03:21:35.061780Z"
    },
    "frozen": false,
    "jupyter": {
     "outputs_hidden": true
    }
   },
   "outputs": [
    {
     "data": {
      "text/plain": [
       "date                0\n",
       "station             0\n",
       "pm10             1331\n",
       "pm25            18089\n",
       "so2               588\n",
       "co                420\n",
       "o3                655\n",
       "no2               585\n",
       "max                 0\n",
       "critical            0\n",
       "category            0\n",
       "year                0\n",
       "quarter             0\n",
       "month               0\n",
       "day                 0\n",
       "day_of_week         0\n",
       "district            0\n",
       "sub_district        0\n",
       "dtype: int64"
      ]
     },
     "execution_count": 6,
     "metadata": {},
     "output_type": "execute_result"
    }
   ],
   "source": [
    "df.isna().sum()"
   ]
  },
  {
   "cell_type": "markdown",
   "id": "0d24232c-d746-460d-ba2a-7996ce4db7fc",
   "metadata": {
    "deletable": true,
    "editable": true,
    "execution": {
     "iopub.execute_input": "2024-07-27T04:53:26.785516Z",
     "iopub.status.busy": "2024-07-27T04:53:26.785516Z",
     "iopub.status.idle": "2024-07-27T04:53:26.800667Z",
     "shell.execute_reply": "2024-07-27T04:53:26.800030Z",
     "shell.execute_reply.started": "2024-07-27T04:53:26.785516Z"
    },
    "frozen": false
   },
   "source": [
    "### Summary"
   ]
  },
  {
   "cell_type": "code",
   "execution_count": 7,
   "id": "5798643c-483c-4b1d-817d-f156d4def512",
   "metadata": {
    "deletable": true,
    "editable": true,
    "execution": {
     "iopub.execute_input": "2024-07-29T03:21:38.890554Z",
     "iopub.status.busy": "2024-07-29T03:21:38.889556Z",
     "iopub.status.idle": "2024-07-29T03:21:38.909563Z",
     "shell.execute_reply": "2024-07-29T03:21:38.908628Z",
     "shell.execute_reply.started": "2024-07-29T03:21:38.890554Z"
    },
    "frozen": false
   },
   "outputs": [],
   "source": [
    "def get_summary(df, col_place, col_value, mapfunc):\n",
    "    df = df.copy()\n",
    "    \n",
    "    places = df[col_place].unique()\n",
    "    val_counts = {}\n",
    "    for place in places:\n",
    "        _df = df.query(f\"{col_place}=='{place}'\")[col_value]        \n",
    "        val_counts[place] = _df.map(mapfunc).value_counts().to_dict()\n",
    "\n",
    "    df_val_counts = pd.DataFrame(val_counts)\n",
    "    df_val_counts.index.name = col_value\n",
    "    df_val_counts.columns.name = col_place\n",
    "    \n",
    "    return df_val_counts.fillna(0).astype(int)"
   ]
  },
  {
   "cell_type": "code",
   "execution_count": 9,
   "id": "b967659b-6e95-422e-a048-4d570a8b95d4",
   "metadata": {
    "deletable": true,
    "editable": true,
    "execution": {
     "iopub.execute_input": "2024-07-29T03:22:00.976846Z",
     "iopub.status.busy": "2024-07-29T03:22:00.975846Z",
     "iopub.status.idle": "2024-07-29T03:22:01.058974Z",
     "shell.execute_reply": "2024-07-29T03:22:01.056730Z",
     "shell.execute_reply.started": "2024-07-29T03:22:00.976846Z"
    },
    "frozen": false,
    "scrolled": true
   },
   "outputs": [
    {
     "data": {
      "text/html": [
       "<div>\n",
       "<style scoped>\n",
       "    .dataframe tbody tr th:only-of-type {\n",
       "        vertical-align: middle;\n",
       "    }\n",
       "\n",
       "    .dataframe tbody tr th {\n",
       "        vertical-align: top;\n",
       "    }\n",
       "\n",
       "    .dataframe thead th {\n",
       "        text-align: right;\n",
       "    }\n",
       "</style>\n",
       "<table border=\"1\" class=\"dataframe\">\n",
       "  <thead>\n",
       "    <tr style=\"text-align: right;\">\n",
       "      <th>district</th>\n",
       "      <th>Jakarta Pusat</th>\n",
       "      <th>Jakarta Utara</th>\n",
       "      <th>Jakarta Timur</th>\n",
       "      <th>Jakarta Selatan</th>\n",
       "      <th>Jakarta Barat</th>\n",
       "    </tr>\n",
       "    <tr>\n",
       "      <th>pm25</th>\n",
       "      <th></th>\n",
       "      <th></th>\n",
       "      <th></th>\n",
       "      <th></th>\n",
       "      <th></th>\n",
       "    </tr>\n",
       "  </thead>\n",
       "  <tbody>\n",
       "    <tr>\n",
       "      <th>No Record</th>\n",
       "      <td>3910</td>\n",
       "      <td>3684</td>\n",
       "      <td>3656</td>\n",
       "      <td>3631</td>\n",
       "      <td>3208</td>\n",
       "    </tr>\n",
       "    <tr>\n",
       "      <th>Unhealthy</th>\n",
       "      <td>667</td>\n",
       "      <td>702</td>\n",
       "      <td>993</td>\n",
       "      <td>719</td>\n",
       "      <td>503</td>\n",
       "    </tr>\n",
       "    <tr>\n",
       "      <th>Unhealthy for Sensitive Groups</th>\n",
       "      <td>167</td>\n",
       "      <td>169</td>\n",
       "      <td>78</td>\n",
       "      <td>117</td>\n",
       "      <td>76</td>\n",
       "    </tr>\n",
       "    <tr>\n",
       "      <th>Moderate</th>\n",
       "      <td>46</td>\n",
       "      <td>30</td>\n",
       "      <td>6</td>\n",
       "      <td>58</td>\n",
       "      <td>22</td>\n",
       "    </tr>\n",
       "    <tr>\n",
       "      <th>Very Unhealthy</th>\n",
       "      <td>0</td>\n",
       "      <td>0</td>\n",
       "      <td>18</td>\n",
       "      <td>0</td>\n",
       "      <td>0</td>\n",
       "    </tr>\n",
       "    <tr>\n",
       "      <th>Good</th>\n",
       "      <td>0</td>\n",
       "      <td>0</td>\n",
       "      <td>0</td>\n",
       "      <td>1</td>\n",
       "      <td>0</td>\n",
       "    </tr>\n",
       "  </tbody>\n",
       "</table>\n",
       "</div>"
      ],
      "text/plain": [
       "district                        Jakarta Pusat  Jakarta Utara  Jakarta Timur  \\\n",
       "pm25                                                                          \n",
       "No Record                                3910           3684           3656   \n",
       "Unhealthy                                 667            702            993   \n",
       "Unhealthy for Sensitive Groups            167            169             78   \n",
       "Moderate                                   46             30              6   \n",
       "Very Unhealthy                              0              0             18   \n",
       "Good                                        0              0              0   \n",
       "\n",
       "district                        Jakarta Selatan  Jakarta Barat  \n",
       "pm25                                                            \n",
       "No Record                                  3631           3208  \n",
       "Unhealthy                                   719            503  \n",
       "Unhealthy for Sensitive Groups              117             76  \n",
       "Moderate                                     58             22  \n",
       "Very Unhealthy                                0              0  \n",
       "Good                                          1              0  "
      ]
     },
     "execution_count": 9,
     "metadata": {},
     "output_type": "execute_result"
    }
   ],
   "source": [
    "get_summary(df, 'district', 'pm25', pm2_5_to_category)"
   ]
  },
  {
   "cell_type": "markdown",
   "id": "5d8b52c0-1bd9-4ef3-a7f4-046d1ff9478b",
   "metadata": {
    "deletable": true,
    "editable": true,
    "execution": {
     "iopub.execute_input": "2024-07-28T02:45:00.768558Z",
     "iopub.status.busy": "2024-07-28T02:45:00.767564Z",
     "iopub.status.idle": "2024-07-28T02:45:00.788858Z",
     "shell.execute_reply": "2024-07-28T02:45:00.785692Z",
     "shell.execute_reply.started": "2024-07-28T02:45:00.768558Z"
    },
    "frozen": false
   },
   "source": [
    "### Jakarta Air Quality in each Period of Date"
   ]
  },
  {
   "cell_type": "markdown",
   "id": "734fbc81-9965-420b-87b3-9bc054b23e7d",
   "metadata": {
    "deletable": true,
    "editable": true,
    "execution": {
     "iopub.execute_input": "2024-07-29T03:53:11.070408Z",
     "iopub.status.busy": "2024-07-29T03:53:11.070408Z",
     "iopub.status.idle": "2024-07-29T03:53:11.084947Z",
     "shell.execute_reply": "2024-07-29T03:53:11.083948Z",
     "shell.execute_reply.started": "2024-07-29T03:53:11.070408Z"
    },
    "frozen": false
   },
   "source": [
    "#### Year-month"
   ]
  },
  {
   "cell_type": "code",
   "execution_count": null,
   "id": "2502391a-9815-493a-8feb-af5316f32b8a",
   "metadata": {
    "deletable": true,
    "editable": true,
    "frozen": false
   },
   "outputs": [],
   "source": [
    "month_remap = df['month'].unique().tolist()"
   ]
  },
  {
   "cell_type": "code",
   "execution_count": 111,
   "id": "daf2bc0b-f044-490c-bafe-5af1f1a76535",
   "metadata": {
    "deletable": true,
    "editable": true,
    "execution": {
     "iopub.execute_input": "2024-07-29T04:08:45.451245Z",
     "iopub.status.busy": "2024-07-29T04:08:45.445265Z",
     "iopub.status.idle": "2024-07-29T04:08:45.952781Z",
     "shell.execute_reply": "2024-07-29T04:08:45.938817Z",
     "shell.execute_reply.started": "2024-07-29T04:08:45.451245Z"
    },
    "frozen": false
   },
   "outputs": [],
   "source": [
    "df_over_year_month = df.pivot_table(\n",
    "    index=['station'],\n",
    "    columns=['year',df['date'].dt.month.rename('month')],\n",
    "    values='pm25',\n",
    "    aggfunc='mean'\n",
    ").round(1)"
   ]
  },
  {
   "cell_type": "code",
   "execution_count": 112,
   "id": "95d862e2-8093-4b92-bf12-195e4aa9458c",
   "metadata": {
    "deletable": true,
    "editable": true,
    "execution": {
     "iopub.execute_input": "2024-07-29T04:08:49.808169Z",
     "iopub.status.busy": "2024-07-29T04:08:49.804710Z",
     "iopub.status.idle": "2024-07-29T04:08:49.855026Z",
     "shell.execute_reply": "2024-07-29T04:08:49.849037Z",
     "shell.execute_reply.started": "2024-07-29T04:08:49.808169Z"
    },
    "frozen": false
   },
   "outputs": [
    {
     "data": {
      "text/plain": [
       "Index([1, 2, 3, 4, 5, 6, 7, 8, 9, 10, 11, 12], dtype='int32', name='month')"
      ]
     },
     "execution_count": 112,
     "metadata": {},
     "output_type": "execute_result"
    }
   ],
   "source": [
    "df_over_year_month.columns.levels[1]"
   ]
  },
  {
   "cell_type": "code",
   "execution_count": 116,
   "id": "942cf2e3-2f4e-4bfd-8184-580d344fb0d6",
   "metadata": {
    "deletable": true,
    "editable": true,
    "execution": {
     "iopub.execute_input": "2024-07-29T04:09:53.812035Z",
     "iopub.status.busy": "2024-07-29T04:09:53.811037Z",
     "iopub.status.idle": "2024-07-29T04:09:53.823006Z",
     "shell.execute_reply": "2024-07-29T04:09:53.822010Z",
     "shell.execute_reply.started": "2024-07-29T04:09:53.812035Z"
    },
    "frozen": false
   },
   "outputs": [],
   "source": [
    "df_over_year_month.columns = df_over_year_month.columns.set_levels(month_remap, level=1)"
   ]
  },
  {
   "cell_type": "code",
   "execution_count": 117,
   "id": "67bddc99-6050-4486-9a57-ebf8142f4b65",
   "metadata": {
    "deletable": true,
    "editable": true,
    "execution": {
     "iopub.execute_input": "2024-07-29T04:09:54.948281Z",
     "iopub.status.busy": "2024-07-29T04:09:54.947282Z",
     "iopub.status.idle": "2024-07-29T04:09:55.019559Z",
     "shell.execute_reply": "2024-07-29T04:09:55.018562Z",
     "shell.execute_reply.started": "2024-07-29T04:09:54.948281Z"
    },
    "frozen": false
   },
   "outputs": [
    {
     "data": {
      "text/html": [
       "<style type=\"text/css\">\n",
       "#T_3c852_row0_col0, #T_3c852_row0_col1, #T_3c852_row0_col2, #T_3c852_row0_col11, #T_3c852_row0_col24, #T_3c852_row0_col25, #T_3c852_row0_col35, #T_3c852_row1_col2, #T_3c852_row1_col14, #T_3c852_row1_col21, #T_3c852_row1_col22, #T_3c852_row1_col25, #T_3c852_row2_col25, #T_3c852_row2_col37, #T_3c852_row4_col23, #T_3c852_row4_col35 {\n",
       "  background: #fee08b;\n",
       "  color: black;\n",
       "}\n",
       "#T_3c852_row0_col3, #T_3c852_row0_col4, #T_3c852_row0_col5, #T_3c852_row0_col6, #T_3c852_row0_col7, #T_3c852_row0_col8, #T_3c852_row0_col9, #T_3c852_row0_col10, #T_3c852_row0_col12, #T_3c852_row0_col20, #T_3c852_row0_col21, #T_3c852_row0_col23, #T_3c852_row0_col26, #T_3c852_row0_col27, #T_3c852_row0_col28, #T_3c852_row0_col29, #T_3c852_row0_col30, #T_3c852_row0_col31, #T_3c852_row0_col32, #T_3c852_row0_col33, #T_3c852_row0_col34, #T_3c852_row0_col36, #T_3c852_row0_col37, #T_3c852_row0_col38, #T_3c852_row0_col39, #T_3c852_row1_col0, #T_3c852_row1_col1, #T_3c852_row1_col3, #T_3c852_row1_col4, #T_3c852_row1_col5, #T_3c852_row1_col6, #T_3c852_row1_col7, #T_3c852_row1_col8, #T_3c852_row1_col9, #T_3c852_row1_col10, #T_3c852_row1_col11, #T_3c852_row1_col12, #T_3c852_row1_col13, #T_3c852_row1_col15, #T_3c852_row1_col16, #T_3c852_row1_col17, #T_3c852_row1_col18, #T_3c852_row1_col19, #T_3c852_row1_col20, #T_3c852_row1_col23, #T_3c852_row1_col24, #T_3c852_row1_col26, #T_3c852_row1_col27, #T_3c852_row1_col28, #T_3c852_row1_col29, #T_3c852_row1_col30, #T_3c852_row1_col31, #T_3c852_row1_col32, #T_3c852_row1_col33, #T_3c852_row1_col34, #T_3c852_row1_col35, #T_3c852_row1_col36, #T_3c852_row1_col37, #T_3c852_row1_col38, #T_3c852_row1_col39, #T_3c852_row2_col0, #T_3c852_row2_col1, #T_3c852_row2_col2, #T_3c852_row2_col3, #T_3c852_row2_col4, #T_3c852_row2_col5, #T_3c852_row2_col6, #T_3c852_row2_col7, #T_3c852_row2_col8, #T_3c852_row2_col9, #T_3c852_row2_col10, #T_3c852_row2_col11, #T_3c852_row2_col12, #T_3c852_row2_col13, #T_3c852_row2_col14, #T_3c852_row2_col16, #T_3c852_row2_col18, #T_3c852_row2_col22, #T_3c852_row2_col23, #T_3c852_row2_col24, #T_3c852_row2_col26, #T_3c852_row2_col27, #T_3c852_row2_col28, #T_3c852_row2_col29, #T_3c852_row2_col30, #T_3c852_row2_col31, #T_3c852_row2_col32, #T_3c852_row2_col33, #T_3c852_row2_col34, #T_3c852_row2_col35, #T_3c852_row2_col36, #T_3c852_row2_col38, #T_3c852_row2_col39, #T_3c852_row3_col0, #T_3c852_row3_col2, #T_3c852_row3_col3, #T_3c852_row3_col4, #T_3c852_row3_col5, #T_3c852_row3_col6, #T_3c852_row3_col7, #T_3c852_row3_col8, #T_3c852_row3_col9, #T_3c852_row3_col10, #T_3c852_row3_col11, #T_3c852_row3_col12, #T_3c852_row3_col13, #T_3c852_row3_col14, #T_3c852_row3_col15, #T_3c852_row3_col16, #T_3c852_row3_col17, #T_3c852_row3_col18, #T_3c852_row3_col19, #T_3c852_row3_col20, #T_3c852_row3_col21, #T_3c852_row3_col22, #T_3c852_row3_col23, #T_3c852_row3_col24, #T_3c852_row3_col25, #T_3c852_row3_col26, #T_3c852_row3_col27, #T_3c852_row3_col28, #T_3c852_row3_col29, #T_3c852_row3_col30, #T_3c852_row3_col31, #T_3c852_row3_col32, #T_3c852_row3_col33, #T_3c852_row3_col34, #T_3c852_row3_col35, #T_3c852_row3_col36, #T_3c852_row3_col37, #T_3c852_row3_col38, #T_3c852_row3_col39, #T_3c852_row4_col0, #T_3c852_row4_col2, #T_3c852_row4_col3, #T_3c852_row4_col4, #T_3c852_row4_col5, #T_3c852_row4_col6, #T_3c852_row4_col7, #T_3c852_row4_col8, #T_3c852_row4_col9, #T_3c852_row4_col10, #T_3c852_row4_col11, #T_3c852_row4_col12, #T_3c852_row4_col13, #T_3c852_row4_col14, #T_3c852_row4_col15, #T_3c852_row4_col17, #T_3c852_row4_col19, #T_3c852_row4_col20, #T_3c852_row4_col21, #T_3c852_row4_col32, #T_3c852_row4_col33, #T_3c852_row4_col34, #T_3c852_row4_col36, #T_3c852_row4_col37, #T_3c852_row4_col38, #T_3c852_row4_col39 {\n",
       "  background: #f46d43;\n",
       "  color: white;\n",
       "}\n",
       "#T_3c852_row0_col13, #T_3c852_row0_col14, #T_3c852_row0_col15, #T_3c852_row0_col16, #T_3c852_row0_col17, #T_3c852_row0_col18, #T_3c852_row0_col19, #T_3c852_row0_col22, #T_3c852_row2_col15, #T_3c852_row2_col17, #T_3c852_row2_col19, #T_3c852_row2_col20, #T_3c852_row2_col21, #T_3c852_row3_col1, #T_3c852_row4_col1, #T_3c852_row4_col16, #T_3c852_row4_col18, #T_3c852_row4_col22, #T_3c852_row4_col24, #T_3c852_row4_col25, #T_3c852_row4_col26, #T_3c852_row4_col27, #T_3c852_row4_col28, #T_3c852_row4_col29, #T_3c852_row4_col30, #T_3c852_row4_col31 {\n",
       "  background: black;\n",
       "  color: black;\n",
       "}\n",
       "</style>\n",
       "<table id=\"T_3c852\">\n",
       "  <thead>\n",
       "    <tr>\n",
       "      <th class=\"index_name level0\" >year</th>\n",
       "      <th id=\"T_3c852_level0_col0\" class=\"col_heading level0 col0\" >2020</th>\n",
       "      <th id=\"T_3c852_level0_col1\" class=\"col_heading level0 col1\" colspan=\"12\">2021</th>\n",
       "      <th id=\"T_3c852_level0_col13\" class=\"col_heading level0 col13\" colspan=\"11\">2022</th>\n",
       "      <th id=\"T_3c852_level0_col24\" class=\"col_heading level0 col24\" colspan=\"11\">2023</th>\n",
       "      <th id=\"T_3c852_level0_col35\" class=\"col_heading level0 col35\" colspan=\"5\">2024</th>\n",
       "    </tr>\n",
       "    <tr>\n",
       "      <th class=\"index_name level1\" >month</th>\n",
       "      <th id=\"T_3c852_level1_col0\" class=\"col_heading level1 col0\" >Feb</th>\n",
       "      <th id=\"T_3c852_level1_col1\" class=\"col_heading level1 col1\" >Jan</th>\n",
       "      <th id=\"T_3c852_level1_col2\" class=\"col_heading level1 col2\" >Feb</th>\n",
       "      <th id=\"T_3c852_level1_col3\" class=\"col_heading level1 col3\" >Mar</th>\n",
       "      <th id=\"T_3c852_level1_col4\" class=\"col_heading level1 col4\" >Apr</th>\n",
       "      <th id=\"T_3c852_level1_col5\" class=\"col_heading level1 col5\" >May</th>\n",
       "      <th id=\"T_3c852_level1_col6\" class=\"col_heading level1 col6\" >Jun</th>\n",
       "      <th id=\"T_3c852_level1_col7\" class=\"col_heading level1 col7\" >Jul</th>\n",
       "      <th id=\"T_3c852_level1_col8\" class=\"col_heading level1 col8\" >Aug</th>\n",
       "      <th id=\"T_3c852_level1_col9\" class=\"col_heading level1 col9\" >Sep</th>\n",
       "      <th id=\"T_3c852_level1_col10\" class=\"col_heading level1 col10\" >Oct</th>\n",
       "      <th id=\"T_3c852_level1_col11\" class=\"col_heading level1 col11\" >Nov</th>\n",
       "      <th id=\"T_3c852_level1_col12\" class=\"col_heading level1 col12\" >Dec</th>\n",
       "      <th id=\"T_3c852_level1_col13\" class=\"col_heading level1 col13\" >Jan</th>\n",
       "      <th id=\"T_3c852_level1_col14\" class=\"col_heading level1 col14\" >Mar</th>\n",
       "      <th id=\"T_3c852_level1_col15\" class=\"col_heading level1 col15\" >Apr</th>\n",
       "      <th id=\"T_3c852_level1_col16\" class=\"col_heading level1 col16\" >May</th>\n",
       "      <th id=\"T_3c852_level1_col17\" class=\"col_heading level1 col17\" >Jun</th>\n",
       "      <th id=\"T_3c852_level1_col18\" class=\"col_heading level1 col18\" >Jul</th>\n",
       "      <th id=\"T_3c852_level1_col19\" class=\"col_heading level1 col19\" >Aug</th>\n",
       "      <th id=\"T_3c852_level1_col20\" class=\"col_heading level1 col20\" >Sep</th>\n",
       "      <th id=\"T_3c852_level1_col21\" class=\"col_heading level1 col21\" >Oct</th>\n",
       "      <th id=\"T_3c852_level1_col22\" class=\"col_heading level1 col22\" >Nov</th>\n",
       "      <th id=\"T_3c852_level1_col23\" class=\"col_heading level1 col23\" >Dec</th>\n",
       "      <th id=\"T_3c852_level1_col24\" class=\"col_heading level1 col24\" >Jan</th>\n",
       "      <th id=\"T_3c852_level1_col25\" class=\"col_heading level1 col25\" >Feb</th>\n",
       "      <th id=\"T_3c852_level1_col26\" class=\"col_heading level1 col26\" >Mar</th>\n",
       "      <th id=\"T_3c852_level1_col27\" class=\"col_heading level1 col27\" >Apr</th>\n",
       "      <th id=\"T_3c852_level1_col28\" class=\"col_heading level1 col28\" >May</th>\n",
       "      <th id=\"T_3c852_level1_col29\" class=\"col_heading level1 col29\" >Jun</th>\n",
       "      <th id=\"T_3c852_level1_col30\" class=\"col_heading level1 col30\" >Jul</th>\n",
       "      <th id=\"T_3c852_level1_col31\" class=\"col_heading level1 col31\" >Aug</th>\n",
       "      <th id=\"T_3c852_level1_col32\" class=\"col_heading level1 col32\" >Sep</th>\n",
       "      <th id=\"T_3c852_level1_col33\" class=\"col_heading level1 col33\" >Oct</th>\n",
       "      <th id=\"T_3c852_level1_col34\" class=\"col_heading level1 col34\" >Nov</th>\n",
       "      <th id=\"T_3c852_level1_col35\" class=\"col_heading level1 col35\" >Jan</th>\n",
       "      <th id=\"T_3c852_level1_col36\" class=\"col_heading level1 col36\" >Feb</th>\n",
       "      <th id=\"T_3c852_level1_col37\" class=\"col_heading level1 col37\" >Mar</th>\n",
       "      <th id=\"T_3c852_level1_col38\" class=\"col_heading level1 col38\" >Apr</th>\n",
       "      <th id=\"T_3c852_level1_col39\" class=\"col_heading level1 col39\" >May</th>\n",
       "    </tr>\n",
       "    <tr>\n",
       "      <th class=\"index_name level0\" >station</th>\n",
       "      <th class=\"blank col0\" >&nbsp;</th>\n",
       "      <th class=\"blank col1\" >&nbsp;</th>\n",
       "      <th class=\"blank col2\" >&nbsp;</th>\n",
       "      <th class=\"blank col3\" >&nbsp;</th>\n",
       "      <th class=\"blank col4\" >&nbsp;</th>\n",
       "      <th class=\"blank col5\" >&nbsp;</th>\n",
       "      <th class=\"blank col6\" >&nbsp;</th>\n",
       "      <th class=\"blank col7\" >&nbsp;</th>\n",
       "      <th class=\"blank col8\" >&nbsp;</th>\n",
       "      <th class=\"blank col9\" >&nbsp;</th>\n",
       "      <th class=\"blank col10\" >&nbsp;</th>\n",
       "      <th class=\"blank col11\" >&nbsp;</th>\n",
       "      <th class=\"blank col12\" >&nbsp;</th>\n",
       "      <th class=\"blank col13\" >&nbsp;</th>\n",
       "      <th class=\"blank col14\" >&nbsp;</th>\n",
       "      <th class=\"blank col15\" >&nbsp;</th>\n",
       "      <th class=\"blank col16\" >&nbsp;</th>\n",
       "      <th class=\"blank col17\" >&nbsp;</th>\n",
       "      <th class=\"blank col18\" >&nbsp;</th>\n",
       "      <th class=\"blank col19\" >&nbsp;</th>\n",
       "      <th class=\"blank col20\" >&nbsp;</th>\n",
       "      <th class=\"blank col21\" >&nbsp;</th>\n",
       "      <th class=\"blank col22\" >&nbsp;</th>\n",
       "      <th class=\"blank col23\" >&nbsp;</th>\n",
       "      <th class=\"blank col24\" >&nbsp;</th>\n",
       "      <th class=\"blank col25\" >&nbsp;</th>\n",
       "      <th class=\"blank col26\" >&nbsp;</th>\n",
       "      <th class=\"blank col27\" >&nbsp;</th>\n",
       "      <th class=\"blank col28\" >&nbsp;</th>\n",
       "      <th class=\"blank col29\" >&nbsp;</th>\n",
       "      <th class=\"blank col30\" >&nbsp;</th>\n",
       "      <th class=\"blank col31\" >&nbsp;</th>\n",
       "      <th class=\"blank col32\" >&nbsp;</th>\n",
       "      <th class=\"blank col33\" >&nbsp;</th>\n",
       "      <th class=\"blank col34\" >&nbsp;</th>\n",
       "      <th class=\"blank col35\" >&nbsp;</th>\n",
       "      <th class=\"blank col36\" >&nbsp;</th>\n",
       "      <th class=\"blank col37\" >&nbsp;</th>\n",
       "      <th class=\"blank col38\" >&nbsp;</th>\n",
       "      <th class=\"blank col39\" >&nbsp;</th>\n",
       "    </tr>\n",
       "  </thead>\n",
       "  <tbody>\n",
       "    <tr>\n",
       "      <th id=\"T_3c852_level0_row0\" class=\"row_heading level0 row0\" >DKI1 (Bunderan HI)</th>\n",
       "      <td id=\"T_3c852_row0_col0\" class=\"data row0 col0\" >51.0</td>\n",
       "      <td id=\"T_3c852_row0_col1\" class=\"data row0 col1\" >53.7</td>\n",
       "      <td id=\"T_3c852_row0_col2\" class=\"data row0 col2\" >45.8</td>\n",
       "      <td id=\"T_3c852_row0_col3\" class=\"data row0 col3\" >67.1</td>\n",
       "      <td id=\"T_3c852_row0_col4\" class=\"data row0 col4\" >73.8</td>\n",
       "      <td id=\"T_3c852_row0_col5\" class=\"data row0 col5\" >73.5</td>\n",
       "      <td id=\"T_3c852_row0_col6\" class=\"data row0 col6\" >80.6</td>\n",
       "      <td id=\"T_3c852_row0_col7\" class=\"data row0 col7\" >86.3</td>\n",
       "      <td id=\"T_3c852_row0_col8\" class=\"data row0 col8\" >77.6</td>\n",
       "      <td id=\"T_3c852_row0_col9\" class=\"data row0 col9\" >74.9</td>\n",
       "      <td id=\"T_3c852_row0_col10\" class=\"data row0 col10\" >78.0</td>\n",
       "      <td id=\"T_3c852_row0_col11\" class=\"data row0 col11\" >54.1</td>\n",
       "      <td id=\"T_3c852_row0_col12\" class=\"data row0 col12\" >61.4</td>\n",
       "      <td id=\"T_3c852_row0_col13\" class=\"data row0 col13\" >nan</td>\n",
       "      <td id=\"T_3c852_row0_col14\" class=\"data row0 col14\" >nan</td>\n",
       "      <td id=\"T_3c852_row0_col15\" class=\"data row0 col15\" >nan</td>\n",
       "      <td id=\"T_3c852_row0_col16\" class=\"data row0 col16\" >nan</td>\n",
       "      <td id=\"T_3c852_row0_col17\" class=\"data row0 col17\" >nan</td>\n",
       "      <td id=\"T_3c852_row0_col18\" class=\"data row0 col18\" >nan</td>\n",
       "      <td id=\"T_3c852_row0_col19\" class=\"data row0 col19\" >nan</td>\n",
       "      <td id=\"T_3c852_row0_col20\" class=\"data row0 col20\" >81.0</td>\n",
       "      <td id=\"T_3c852_row0_col21\" class=\"data row0 col21\" >72.5</td>\n",
       "      <td id=\"T_3c852_row0_col22\" class=\"data row0 col22\" >nan</td>\n",
       "      <td id=\"T_3c852_row0_col23\" class=\"data row0 col23\" >61.1</td>\n",
       "      <td id=\"T_3c852_row0_col24\" class=\"data row0 col24\" >52.5</td>\n",
       "      <td id=\"T_3c852_row0_col25\" class=\"data row0 col25\" >43.0</td>\n",
       "      <td id=\"T_3c852_row0_col26\" class=\"data row0 col26\" >59.5</td>\n",
       "      <td id=\"T_3c852_row0_col27\" class=\"data row0 col27\" >63.8</td>\n",
       "      <td id=\"T_3c852_row0_col28\" class=\"data row0 col28\" >81.2</td>\n",
       "      <td id=\"T_3c852_row0_col29\" class=\"data row0 col29\" >80.3</td>\n",
       "      <td id=\"T_3c852_row0_col30\" class=\"data row0 col30\" >86.4</td>\n",
       "      <td id=\"T_3c852_row0_col31\" class=\"data row0 col31\" >88.6</td>\n",
       "      <td id=\"T_3c852_row0_col32\" class=\"data row0 col32\" >88.2</td>\n",
       "      <td id=\"T_3c852_row0_col33\" class=\"data row0 col33\" >93.5</td>\n",
       "      <td id=\"T_3c852_row0_col34\" class=\"data row0 col34\" >83.4</td>\n",
       "      <td id=\"T_3c852_row0_col35\" class=\"data row0 col35\" >53.3</td>\n",
       "      <td id=\"T_3c852_row0_col36\" class=\"data row0 col36\" >57.0</td>\n",
       "      <td id=\"T_3c852_row0_col37\" class=\"data row0 col37\" >55.8</td>\n",
       "      <td id=\"T_3c852_row0_col38\" class=\"data row0 col38\" >67.5</td>\n",
       "      <td id=\"T_3c852_row0_col39\" class=\"data row0 col39\" >84.4</td>\n",
       "    </tr>\n",
       "    <tr>\n",
       "      <th id=\"T_3c852_level0_row1\" class=\"row_heading level0 row1\" >DKI2 (Kelapa Gading)</th>\n",
       "      <td id=\"T_3c852_row1_col0\" class=\"data row1 col0\" >60.3</td>\n",
       "      <td id=\"T_3c852_row1_col1\" class=\"data row1 col1\" >55.8</td>\n",
       "      <td id=\"T_3c852_row1_col2\" class=\"data row1 col2\" >50.1</td>\n",
       "      <td id=\"T_3c852_row1_col3\" class=\"data row1 col3\" >73.5</td>\n",
       "      <td id=\"T_3c852_row1_col4\" class=\"data row1 col4\" >80.3</td>\n",
       "      <td id=\"T_3c852_row1_col5\" class=\"data row1 col5\" >79.0</td>\n",
       "      <td id=\"T_3c852_row1_col6\" class=\"data row1 col6\" >88.9</td>\n",
       "      <td id=\"T_3c852_row1_col7\" class=\"data row1 col7\" >102.9</td>\n",
       "      <td id=\"T_3c852_row1_col8\" class=\"data row1 col8\" >87.1</td>\n",
       "      <td id=\"T_3c852_row1_col9\" class=\"data row1 col9\" >81.5</td>\n",
       "      <td id=\"T_3c852_row1_col10\" class=\"data row1 col10\" >86.4</td>\n",
       "      <td id=\"T_3c852_row1_col11\" class=\"data row1 col11\" >65.3</td>\n",
       "      <td id=\"T_3c852_row1_col12\" class=\"data row1 col12\" >68.0</td>\n",
       "      <td id=\"T_3c852_row1_col13\" class=\"data row1 col13\" >59.8</td>\n",
       "      <td id=\"T_3c852_row1_col14\" class=\"data row1 col14\" >51.0</td>\n",
       "      <td id=\"T_3c852_row1_col15\" class=\"data row1 col15\" >87.8</td>\n",
       "      <td id=\"T_3c852_row1_col16\" class=\"data row1 col16\" >62.7</td>\n",
       "      <td id=\"T_3c852_row1_col17\" class=\"data row1 col17\" >75.0</td>\n",
       "      <td id=\"T_3c852_row1_col18\" class=\"data row1 col18\" >99.1</td>\n",
       "      <td id=\"T_3c852_row1_col19\" class=\"data row1 col19\" >85.2</td>\n",
       "      <td id=\"T_3c852_row1_col20\" class=\"data row1 col20\" >97.0</td>\n",
       "      <td id=\"T_3c852_row1_col21\" class=\"data row1 col21\" >53.0</td>\n",
       "      <td id=\"T_3c852_row1_col22\" class=\"data row1 col22\" >53.0</td>\n",
       "      <td id=\"T_3c852_row1_col23\" class=\"data row1 col23\" >60.4</td>\n",
       "      <td id=\"T_3c852_row1_col24\" class=\"data row1 col24\" >55.2</td>\n",
       "      <td id=\"T_3c852_row1_col25\" class=\"data row1 col25\" >43.6</td>\n",
       "      <td id=\"T_3c852_row1_col26\" class=\"data row1 col26\" >61.1</td>\n",
       "      <td id=\"T_3c852_row1_col27\" class=\"data row1 col27\" >62.2</td>\n",
       "      <td id=\"T_3c852_row1_col28\" class=\"data row1 col28\" >83.6</td>\n",
       "      <td id=\"T_3c852_row1_col29\" class=\"data row1 col29\" >82.7</td>\n",
       "      <td id=\"T_3c852_row1_col30\" class=\"data row1 col30\" >83.9</td>\n",
       "      <td id=\"T_3c852_row1_col31\" class=\"data row1 col31\" >84.2</td>\n",
       "      <td id=\"T_3c852_row1_col32\" class=\"data row1 col32\" >87.7</td>\n",
       "      <td id=\"T_3c852_row1_col33\" class=\"data row1 col33\" >90.6</td>\n",
       "      <td id=\"T_3c852_row1_col34\" class=\"data row1 col34\" >80.6</td>\n",
       "      <td id=\"T_3c852_row1_col35\" class=\"data row1 col35\" >55.3</td>\n",
       "      <td id=\"T_3c852_row1_col36\" class=\"data row1 col36\" >57.8</td>\n",
       "      <td id=\"T_3c852_row1_col37\" class=\"data row1 col37\" >59.6</td>\n",
       "      <td id=\"T_3c852_row1_col38\" class=\"data row1 col38\" >73.4</td>\n",
       "      <td id=\"T_3c852_row1_col39\" class=\"data row1 col39\" >92.5</td>\n",
       "    </tr>\n",
       "    <tr>\n",
       "      <th id=\"T_3c852_level0_row2\" class=\"row_heading level0 row2\" >DKI3 (Jagakarsa)</th>\n",
       "      <td id=\"T_3c852_row2_col0\" class=\"data row2 col0\" >87.4</td>\n",
       "      <td id=\"T_3c852_row2_col1\" class=\"data row2 col1\" >67.8</td>\n",
       "      <td id=\"T_3c852_row2_col2\" class=\"data row2 col2\" >66.4</td>\n",
       "      <td id=\"T_3c852_row2_col3\" class=\"data row2 col3\" >76.1</td>\n",
       "      <td id=\"T_3c852_row2_col4\" class=\"data row2 col4\" >73.4</td>\n",
       "      <td id=\"T_3c852_row2_col5\" class=\"data row2 col5\" >74.8</td>\n",
       "      <td id=\"T_3c852_row2_col6\" class=\"data row2 col6\" >85.2</td>\n",
       "      <td id=\"T_3c852_row2_col7\" class=\"data row2 col7\" >96.1</td>\n",
       "      <td id=\"T_3c852_row2_col8\" class=\"data row2 col8\" >77.6</td>\n",
       "      <td id=\"T_3c852_row2_col9\" class=\"data row2 col9\" >74.5</td>\n",
       "      <td id=\"T_3c852_row2_col10\" class=\"data row2 col10\" >71.8</td>\n",
       "      <td id=\"T_3c852_row2_col11\" class=\"data row2 col11\" >58.8</td>\n",
       "      <td id=\"T_3c852_row2_col12\" class=\"data row2 col12\" >67.1</td>\n",
       "      <td id=\"T_3c852_row2_col13\" class=\"data row2 col13\" >71.9</td>\n",
       "      <td id=\"T_3c852_row2_col14\" class=\"data row2 col14\" >63.0</td>\n",
       "      <td id=\"T_3c852_row2_col15\" class=\"data row2 col15\" >nan</td>\n",
       "      <td id=\"T_3c852_row2_col16\" class=\"data row2 col16\" >95.0</td>\n",
       "      <td id=\"T_3c852_row2_col17\" class=\"data row2 col17\" >nan</td>\n",
       "      <td id=\"T_3c852_row2_col18\" class=\"data row2 col18\" >135.0</td>\n",
       "      <td id=\"T_3c852_row2_col19\" class=\"data row2 col19\" >nan</td>\n",
       "      <td id=\"T_3c852_row2_col20\" class=\"data row2 col20\" >nan</td>\n",
       "      <td id=\"T_3c852_row2_col21\" class=\"data row2 col21\" >nan</td>\n",
       "      <td id=\"T_3c852_row2_col22\" class=\"data row2 col22\" >76.6</td>\n",
       "      <td id=\"T_3c852_row2_col23\" class=\"data row2 col23\" >70.6</td>\n",
       "      <td id=\"T_3c852_row2_col24\" class=\"data row2 col24\" >60.2</td>\n",
       "      <td id=\"T_3c852_row2_col25\" class=\"data row2 col25\" >51.1</td>\n",
       "      <td id=\"T_3c852_row2_col26\" class=\"data row2 col26\" >68.5</td>\n",
       "      <td id=\"T_3c852_row2_col27\" class=\"data row2 col27\" >60.6</td>\n",
       "      <td id=\"T_3c852_row2_col28\" class=\"data row2 col28\" >79.3</td>\n",
       "      <td id=\"T_3c852_row2_col29\" class=\"data row2 col29\" >75.3</td>\n",
       "      <td id=\"T_3c852_row2_col30\" class=\"data row2 col30\" >77.3</td>\n",
       "      <td id=\"T_3c852_row2_col31\" class=\"data row2 col31\" >78.3</td>\n",
       "      <td id=\"T_3c852_row2_col32\" class=\"data row2 col32\" >75.5</td>\n",
       "      <td id=\"T_3c852_row2_col33\" class=\"data row2 col33\" >76.7</td>\n",
       "      <td id=\"T_3c852_row2_col34\" class=\"data row2 col34\" >68.7</td>\n",
       "      <td id=\"T_3c852_row2_col35\" class=\"data row2 col35\" >60.7</td>\n",
       "      <td id=\"T_3c852_row2_col36\" class=\"data row2 col36\" >64.3</td>\n",
       "      <td id=\"T_3c852_row2_col37\" class=\"data row2 col37\" >54.2</td>\n",
       "      <td id=\"T_3c852_row2_col38\" class=\"data row2 col38\" >65.2</td>\n",
       "      <td id=\"T_3c852_row2_col39\" class=\"data row2 col39\" >69.2</td>\n",
       "    </tr>\n",
       "    <tr>\n",
       "      <th id=\"T_3c852_level0_row3\" class=\"row_heading level0 row3\" >DKI4 (Lubang Buaya)</th>\n",
       "      <td id=\"T_3c852_row3_col0\" class=\"data row3 col0\" >93.9</td>\n",
       "      <td id=\"T_3c852_row3_col1\" class=\"data row3 col1\" >nan</td>\n",
       "      <td id=\"T_3c852_row3_col2\" class=\"data row3 col2\" >62.4</td>\n",
       "      <td id=\"T_3c852_row3_col3\" class=\"data row3 col3\" >83.2</td>\n",
       "      <td id=\"T_3c852_row3_col4\" class=\"data row3 col4\" >86.9</td>\n",
       "      <td id=\"T_3c852_row3_col5\" class=\"data row3 col5\" >90.0</td>\n",
       "      <td id=\"T_3c852_row3_col6\" class=\"data row3 col6\" >105.7</td>\n",
       "      <td id=\"T_3c852_row3_col7\" class=\"data row3 col7\" >131.5</td>\n",
       "      <td id=\"T_3c852_row3_col8\" class=\"data row3 col8\" >102.3</td>\n",
       "      <td id=\"T_3c852_row3_col9\" class=\"data row3 col9\" >99.8</td>\n",
       "      <td id=\"T_3c852_row3_col10\" class=\"data row3 col10\" >103.1</td>\n",
       "      <td id=\"T_3c852_row3_col11\" class=\"data row3 col11\" >71.6</td>\n",
       "      <td id=\"T_3c852_row3_col12\" class=\"data row3 col12\" >84.8</td>\n",
       "      <td id=\"T_3c852_row3_col13\" class=\"data row3 col13\" >97.9</td>\n",
       "      <td id=\"T_3c852_row3_col14\" class=\"data row3 col14\" >89.5</td>\n",
       "      <td id=\"T_3c852_row3_col15\" class=\"data row3 col15\" >101.8</td>\n",
       "      <td id=\"T_3c852_row3_col16\" class=\"data row3 col16\" >105.2</td>\n",
       "      <td id=\"T_3c852_row3_col17\" class=\"data row3 col17\" >112.5</td>\n",
       "      <td id=\"T_3c852_row3_col18\" class=\"data row3 col18\" >112.7</td>\n",
       "      <td id=\"T_3c852_row3_col19\" class=\"data row3 col19\" >107.5</td>\n",
       "      <td id=\"T_3c852_row3_col20\" class=\"data row3 col20\" >98.0</td>\n",
       "      <td id=\"T_3c852_row3_col21\" class=\"data row3 col21\" >84.0</td>\n",
       "      <td id=\"T_3c852_row3_col22\" class=\"data row3 col22\" >87.2</td>\n",
       "      <td id=\"T_3c852_row3_col23\" class=\"data row3 col23\" >83.1</td>\n",
       "      <td id=\"T_3c852_row3_col24\" class=\"data row3 col24\" >69.6</td>\n",
       "      <td id=\"T_3c852_row3_col25\" class=\"data row3 col25\" >56.0</td>\n",
       "      <td id=\"T_3c852_row3_col26\" class=\"data row3 col26\" >78.2</td>\n",
       "      <td id=\"T_3c852_row3_col27\" class=\"data row3 col27\" >77.8</td>\n",
       "      <td id=\"T_3c852_row3_col28\" class=\"data row3 col28\" >106.1</td>\n",
       "      <td id=\"T_3c852_row3_col29\" class=\"data row3 col29\" >105.2</td>\n",
       "      <td id=\"T_3c852_row3_col30\" class=\"data row3 col30\" >112.1</td>\n",
       "      <td id=\"T_3c852_row3_col31\" class=\"data row3 col31\" >113.0</td>\n",
       "      <td id=\"T_3c852_row3_col32\" class=\"data row3 col32\" >124.9</td>\n",
       "      <td id=\"T_3c852_row3_col33\" class=\"data row3 col33\" >120.9</td>\n",
       "      <td id=\"T_3c852_row3_col34\" class=\"data row3 col34\" >88.7</td>\n",
       "      <td id=\"T_3c852_row3_col35\" class=\"data row3 col35\" >67.3</td>\n",
       "      <td id=\"T_3c852_row3_col36\" class=\"data row3 col36\" >74.5</td>\n",
       "      <td id=\"T_3c852_row3_col37\" class=\"data row3 col37\" >68.0</td>\n",
       "      <td id=\"T_3c852_row3_col38\" class=\"data row3 col38\" >79.5</td>\n",
       "      <td id=\"T_3c852_row3_col39\" class=\"data row3 col39\" >97.3</td>\n",
       "    </tr>\n",
       "    <tr>\n",
       "      <th id=\"T_3c852_level0_row4\" class=\"row_heading level0 row4\" >DKI5 (Kebon Jeruk)</th>\n",
       "      <td id=\"T_3c852_row4_col0\" class=\"data row4 col0\" >78.5</td>\n",
       "      <td id=\"T_3c852_row4_col1\" class=\"data row4 col1\" >nan</td>\n",
       "      <td id=\"T_3c852_row4_col2\" class=\"data row4 col2\" >57.2</td>\n",
       "      <td id=\"T_3c852_row4_col3\" class=\"data row4 col3\" >76.0</td>\n",
       "      <td id=\"T_3c852_row4_col4\" class=\"data row4 col4\" >81.6</td>\n",
       "      <td id=\"T_3c852_row4_col5\" class=\"data row4 col5\" >79.6</td>\n",
       "      <td id=\"T_3c852_row4_col6\" class=\"data row4 col6\" >95.4</td>\n",
       "      <td id=\"T_3c852_row4_col7\" class=\"data row4 col7\" >101.6</td>\n",
       "      <td id=\"T_3c852_row4_col8\" class=\"data row4 col8\" >88.1</td>\n",
       "      <td id=\"T_3c852_row4_col9\" class=\"data row4 col9\" >77.7</td>\n",
       "      <td id=\"T_3c852_row4_col10\" class=\"data row4 col10\" >83.2</td>\n",
       "      <td id=\"T_3c852_row4_col11\" class=\"data row4 col11\" >59.6</td>\n",
       "      <td id=\"T_3c852_row4_col12\" class=\"data row4 col12\" >66.4</td>\n",
       "      <td id=\"T_3c852_row4_col13\" class=\"data row4 col13\" >102.0</td>\n",
       "      <td id=\"T_3c852_row4_col14\" class=\"data row4 col14\" >81.0</td>\n",
       "      <td id=\"T_3c852_row4_col15\" class=\"data row4 col15\" >56.0</td>\n",
       "      <td id=\"T_3c852_row4_col16\" class=\"data row4 col16\" >nan</td>\n",
       "      <td id=\"T_3c852_row4_col17\" class=\"data row4 col17\" >77.0</td>\n",
       "      <td id=\"T_3c852_row4_col18\" class=\"data row4 col18\" >nan</td>\n",
       "      <td id=\"T_3c852_row4_col19\" class=\"data row4 col19\" >81.0</td>\n",
       "      <td id=\"T_3c852_row4_col20\" class=\"data row4 col20\" >86.7</td>\n",
       "      <td id=\"T_3c852_row4_col21\" class=\"data row4 col21\" >68.5</td>\n",
       "      <td id=\"T_3c852_row4_col22\" class=\"data row4 col22\" >nan</td>\n",
       "      <td id=\"T_3c852_row4_col23\" class=\"data row4 col23\" >52.3</td>\n",
       "      <td id=\"T_3c852_row4_col24\" class=\"data row4 col24\" >nan</td>\n",
       "      <td id=\"T_3c852_row4_col25\" class=\"data row4 col25\" >nan</td>\n",
       "      <td id=\"T_3c852_row4_col26\" class=\"data row4 col26\" >nan</td>\n",
       "      <td id=\"T_3c852_row4_col27\" class=\"data row4 col27\" >nan</td>\n",
       "      <td id=\"T_3c852_row4_col28\" class=\"data row4 col28\" >nan</td>\n",
       "      <td id=\"T_3c852_row4_col29\" class=\"data row4 col29\" >nan</td>\n",
       "      <td id=\"T_3c852_row4_col30\" class=\"data row4 col30\" >nan</td>\n",
       "      <td id=\"T_3c852_row4_col31\" class=\"data row4 col31\" >nan</td>\n",
       "      <td id=\"T_3c852_row4_col32\" class=\"data row4 col32\" >76.6</td>\n",
       "      <td id=\"T_3c852_row4_col33\" class=\"data row4 col33\" >73.8</td>\n",
       "      <td id=\"T_3c852_row4_col34\" class=\"data row4 col34\" >83.8</td>\n",
       "      <td id=\"T_3c852_row4_col35\" class=\"data row4 col35\" >55.0</td>\n",
       "      <td id=\"T_3c852_row4_col36\" class=\"data row4 col36\" >62.4</td>\n",
       "      <td id=\"T_3c852_row4_col37\" class=\"data row4 col37\" >62.9</td>\n",
       "      <td id=\"T_3c852_row4_col38\" class=\"data row4 col38\" >75.5</td>\n",
       "      <td id=\"T_3c852_row4_col39\" class=\"data row4 col39\" >92.3</td>\n",
       "    </tr>\n",
       "  </tbody>\n",
       "</table>\n"
      ],
      "text/plain": [
       "<pandas.io.formats.style.Styler at 0x1a0dda7d370>"
      ]
     },
     "execution_count": 117,
     "metadata": {},
     "output_type": "execute_result"
    }
   ],
   "source": [
    "df_over_year_month.style.map(lambda x: map_color_values[pm2_5_to_category(x)]).format(precision=1)"
   ]
  },
  {
   "cell_type": "markdown",
   "id": "38149def-16b0-41c8-8c72-5c7a5edd6f14",
   "metadata": {
    "deletable": true,
    "editable": true,
    "execution": {
     "iopub.execute_input": "2024-07-29T04:15:47.790575Z",
     "iopub.status.busy": "2024-07-29T04:15:47.788580Z",
     "iopub.status.idle": "2024-07-29T04:15:47.807551Z",
     "shell.execute_reply": "2024-07-29T04:15:47.806590Z",
     "shell.execute_reply.started": "2024-07-29T04:15:47.789616Z"
    },
    "frozen": false
   },
   "source": [
    "#### Monthly Trend in each Year"
   ]
  },
  {
   "cell_type": "code",
   "execution_count": 150,
   "id": "d5454a6e-53c9-49f2-b66b-e43b3d146872",
   "metadata": {
    "deletable": true,
    "editable": true,
    "execution": {
     "iopub.execute_input": "2024-07-29T04:35:17.855196Z",
     "iopub.status.busy": "2024-07-29T04:35:17.855196Z",
     "iopub.status.idle": "2024-07-29T04:35:17.912799Z",
     "shell.execute_reply": "2024-07-29T04:35:17.911196Z",
     "shell.execute_reply.started": "2024-07-29T04:35:17.855196Z"
    },
    "frozen": false
   },
   "outputs": [],
   "source": [
    "monthly_trend = df.groupby(\n",
    "    ['year', df['date'].dt.month.rename('month')]\n",
    ").agg({'pm25':'mean'}).T.melt()\n",
    "monthly_trend['value'] = monthly_trend['value'].round(2)"
   ]
  },
  {
   "cell_type": "code",
   "execution_count": 151,
   "id": "1b1676ac-dd36-44a2-879d-3d03770f3573",
   "metadata": {
    "deletable": true,
    "editable": true,
    "execution": {
     "iopub.execute_input": "2024-07-29T04:35:26.766486Z",
     "iopub.status.busy": "2024-07-29T04:35:26.766486Z",
     "iopub.status.idle": "2024-07-29T04:35:26.779734Z",
     "shell.execute_reply": "2024-07-29T04:35:26.777911Z",
     "shell.execute_reply.started": "2024-07-29T04:35:26.766486Z"
    },
    "frozen": false,
    "scrolled": true
   },
   "outputs": [],
   "source": [
    "monthly_trend = monthly_trend.dropna(axis=0, how='any')"
   ]
  },
  {
   "cell_type": "code",
   "execution_count": 152,
   "id": "c2ccb547-d4dc-4401-95bb-478e015c48bf",
   "metadata": {
    "deletable": true,
    "editable": true,
    "execution": {
     "iopub.execute_input": "2024-07-29T04:35:27.545600Z",
     "iopub.status.busy": "2024-07-29T04:35:27.545600Z",
     "iopub.status.idle": "2024-07-29T04:35:27.644139Z",
     "shell.execute_reply": "2024-07-29T04:35:27.644139Z",
     "shell.execute_reply.started": "2024-07-29T04:35:27.545600Z"
    },
    "frozen": false
   },
   "outputs": [],
   "source": [
    "fig_monthly_trend = px.line(\n",
    "    monthly_trend, x='month', y='value', color='year', template='plotly_white', \n",
    "    markers=True\n",
    ").update_traces(hovertemplate=None, textposition=\"top center\")\\\n",
    ".update_layout(xaxis=dict(nticks=20), hovermode='x', title='Monthly Trend in each Year')"
   ]
  },
  {
   "cell_type": "code",
   "execution_count": 153,
   "id": "ec439166-4af4-4a3f-822a-28f03061944a",
   "metadata": {
    "deletable": true,
    "editable": true,
    "execution": {
     "iopub.execute_input": "2024-07-29T04:35:28.986250Z",
     "iopub.status.busy": "2024-07-29T04:35:28.985216Z",
     "iopub.status.idle": "2024-07-29T04:35:28.997443Z",
     "shell.execute_reply": "2024-07-29T04:35:28.996914Z",
     "shell.execute_reply.started": "2024-07-29T04:35:28.986250Z"
    },
    "frozen": false
   },
   "outputs": [
    {
     "data": {
      "application/vnd.plotly.v1+json": {
       "config": {
        "plotlyServerURL": "https://plot.ly"
       },
       "data": [
        {
         "legendgroup": "2020",
         "line": {
          "color": "#636efa",
          "dash": "solid"
         },
         "marker": {
          "symbol": "circle"
         },
         "mode": "lines+markers",
         "name": "2020",
         "orientation": "v",
         "showlegend": true,
         "textposition": "top center",
         "type": "scatter",
         "x": [
          2
         ],
         "xaxis": "x",
         "y": [
          84.32
         ],
         "yaxis": "y"
        },
        {
         "legendgroup": "2021",
         "line": {
          "color": "#EF553B",
          "dash": "solid"
         },
         "marker": {
          "symbol": "circle"
         },
         "mode": "lines+markers",
         "name": "2021",
         "orientation": "v",
         "showlegend": true,
         "textposition": "top center",
         "type": "scatter",
         "x": [
          1,
          2,
          3,
          4,
          5,
          6,
          7,
          8,
          9,
          10,
          11,
          12
         ],
         "xaxis": "x",
         "y": [
          58.91,
          56.28,
          75.12,
          79.19,
          79.38,
          91.07,
          103.57,
          86.54,
          81.46,
          84.32,
          61.71,
          69.28
         ],
         "yaxis": "y"
        },
        {
         "legendgroup": "2022",
         "line": {
          "color": "#00cc96",
          "dash": "solid"
         },
         "marker": {
          "symbol": "circle"
         },
         "mode": "lines+markers",
         "name": "2022",
         "orientation": "v",
         "showlegend": true,
         "textposition": "top center",
         "type": "scatter",
         "x": [
          1,
          3,
          4,
          5,
          6,
          7,
          8,
          9,
          10,
          11,
          12
         ],
         "xaxis": "x",
         "y": [
          83.52,
          85.74,
          98.43,
          100.39,
          108.83,
          110.39,
          101.45,
          96.3,
          81.26,
          83.27,
          68.94
         ],
         "yaxis": "y"
        },
        {
         "legendgroup": "2023",
         "line": {
          "color": "#ab63fa",
          "dash": "solid"
         },
         "marker": {
          "symbol": "circle"
         },
         "mode": "lines+markers",
         "name": "2023",
         "orientation": "v",
         "showlegend": true,
         "textposition": "top center",
         "type": "scatter",
         "x": [
          1,
          2,
          3,
          4,
          5,
          6,
          7,
          8,
          9,
          10,
          11
         ],
         "xaxis": "x",
         "y": [
          59.25,
          48.4,
          67.03,
          66.41,
          87.56,
          85.97,
          90.04,
          91.03,
          91.17,
          91.21,
          80.77
         ],
         "yaxis": "y"
        },
        {
         "legendgroup": "2024",
         "line": {
          "color": "#FFA15A",
          "dash": "solid"
         },
         "marker": {
          "symbol": "circle"
         },
         "mode": "lines+markers",
         "name": "2024",
         "orientation": "v",
         "showlegend": true,
         "textposition": "top center",
         "type": "scatter",
         "x": [
          1,
          2,
          3,
          4,
          5
         ],
         "xaxis": "x",
         "y": [
          58.39,
          63.22,
          60.05,
          72.21,
          87.01
         ],
         "yaxis": "y"
        }
       ],
       "layout": {
        "autosize": true,
        "hovermode": "x",
        "legend": {
         "title": {
          "text": "year"
         },
         "tracegroupgap": 0
        },
        "margin": {
         "t": 60
        },
        "template": {
         "data": {
          "bar": [
           {
            "error_x": {
             "color": "#2a3f5f"
            },
            "error_y": {
             "color": "#2a3f5f"
            },
            "marker": {
             "line": {
              "color": "white",
              "width": 0.5
             },
             "pattern": {
              "fillmode": "overlay",
              "size": 10,
              "solidity": 0.2
             }
            },
            "type": "bar"
           }
          ],
          "barpolar": [
           {
            "marker": {
             "line": {
              "color": "white",
              "width": 0.5
             },
             "pattern": {
              "fillmode": "overlay",
              "size": 10,
              "solidity": 0.2
             }
            },
            "type": "barpolar"
           }
          ],
          "carpet": [
           {
            "aaxis": {
             "endlinecolor": "#2a3f5f",
             "gridcolor": "#C8D4E3",
             "linecolor": "#C8D4E3",
             "minorgridcolor": "#C8D4E3",
             "startlinecolor": "#2a3f5f"
            },
            "baxis": {
             "endlinecolor": "#2a3f5f",
             "gridcolor": "#C8D4E3",
             "linecolor": "#C8D4E3",
             "minorgridcolor": "#C8D4E3",
             "startlinecolor": "#2a3f5f"
            },
            "type": "carpet"
           }
          ],
          "choropleth": [
           {
            "colorbar": {
             "outlinewidth": 0,
             "ticks": ""
            },
            "type": "choropleth"
           }
          ],
          "contour": [
           {
            "colorbar": {
             "outlinewidth": 0,
             "ticks": ""
            },
            "colorscale": [
             [
              0,
              "#0d0887"
             ],
             [
              0.1111111111111111,
              "#46039f"
             ],
             [
              0.2222222222222222,
              "#7201a8"
             ],
             [
              0.3333333333333333,
              "#9c179e"
             ],
             [
              0.4444444444444444,
              "#bd3786"
             ],
             [
              0.5555555555555556,
              "#d8576b"
             ],
             [
              0.6666666666666666,
              "#ed7953"
             ],
             [
              0.7777777777777778,
              "#fb9f3a"
             ],
             [
              0.8888888888888888,
              "#fdca26"
             ],
             [
              1,
              "#f0f921"
             ]
            ],
            "type": "contour"
           }
          ],
          "contourcarpet": [
           {
            "colorbar": {
             "outlinewidth": 0,
             "ticks": ""
            },
            "type": "contourcarpet"
           }
          ],
          "heatmap": [
           {
            "colorbar": {
             "outlinewidth": 0,
             "ticks": ""
            },
            "colorscale": [
             [
              0,
              "#0d0887"
             ],
             [
              0.1111111111111111,
              "#46039f"
             ],
             [
              0.2222222222222222,
              "#7201a8"
             ],
             [
              0.3333333333333333,
              "#9c179e"
             ],
             [
              0.4444444444444444,
              "#bd3786"
             ],
             [
              0.5555555555555556,
              "#d8576b"
             ],
             [
              0.6666666666666666,
              "#ed7953"
             ],
             [
              0.7777777777777778,
              "#fb9f3a"
             ],
             [
              0.8888888888888888,
              "#fdca26"
             ],
             [
              1,
              "#f0f921"
             ]
            ],
            "type": "heatmap"
           }
          ],
          "heatmapgl": [
           {
            "colorbar": {
             "outlinewidth": 0,
             "ticks": ""
            },
            "colorscale": [
             [
              0,
              "#0d0887"
             ],
             [
              0.1111111111111111,
              "#46039f"
             ],
             [
              0.2222222222222222,
              "#7201a8"
             ],
             [
              0.3333333333333333,
              "#9c179e"
             ],
             [
              0.4444444444444444,
              "#bd3786"
             ],
             [
              0.5555555555555556,
              "#d8576b"
             ],
             [
              0.6666666666666666,
              "#ed7953"
             ],
             [
              0.7777777777777778,
              "#fb9f3a"
             ],
             [
              0.8888888888888888,
              "#fdca26"
             ],
             [
              1,
              "#f0f921"
             ]
            ],
            "type": "heatmapgl"
           }
          ],
          "histogram": [
           {
            "marker": {
             "pattern": {
              "fillmode": "overlay",
              "size": 10,
              "solidity": 0.2
             }
            },
            "type": "histogram"
           }
          ],
          "histogram2d": [
           {
            "colorbar": {
             "outlinewidth": 0,
             "ticks": ""
            },
            "colorscale": [
             [
              0,
              "#0d0887"
             ],
             [
              0.1111111111111111,
              "#46039f"
             ],
             [
              0.2222222222222222,
              "#7201a8"
             ],
             [
              0.3333333333333333,
              "#9c179e"
             ],
             [
              0.4444444444444444,
              "#bd3786"
             ],
             [
              0.5555555555555556,
              "#d8576b"
             ],
             [
              0.6666666666666666,
              "#ed7953"
             ],
             [
              0.7777777777777778,
              "#fb9f3a"
             ],
             [
              0.8888888888888888,
              "#fdca26"
             ],
             [
              1,
              "#f0f921"
             ]
            ],
            "type": "histogram2d"
           }
          ],
          "histogram2dcontour": [
           {
            "colorbar": {
             "outlinewidth": 0,
             "ticks": ""
            },
            "colorscale": [
             [
              0,
              "#0d0887"
             ],
             [
              0.1111111111111111,
              "#46039f"
             ],
             [
              0.2222222222222222,
              "#7201a8"
             ],
             [
              0.3333333333333333,
              "#9c179e"
             ],
             [
              0.4444444444444444,
              "#bd3786"
             ],
             [
              0.5555555555555556,
              "#d8576b"
             ],
             [
              0.6666666666666666,
              "#ed7953"
             ],
             [
              0.7777777777777778,
              "#fb9f3a"
             ],
             [
              0.8888888888888888,
              "#fdca26"
             ],
             [
              1,
              "#f0f921"
             ]
            ],
            "type": "histogram2dcontour"
           }
          ],
          "mesh3d": [
           {
            "colorbar": {
             "outlinewidth": 0,
             "ticks": ""
            },
            "type": "mesh3d"
           }
          ],
          "parcoords": [
           {
            "line": {
             "colorbar": {
              "outlinewidth": 0,
              "ticks": ""
             }
            },
            "type": "parcoords"
           }
          ],
          "pie": [
           {
            "automargin": true,
            "type": "pie"
           }
          ],
          "scatter": [
           {
            "fillpattern": {
             "fillmode": "overlay",
             "size": 10,
             "solidity": 0.2
            },
            "type": "scatter"
           }
          ],
          "scatter3d": [
           {
            "line": {
             "colorbar": {
              "outlinewidth": 0,
              "ticks": ""
             }
            },
            "marker": {
             "colorbar": {
              "outlinewidth": 0,
              "ticks": ""
             }
            },
            "type": "scatter3d"
           }
          ],
          "scattercarpet": [
           {
            "marker": {
             "colorbar": {
              "outlinewidth": 0,
              "ticks": ""
             }
            },
            "type": "scattercarpet"
           }
          ],
          "scattergeo": [
           {
            "marker": {
             "colorbar": {
              "outlinewidth": 0,
              "ticks": ""
             }
            },
            "type": "scattergeo"
           }
          ],
          "scattergl": [
           {
            "marker": {
             "colorbar": {
              "outlinewidth": 0,
              "ticks": ""
             }
            },
            "type": "scattergl"
           }
          ],
          "scattermapbox": [
           {
            "marker": {
             "colorbar": {
              "outlinewidth": 0,
              "ticks": ""
             }
            },
            "type": "scattermapbox"
           }
          ],
          "scatterpolar": [
           {
            "marker": {
             "colorbar": {
              "outlinewidth": 0,
              "ticks": ""
             }
            },
            "type": "scatterpolar"
           }
          ],
          "scatterpolargl": [
           {
            "marker": {
             "colorbar": {
              "outlinewidth": 0,
              "ticks": ""
             }
            },
            "type": "scatterpolargl"
           }
          ],
          "scatterternary": [
           {
            "marker": {
             "colorbar": {
              "outlinewidth": 0,
              "ticks": ""
             }
            },
            "type": "scatterternary"
           }
          ],
          "surface": [
           {
            "colorbar": {
             "outlinewidth": 0,
             "ticks": ""
            },
            "colorscale": [
             [
              0,
              "#0d0887"
             ],
             [
              0.1111111111111111,
              "#46039f"
             ],
             [
              0.2222222222222222,
              "#7201a8"
             ],
             [
              0.3333333333333333,
              "#9c179e"
             ],
             [
              0.4444444444444444,
              "#bd3786"
             ],
             [
              0.5555555555555556,
              "#d8576b"
             ],
             [
              0.6666666666666666,
              "#ed7953"
             ],
             [
              0.7777777777777778,
              "#fb9f3a"
             ],
             [
              0.8888888888888888,
              "#fdca26"
             ],
             [
              1,
              "#f0f921"
             ]
            ],
            "type": "surface"
           }
          ],
          "table": [
           {
            "cells": {
             "fill": {
              "color": "#EBF0F8"
             },
             "line": {
              "color": "white"
             }
            },
            "header": {
             "fill": {
              "color": "#C8D4E3"
             },
             "line": {
              "color": "white"
             }
            },
            "type": "table"
           }
          ]
         },
         "layout": {
          "annotationdefaults": {
           "arrowcolor": "#2a3f5f",
           "arrowhead": 0,
           "arrowwidth": 1
          },
          "autotypenumbers": "strict",
          "coloraxis": {
           "colorbar": {
            "outlinewidth": 0,
            "ticks": ""
           }
          },
          "colorscale": {
           "diverging": [
            [
             0,
             "#8e0152"
            ],
            [
             0.1,
             "#c51b7d"
            ],
            [
             0.2,
             "#de77ae"
            ],
            [
             0.3,
             "#f1b6da"
            ],
            [
             0.4,
             "#fde0ef"
            ],
            [
             0.5,
             "#f7f7f7"
            ],
            [
             0.6,
             "#e6f5d0"
            ],
            [
             0.7,
             "#b8e186"
            ],
            [
             0.8,
             "#7fbc41"
            ],
            [
             0.9,
             "#4d9221"
            ],
            [
             1,
             "#276419"
            ]
           ],
           "sequential": [
            [
             0,
             "#0d0887"
            ],
            [
             0.1111111111111111,
             "#46039f"
            ],
            [
             0.2222222222222222,
             "#7201a8"
            ],
            [
             0.3333333333333333,
             "#9c179e"
            ],
            [
             0.4444444444444444,
             "#bd3786"
            ],
            [
             0.5555555555555556,
             "#d8576b"
            ],
            [
             0.6666666666666666,
             "#ed7953"
            ],
            [
             0.7777777777777778,
             "#fb9f3a"
            ],
            [
             0.8888888888888888,
             "#fdca26"
            ],
            [
             1,
             "#f0f921"
            ]
           ],
           "sequentialminus": [
            [
             0,
             "#0d0887"
            ],
            [
             0.1111111111111111,
             "#46039f"
            ],
            [
             0.2222222222222222,
             "#7201a8"
            ],
            [
             0.3333333333333333,
             "#9c179e"
            ],
            [
             0.4444444444444444,
             "#bd3786"
            ],
            [
             0.5555555555555556,
             "#d8576b"
            ],
            [
             0.6666666666666666,
             "#ed7953"
            ],
            [
             0.7777777777777778,
             "#fb9f3a"
            ],
            [
             0.8888888888888888,
             "#fdca26"
            ],
            [
             1,
             "#f0f921"
            ]
           ]
          },
          "colorway": [
           "#636efa",
           "#EF553B",
           "#00cc96",
           "#ab63fa",
           "#FFA15A",
           "#19d3f3",
           "#FF6692",
           "#B6E880",
           "#FF97FF",
           "#FECB52"
          ],
          "font": {
           "color": "#2a3f5f"
          },
          "geo": {
           "bgcolor": "white",
           "lakecolor": "white",
           "landcolor": "white",
           "showlakes": true,
           "showland": true,
           "subunitcolor": "#C8D4E3"
          },
          "hoverlabel": {
           "align": "left"
          },
          "hovermode": "closest",
          "mapbox": {
           "style": "light"
          },
          "paper_bgcolor": "white",
          "plot_bgcolor": "white",
          "polar": {
           "angularaxis": {
            "gridcolor": "#EBF0F8",
            "linecolor": "#EBF0F8",
            "ticks": ""
           },
           "bgcolor": "white",
           "radialaxis": {
            "gridcolor": "#EBF0F8",
            "linecolor": "#EBF0F8",
            "ticks": ""
           }
          },
          "scene": {
           "xaxis": {
            "backgroundcolor": "white",
            "gridcolor": "#DFE8F3",
            "gridwidth": 2,
            "linecolor": "#EBF0F8",
            "showbackground": true,
            "ticks": "",
            "zerolinecolor": "#EBF0F8"
           },
           "yaxis": {
            "backgroundcolor": "white",
            "gridcolor": "#DFE8F3",
            "gridwidth": 2,
            "linecolor": "#EBF0F8",
            "showbackground": true,
            "ticks": "",
            "zerolinecolor": "#EBF0F8"
           },
           "zaxis": {
            "backgroundcolor": "white",
            "gridcolor": "#DFE8F3",
            "gridwidth": 2,
            "linecolor": "#EBF0F8",
            "showbackground": true,
            "ticks": "",
            "zerolinecolor": "#EBF0F8"
           }
          },
          "shapedefaults": {
           "line": {
            "color": "#2a3f5f"
           }
          },
          "ternary": {
           "aaxis": {
            "gridcolor": "#DFE8F3",
            "linecolor": "#A2B1C6",
            "ticks": ""
           },
           "baxis": {
            "gridcolor": "#DFE8F3",
            "linecolor": "#A2B1C6",
            "ticks": ""
           },
           "bgcolor": "white",
           "caxis": {
            "gridcolor": "#DFE8F3",
            "linecolor": "#A2B1C6",
            "ticks": ""
           }
          },
          "title": {
           "x": 0.05
          },
          "xaxis": {
           "automargin": true,
           "gridcolor": "#EBF0F8",
           "linecolor": "#EBF0F8",
           "ticks": "",
           "title": {
            "standoff": 15
           },
           "zerolinecolor": "#EBF0F8",
           "zerolinewidth": 2
          },
          "yaxis": {
           "automargin": true,
           "gridcolor": "#EBF0F8",
           "linecolor": "#EBF0F8",
           "ticks": "",
           "title": {
            "standoff": 15
           },
           "zerolinecolor": "#EBF0F8",
           "zerolinewidth": 2
          }
         }
        },
        "title": {
         "text": "Monthly Trend in each Year"
        },
        "xaxis": {
         "anchor": "y",
         "autorange": true,
         "domain": [
          0,
          1
         ],
         "nticks": 20,
         "range": [
          0.32448004496908367,
          12.675519955030916
         ],
         "title": {
          "text": "month"
         },
         "type": "linear"
        },
        "yaxis": {
         "anchor": "x",
         "autorange": true,
         "domain": [
          0,
          1
         ],
         "range": [
          43.60024934383202,
          115.18975065616797
         ],
         "title": {
          "text": "value"
         },
         "type": "linear"
        }
       }
      },
      "image/png": "[encoded data removed]",
      "text/html": [
       "<div>                            <div id=\"a9b8ea3b-bfbc-439e-94b4-f2c9c26314e4\" class=\"plotly-graph-div\" style=\"height:525px; width:100%;\"></div>            <script type=\"text/javascript\">                require([\"plotly\"], function(Plotly) {                    window.PLOTLYENV=window.PLOTLYENV || {};                                    if (document.getElementById(\"a9b8ea3b-bfbc-439e-94b4-f2c9c26314e4\")) {                    Plotly.newPlot(                        \"a9b8ea3b-bfbc-439e-94b4-f2c9c26314e4\",                        [{\"legendgroup\":\"2020\",\"line\":{\"color\":\"#636efa\",\"dash\":\"solid\"},\"marker\":{\"symbol\":\"circle\"},\"mode\":\"lines+markers\",\"name\":\"2020\",\"orientation\":\"v\",\"showlegend\":true,\"x\":[2],\"xaxis\":\"x\",\"y\":[84.32],\"yaxis\":\"y\",\"type\":\"scatter\",\"textposition\":\"top center\"},{\"legendgroup\":\"2021\",\"line\":{\"color\":\"#EF553B\",\"dash\":\"solid\"},\"marker\":{\"symbol\":\"circle\"},\"mode\":\"lines+markers\",\"name\":\"2021\",\"orientation\":\"v\",\"showlegend\":true,\"x\":[1,2,3,4,5,6,7,8,9,10,11,12],\"xaxis\":\"x\",\"y\":[58.91,56.28,75.12,79.19,79.38,91.07,103.57,86.54,81.46,84.32,61.71,69.28],\"yaxis\":\"y\",\"type\":\"scatter\",\"textposition\":\"top center\"},{\"legendgroup\":\"2022\",\"line\":{\"color\":\"#00cc96\",\"dash\":\"solid\"},\"marker\":{\"symbol\":\"circle\"},\"mode\":\"lines+markers\",\"name\":\"2022\",\"orientation\":\"v\",\"showlegend\":true,\"x\":[1,3,4,5,6,7,8,9,10,11,12],\"xaxis\":\"x\",\"y\":[83.52,85.74,98.43,100.39,108.83,110.39,101.45,96.3,81.26,83.27,68.94],\"yaxis\":\"y\",\"type\":\"scatter\",\"textposition\":\"top center\"},{\"legendgroup\":\"2023\",\"line\":{\"color\":\"#ab63fa\",\"dash\":\"solid\"},\"marker\":{\"symbol\":\"circle\"},\"mode\":\"lines+markers\",\"name\":\"2023\",\"orientation\":\"v\",\"showlegend\":true,\"x\":[1,2,3,4,5,6,7,8,9,10,11],\"xaxis\":\"x\",\"y\":[59.25,48.4,67.03,66.41,87.56,85.97,90.04,91.03,91.17,91.21,80.77],\"yaxis\":\"y\",\"type\":\"scatter\",\"textposition\":\"top center\"},{\"legendgroup\":\"2024\",\"line\":{\"color\":\"#FFA15A\",\"dash\":\"solid\"},\"marker\":{\"symbol\":\"circle\"},\"mode\":\"lines+markers\",\"name\":\"2024\",\"orientation\":\"v\",\"showlegend\":true,\"x\":[1,2,3,4,5],\"xaxis\":\"x\",\"y\":[58.39,63.22,60.05,72.21,87.01],\"yaxis\":\"y\",\"type\":\"scatter\",\"textposition\":\"top center\"}],                        {\"template\":{\"data\":{\"barpolar\":[{\"marker\":{\"line\":{\"color\":\"white\",\"width\":0.5},\"pattern\":{\"fillmode\":\"overlay\",\"size\":10,\"solidity\":0.2}},\"type\":\"barpolar\"}],\"bar\":[{\"error_x\":{\"color\":\"#2a3f5f\"},\"error_y\":{\"color\":\"#2a3f5f\"},\"marker\":{\"line\":{\"color\":\"white\",\"width\":0.5},\"pattern\":{\"fillmode\":\"overlay\",\"size\":10,\"solidity\":0.2}},\"type\":\"bar\"}],\"carpet\":[{\"aaxis\":{\"endlinecolor\":\"#2a3f5f\",\"gridcolor\":\"#C8D4E3\",\"linecolor\":\"#C8D4E3\",\"minorgridcolor\":\"#C8D4E3\",\"startlinecolor\":\"#2a3f5f\"},\"baxis\":{\"endlinecolor\":\"#2a3f5f\",\"gridcolor\":\"#C8D4E3\",\"linecolor\":\"#C8D4E3\",\"minorgridcolor\":\"#C8D4E3\",\"startlinecolor\":\"#2a3f5f\"},\"type\":\"carpet\"}],\"choropleth\":[{\"colorbar\":{\"outlinewidth\":0,\"ticks\":\"\"},\"type\":\"choropleth\"}],\"contourcarpet\":[{\"colorbar\":{\"outlinewidth\":0,\"ticks\":\"\"},\"type\":\"contourcarpet\"}],\"contour\":[{\"colorbar\":{\"outlinewidth\":0,\"ticks\":\"\"},\"colorscale\":[[0.0,\"#0d0887\"],[0.1111111111111111,\"#46039f\"],[0.2222222222222222,\"#7201a8\"],[0.3333333333333333,\"#9c179e\"],[0.4444444444444444,\"#bd3786\"],[0.5555555555555556,\"#d8576b\"],[0.6666666666666666,\"#ed7953\"],[0.7777777777777778,\"#fb9f3a\"],[0.8888888888888888,\"#fdca26\"],[1.0,\"#f0f921\"]],\"type\":\"contour\"}],\"heatmapgl\":[{\"colorbar\":{\"outlinewidth\":0,\"ticks\":\"\"},\"colorscale\":[[0.0,\"#0d0887\"],[0.1111111111111111,\"#46039f\"],[0.2222222222222222,\"#7201a8\"],[0.3333333333333333,\"#9c179e\"],[0.4444444444444444,\"#bd3786\"],[0.5555555555555556,\"#d8576b\"],[0.6666666666666666,\"#ed7953\"],[0.7777777777777778,\"#fb9f3a\"],[0.8888888888888888,\"#fdca26\"],[1.0,\"#f0f921\"]],\"type\":\"heatmapgl\"}],\"heatmap\":[{\"colorbar\":{\"outlinewidth\":0,\"ticks\":\"\"},\"colorscale\":[[0.0,\"#0d0887\"],[0.1111111111111111,\"#46039f\"],[0.2222222222222222,\"#7201a8\"],[0.3333333333333333,\"#9c179e\"],[0.4444444444444444,\"#bd3786\"],[0.5555555555555556,\"#d8576b\"],[0.6666666666666666,\"#ed7953\"],[0.7777777777777778,\"#fb9f3a\"],[0.8888888888888888,\"#fdca26\"],[1.0,\"#f0f921\"]],\"type\":\"heatmap\"}],\"histogram2dcontour\":[{\"colorbar\":{\"outlinewidth\":0,\"ticks\":\"\"},\"colorscale\":[[0.0,\"#0d0887\"],[0.1111111111111111,\"#46039f\"],[0.2222222222222222,\"#7201a8\"],[0.3333333333333333,\"#9c179e\"],[0.4444444444444444,\"#bd3786\"],[0.5555555555555556,\"#d8576b\"],[0.6666666666666666,\"#ed7953\"],[0.7777777777777778,\"#fb9f3a\"],[0.8888888888888888,\"#fdca26\"],[1.0,\"#f0f921\"]],\"type\":\"histogram2dcontour\"}],\"histogram2d\":[{\"colorbar\":{\"outlinewidth\":0,\"ticks\":\"\"},\"colorscale\":[[0.0,\"#0d0887\"],[0.1111111111111111,\"#46039f\"],[0.2222222222222222,\"#7201a8\"],[0.3333333333333333,\"#9c179e\"],[0.4444444444444444,\"#bd3786\"],[0.5555555555555556,\"#d8576b\"],[0.6666666666666666,\"#ed7953\"],[0.7777777777777778,\"#fb9f3a\"],[0.8888888888888888,\"#fdca26\"],[1.0,\"#f0f921\"]],\"type\":\"histogram2d\"}],\"histogram\":[{\"marker\":{\"pattern\":{\"fillmode\":\"overlay\",\"size\":10,\"solidity\":0.2}},\"type\":\"histogram\"}],\"mesh3d\":[{\"colorbar\":{\"outlinewidth\":0,\"ticks\":\"\"},\"type\":\"mesh3d\"}],\"parcoords\":[{\"line\":{\"colorbar\":{\"outlinewidth\":0,\"ticks\":\"\"}},\"type\":\"parcoords\"}],\"pie\":[{\"automargin\":true,\"type\":\"pie\"}],\"scatter3d\":[{\"line\":{\"colorbar\":{\"outlinewidth\":0,\"ticks\":\"\"}},\"marker\":{\"colorbar\":{\"outlinewidth\":0,\"ticks\":\"\"}},\"type\":\"scatter3d\"}],\"scattercarpet\":[{\"marker\":{\"colorbar\":{\"outlinewidth\":0,\"ticks\":\"\"}},\"type\":\"scattercarpet\"}],\"scattergeo\":[{\"marker\":{\"colorbar\":{\"outlinewidth\":0,\"ticks\":\"\"}},\"type\":\"scattergeo\"}],\"scattergl\":[{\"marker\":{\"colorbar\":{\"outlinewidth\":0,\"ticks\":\"\"}},\"type\":\"scattergl\"}],\"scattermapbox\":[{\"marker\":{\"colorbar\":{\"outlinewidth\":0,\"ticks\":\"\"}},\"type\":\"scattermapbox\"}],\"scatterpolargl\":[{\"marker\":{\"colorbar\":{\"outlinewidth\":0,\"ticks\":\"\"}},\"type\":\"scatterpolargl\"}],\"scatterpolar\":[{\"marker\":{\"colorbar\":{\"outlinewidth\":0,\"ticks\":\"\"}},\"type\":\"scatterpolar\"}],\"scatter\":[{\"fillpattern\":{\"fillmode\":\"overlay\",\"size\":10,\"solidity\":0.2},\"type\":\"scatter\"}],\"scatterternary\":[{\"marker\":{\"colorbar\":{\"outlinewidth\":0,\"ticks\":\"\"}},\"type\":\"scatterternary\"}],\"surface\":[{\"colorbar\":{\"outlinewidth\":0,\"ticks\":\"\"},\"colorscale\":[[0.0,\"#0d0887\"],[0.1111111111111111,\"#46039f\"],[0.2222222222222222,\"#7201a8\"],[0.3333333333333333,\"#9c179e\"],[0.4444444444444444,\"#bd3786\"],[0.5555555555555556,\"#d8576b\"],[0.6666666666666666,\"#ed7953\"],[0.7777777777777778,\"#fb9f3a\"],[0.8888888888888888,\"#fdca26\"],[1.0,\"#f0f921\"]],\"type\":\"surface\"}],\"table\":[{\"cells\":{\"fill\":{\"color\":\"#EBF0F8\"},\"line\":{\"color\":\"white\"}},\"header\":{\"fill\":{\"color\":\"#C8D4E3\"},\"line\":{\"color\":\"white\"}},\"type\":\"table\"}]},\"layout\":{\"annotationdefaults\":{\"arrowcolor\":\"#2a3f5f\",\"arrowhead\":0,\"arrowwidth\":1},\"autotypenumbers\":\"strict\",\"coloraxis\":{\"colorbar\":{\"outlinewidth\":0,\"ticks\":\"\"}},\"colorscale\":{\"diverging\":[[0,\"#8e0152\"],[0.1,\"#c51b7d\"],[0.2,\"#de77ae\"],[0.3,\"#f1b6da\"],[0.4,\"#fde0ef\"],[0.5,\"#f7f7f7\"],[0.6,\"#e6f5d0\"],[0.7,\"#b8e186\"],[0.8,\"#7fbc41\"],[0.9,\"#4d9221\"],[1,\"#276419\"]],\"sequential\":[[0.0,\"#0d0887\"],[0.1111111111111111,\"#46039f\"],[0.2222222222222222,\"#7201a8\"],[0.3333333333333333,\"#9c179e\"],[0.4444444444444444,\"#bd3786\"],[0.5555555555555556,\"#d8576b\"],[0.6666666666666666,\"#ed7953\"],[0.7777777777777778,\"#fb9f3a\"],[0.8888888888888888,\"#fdca26\"],[1.0,\"#f0f921\"]],\"sequentialminus\":[[0.0,\"#0d0887\"],[0.1111111111111111,\"#46039f\"],[0.2222222222222222,\"#7201a8\"],[0.3333333333333333,\"#9c179e\"],[0.4444444444444444,\"#bd3786\"],[0.5555555555555556,\"#d8576b\"],[0.6666666666666666,\"#ed7953\"],[0.7777777777777778,\"#fb9f3a\"],[0.8888888888888888,\"#fdca26\"],[1.0,\"#f0f921\"]]},\"colorway\":[\"#636efa\",\"#EF553B\",\"#00cc96\",\"#ab63fa\",\"#FFA15A\",\"#19d3f3\",\"#FF6692\",\"#B6E880\",\"#FF97FF\",\"#FECB52\"],\"font\":{\"color\":\"#2a3f5f\"},\"geo\":{\"bgcolor\":\"white\",\"lakecolor\":\"white\",\"landcolor\":\"white\",\"showlakes\":true,\"showland\":true,\"subunitcolor\":\"#C8D4E3\"},\"hoverlabel\":{\"align\":\"left\"},\"hovermode\":\"closest\",\"mapbox\":{\"style\":\"light\"},\"paper_bgcolor\":\"white\",\"plot_bgcolor\":\"white\",\"polar\":{\"angularaxis\":{\"gridcolor\":\"#EBF0F8\",\"linecolor\":\"#EBF0F8\",\"ticks\":\"\"},\"bgcolor\":\"white\",\"radialaxis\":{\"gridcolor\":\"#EBF0F8\",\"linecolor\":\"#EBF0F8\",\"ticks\":\"\"}},\"scene\":{\"xaxis\":{\"backgroundcolor\":\"white\",\"gridcolor\":\"#DFE8F3\",\"gridwidth\":2,\"linecolor\":\"#EBF0F8\",\"showbackground\":true,\"ticks\":\"\",\"zerolinecolor\":\"#EBF0F8\"},\"yaxis\":{\"backgroundcolor\":\"white\",\"gridcolor\":\"#DFE8F3\",\"gridwidth\":2,\"linecolor\":\"#EBF0F8\",\"showbackground\":true,\"ticks\":\"\",\"zerolinecolor\":\"#EBF0F8\"},\"zaxis\":{\"backgroundcolor\":\"white\",\"gridcolor\":\"#DFE8F3\",\"gridwidth\":2,\"linecolor\":\"#EBF0F8\",\"showbackground\":true,\"ticks\":\"\",\"zerolinecolor\":\"#EBF0F8\"}},\"shapedefaults\":{\"line\":{\"color\":\"#2a3f5f\"}},\"ternary\":{\"aaxis\":{\"gridcolor\":\"#DFE8F3\",\"linecolor\":\"#A2B1C6\",\"ticks\":\"\"},\"baxis\":{\"gridcolor\":\"#DFE8F3\",\"linecolor\":\"#A2B1C6\",\"ticks\":\"\"},\"bgcolor\":\"white\",\"caxis\":{\"gridcolor\":\"#DFE8F3\",\"linecolor\":\"#A2B1C6\",\"ticks\":\"\"}},\"title\":{\"x\":0.05},\"xaxis\":{\"automargin\":true,\"gridcolor\":\"#EBF0F8\",\"linecolor\":\"#EBF0F8\",\"ticks\":\"\",\"title\":{\"standoff\":15},\"zerolinecolor\":\"#EBF0F8\",\"zerolinewidth\":2},\"yaxis\":{\"automargin\":true,\"gridcolor\":\"#EBF0F8\",\"linecolor\":\"#EBF0F8\",\"ticks\":\"\",\"title\":{\"standoff\":15},\"zerolinecolor\":\"#EBF0F8\",\"zerolinewidth\":2}}},\"xaxis\":{\"anchor\":\"y\",\"domain\":[0.0,1.0],\"title\":{\"text\":\"month\"},\"nticks\":20},\"yaxis\":{\"anchor\":\"x\",\"domain\":[0.0,1.0],\"title\":{\"text\":\"value\"}},\"legend\":{\"title\":{\"text\":\"year\"},\"tracegroupgap\":0},\"margin\":{\"t\":60},\"hovermode\":\"x\",\"title\":{\"text\":\"Monthly Trend in each Year\"}},                        {\"responsive\": true}                    ).then(function(){\n",
       "                            \n",
       "var gd = document.getElementById('a9b8ea3b-bfbc-439e-94b4-f2c9c26314e4');\n",
       "var x = new MutationObserver(function (mutations, observer) {{\n",
       "        var display = window.getComputedStyle(gd).display;\n",
       "        if (!display || display === 'none') {{\n",
       "            console.log([gd, 'removed!']);\n",
       "            Plotly.purge(gd);\n",
       "            observer.disconnect();\n",
       "        }}\n",
       "}});\n",
       "\n",
       "// Listen for the removal of the full notebook cells\n",
       "var notebookContainer = gd.closest('#notebook-container');\n",
       "if (notebookContainer) {{\n",
       "    x.observe(notebookContainer, {childList: true});\n",
       "}}\n",
       "\n",
       "// Listen for the clearing of the current output cell\n",
       "var outputEl = gd.closest('.output');\n",
       "if (outputEl) {{\n",
       "    x.observe(outputEl, {childList: true});\n",
       "}}\n",
       "\n",
       "                        })                };                });            </script>        </div>"
      ]
     },
     "metadata": {},
     "output_type": "display_data"
    }
   ],
   "source": [
    "fig_monthly_trend"
   ]
  },
  {
   "cell_type": "markdown",
   "id": "47c857ab-3d08-4a42-9d3f-ec1e42bf1c13",
   "metadata": {
    "deletable": true,
    "editable": true,
    "execution": {
     "iopub.execute_input": "2024-07-29T04:31:25.299755Z",
     "iopub.status.busy": "2024-07-29T04:31:25.299755Z",
     "iopub.status.idle": "2024-07-29T04:31:25.312405Z",
     "shell.execute_reply": "2024-07-29T04:31:25.311635Z",
     "shell.execute_reply.started": "2024-07-29T04:31:25.299755Z"
    },
    "frozen": false
   },
   "source": [
    "#### Daily Trend in each Month"
   ]
  },
  {
   "cell_type": "code",
   "execution_count": 211,
   "id": "db194785-6c06-4c77-a5d3-48e2c394e99d",
   "metadata": {
    "deletable": true,
    "editable": true,
    "execution": {
     "iopub.execute_input": "2024-07-29T04:54:36.574510Z",
     "iopub.status.busy": "2024-07-29T04:54:36.574510Z",
     "iopub.status.idle": "2024-07-29T04:54:36.671347Z",
     "shell.execute_reply": "2024-07-29T04:54:36.671347Z",
     "shell.execute_reply.started": "2024-07-29T04:54:36.574510Z"
    },
    "frozen": false
   },
   "outputs": [],
   "source": [
    "day_of_month_trend = df.groupby(['year', 'day']).agg({'pm25':'mean'}).T.melt()\n",
    "day_of_month_trend['value'] = day_of_month_trend['value'].round(0)"
   ]
  },
  {
   "cell_type": "code",
   "execution_count": 212,
   "id": "52f22b85-af40-4482-a4ec-4b667635abd7",
   "metadata": {
    "deletable": true,
    "editable": true,
    "execution": {
     "iopub.execute_input": "2024-07-29T04:54:39.513835Z",
     "iopub.status.busy": "2024-07-29T04:54:39.513835Z",
     "iopub.status.idle": "2024-07-29T04:54:39.524430Z",
     "shell.execute_reply": "2024-07-29T04:54:39.523431Z",
     "shell.execute_reply.started": "2024-07-29T04:54:39.513835Z"
    },
    "frozen": false
   },
   "outputs": [],
   "source": [
    "day_of_month_trend = day_of_month_trend.dropna(axis=0, how='any')"
   ]
  },
  {
   "cell_type": "code",
   "execution_count": 213,
   "id": "75692028-acc3-44c6-98e5-f7404fa5e926",
   "metadata": {
    "deletable": true,
    "editable": true,
    "execution": {
     "iopub.execute_input": "2024-07-29T04:54:40.162831Z",
     "iopub.status.busy": "2024-07-29T04:54:40.162831Z",
     "iopub.status.idle": "2024-07-29T04:54:40.273580Z",
     "shell.execute_reply": "2024-07-29T04:54:40.272266Z",
     "shell.execute_reply.started": "2024-07-29T04:54:40.162831Z"
    },
    "frozen": false
   },
   "outputs": [],
   "source": [
    "fig_day_of_month_trend = px.line(\n",
    "    day_of_month_trend, x='day', y='value', color='year', template='plotly_white', \n",
    "    markers=True\n",
    ").update_traces(hovertemplate=None, textposition=\"top center\")\\\n",
    ".update_layout(xaxis=dict(nticks=20), hovermode='x', title='Day of Month Trend over Year')"
   ]
  },
  {
   "cell_type": "code",
   "execution_count": 214,
   "id": "c64ac0f2-dc9c-4a59-af5a-c4f814384341",
   "metadata": {
    "deletable": true,
    "editable": true,
    "execution": {
     "iopub.execute_input": "2024-07-29T04:54:40.890431Z",
     "iopub.status.busy": "2024-07-29T04:54:40.890431Z",
     "iopub.status.idle": "2024-07-29T04:54:40.912993Z",
     "shell.execute_reply": "2024-07-29T04:54:40.912993Z",
     "shell.execute_reply.started": "2024-07-29T04:54:40.890431Z"
    },
    "frozen": false,
    "scrolled": true
   },
   "outputs": [
    {
     "data": {
      "application/vnd.plotly.v1+json": {
       "config": {
        "plotlyServerURL": "https://plot.ly"
       },
       "data": [
        {
         "legendgroup": "2020",
         "line": {
          "color": "#636efa",
          "dash": "solid"
         },
         "marker": {
          "symbol": "circle"
         },
         "mode": "lines+markers",
         "name": "2020",
         "orientation": "v",
         "showlegend": true,
         "textposition": "top center",
         "type": "scatter",
         "x": [
          1,
          2,
          3,
          4,
          5,
          6,
          7,
          8,
          9,
          10,
          11,
          12,
          13,
          14,
          15,
          16,
          17,
          18,
          19,
          20,
          21,
          22,
          23,
          24,
          25,
          26,
          27,
          28
         ],
         "xaxis": "x",
         "y": [
          89,
          101,
          99,
          72,
          62,
          51,
          60,
          109,
          101,
          47,
          95,
          68,
          98,
          109,
          119,
          110,
          74,
          118,
          108,
          115,
          86,
          92,
          87,
          71,
          59,
          60,
          51,
          50
         ],
         "yaxis": "y"
        },
        {
         "legendgroup": "2021",
         "line": {
          "color": "#EF553B",
          "dash": "solid"
         },
         "marker": {
          "symbol": "circle"
         },
         "mode": "lines+markers",
         "name": "2021",
         "orientation": "v",
         "showlegend": true,
         "textposition": "top center",
         "type": "scatter",
         "x": [
          1,
          2,
          3,
          4,
          5,
          6,
          7,
          8,
          9,
          10,
          11,
          12,
          13,
          14,
          15,
          16,
          17,
          18,
          19,
          20,
          21,
          22,
          23,
          24,
          25,
          26,
          27,
          28,
          29,
          30,
          31
         ],
         "xaxis": "x",
         "y": [
          80,
          74,
          75,
          84,
          81,
          77,
          69,
          74,
          73,
          73,
          74,
          76,
          76,
          75,
          85,
          81,
          85,
          81,
          80,
          80,
          74,
          82,
          85,
          80,
          84,
          80,
          82,
          79,
          72,
          76,
          67
         ],
         "yaxis": "y"
        },
        {
         "legendgroup": "2022",
         "line": {
          "color": "#00cc96",
          "dash": "solid"
         },
         "marker": {
          "symbol": "circle"
         },
         "mode": "lines+markers",
         "name": "2022",
         "orientation": "v",
         "showlegend": true,
         "textposition": "top center",
         "type": "scatter",
         "x": [
          1,
          2,
          3,
          4,
          5,
          6,
          7,
          8,
          9,
          10,
          11,
          12,
          13,
          14,
          15,
          16,
          17,
          18,
          19,
          20,
          21,
          22,
          23,
          24,
          25,
          26,
          27,
          28,
          29,
          30,
          31
         ],
         "xaxis": "x",
         "y": [
          94,
          94,
          86,
          87,
          97,
          96,
          87,
          82,
          86,
          82,
          82,
          73,
          70,
          81,
          80,
          86,
          98,
          95,
          94,
          104,
          78,
          83,
          75,
          86,
          82,
          80,
          83,
          79,
          75,
          86,
          97
         ],
         "yaxis": "y"
        },
        {
         "legendgroup": "2023",
         "line": {
          "color": "#ab63fa",
          "dash": "solid"
         },
         "marker": {
          "symbol": "circle"
         },
         "mode": "lines+markers",
         "name": "2023",
         "orientation": "v",
         "showlegend": true,
         "textposition": "top center",
         "type": "scatter",
         "x": [
          1,
          2,
          3,
          4,
          5,
          6,
          7,
          8,
          9,
          10,
          11,
          12,
          13,
          14,
          15,
          16,
          17,
          18,
          19,
          20,
          21,
          22,
          23,
          24,
          25,
          26,
          27,
          28,
          29,
          30,
          31
         ],
         "xaxis": "x",
         "y": [
          78,
          78,
          74,
          75,
          76,
          76,
          84,
          81,
          78,
          75,
          80,
          79,
          81,
          75,
          75,
          81,
          77,
          83,
          82,
          78,
          81,
          80,
          81,
          80,
          80,
          80,
          85,
          85,
          80,
          74,
          77
         ],
         "yaxis": "y"
        },
        {
         "legendgroup": "2024",
         "line": {
          "color": "#FFA15A",
          "dash": "solid"
         },
         "marker": {
          "symbol": "circle"
         },
         "mode": "lines+markers",
         "name": "2024",
         "orientation": "v",
         "showlegend": true,
         "textposition": "top center",
         "type": "scatter",
         "x": [
          1,
          2,
          3,
          4,
          5,
          6,
          7,
          8,
          9,
          10,
          11,
          12,
          13,
          14,
          15,
          16,
          17,
          18,
          19,
          20,
          21,
          22,
          23,
          24,
          25,
          26,
          27,
          28,
          29,
          30,
          31
         ],
         "xaxis": "x",
         "y": [
          83,
          77,
          67,
          63,
          76,
          71,
          69,
          68,
          71,
          80,
          67,
          57,
          62,
          61,
          63,
          65,
          62,
          65,
          62,
          70,
          73,
          66,
          74,
          67,
          58,
          67,
          72,
          80,
          62,
          70,
          69
         ],
         "yaxis": "y"
        }
       ],
       "layout": {
        "autosize": true,
        "hovermode": "x",
        "legend": {
         "title": {
          "text": "year"
         },
         "tracegroupgap": 0
        },
        "margin": {
         "t": 60
        },
        "template": {
         "data": {
          "bar": [
           {
            "error_x": {
             "color": "#2a3f5f"
            },
            "error_y": {
             "color": "#2a3f5f"
            },
            "marker": {
             "line": {
              "color": "white",
              "width": 0.5
             },
             "pattern": {
              "fillmode": "overlay",
              "size": 10,
              "solidity": 0.2
             }
            },
            "type": "bar"
           }
          ],
          "barpolar": [
           {
            "marker": {
             "line": {
              "color": "white",
              "width": 0.5
             },
             "pattern": {
              "fillmode": "overlay",
              "size": 10,
              "solidity": 0.2
             }
            },
            "type": "barpolar"
           }
          ],
          "carpet": [
           {
            "aaxis": {
             "endlinecolor": "#2a3f5f",
             "gridcolor": "#C8D4E3",
             "linecolor": "#C8D4E3",
             "minorgridcolor": "#C8D4E3",
             "startlinecolor": "#2a3f5f"
            },
            "baxis": {
             "endlinecolor": "#2a3f5f",
             "gridcolor": "#C8D4E3",
             "linecolor": "#C8D4E3",
             "minorgridcolor": "#C8D4E3",
             "startlinecolor": "#2a3f5f"
            },
            "type": "carpet"
           }
          ],
          "choropleth": [
           {
            "colorbar": {
             "outlinewidth": 0,
             "ticks": ""
            },
            "type": "choropleth"
           }
          ],
          "contour": [
           {
            "colorbar": {
             "outlinewidth": 0,
             "ticks": ""
            },
            "colorscale": [
             [
              0,
              "#0d0887"
             ],
             [
              0.1111111111111111,
              "#46039f"
             ],
             [
              0.2222222222222222,
              "#7201a8"
             ],
             [
              0.3333333333333333,
              "#9c179e"
             ],
             [
              0.4444444444444444,
              "#bd3786"
             ],
             [
              0.5555555555555556,
              "#d8576b"
             ],
             [
              0.6666666666666666,
              "#ed7953"
             ],
             [
              0.7777777777777778,
              "#fb9f3a"
             ],
             [
              0.8888888888888888,
              "#fdca26"
             ],
             [
              1,
              "#f0f921"
             ]
            ],
            "type": "contour"
           }
          ],
          "contourcarpet": [
           {
            "colorbar": {
             "outlinewidth": 0,
             "ticks": ""
            },
            "type": "contourcarpet"
           }
          ],
          "heatmap": [
           {
            "colorbar": {
             "outlinewidth": 0,
             "ticks": ""
            },
            "colorscale": [
             [
              0,
              "#0d0887"
             ],
             [
              0.1111111111111111,
              "#46039f"
             ],
             [
              0.2222222222222222,
              "#7201a8"
             ],
             [
              0.3333333333333333,
              "#9c179e"
             ],
             [
              0.4444444444444444,
              "#bd3786"
             ],
             [
              0.5555555555555556,
              "#d8576b"
             ],
             [
              0.6666666666666666,
              "#ed7953"
             ],
             [
              0.7777777777777778,
              "#fb9f3a"
             ],
             [
              0.8888888888888888,
              "#fdca26"
             ],
             [
              1,
              "#f0f921"
             ]
            ],
            "type": "heatmap"
           }
          ],
          "heatmapgl": [
           {
            "colorbar": {
             "outlinewidth": 0,
             "ticks": ""
            },
            "colorscale": [
             [
              0,
              "#0d0887"
             ],
             [
              0.1111111111111111,
              "#46039f"
             ],
             [
              0.2222222222222222,
              "#7201a8"
             ],
             [
              0.3333333333333333,
              "#9c179e"
             ],
             [
              0.4444444444444444,
              "#bd3786"
             ],
             [
              0.5555555555555556,
              "#d8576b"
             ],
             [
              0.6666666666666666,
              "#ed7953"
             ],
             [
              0.7777777777777778,
              "#fb9f3a"
             ],
             [
              0.8888888888888888,
              "#fdca26"
             ],
             [
              1,
              "#f0f921"
             ]
            ],
            "type": "heatmapgl"
           }
          ],
          "histogram": [
           {
            "marker": {
             "pattern": {
              "fillmode": "overlay",
              "size": 10,
              "solidity": 0.2
             }
            },
            "type": "histogram"
           }
          ],
          "histogram2d": [
           {
            "colorbar": {
             "outlinewidth": 0,
             "ticks": ""
            },
            "colorscale": [
             [
              0,
              "#0d0887"
             ],
             [
              0.1111111111111111,
              "#46039f"
             ],
             [
              0.2222222222222222,
              "#7201a8"
             ],
             [
              0.3333333333333333,
              "#9c179e"
             ],
             [
              0.4444444444444444,
              "#bd3786"
             ],
             [
              0.5555555555555556,
              "#d8576b"
             ],
             [
              0.6666666666666666,
              "#ed7953"
             ],
             [
              0.7777777777777778,
              "#fb9f3a"
             ],
             [
              0.8888888888888888,
              "#fdca26"
             ],
             [
              1,
              "#f0f921"
             ]
            ],
            "type": "histogram2d"
           }
          ],
          "histogram2dcontour": [
           {
            "colorbar": {
             "outlinewidth": 0,
             "ticks": ""
            },
            "colorscale": [
             [
              0,
              "#0d0887"
             ],
             [
              0.1111111111111111,
              "#46039f"
             ],
             [
              0.2222222222222222,
              "#7201a8"
             ],
             [
              0.3333333333333333,
              "#9c179e"
             ],
             [
              0.4444444444444444,
              "#bd3786"
             ],
             [
              0.5555555555555556,
              "#d8576b"
             ],
             [
              0.6666666666666666,
              "#ed7953"
             ],
             [
              0.7777777777777778,
              "#fb9f3a"
             ],
             [
              0.8888888888888888,
              "#fdca26"
             ],
             [
              1,
              "#f0f921"
             ]
            ],
            "type": "histogram2dcontour"
           }
          ],
          "mesh3d": [
           {
            "colorbar": {
             "outlinewidth": 0,
             "ticks": ""
            },
            "type": "mesh3d"
           }
          ],
          "parcoords": [
           {
            "line": {
             "colorbar": {
              "outlinewidth": 0,
              "ticks": ""
             }
            },
            "type": "parcoords"
           }
          ],
          "pie": [
           {
            "automargin": true,
            "type": "pie"
           }
          ],
          "scatter": [
           {
            "fillpattern": {
             "fillmode": "overlay",
             "size": 10,
             "solidity": 0.2
            },
            "type": "scatter"
           }
          ],
          "scatter3d": [
           {
            "line": {
             "colorbar": {
              "outlinewidth": 0,
              "ticks": ""
             }
            },
            "marker": {
             "colorbar": {
              "outlinewidth": 0,
              "ticks": ""
             }
            },
            "type": "scatter3d"
           }
          ],
          "scattercarpet": [
           {
            "marker": {
             "colorbar": {
              "outlinewidth": 0,
              "ticks": ""
             }
            },
            "type": "scattercarpet"
           }
          ],
          "scattergeo": [
           {
            "marker": {
             "colorbar": {
              "outlinewidth": 0,
              "ticks": ""
             }
            },
            "type": "scattergeo"
           }
          ],
          "scattergl": [
           {
            "marker": {
             "colorbar": {
              "outlinewidth": 0,
              "ticks": ""
             }
            },
            "type": "scattergl"
           }
          ],
          "scattermapbox": [
           {
            "marker": {
             "colorbar": {
              "outlinewidth": 0,
              "ticks": ""
             }
            },
            "type": "scattermapbox"
           }
          ],
          "scatterpolar": [
           {
            "marker": {
             "colorbar": {
              "outlinewidth": 0,
              "ticks": ""
             }
            },
            "type": "scatterpolar"
           }
          ],
          "scatterpolargl": [
           {
            "marker": {
             "colorbar": {
              "outlinewidth": 0,
              "ticks": ""
             }
            },
            "type": "scatterpolargl"
           }
          ],
          "scatterternary": [
           {
            "marker": {
             "colorbar": {
              "outlinewidth": 0,
              "ticks": ""
             }
            },
            "type": "scatterternary"
           }
          ],
          "surface": [
           {
            "colorbar": {
             "outlinewidth": 0,
             "ticks": ""
            },
            "colorscale": [
             [
              0,
              "#0d0887"
             ],
             [
              0.1111111111111111,
              "#46039f"
             ],
             [
              0.2222222222222222,
              "#7201a8"
             ],
             [
              0.3333333333333333,
              "#9c179e"
             ],
             [
              0.4444444444444444,
              "#bd3786"
             ],
             [
              0.5555555555555556,
              "#d8576b"
             ],
             [
              0.6666666666666666,
              "#ed7953"
             ],
             [
              0.7777777777777778,
              "#fb9f3a"
             ],
             [
              0.8888888888888888,
              "#fdca26"
             ],
             [
              1,
              "#f0f921"
             ]
            ],
            "type": "surface"
           }
          ],
          "table": [
           {
            "cells": {
             "fill": {
              "color": "#EBF0F8"
             },
             "line": {
              "color": "white"
             }
            },
            "header": {
             "fill": {
              "color": "#C8D4E3"
             },
             "line": {
              "color": "white"
             }
            },
            "type": "table"
           }
          ]
         },
         "layout": {
          "annotationdefaults": {
           "arrowcolor": "#2a3f5f",
           "arrowhead": 0,
           "arrowwidth": 1
          },
          "autotypenumbers": "strict",
          "coloraxis": {
           "colorbar": {
            "outlinewidth": 0,
            "ticks": ""
           }
          },
          "colorscale": {
           "diverging": [
            [
             0,
             "#8e0152"
            ],
            [
             0.1,
             "#c51b7d"
            ],
            [
             0.2,
             "#de77ae"
            ],
            [
             0.3,
             "#f1b6da"
            ],
            [
             0.4,
             "#fde0ef"
            ],
            [
             0.5,
             "#f7f7f7"
            ],
            [
             0.6,
             "#e6f5d0"
            ],
            [
             0.7,
             "#b8e186"
            ],
            [
             0.8,
             "#7fbc41"
            ],
            [
             0.9,
             "#4d9221"
            ],
            [
             1,
             "#276419"
            ]
           ],
           "sequential": [
            [
             0,
             "#0d0887"
            ],
            [
             0.1111111111111111,
             "#46039f"
            ],
            [
             0.2222222222222222,
             "#7201a8"
            ],
            [
             0.3333333333333333,
             "#9c179e"
            ],
            [
             0.4444444444444444,
             "#bd3786"
            ],
            [
             0.5555555555555556,
             "#d8576b"
            ],
            [
             0.6666666666666666,
             "#ed7953"
            ],
            [
             0.7777777777777778,
             "#fb9f3a"
            ],
            [
             0.8888888888888888,
             "#fdca26"
            ],
            [
             1,
             "#f0f921"
            ]
           ],
           "sequentialminus": [
            [
             0,
             "#0d0887"
            ],
            [
             0.1111111111111111,
             "#46039f"
            ],
            [
             0.2222222222222222,
             "#7201a8"
            ],
            [
             0.3333333333333333,
             "#9c179e"
            ],
            [
             0.4444444444444444,
             "#bd3786"
            ],
            [
             0.5555555555555556,
             "#d8576b"
            ],
            [
             0.6666666666666666,
             "#ed7953"
            ],
            [
             0.7777777777777778,
             "#fb9f3a"
            ],
            [
             0.8888888888888888,
             "#fdca26"
            ],
            [
             1,
             "#f0f921"
            ]
           ]
          },
          "colorway": [
           "#636efa",
           "#EF553B",
           "#00cc96",
           "#ab63fa",
           "#FFA15A",
           "#19d3f3",
           "#FF6692",
           "#B6E880",
           "#FF97FF",
           "#FECB52"
          ],
          "font": {
           "color": "#2a3f5f"
          },
          "geo": {
           "bgcolor": "white",
           "lakecolor": "white",
           "landcolor": "white",
           "showlakes": true,
           "showland": true,
           "subunitcolor": "#C8D4E3"
          },
          "hoverlabel": {
           "align": "left"
          },
          "hovermode": "closest",
          "mapbox": {
           "style": "light"
          },
          "paper_bgcolor": "white",
          "plot_bgcolor": "white",
          "polar": {
           "angularaxis": {
            "gridcolor": "#EBF0F8",
            "linecolor": "#EBF0F8",
            "ticks": ""
           },
           "bgcolor": "white",
           "radialaxis": {
            "gridcolor": "#EBF0F8",
            "linecolor": "#EBF0F8",
            "ticks": ""
           }
          },
          "scene": {
           "xaxis": {
            "backgroundcolor": "white",
            "gridcolor": "#DFE8F3",
            "gridwidth": 2,
            "linecolor": "#EBF0F8",
            "showbackground": true,
            "ticks": "",
            "zerolinecolor": "#EBF0F8"
           },
           "yaxis": {
            "backgroundcolor": "white",
            "gridcolor": "#DFE8F3",
            "gridwidth": 2,
            "linecolor": "#EBF0F8",
            "showbackground": true,
            "ticks": "",
            "zerolinecolor": "#EBF0F8"
           },
           "zaxis": {
            "backgroundcolor": "white",
            "gridcolor": "#DFE8F3",
            "gridwidth": 2,
            "linecolor": "#EBF0F8",
            "showbackground": true,
            "ticks": "",
            "zerolinecolor": "#EBF0F8"
           }
          },
          "shapedefaults": {
           "line": {
            "color": "#2a3f5f"
           }
          },
          "ternary": {
           "aaxis": {
            "gridcolor": "#DFE8F3",
            "linecolor": "#A2B1C6",
            "ticks": ""
           },
           "baxis": {
            "gridcolor": "#DFE8F3",
            "linecolor": "#A2B1C6",
            "ticks": ""
           },
           "bgcolor": "white",
           "caxis": {
            "gridcolor": "#DFE8F3",
            "linecolor": "#A2B1C6",
            "ticks": ""
           }
          },
          "title": {
           "x": 0.05
          },
          "xaxis": {
           "automargin": true,
           "gridcolor": "#EBF0F8",
           "linecolor": "#EBF0F8",
           "ticks": "",
           "title": {
            "standoff": 15
           },
           "zerolinecolor": "#EBF0F8",
           "zerolinewidth": 2
          },
          "yaxis": {
           "automargin": true,
           "gridcolor": "#EBF0F8",
           "linecolor": "#EBF0F8",
           "ticks": "",
           "title": {
            "standoff": 15
           },
           "zerolinecolor": "#EBF0F8",
           "zerolinewidth": 2
          }
         }
        },
        "title": {
         "text": "Day of Month Trend over Year"
        },
        "xaxis": {
         "anchor": "y",
         "autorange": true,
         "domain": [
          0,
          1
         ],
         "nticks": 20,
         "range": [
          -0.8459552495697076,
          32.845955249569705
         ],
         "title": {
          "text": "day"
         },
         "type": "linear"
        },
        "yaxis": {
         "anchor": "x",
         "autorange": true,
         "domain": [
          0,
          1
         ],
         "range": [
          41.425196850393704,
          124.5748031496063
         ],
         "title": {
          "text": "value"
         },
         "type": "linear"
        }
       }
      },
      "image/png": "[encoded data removed]",
      "text/html": [
       "<div>                            <div id=\"5933e803-31e3-4a5c-8cd1-b51ccec4eaab\" class=\"plotly-graph-div\" style=\"height:525px; width:100%;\"></div>            <script type=\"text/javascript\">                require([\"plotly\"], function(Plotly) {                    window.PLOTLYENV=window.PLOTLYENV || {};                                    if (document.getElementById(\"5933e803-31e3-4a5c-8cd1-b51ccec4eaab\")) {                    Plotly.newPlot(                        \"5933e803-31e3-4a5c-8cd1-b51ccec4eaab\",                        [{\"legendgroup\":\"2020\",\"line\":{\"color\":\"#636efa\",\"dash\":\"solid\"},\"marker\":{\"symbol\":\"circle\"},\"mode\":\"lines+markers\",\"name\":\"2020\",\"orientation\":\"v\",\"showlegend\":true,\"x\":[1,2,3,4,5,6,7,8,9,10,11,12,13,14,15,16,17,18,19,20,21,22,23,24,25,26,27,28],\"xaxis\":\"x\",\"y\":[89.0,101.0,99.0,72.0,62.0,51.0,60.0,109.0,101.0,47.0,95.0,68.0,98.0,109.0,119.0,110.0,74.0,118.0,108.0,115.0,86.0,92.0,87.0,71.0,59.0,60.0,51.0,50.0],\"yaxis\":\"y\",\"type\":\"scatter\",\"textposition\":\"top center\"},{\"legendgroup\":\"2021\",\"line\":{\"color\":\"#EF553B\",\"dash\":\"solid\"},\"marker\":{\"symbol\":\"circle\"},\"mode\":\"lines+markers\",\"name\":\"2021\",\"orientation\":\"v\",\"showlegend\":true,\"x\":[1,2,3,4,5,6,7,8,9,10,11,12,13,14,15,16,17,18,19,20,21,22,23,24,25,26,27,28,29,30,31],\"xaxis\":\"x\",\"y\":[80.0,74.0,75.0,84.0,81.0,77.0,69.0,74.0,73.0,73.0,74.0,76.0,76.0,75.0,85.0,81.0,85.0,81.0,80.0,80.0,74.0,82.0,85.0,80.0,84.0,80.0,82.0,79.0,72.0,76.0,67.0],\"yaxis\":\"y\",\"type\":\"scatter\",\"textposition\":\"top center\"},{\"legendgroup\":\"2022\",\"line\":{\"color\":\"#00cc96\",\"dash\":\"solid\"},\"marker\":{\"symbol\":\"circle\"},\"mode\":\"lines+markers\",\"name\":\"2022\",\"orientation\":\"v\",\"showlegend\":true,\"x\":[1,2,3,4,5,6,7,8,9,10,11,12,13,14,15,16,17,18,19,20,21,22,23,24,25,26,27,28,29,30,31],\"xaxis\":\"x\",\"y\":[94.0,94.0,86.0,87.0,97.0,96.0,87.0,82.0,86.0,82.0,82.0,73.0,70.0,81.0,80.0,86.0,98.0,95.0,94.0,104.0,78.0,83.0,75.0,86.0,82.0,80.0,83.0,79.0,75.0,86.0,97.0],\"yaxis\":\"y\",\"type\":\"scatter\",\"textposition\":\"top center\"},{\"legendgroup\":\"2023\",\"line\":{\"color\":\"#ab63fa\",\"dash\":\"solid\"},\"marker\":{\"symbol\":\"circle\"},\"mode\":\"lines+markers\",\"name\":\"2023\",\"orientation\":\"v\",\"showlegend\":true,\"x\":[1,2,3,4,5,6,7,8,9,10,11,12,13,14,15,16,17,18,19,20,21,22,23,24,25,26,27,28,29,30,31],\"xaxis\":\"x\",\"y\":[78.0,78.0,74.0,75.0,76.0,76.0,84.0,81.0,78.0,75.0,80.0,79.0,81.0,75.0,75.0,81.0,77.0,83.0,82.0,78.0,81.0,80.0,81.0,80.0,80.0,80.0,85.0,85.0,80.0,74.0,77.0],\"yaxis\":\"y\",\"type\":\"scatter\",\"textposition\":\"top center\"},{\"legendgroup\":\"2024\",\"line\":{\"color\":\"#FFA15A\",\"dash\":\"solid\"},\"marker\":{\"symbol\":\"circle\"},\"mode\":\"lines+markers\",\"name\":\"2024\",\"orientation\":\"v\",\"showlegend\":true,\"x\":[1,2,3,4,5,6,7,8,9,10,11,12,13,14,15,16,17,18,19,20,21,22,23,24,25,26,27,28,29,30,31],\"xaxis\":\"x\",\"y\":[83.0,77.0,67.0,63.0,76.0,71.0,69.0,68.0,71.0,80.0,67.0,57.0,62.0,61.0,63.0,65.0,62.0,65.0,62.0,70.0,73.0,66.0,74.0,67.0,58.0,67.0,72.0,80.0,62.0,70.0,69.0],\"yaxis\":\"y\",\"type\":\"scatter\",\"textposition\":\"top center\"}],                        {\"template\":{\"data\":{\"barpolar\":[{\"marker\":{\"line\":{\"color\":\"white\",\"width\":0.5},\"pattern\":{\"fillmode\":\"overlay\",\"size\":10,\"solidity\":0.2}},\"type\":\"barpolar\"}],\"bar\":[{\"error_x\":{\"color\":\"#2a3f5f\"},\"error_y\":{\"color\":\"#2a3f5f\"},\"marker\":{\"line\":{\"color\":\"white\",\"width\":0.5},\"pattern\":{\"fillmode\":\"overlay\",\"size\":10,\"solidity\":0.2}},\"type\":\"bar\"}],\"carpet\":[{\"aaxis\":{\"endlinecolor\":\"#2a3f5f\",\"gridcolor\":\"#C8D4E3\",\"linecolor\":\"#C8D4E3\",\"minorgridcolor\":\"#C8D4E3\",\"startlinecolor\":\"#2a3f5f\"},\"baxis\":{\"endlinecolor\":\"#2a3f5f\",\"gridcolor\":\"#C8D4E3\",\"linecolor\":\"#C8D4E3\",\"minorgridcolor\":\"#C8D4E3\",\"startlinecolor\":\"#2a3f5f\"},\"type\":\"carpet\"}],\"choropleth\":[{\"colorbar\":{\"outlinewidth\":0,\"ticks\":\"\"},\"type\":\"choropleth\"}],\"contourcarpet\":[{\"colorbar\":{\"outlinewidth\":0,\"ticks\":\"\"},\"type\":\"contourcarpet\"}],\"contour\":[{\"colorbar\":{\"outlinewidth\":0,\"ticks\":\"\"},\"colorscale\":[[0.0,\"#0d0887\"],[0.1111111111111111,\"#46039f\"],[0.2222222222222222,\"#7201a8\"],[0.3333333333333333,\"#9c179e\"],[0.4444444444444444,\"#bd3786\"],[0.5555555555555556,\"#d8576b\"],[0.6666666666666666,\"#ed7953\"],[0.7777777777777778,\"#fb9f3a\"],[0.8888888888888888,\"#fdca26\"],[1.0,\"#f0f921\"]],\"type\":\"contour\"}],\"heatmapgl\":[{\"colorbar\":{\"outlinewidth\":0,\"ticks\":\"\"},\"colorscale\":[[0.0,\"#0d0887\"],[0.1111111111111111,\"#46039f\"],[0.2222222222222222,\"#7201a8\"],[0.3333333333333333,\"#9c179e\"],[0.4444444444444444,\"#bd3786\"],[0.5555555555555556,\"#d8576b\"],[0.6666666666666666,\"#ed7953\"],[0.7777777777777778,\"#fb9f3a\"],[0.8888888888888888,\"#fdca26\"],[1.0,\"#f0f921\"]],\"type\":\"heatmapgl\"}],\"heatmap\":[{\"colorbar\":{\"outlinewidth\":0,\"ticks\":\"\"},\"colorscale\":[[0.0,\"#0d0887\"],[0.1111111111111111,\"#46039f\"],[0.2222222222222222,\"#7201a8\"],[0.3333333333333333,\"#9c179e\"],[0.4444444444444444,\"#bd3786\"],[0.5555555555555556,\"#d8576b\"],[0.6666666666666666,\"#ed7953\"],[0.7777777777777778,\"#fb9f3a\"],[0.8888888888888888,\"#fdca26\"],[1.0,\"#f0f921\"]],\"type\":\"heatmap\"}],\"histogram2dcontour\":[{\"colorbar\":{\"outlinewidth\":0,\"ticks\":\"\"},\"colorscale\":[[0.0,\"#0d0887\"],[0.1111111111111111,\"#46039f\"],[0.2222222222222222,\"#7201a8\"],[0.3333333333333333,\"#9c179e\"],[0.4444444444444444,\"#bd3786\"],[0.5555555555555556,\"#d8576b\"],[0.6666666666666666,\"#ed7953\"],[0.7777777777777778,\"#fb9f3a\"],[0.8888888888888888,\"#fdca26\"],[1.0,\"#f0f921\"]],\"type\":\"histogram2dcontour\"}],\"histogram2d\":[{\"colorbar\":{\"outlinewidth\":0,\"ticks\":\"\"},\"colorscale\":[[0.0,\"#0d0887\"],[0.1111111111111111,\"#46039f\"],[0.2222222222222222,\"#7201a8\"],[0.3333333333333333,\"#9c179e\"],[0.4444444444444444,\"#bd3786\"],[0.5555555555555556,\"#d8576b\"],[0.6666666666666666,\"#ed7953\"],[0.7777777777777778,\"#fb9f3a\"],[0.8888888888888888,\"#fdca26\"],[1.0,\"#f0f921\"]],\"type\":\"histogram2d\"}],\"histogram\":[{\"marker\":{\"pattern\":{\"fillmode\":\"overlay\",\"size\":10,\"solidity\":0.2}},\"type\":\"histogram\"}],\"mesh3d\":[{\"colorbar\":{\"outlinewidth\":0,\"ticks\":\"\"},\"type\":\"mesh3d\"}],\"parcoords\":[{\"line\":{\"colorbar\":{\"outlinewidth\":0,\"ticks\":\"\"}},\"type\":\"parcoords\"}],\"pie\":[{\"automargin\":true,\"type\":\"pie\"}],\"scatter3d\":[{\"line\":{\"colorbar\":{\"outlinewidth\":0,\"ticks\":\"\"}},\"marker\":{\"colorbar\":{\"outlinewidth\":0,\"ticks\":\"\"}},\"type\":\"scatter3d\"}],\"scattercarpet\":[{\"marker\":{\"colorbar\":{\"outlinewidth\":0,\"ticks\":\"\"}},\"type\":\"scattercarpet\"}],\"scattergeo\":[{\"marker\":{\"colorbar\":{\"outlinewidth\":0,\"ticks\":\"\"}},\"type\":\"scattergeo\"}],\"scattergl\":[{\"marker\":{\"colorbar\":{\"outlinewidth\":0,\"ticks\":\"\"}},\"type\":\"scattergl\"}],\"scattermapbox\":[{\"marker\":{\"colorbar\":{\"outlinewidth\":0,\"ticks\":\"\"}},\"type\":\"scattermapbox\"}],\"scatterpolargl\":[{\"marker\":{\"colorbar\":{\"outlinewidth\":0,\"ticks\":\"\"}},\"type\":\"scatterpolargl\"}],\"scatterpolar\":[{\"marker\":{\"colorbar\":{\"outlinewidth\":0,\"ticks\":\"\"}},\"type\":\"scatterpolar\"}],\"scatter\":[{\"fillpattern\":{\"fillmode\":\"overlay\",\"size\":10,\"solidity\":0.2},\"type\":\"scatter\"}],\"scatterternary\":[{\"marker\":{\"colorbar\":{\"outlinewidth\":0,\"ticks\":\"\"}},\"type\":\"scatterternary\"}],\"surface\":[{\"colorbar\":{\"outlinewidth\":0,\"ticks\":\"\"},\"colorscale\":[[0.0,\"#0d0887\"],[0.1111111111111111,\"#46039f\"],[0.2222222222222222,\"#7201a8\"],[0.3333333333333333,\"#9c179e\"],[0.4444444444444444,\"#bd3786\"],[0.5555555555555556,\"#d8576b\"],[0.6666666666666666,\"#ed7953\"],[0.7777777777777778,\"#fb9f3a\"],[0.8888888888888888,\"#fdca26\"],[1.0,\"#f0f921\"]],\"type\":\"surface\"}],\"table\":[{\"cells\":{\"fill\":{\"color\":\"#EBF0F8\"},\"line\":{\"color\":\"white\"}},\"header\":{\"fill\":{\"color\":\"#C8D4E3\"},\"line\":{\"color\":\"white\"}},\"type\":\"table\"}]},\"layout\":{\"annotationdefaults\":{\"arrowcolor\":\"#2a3f5f\",\"arrowhead\":0,\"arrowwidth\":1},\"autotypenumbers\":\"strict\",\"coloraxis\":{\"colorbar\":{\"outlinewidth\":0,\"ticks\":\"\"}},\"colorscale\":{\"diverging\":[[0,\"#8e0152\"],[0.1,\"#c51b7d\"],[0.2,\"#de77ae\"],[0.3,\"#f1b6da\"],[0.4,\"#fde0ef\"],[0.5,\"#f7f7f7\"],[0.6,\"#e6f5d0\"],[0.7,\"#b8e186\"],[0.8,\"#7fbc41\"],[0.9,\"#4d9221\"],[1,\"#276419\"]],\"sequential\":[[0.0,\"#0d0887\"],[0.1111111111111111,\"#46039f\"],[0.2222222222222222,\"#7201a8\"],[0.3333333333333333,\"#9c179e\"],[0.4444444444444444,\"#bd3786\"],[0.5555555555555556,\"#d8576b\"],[0.6666666666666666,\"#ed7953\"],[0.7777777777777778,\"#fb9f3a\"],[0.8888888888888888,\"#fdca26\"],[1.0,\"#f0f921\"]],\"sequentialminus\":[[0.0,\"#0d0887\"],[0.1111111111111111,\"#46039f\"],[0.2222222222222222,\"#7201a8\"],[0.3333333333333333,\"#9c179e\"],[0.4444444444444444,\"#bd3786\"],[0.5555555555555556,\"#d8576b\"],[0.6666666666666666,\"#ed7953\"],[0.7777777777777778,\"#fb9f3a\"],[0.8888888888888888,\"#fdca26\"],[1.0,\"#f0f921\"]]},\"colorway\":[\"#636efa\",\"#EF553B\",\"#00cc96\",\"#ab63fa\",\"#FFA15A\",\"#19d3f3\",\"#FF6692\",\"#B6E880\",\"#FF97FF\",\"#FECB52\"],\"font\":{\"color\":\"#2a3f5f\"},\"geo\":{\"bgcolor\":\"white\",\"lakecolor\":\"white\",\"landcolor\":\"white\",\"showlakes\":true,\"showland\":true,\"subunitcolor\":\"#C8D4E3\"},\"hoverlabel\":{\"align\":\"left\"},\"hovermode\":\"closest\",\"mapbox\":{\"style\":\"light\"},\"paper_bgcolor\":\"white\",\"plot_bgcolor\":\"white\",\"polar\":{\"angularaxis\":{\"gridcolor\":\"#EBF0F8\",\"linecolor\":\"#EBF0F8\",\"ticks\":\"\"},\"bgcolor\":\"white\",\"radialaxis\":{\"gridcolor\":\"#EBF0F8\",\"linecolor\":\"#EBF0F8\",\"ticks\":\"\"}},\"scene\":{\"xaxis\":{\"backgroundcolor\":\"white\",\"gridcolor\":\"#DFE8F3\",\"gridwidth\":2,\"linecolor\":\"#EBF0F8\",\"showbackground\":true,\"ticks\":\"\",\"zerolinecolor\":\"#EBF0F8\"},\"yaxis\":{\"backgroundcolor\":\"white\",\"gridcolor\":\"#DFE8F3\",\"gridwidth\":2,\"linecolor\":\"#EBF0F8\",\"showbackground\":true,\"ticks\":\"\",\"zerolinecolor\":\"#EBF0F8\"},\"zaxis\":{\"backgroundcolor\":\"white\",\"gridcolor\":\"#DFE8F3\",\"gridwidth\":2,\"linecolor\":\"#EBF0F8\",\"showbackground\":true,\"ticks\":\"\",\"zerolinecolor\":\"#EBF0F8\"}},\"shapedefaults\":{\"line\":{\"color\":\"#2a3f5f\"}},\"ternary\":{\"aaxis\":{\"gridcolor\":\"#DFE8F3\",\"linecolor\":\"#A2B1C6\",\"ticks\":\"\"},\"baxis\":{\"gridcolor\":\"#DFE8F3\",\"linecolor\":\"#A2B1C6\",\"ticks\":\"\"},\"bgcolor\":\"white\",\"caxis\":{\"gridcolor\":\"#DFE8F3\",\"linecolor\":\"#A2B1C6\",\"ticks\":\"\"}},\"title\":{\"x\":0.05},\"xaxis\":{\"automargin\":true,\"gridcolor\":\"#EBF0F8\",\"linecolor\":\"#EBF0F8\",\"ticks\":\"\",\"title\":{\"standoff\":15},\"zerolinecolor\":\"#EBF0F8\",\"zerolinewidth\":2},\"yaxis\":{\"automargin\":true,\"gridcolor\":\"#EBF0F8\",\"linecolor\":\"#EBF0F8\",\"ticks\":\"\",\"title\":{\"standoff\":15},\"zerolinecolor\":\"#EBF0F8\",\"zerolinewidth\":2}}},\"xaxis\":{\"anchor\":\"y\",\"domain\":[0.0,1.0],\"title\":{\"text\":\"day\"},\"nticks\":20},\"yaxis\":{\"anchor\":\"x\",\"domain\":[0.0,1.0],\"title\":{\"text\":\"value\"}},\"legend\":{\"title\":{\"text\":\"year\"},\"tracegroupgap\":0},\"margin\":{\"t\":60},\"hovermode\":\"x\",\"title\":{\"text\":\"Day of Month Trend over Year\"}},                        {\"responsive\": true}                    ).then(function(){\n",
       "                            \n",
       "var gd = document.getElementById('5933e803-31e3-4a5c-8cd1-b51ccec4eaab');\n",
       "var x = new MutationObserver(function (mutations, observer) {{\n",
       "        var display = window.getComputedStyle(gd).display;\n",
       "        if (!display || display === 'none') {{\n",
       "            console.log([gd, 'removed!']);\n",
       "            Plotly.purge(gd);\n",
       "            observer.disconnect();\n",
       "        }}\n",
       "}});\n",
       "\n",
       "// Listen for the removal of the full notebook cells\n",
       "var notebookContainer = gd.closest('#notebook-container');\n",
       "if (notebookContainer) {{\n",
       "    x.observe(notebookContainer, {childList: true});\n",
       "}}\n",
       "\n",
       "// Listen for the clearing of the current output cell\n",
       "var outputEl = gd.closest('.output');\n",
       "if (outputEl) {{\n",
       "    x.observe(outputEl, {childList: true});\n",
       "}}\n",
       "\n",
       "                        })                };                });            </script>        </div>"
      ]
     },
     "metadata": {},
     "output_type": "display_data"
    }
   ],
   "source": [
    "fig_day_of_month_trend"
   ]
  },
  {
   "cell_type": "markdown",
   "id": "3ee56e35-6516-4662-adfa-bec63e17ecf2",
   "metadata": {
    "deletable": true,
    "editable": true,
    "execution": {
     "iopub.execute_input": "2024-07-29T04:31:53.329910Z",
     "iopub.status.busy": "2024-07-29T04:31:53.329910Z",
     "iopub.status.idle": "2024-07-29T04:31:53.343086Z",
     "shell.execute_reply": "2024-07-29T04:31:53.342088Z",
     "shell.execute_reply.started": "2024-07-29T04:31:53.329910Z"
    },
    "frozen": false
   },
   "source": [
    "#### Day of Week Trend"
   ]
  },
  {
   "cell_type": "code",
   "execution_count": 206,
   "id": "6d09e07d-961a-4e9a-8936-7137eaf9eef8",
   "metadata": {
    "deletable": true,
    "editable": true,
    "execution": {
     "iopub.execute_input": "2024-07-29T04:52:26.698268Z",
     "iopub.status.busy": "2024-07-29T04:52:26.697270Z",
     "iopub.status.idle": "2024-07-29T04:52:26.737164Z",
     "shell.execute_reply": "2024-07-29T04:52:26.735173Z",
     "shell.execute_reply.started": "2024-07-29T04:52:26.698268Z"
    },
    "frozen": false
   },
   "outputs": [],
   "source": [
    "day_of_week_trend = df.groupby(['year', df['date'].dt.day_of_week.rename('dow')]).agg({'pm25':'mean'}).T.melt()\n",
    "day_of_week_trend['value'] = day_of_week_trend['value'].round(0)"
   ]
  },
  {
   "cell_type": "code",
   "execution_count": 207,
   "id": "934f420a-3811-4733-80cd-ca855133c05b",
   "metadata": {
    "deletable": true,
    "editable": true,
    "execution": {
     "iopub.execute_input": "2024-07-29T04:52:27.900570Z",
     "iopub.status.busy": "2024-07-29T04:52:27.898578Z",
     "iopub.status.idle": "2024-07-29T04:52:27.909547Z",
     "shell.execute_reply": "2024-07-29T04:52:27.908548Z",
     "shell.execute_reply.started": "2024-07-29T04:52:27.900570Z"
    },
    "frozen": false
   },
   "outputs": [],
   "source": [
    "day_of_week_trend = day_of_week_trend.dropna(axis=0, how='any')"
   ]
  },
  {
   "cell_type": "code",
   "execution_count": 210,
   "id": "8fbd11fb-a033-4bae-a306-b6cecc5506d5",
   "metadata": {
    "deletable": true,
    "editable": true,
    "execution": {
     "iopub.execute_input": "2024-07-29T04:52:54.127248Z",
     "iopub.status.busy": "2024-07-29T04:52:54.126237Z",
     "iopub.status.idle": "2024-07-29T04:52:54.140201Z",
     "shell.execute_reply": "2024-07-29T04:52:54.139202Z",
     "shell.execute_reply.started": "2024-07-29T04:52:54.127248Z"
    },
    "frozen": false
   },
   "outputs": [],
   "source": [
    "remap_dow = ['Monday', 'Tuesday', 'Wednesday', 'Thursday', 'Friday', 'Saturday', 'Sunday']"
   ]
  },
  {
   "cell_type": "code",
   "execution_count": 208,
   "id": "5585f5b3-f414-4420-b776-598c160092b3",
   "metadata": {
    "deletable": true,
    "editable": true,
    "execution": {
     "iopub.execute_input": "2024-07-29T04:52:28.919484Z",
     "iopub.status.busy": "2024-07-29T04:52:28.918490Z",
     "iopub.status.idle": "2024-07-29T04:52:29.021818Z",
     "shell.execute_reply": "2024-07-29T04:52:29.020820Z",
     "shell.execute_reply.started": "2024-07-29T04:52:28.919484Z"
    },
    "frozen": false
   },
   "outputs": [],
   "source": [
    "fig_day_of_week_trend = px.line(\n",
    "    day_of_week_trend, x='dow', y='value', color='year', template='plotly_white', \n",
    "    markers=True\n",
    ").update_traces(hovertemplate=None, textposition=\"top center\")\\\n",
    ".update_layout(\n",
    "    xaxis=dict(nticks=20, tickmode = 'array',  tickvals=[0, 1, 2, 3, 4, 5, 6], ticktext=remap_dow), \n",
    "    hovermode='x', title='Day of Week Trend over Year')"
   ]
  },
  {
   "cell_type": "code",
   "execution_count": 209,
   "id": "ccc113b0-52db-481a-b79b-23c4773d7658",
   "metadata": {
    "deletable": true,
    "editable": true,
    "execution": {
     "iopub.execute_input": "2024-07-29T04:52:30.575213Z",
     "iopub.status.busy": "2024-07-29T04:52:30.575213Z",
     "iopub.status.idle": "2024-07-29T04:52:30.593355Z",
     "shell.execute_reply": "2024-07-29T04:52:30.592400Z",
     "shell.execute_reply.started": "2024-07-29T04:52:30.575213Z"
    },
    "frozen": false,
    "scrolled": true
   },
   "outputs": [
    {
     "data": {
      "application/vnd.plotly.v1+json": {
       "config": {
        "plotlyServerURL": "https://plot.ly"
       },
       "data": [
        {
         "legendgroup": "2020",
         "line": {
          "color": "#636efa",
          "dash": "solid"
         },
         "marker": {
          "symbol": "circle"
         },
         "mode": "lines+markers",
         "name": "2020",
         "orientation": "v",
         "showlegend": true,
         "textposition": "top center",
         "type": "scatter",
         "x": [
          0,
          1,
          2,
          3,
          4,
          5,
          6
         ],
         "xaxis": "x",
         "y": [
          73,
          86,
          74,
          79,
          76,
          102,
          100
         ],
         "yaxis": "y"
        },
        {
         "legendgroup": "2021",
         "line": {
          "color": "#EF553B",
          "dash": "solid"
         },
         "marker": {
          "symbol": "circle"
         },
         "mode": "lines+markers",
         "name": "2021",
         "orientation": "v",
         "showlegend": true,
         "textposition": "top center",
         "type": "scatter",
         "x": [
          0,
          1,
          2,
          3,
          4,
          5,
          6
         ],
         "xaxis": "x",
         "y": [
          79,
          75,
          78,
          78,
          79,
          79,
          80
         ],
         "yaxis": "y"
        },
        {
         "legendgroup": "2022",
         "line": {
          "color": "#00cc96",
          "dash": "solid"
         },
         "marker": {
          "symbol": "circle"
         },
         "mode": "lines+markers",
         "name": "2022",
         "orientation": "v",
         "showlegend": true,
         "textposition": "top center",
         "type": "scatter",
         "x": [
          0,
          1,
          2,
          3,
          4,
          5,
          6
         ],
         "xaxis": "x",
         "y": [
          85,
          86,
          87,
          84,
          83,
          86,
          90
         ],
         "yaxis": "y"
        },
        {
         "legendgroup": "2023",
         "line": {
          "color": "#ab63fa",
          "dash": "solid"
         },
         "marker": {
          "symbol": "circle"
         },
         "mode": "lines+markers",
         "name": "2023",
         "orientation": "v",
         "showlegend": true,
         "textposition": "top center",
         "type": "scatter",
         "x": [
          0,
          1,
          2,
          3,
          4,
          5,
          6
         ],
         "xaxis": "x",
         "y": [
          75,
          79,
          79,
          81,
          80,
          81,
          79
         ],
         "yaxis": "y"
        },
        {
         "legendgroup": "2024",
         "line": {
          "color": "#FFA15A",
          "dash": "solid"
         },
         "marker": {
          "symbol": "circle"
         },
         "mode": "lines+markers",
         "name": "2024",
         "orientation": "v",
         "showlegend": true,
         "textposition": "top center",
         "type": "scatter",
         "x": [
          0,
          1,
          2,
          3,
          4,
          5,
          6
         ],
         "xaxis": "x",
         "y": [
          68,
          73,
          69,
          70,
          66,
          64,
          66
         ],
         "yaxis": "y"
        }
       ],
       "layout": {
        "autosize": true,
        "hovermode": "x",
        "legend": {
         "title": {
          "text": "year"
         },
         "tracegroupgap": 0
        },
        "margin": {
         "t": 60
        },
        "template": {
         "data": {
          "bar": [
           {
            "error_x": {
             "color": "#2a3f5f"
            },
            "error_y": {
             "color": "#2a3f5f"
            },
            "marker": {
             "line": {
              "color": "white",
              "width": 0.5
             },
             "pattern": {
              "fillmode": "overlay",
              "size": 10,
              "solidity": 0.2
             }
            },
            "type": "bar"
           }
          ],
          "barpolar": [
           {
            "marker": {
             "line": {
              "color": "white",
              "width": 0.5
             },
             "pattern": {
              "fillmode": "overlay",
              "size": 10,
              "solidity": 0.2
             }
            },
            "type": "barpolar"
           }
          ],
          "carpet": [
           {
            "aaxis": {
             "endlinecolor": "#2a3f5f",
             "gridcolor": "#C8D4E3",
             "linecolor": "#C8D4E3",
             "minorgridcolor": "#C8D4E3",
             "startlinecolor": "#2a3f5f"
            },
            "baxis": {
             "endlinecolor": "#2a3f5f",
             "gridcolor": "#C8D4E3",
             "linecolor": "#C8D4E3",
             "minorgridcolor": "#C8D4E3",
             "startlinecolor": "#2a3f5f"
            },
            "type": "carpet"
           }
          ],
          "choropleth": [
           {
            "colorbar": {
             "outlinewidth": 0,
             "ticks": ""
            },
            "type": "choropleth"
           }
          ],
          "contour": [
           {
            "colorbar": {
             "outlinewidth": 0,
             "ticks": ""
            },
            "colorscale": [
             [
              0,
              "#0d0887"
             ],
             [
              0.1111111111111111,
              "#46039f"
             ],
             [
              0.2222222222222222,
              "#7201a8"
             ],
             [
              0.3333333333333333,
              "#9c179e"
             ],
             [
              0.4444444444444444,
              "#bd3786"
             ],
             [
              0.5555555555555556,
              "#d8576b"
             ],
             [
              0.6666666666666666,
              "#ed7953"
             ],
             [
              0.7777777777777778,
              "#fb9f3a"
             ],
             [
              0.8888888888888888,
              "#fdca26"
             ],
             [
              1,
              "#f0f921"
             ]
            ],
            "type": "contour"
           }
          ],
          "contourcarpet": [
           {
            "colorbar": {
             "outlinewidth": 0,
             "ticks": ""
            },
            "type": "contourcarpet"
           }
          ],
          "heatmap": [
           {
            "colorbar": {
             "outlinewidth": 0,
             "ticks": ""
            },
            "colorscale": [
             [
              0,
              "#0d0887"
             ],
             [
              0.1111111111111111,
              "#46039f"
             ],
             [
              0.2222222222222222,
              "#7201a8"
             ],
             [
              0.3333333333333333,
              "#9c179e"
             ],
             [
              0.4444444444444444,
              "#bd3786"
             ],
             [
              0.5555555555555556,
              "#d8576b"
             ],
             [
              0.6666666666666666,
              "#ed7953"
             ],
             [
              0.7777777777777778,
              "#fb9f3a"
             ],
             [
              0.8888888888888888,
              "#fdca26"
             ],
             [
              1,
              "#f0f921"
             ]
            ],
            "type": "heatmap"
           }
          ],
          "heatmapgl": [
           {
            "colorbar": {
             "outlinewidth": 0,
             "ticks": ""
            },
            "colorscale": [
             [
              0,
              "#0d0887"
             ],
             [
              0.1111111111111111,
              "#46039f"
             ],
             [
              0.2222222222222222,
              "#7201a8"
             ],
             [
              0.3333333333333333,
              "#9c179e"
             ],
             [
              0.4444444444444444,
              "#bd3786"
             ],
             [
              0.5555555555555556,
              "#d8576b"
             ],
             [
              0.6666666666666666,
              "#ed7953"
             ],
             [
              0.7777777777777778,
              "#fb9f3a"
             ],
             [
              0.8888888888888888,
              "#fdca26"
             ],
             [
              1,
              "#f0f921"
             ]
            ],
            "type": "heatmapgl"
           }
          ],
          "histogram": [
           {
            "marker": {
             "pattern": {
              "fillmode": "overlay",
              "size": 10,
              "solidity": 0.2
             }
            },
            "type": "histogram"
           }
          ],
          "histogram2d": [
           {
            "colorbar": {
             "outlinewidth": 0,
             "ticks": ""
            },
            "colorscale": [
             [
              0,
              "#0d0887"
             ],
             [
              0.1111111111111111,
              "#46039f"
             ],
             [
              0.2222222222222222,
              "#7201a8"
             ],
             [
              0.3333333333333333,
              "#9c179e"
             ],
             [
              0.4444444444444444,
              "#bd3786"
             ],
             [
              0.5555555555555556,
              "#d8576b"
             ],
             [
              0.6666666666666666,
              "#ed7953"
             ],
             [
              0.7777777777777778,
              "#fb9f3a"
             ],
             [
              0.8888888888888888,
              "#fdca26"
             ],
             [
              1,
              "#f0f921"
             ]
            ],
            "type": "histogram2d"
           }
          ],
          "histogram2dcontour": [
           {
            "colorbar": {
             "outlinewidth": 0,
             "ticks": ""
            },
            "colorscale": [
             [
              0,
              "#0d0887"
             ],
             [
              0.1111111111111111,
              "#46039f"
             ],
             [
              0.2222222222222222,
              "#7201a8"
             ],
             [
              0.3333333333333333,
              "#9c179e"
             ],
             [
              0.4444444444444444,
              "#bd3786"
             ],
             [
              0.5555555555555556,
              "#d8576b"
             ],
             [
              0.6666666666666666,
              "#ed7953"
             ],
             [
              0.7777777777777778,
              "#fb9f3a"
             ],
             [
              0.8888888888888888,
              "#fdca26"
             ],
             [
              1,
              "#f0f921"
             ]
            ],
            "type": "histogram2dcontour"
           }
          ],
          "mesh3d": [
           {
            "colorbar": {
             "outlinewidth": 0,
             "ticks": ""
            },
            "type": "mesh3d"
           }
          ],
          "parcoords": [
           {
            "line": {
             "colorbar": {
              "outlinewidth": 0,
              "ticks": ""
             }
            },
            "type": "parcoords"
           }
          ],
          "pie": [
           {
            "automargin": true,
            "type": "pie"
           }
          ],
          "scatter": [
           {
            "fillpattern": {
             "fillmode": "overlay",
             "size": 10,
             "solidity": 0.2
            },
            "type": "scatter"
           }
          ],
          "scatter3d": [
           {
            "line": {
             "colorbar": {
              "outlinewidth": 0,
              "ticks": ""
             }
            },
            "marker": {
             "colorbar": {
              "outlinewidth": 0,
              "ticks": ""
             }
            },
            "type": "scatter3d"
           }
          ],
          "scattercarpet": [
           {
            "marker": {
             "colorbar": {
              "outlinewidth": 0,
              "ticks": ""
             }
            },
            "type": "scattercarpet"
           }
          ],
          "scattergeo": [
           {
            "marker": {
             "colorbar": {
              "outlinewidth": 0,
              "ticks": ""
             }
            },
            "type": "scattergeo"
           }
          ],
          "scattergl": [
           {
            "marker": {
             "colorbar": {
              "outlinewidth": 0,
              "ticks": ""
             }
            },
            "type": "scattergl"
           }
          ],
          "scattermapbox": [
           {
            "marker": {
             "colorbar": {
              "outlinewidth": 0,
              "ticks": ""
             }
            },
            "type": "scattermapbox"
           }
          ],
          "scatterpolar": [
           {
            "marker": {
             "colorbar": {
              "outlinewidth": 0,
              "ticks": ""
             }
            },
            "type": "scatterpolar"
           }
          ],
          "scatterpolargl": [
           {
            "marker": {
             "colorbar": {
              "outlinewidth": 0,
              "ticks": ""
             }
            },
            "type": "scatterpolargl"
           }
          ],
          "scatterternary": [
           {
            "marker": {
             "colorbar": {
              "outlinewidth": 0,
              "ticks": ""
             }
            },
            "type": "scatterternary"
           }
          ],
          "surface": [
           {
            "colorbar": {
             "outlinewidth": 0,
             "ticks": ""
            },
            "colorscale": [
             [
              0,
              "#0d0887"
             ],
             [
              0.1111111111111111,
              "#46039f"
             ],
             [
              0.2222222222222222,
              "#7201a8"
             ],
             [
              0.3333333333333333,
              "#9c179e"
             ],
             [
              0.4444444444444444,
              "#bd3786"
             ],
             [
              0.5555555555555556,
              "#d8576b"
             ],
             [
              0.6666666666666666,
              "#ed7953"
             ],
             [
              0.7777777777777778,
              "#fb9f3a"
             ],
             [
              0.8888888888888888,
              "#fdca26"
             ],
             [
              1,
              "#f0f921"
             ]
            ],
            "type": "surface"
           }
          ],
          "table": [
           {
            "cells": {
             "fill": {
              "color": "#EBF0F8"
             },
             "line": {
              "color": "white"
             }
            },
            "header": {
             "fill": {
              "color": "#C8D4E3"
             },
             "line": {
              "color": "white"
             }
            },
            "type": "table"
           }
          ]
         },
         "layout": {
          "annotationdefaults": {
           "arrowcolor": "#2a3f5f",
           "arrowhead": 0,
           "arrowwidth": 1
          },
          "autotypenumbers": "strict",
          "coloraxis": {
           "colorbar": {
            "outlinewidth": 0,
            "ticks": ""
           }
          },
          "colorscale": {
           "diverging": [
            [
             0,
             "#8e0152"
            ],
            [
             0.1,
             "#c51b7d"
            ],
            [
             0.2,
             "#de77ae"
            ],
            [
             0.3,
             "#f1b6da"
            ],
            [
             0.4,
             "#fde0ef"
            ],
            [
             0.5,
             "#f7f7f7"
            ],
            [
             0.6,
             "#e6f5d0"
            ],
            [
             0.7,
             "#b8e186"
            ],
            [
             0.8,
             "#7fbc41"
            ],
            [
             0.9,
             "#4d9221"
            ],
            [
             1,
             "#276419"
            ]
           ],
           "sequential": [
            [
             0,
             "#0d0887"
            ],
            [
             0.1111111111111111,
             "#46039f"
            ],
            [
             0.2222222222222222,
             "#7201a8"
            ],
            [
             0.3333333333333333,
             "#9c179e"
            ],
            [
             0.4444444444444444,
             "#bd3786"
            ],
            [
             0.5555555555555556,
             "#d8576b"
            ],
            [
             0.6666666666666666,
             "#ed7953"
            ],
            [
             0.7777777777777778,
             "#fb9f3a"
            ],
            [
             0.8888888888888888,
             "#fdca26"
            ],
            [
             1,
             "#f0f921"
            ]
           ],
           "sequentialminus": [
            [
             0,
             "#0d0887"
            ],
            [
             0.1111111111111111,
             "#46039f"
            ],
            [
             0.2222222222222222,
             "#7201a8"
            ],
            [
             0.3333333333333333,
             "#9c179e"
            ],
            [
             0.4444444444444444,
             "#bd3786"
            ],
            [
             0.5555555555555556,
             "#d8576b"
            ],
            [
             0.6666666666666666,
             "#ed7953"
            ],
            [
             0.7777777777777778,
             "#fb9f3a"
            ],
            [
             0.8888888888888888,
             "#fdca26"
            ],
            [
             1,
             "#f0f921"
            ]
           ]
          },
          "colorway": [
           "#636efa",
           "#EF553B",
           "#00cc96",
           "#ab63fa",
           "#FFA15A",
           "#19d3f3",
           "#FF6692",
           "#B6E880",
           "#FF97FF",
           "#FECB52"
          ],
          "font": {
           "color": "#2a3f5f"
          },
          "geo": {
           "bgcolor": "white",
           "lakecolor": "white",
           "landcolor": "white",
           "showlakes": true,
           "showland": true,
           "subunitcolor": "#C8D4E3"
          },
          "hoverlabel": {
           "align": "left"
          },
          "hovermode": "closest",
          "mapbox": {
           "style": "light"
          },
          "paper_bgcolor": "white",
          "plot_bgcolor": "white",
          "polar": {
           "angularaxis": {
            "gridcolor": "#EBF0F8",
            "linecolor": "#EBF0F8",
            "ticks": ""
           },
           "bgcolor": "white",
           "radialaxis": {
            "gridcolor": "#EBF0F8",
            "linecolor": "#EBF0F8",
            "ticks": ""
           }
          },
          "scene": {
           "xaxis": {
            "backgroundcolor": "white",
            "gridcolor": "#DFE8F3",
            "gridwidth": 2,
            "linecolor": "#EBF0F8",
            "showbackground": true,
            "ticks": "",
            "zerolinecolor": "#EBF0F8"
           },
           "yaxis": {
            "backgroundcolor": "white",
            "gridcolor": "#DFE8F3",
            "gridwidth": 2,
            "linecolor": "#EBF0F8",
            "showbackground": true,
            "ticks": "",
            "zerolinecolor": "#EBF0F8"
           },
           "zaxis": {
            "backgroundcolor": "white",
            "gridcolor": "#DFE8F3",
            "gridwidth": 2,
            "linecolor": "#EBF0F8",
            "showbackground": true,
            "ticks": "",
            "zerolinecolor": "#EBF0F8"
           }
          },
          "shapedefaults": {
           "line": {
            "color": "#2a3f5f"
           }
          },
          "ternary": {
           "aaxis": {
            "gridcolor": "#DFE8F3",
            "linecolor": "#A2B1C6",
            "ticks": ""
           },
           "baxis": {
            "gridcolor": "#DFE8F3",
            "linecolor": "#A2B1C6",
            "ticks": ""
           },
           "bgcolor": "white",
           "caxis": {
            "gridcolor": "#DFE8F3",
            "linecolor": "#A2B1C6",
            "ticks": ""
           }
          },
          "title": {
           "x": 0.05
          },
          "xaxis": {
           "automargin": true,
           "gridcolor": "#EBF0F8",
           "linecolor": "#EBF0F8",
           "ticks": "",
           "title": {
            "standoff": 15
           },
           "zerolinecolor": "#EBF0F8",
           "zerolinewidth": 2
          },
          "yaxis": {
           "automargin": true,
           "gridcolor": "#EBF0F8",
           "linecolor": "#EBF0F8",
           "ticks": "",
           "title": {
            "standoff": 15
           },
           "zerolinecolor": "#EBF0F8",
           "zerolinewidth": 2
          }
         }
        },
        "title": {
         "text": "Day of Week Trend over Year"
        },
        "xaxis": {
         "anchor": "y",
         "autorange": true,
         "domain": [
          0,
          1
         ],
         "nticks": 20,
         "range": [
          -0.36919104991394147,
          6.369191049913941
         ],
         "tickmode": "array",
         "ticktext": [
          "Monday",
          "Tuesday",
          "Wednesday",
          "Thursday",
          "Friday",
          "Saturday",
          "Sunday"
         ],
         "tickvals": [
          0,
          1,
          2,
          3,
          4,
          5,
          6
         ],
         "title": {
          "text": "dow"
         },
         "type": "linear"
        },
        "yaxis": {
         "anchor": "x",
         "autorange": true,
         "domain": [
          0,
          1
         ],
         "range": [
          61.05774278215223,
          104.94225721784777
         ],
         "title": {
          "text": "value"
         },
         "type": "linear"
        }
       }
      },
      "image/png": "[encoded data removed]",
      "text/html": [
       "<div>                            <div id=\"d3d43187-57c4-4609-8732-56f815bf5034\" class=\"plotly-graph-div\" style=\"height:525px; width:100%;\"></div>            <script type=\"text/javascript\">                require([\"plotly\"], function(Plotly) {                    window.PLOTLYENV=window.PLOTLYENV || {};                                    if (document.getElementById(\"d3d43187-57c4-4609-8732-56f815bf5034\")) {                    Plotly.newPlot(                        \"d3d43187-57c4-4609-8732-56f815bf5034\",                        [{\"legendgroup\":\"2020\",\"line\":{\"color\":\"#636efa\",\"dash\":\"solid\"},\"marker\":{\"symbol\":\"circle\"},\"mode\":\"lines+markers\",\"name\":\"2020\",\"orientation\":\"v\",\"showlegend\":true,\"x\":[0,1,2,3,4,5,6],\"xaxis\":\"x\",\"y\":[73.0,86.0,74.0,79.0,76.0,102.0,100.0],\"yaxis\":\"y\",\"type\":\"scatter\",\"textposition\":\"top center\"},{\"legendgroup\":\"2021\",\"line\":{\"color\":\"#EF553B\",\"dash\":\"solid\"},\"marker\":{\"symbol\":\"circle\"},\"mode\":\"lines+markers\",\"name\":\"2021\",\"orientation\":\"v\",\"showlegend\":true,\"x\":[0,1,2,3,4,5,6],\"xaxis\":\"x\",\"y\":[79.0,75.0,78.0,78.0,79.0,79.0,80.0],\"yaxis\":\"y\",\"type\":\"scatter\",\"textposition\":\"top center\"},{\"legendgroup\":\"2022\",\"line\":{\"color\":\"#00cc96\",\"dash\":\"solid\"},\"marker\":{\"symbol\":\"circle\"},\"mode\":\"lines+markers\",\"name\":\"2022\",\"orientation\":\"v\",\"showlegend\":true,\"x\":[0,1,2,3,4,5,6],\"xaxis\":\"x\",\"y\":[85.0,86.0,87.0,84.0,83.0,86.0,90.0],\"yaxis\":\"y\",\"type\":\"scatter\",\"textposition\":\"top center\"},{\"legendgroup\":\"2023\",\"line\":{\"color\":\"#ab63fa\",\"dash\":\"solid\"},\"marker\":{\"symbol\":\"circle\"},\"mode\":\"lines+markers\",\"name\":\"2023\",\"orientation\":\"v\",\"showlegend\":true,\"x\":[0,1,2,3,4,5,6],\"xaxis\":\"x\",\"y\":[75.0,79.0,79.0,81.0,80.0,81.0,79.0],\"yaxis\":\"y\",\"type\":\"scatter\",\"textposition\":\"top center\"},{\"legendgroup\":\"2024\",\"line\":{\"color\":\"#FFA15A\",\"dash\":\"solid\"},\"marker\":{\"symbol\":\"circle\"},\"mode\":\"lines+markers\",\"name\":\"2024\",\"orientation\":\"v\",\"showlegend\":true,\"x\":[0,1,2,3,4,5,6],\"xaxis\":\"x\",\"y\":[68.0,73.0,69.0,70.0,66.0,64.0,66.0],\"yaxis\":\"y\",\"type\":\"scatter\",\"textposition\":\"top center\"}],                        {\"template\":{\"data\":{\"barpolar\":[{\"marker\":{\"line\":{\"color\":\"white\",\"width\":0.5},\"pattern\":{\"fillmode\":\"overlay\",\"size\":10,\"solidity\":0.2}},\"type\":\"barpolar\"}],\"bar\":[{\"error_x\":{\"color\":\"#2a3f5f\"},\"error_y\":{\"color\":\"#2a3f5f\"},\"marker\":{\"line\":{\"color\":\"white\",\"width\":0.5},\"pattern\":{\"fillmode\":\"overlay\",\"size\":10,\"solidity\":0.2}},\"type\":\"bar\"}],\"carpet\":[{\"aaxis\":{\"endlinecolor\":\"#2a3f5f\",\"gridcolor\":\"#C8D4E3\",\"linecolor\":\"#C8D4E3\",\"minorgridcolor\":\"#C8D4E3\",\"startlinecolor\":\"#2a3f5f\"},\"baxis\":{\"endlinecolor\":\"#2a3f5f\",\"gridcolor\":\"#C8D4E3\",\"linecolor\":\"#C8D4E3\",\"minorgridcolor\":\"#C8D4E3\",\"startlinecolor\":\"#2a3f5f\"},\"type\":\"carpet\"}],\"choropleth\":[{\"colorbar\":{\"outlinewidth\":0,\"ticks\":\"\"},\"type\":\"choropleth\"}],\"contourcarpet\":[{\"colorbar\":{\"outlinewidth\":0,\"ticks\":\"\"},\"type\":\"contourcarpet\"}],\"contour\":[{\"colorbar\":{\"outlinewidth\":0,\"ticks\":\"\"},\"colorscale\":[[0.0,\"#0d0887\"],[0.1111111111111111,\"#46039f\"],[0.2222222222222222,\"#7201a8\"],[0.3333333333333333,\"#9c179e\"],[0.4444444444444444,\"#bd3786\"],[0.5555555555555556,\"#d8576b\"],[0.6666666666666666,\"#ed7953\"],[0.7777777777777778,\"#fb9f3a\"],[0.8888888888888888,\"#fdca26\"],[1.0,\"#f0f921\"]],\"type\":\"contour\"}],\"heatmapgl\":[{\"colorbar\":{\"outlinewidth\":0,\"ticks\":\"\"},\"colorscale\":[[0.0,\"#0d0887\"],[0.1111111111111111,\"#46039f\"],[0.2222222222222222,\"#7201a8\"],[0.3333333333333333,\"#9c179e\"],[0.4444444444444444,\"#bd3786\"],[0.5555555555555556,\"#d8576b\"],[0.6666666666666666,\"#ed7953\"],[0.7777777777777778,\"#fb9f3a\"],[0.8888888888888888,\"#fdca26\"],[1.0,\"#f0f921\"]],\"type\":\"heatmapgl\"}],\"heatmap\":[{\"colorbar\":{\"outlinewidth\":0,\"ticks\":\"\"},\"colorscale\":[[0.0,\"#0d0887\"],[0.1111111111111111,\"#46039f\"],[0.2222222222222222,\"#7201a8\"],[0.3333333333333333,\"#9c179e\"],[0.4444444444444444,\"#bd3786\"],[0.5555555555555556,\"#d8576b\"],[0.6666666666666666,\"#ed7953\"],[0.7777777777777778,\"#fb9f3a\"],[0.8888888888888888,\"#fdca26\"],[1.0,\"#f0f921\"]],\"type\":\"heatmap\"}],\"histogram2dcontour\":[{\"colorbar\":{\"outlinewidth\":0,\"ticks\":\"\"},\"colorscale\":[[0.0,\"#0d0887\"],[0.1111111111111111,\"#46039f\"],[0.2222222222222222,\"#7201a8\"],[0.3333333333333333,\"#9c179e\"],[0.4444444444444444,\"#bd3786\"],[0.5555555555555556,\"#d8576b\"],[0.6666666666666666,\"#ed7953\"],[0.7777777777777778,\"#fb9f3a\"],[0.8888888888888888,\"#fdca26\"],[1.0,\"#f0f921\"]],\"type\":\"histogram2dcontour\"}],\"histogram2d\":[{\"colorbar\":{\"outlinewidth\":0,\"ticks\":\"\"},\"colorscale\":[[0.0,\"#0d0887\"],[0.1111111111111111,\"#46039f\"],[0.2222222222222222,\"#7201a8\"],[0.3333333333333333,\"#9c179e\"],[0.4444444444444444,\"#bd3786\"],[0.5555555555555556,\"#d8576b\"],[0.6666666666666666,\"#ed7953\"],[0.7777777777777778,\"#fb9f3a\"],[0.8888888888888888,\"#fdca26\"],[1.0,\"#f0f921\"]],\"type\":\"histogram2d\"}],\"histogram\":[{\"marker\":{\"pattern\":{\"fillmode\":\"overlay\",\"size\":10,\"solidity\":0.2}},\"type\":\"histogram\"}],\"mesh3d\":[{\"colorbar\":{\"outlinewidth\":0,\"ticks\":\"\"},\"type\":\"mesh3d\"}],\"parcoords\":[{\"line\":{\"colorbar\":{\"outlinewidth\":0,\"ticks\":\"\"}},\"type\":\"parcoords\"}],\"pie\":[{\"automargin\":true,\"type\":\"pie\"}],\"scatter3d\":[{\"line\":{\"colorbar\":{\"outlinewidth\":0,\"ticks\":\"\"}},\"marker\":{\"colorbar\":{\"outlinewidth\":0,\"ticks\":\"\"}},\"type\":\"scatter3d\"}],\"scattercarpet\":[{\"marker\":{\"colorbar\":{\"outlinewidth\":0,\"ticks\":\"\"}},\"type\":\"scattercarpet\"}],\"scattergeo\":[{\"marker\":{\"colorbar\":{\"outlinewidth\":0,\"ticks\":\"\"}},\"type\":\"scattergeo\"}],\"scattergl\":[{\"marker\":{\"colorbar\":{\"outlinewidth\":0,\"ticks\":\"\"}},\"type\":\"scattergl\"}],\"scattermapbox\":[{\"marker\":{\"colorbar\":{\"outlinewidth\":0,\"ticks\":\"\"}},\"type\":\"scattermapbox\"}],\"scatterpolargl\":[{\"marker\":{\"colorbar\":{\"outlinewidth\":0,\"ticks\":\"\"}},\"type\":\"scatterpolargl\"}],\"scatterpolar\":[{\"marker\":{\"colorbar\":{\"outlinewidth\":0,\"ticks\":\"\"}},\"type\":\"scatterpolar\"}],\"scatter\":[{\"fillpattern\":{\"fillmode\":\"overlay\",\"size\":10,\"solidity\":0.2},\"type\":\"scatter\"}],\"scatterternary\":[{\"marker\":{\"colorbar\":{\"outlinewidth\":0,\"ticks\":\"\"}},\"type\":\"scatterternary\"}],\"surface\":[{\"colorbar\":{\"outlinewidth\":0,\"ticks\":\"\"},\"colorscale\":[[0.0,\"#0d0887\"],[0.1111111111111111,\"#46039f\"],[0.2222222222222222,\"#7201a8\"],[0.3333333333333333,\"#9c179e\"],[0.4444444444444444,\"#bd3786\"],[0.5555555555555556,\"#d8576b\"],[0.6666666666666666,\"#ed7953\"],[0.7777777777777778,\"#fb9f3a\"],[0.8888888888888888,\"#fdca26\"],[1.0,\"#f0f921\"]],\"type\":\"surface\"}],\"table\":[{\"cells\":{\"fill\":{\"color\":\"#EBF0F8\"},\"line\":{\"color\":\"white\"}},\"header\":{\"fill\":{\"color\":\"#C8D4E3\"},\"line\":{\"color\":\"white\"}},\"type\":\"table\"}]},\"layout\":{\"annotationdefaults\":{\"arrowcolor\":\"#2a3f5f\",\"arrowhead\":0,\"arrowwidth\":1},\"autotypenumbers\":\"strict\",\"coloraxis\":{\"colorbar\":{\"outlinewidth\":0,\"ticks\":\"\"}},\"colorscale\":{\"diverging\":[[0,\"#8e0152\"],[0.1,\"#c51b7d\"],[0.2,\"#de77ae\"],[0.3,\"#f1b6da\"],[0.4,\"#fde0ef\"],[0.5,\"#f7f7f7\"],[0.6,\"#e6f5d0\"],[0.7,\"#b8e186\"],[0.8,\"#7fbc41\"],[0.9,\"#4d9221\"],[1,\"#276419\"]],\"sequential\":[[0.0,\"#0d0887\"],[0.1111111111111111,\"#46039f\"],[0.2222222222222222,\"#7201a8\"],[0.3333333333333333,\"#9c179e\"],[0.4444444444444444,\"#bd3786\"],[0.5555555555555556,\"#d8576b\"],[0.6666666666666666,\"#ed7953\"],[0.7777777777777778,\"#fb9f3a\"],[0.8888888888888888,\"#fdca26\"],[1.0,\"#f0f921\"]],\"sequentialminus\":[[0.0,\"#0d0887\"],[0.1111111111111111,\"#46039f\"],[0.2222222222222222,\"#7201a8\"],[0.3333333333333333,\"#9c179e\"],[0.4444444444444444,\"#bd3786\"],[0.5555555555555556,\"#d8576b\"],[0.6666666666666666,\"#ed7953\"],[0.7777777777777778,\"#fb9f3a\"],[0.8888888888888888,\"#fdca26\"],[1.0,\"#f0f921\"]]},\"colorway\":[\"#636efa\",\"#EF553B\",\"#00cc96\",\"#ab63fa\",\"#FFA15A\",\"#19d3f3\",\"#FF6692\",\"#B6E880\",\"#FF97FF\",\"#FECB52\"],\"font\":{\"color\":\"#2a3f5f\"},\"geo\":{\"bgcolor\":\"white\",\"lakecolor\":\"white\",\"landcolor\":\"white\",\"showlakes\":true,\"showland\":true,\"subunitcolor\":\"#C8D4E3\"},\"hoverlabel\":{\"align\":\"left\"},\"hovermode\":\"closest\",\"mapbox\":{\"style\":\"light\"},\"paper_bgcolor\":\"white\",\"plot_bgcolor\":\"white\",\"polar\":{\"angularaxis\":{\"gridcolor\":\"#EBF0F8\",\"linecolor\":\"#EBF0F8\",\"ticks\":\"\"},\"bgcolor\":\"white\",\"radialaxis\":{\"gridcolor\":\"#EBF0F8\",\"linecolor\":\"#EBF0F8\",\"ticks\":\"\"}},\"scene\":{\"xaxis\":{\"backgroundcolor\":\"white\",\"gridcolor\":\"#DFE8F3\",\"gridwidth\":2,\"linecolor\":\"#EBF0F8\",\"showbackground\":true,\"ticks\":\"\",\"zerolinecolor\":\"#EBF0F8\"},\"yaxis\":{\"backgroundcolor\":\"white\",\"gridcolor\":\"#DFE8F3\",\"gridwidth\":2,\"linecolor\":\"#EBF0F8\",\"showbackground\":true,\"ticks\":\"\",\"zerolinecolor\":\"#EBF0F8\"},\"zaxis\":{\"backgroundcolor\":\"white\",\"gridcolor\":\"#DFE8F3\",\"gridwidth\":2,\"linecolor\":\"#EBF0F8\",\"showbackground\":true,\"ticks\":\"\",\"zerolinecolor\":\"#EBF0F8\"}},\"shapedefaults\":{\"line\":{\"color\":\"#2a3f5f\"}},\"ternary\":{\"aaxis\":{\"gridcolor\":\"#DFE8F3\",\"linecolor\":\"#A2B1C6\",\"ticks\":\"\"},\"baxis\":{\"gridcolor\":\"#DFE8F3\",\"linecolor\":\"#A2B1C6\",\"ticks\":\"\"},\"bgcolor\":\"white\",\"caxis\":{\"gridcolor\":\"#DFE8F3\",\"linecolor\":\"#A2B1C6\",\"ticks\":\"\"}},\"title\":{\"x\":0.05},\"xaxis\":{\"automargin\":true,\"gridcolor\":\"#EBF0F8\",\"linecolor\":\"#EBF0F8\",\"ticks\":\"\",\"title\":{\"standoff\":15},\"zerolinecolor\":\"#EBF0F8\",\"zerolinewidth\":2},\"yaxis\":{\"automargin\":true,\"gridcolor\":\"#EBF0F8\",\"linecolor\":\"#EBF0F8\",\"ticks\":\"\",\"title\":{\"standoff\":15},\"zerolinecolor\":\"#EBF0F8\",\"zerolinewidth\":2}}},\"xaxis\":{\"anchor\":\"y\",\"domain\":[0.0,1.0],\"title\":{\"text\":\"dow\"},\"nticks\":20,\"tickmode\":\"array\",\"tickvals\":[0,1,2,3,4,5,6],\"ticktext\":[\"Monday\",\"Tuesday\",\"Wednesday\",\"Thursday\",\"Friday\",\"Saturday\",\"Sunday\"]},\"yaxis\":{\"anchor\":\"x\",\"domain\":[0.0,1.0],\"title\":{\"text\":\"value\"}},\"legend\":{\"title\":{\"text\":\"year\"},\"tracegroupgap\":0},\"margin\":{\"t\":60},\"hovermode\":\"x\",\"title\":{\"text\":\"Day of Week Trend over Year\"}},                        {\"responsive\": true}                    ).then(function(){\n",
       "                            \n",
       "var gd = document.getElementById('d3d43187-57c4-4609-8732-56f815bf5034');\n",
       "var x = new MutationObserver(function (mutations, observer) {{\n",
       "        var display = window.getComputedStyle(gd).display;\n",
       "        if (!display || display === 'none') {{\n",
       "            console.log([gd, 'removed!']);\n",
       "            Plotly.purge(gd);\n",
       "            observer.disconnect();\n",
       "        }}\n",
       "}});\n",
       "\n",
       "// Listen for the removal of the full notebook cells\n",
       "var notebookContainer = gd.closest('#notebook-container');\n",
       "if (notebookContainer) {{\n",
       "    x.observe(notebookContainer, {childList: true});\n",
       "}}\n",
       "\n",
       "// Listen for the clearing of the current output cell\n",
       "var outputEl = gd.closest('.output');\n",
       "if (outputEl) {{\n",
       "    x.observe(outputEl, {childList: true});\n",
       "}}\n",
       "\n",
       "                        })                };                });            </script>        </div>"
      ]
     },
     "metadata": {},
     "output_type": "display_data"
    }
   ],
   "source": [
    "fig_day_of_week_trend"
   ]
  }
 ],
 "metadata": {
  "kernelspec": {
   "display_name": "Python 3 (ipykernel)",
   "language": "python",
   "name": "python3"
  },
  "language_info": {
   "codemirror_mode": {
    "name": "ipython",
    "version": 3
   },
   "file_extension": ".py",
   "mimetype": "text/x-python",
   "name": "python",
   "nbconvert_exporter": "python",
   "pygments_lexer": "ipython3",
   "version": "3.9.12"
  }
 },
 "nbformat": 4,
 "nbformat_minor": 5
}
