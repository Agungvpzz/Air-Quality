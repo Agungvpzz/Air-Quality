{
 "cells": [
  {
   "cell_type": "markdown",
   "id": "12aada13-129b-416e-9834-455bec16e4f4",
   "metadata": {
    "deletable": true,
    "editable": true,
    "frozen": false
   },
   "source": [
    "Summary of Health Risks and Sources\n",
    "\n",
    "- PM10:\n",
    "    - Health Risks: Respiratory and cardiovascular problems, eye/nose/throat irritation.\n",
    "    - Sources: Natural (dust storms, wildfires), Human (construction, industrial, vehicles).\n",
    "- PM2.5:\n",
    "    - Health Risks: Deep lung penetration, cardiovascular problems, premature death, cancer.\n",
    "    - Sources: Combustion (vehicles, residential heating, power plants), secondary formation.\n",
    "- SO2:\n",
    "    - Health Risks: Respiratory problems, cardiovascular issues, contributes to acid rain.\n",
    "    - Sources: Fossil fuel combustion, volcanic eruptions.\n",
    "- CO:\n",
    "    - Health Risks: Oxygen deprivation, exacerbates heart disease.\n",
    "    - Sources: Incomplete combustion (vehicles, residential heating, industrial), wildfires.\n",
    "- O3:\n",
    "    - Health Risks: Respiratory irritation, decreased lung function, premature aging of the lungs.\n",
    "    - Sources: Secondary pollutant formed from sunlight reacting with hydrocarbons and NOx.\n",
    "- NO2:\n",
    "    - Health Risks: Respiratory problems, cardiovascular effects, contributes to ozone and PM2.5 formation.\n",
    "    - Sources: Combustion (vehicles, power plants, industrial), natural sources (lightning, soil)."
   ]
  },
  {
   "cell_type": "code",
   "execution_count": 1,
   "id": "55139a4f-da0a-47c8-9aef-e7eb24bd5393",
   "metadata": {
    "deletable": true,
    "editable": true,
    "execution": {
     "iopub.execute_input": "2024-07-28T00:36:52.856070Z",
     "iopub.status.busy": "2024-07-28T00:36:52.855073Z",
     "iopub.status.idle": "2024-07-28T00:36:57.350568Z",
     "shell.execute_reply": "2024-07-28T00:36:57.348812Z",
     "shell.execute_reply.started": "2024-07-28T00:36:52.856070Z"
    },
    "frozen": false
   },
   "outputs": [],
   "source": [
    "import pandas as pd\n",
    "import plotly.express as px"
   ]
  },
  {
   "cell_type": "markdown",
   "id": "9bb20c90-1af8-4f56-841b-d45d2f90d107",
   "metadata": {
    "deletable": true,
    "editable": true,
    "execution": {
     "iopub.execute_input": "2024-07-27T04:56:29.642662Z",
     "iopub.status.busy": "2024-07-27T04:56:29.640738Z",
     "iopub.status.idle": "2024-07-27T04:56:29.655265Z",
     "shell.execute_reply": "2024-07-27T04:56:29.653275Z",
     "shell.execute_reply.started": "2024-07-27T04:56:29.642662Z"
    },
    "frozen": false,
    "jp-MarkdownHeadingCollapsed": true
   },
   "source": [
    "### Remap Values"
   ]
  },
  {
   "cell_type": "code",
   "execution_count": 2,
   "id": "730df03c-3f19-4419-808c-87c5f1ef064d",
   "metadata": {
    "deletable": true,
    "editable": true,
    "execution": {
     "iopub.execute_input": "2024-07-28T00:37:00.833568Z",
     "iopub.status.busy": "2024-07-28T00:37:00.832569Z",
     "iopub.status.idle": "2024-07-28T00:37:00.843538Z",
     "shell.execute_reply": "2024-07-28T00:37:00.842024Z",
     "shell.execute_reply.started": "2024-07-28T00:37:00.833568Z"
    },
    "frozen": false
   },
   "outputs": [],
   "source": [
    "map_color_values = {\n",
    "    'Good': 'lightgreen',\n",
    "    'Moderate': 'lightblue',\n",
    "    'Unhealthy for Sensitive Groups': 'yellow',\n",
    "    'Unhealthy': 'tomato',\n",
    "    'Very Unhealthy': 'red'\n",
    "}"
   ]
  },
  {
   "cell_type": "code",
   "execution_count": 16,
   "id": "7a24959b-088d-44c4-b912-9488c03de85e",
   "metadata": {
    "deletable": true,
    "editable": true,
    "execution": {
     "iopub.execute_input": "2024-07-28T00:43:43.475157Z",
     "iopub.status.busy": "2024-07-28T00:43:43.474162Z",
     "iopub.status.idle": "2024-07-28T00:43:43.493295Z",
     "shell.execute_reply": "2024-07-28T00:43:43.493295Z",
     "shell.execute_reply.started": "2024-07-28T00:43:43.475157Z"
    },
    "frozen": false
   },
   "outputs": [],
   "source": [
    "def pm10_to_category(value):\n",
    "    if pd.isna(value): return \"No Record\"\n",
    "        \n",
    "    if value <= 50:\n",
    "        return \"Good\"\n",
    "    elif value <= 100:\n",
    "        return \"Moderate\"\n",
    "    elif value <= 150:\n",
    "        return \"Unhealthy for Sensitive Groups\"\n",
    "    elif value <= 200:\n",
    "        return \"Unhealthy\"\n",
    "    else:\n",
    "        return \"Very Unhealthy\"\n",
    "\n",
    "def pm2_5_to_category(value):\n",
    "    if pd.isna(value): return \"No Record\"\n",
    "        \n",
    "    if value <= 12:\n",
    "        return \"Good\"\n",
    "    elif value <= 35:\n",
    "        return \"Moderate\"\n",
    "    elif value <= 55:\n",
    "        return \"Unhealthy for Sensitive Groups\"\n",
    "    elif value <= 150:\n",
    "        return \"Unhealthy\"\n",
    "    else:\n",
    "        return \"Very Unhealthy\"\n",
    "\n",
    "def so2_to_category(value):\n",
    "    if pd.isna(value): return \"No Record\"\n",
    "    \n",
    "    if value <= 75:\n",
    "        return \"Good\"\n",
    "    elif value <= 185:\n",
    "        return \"Moderate\"\n",
    "    elif value <= 304:\n",
    "        return \"Unhealthy for Sensitive Groups\"\n",
    "    elif value <= 604:\n",
    "        return \"Unhealthy\"\n",
    "    else:\n",
    "        return \"Very Unhealthy\"\n",
    "\n",
    "def co_to_category(value):\n",
    "    if pd.isna(value): return \"No Record\"\n",
    "        \n",
    "    if value <= 4.4:\n",
    "        return \"Good\"\n",
    "    elif value <= 9.4:\n",
    "        return \"Moderate\"\n",
    "    elif value <= 12.4:\n",
    "        return \"Unhealthy for Sensitive Groups\"\n",
    "    elif value <= 15.4:\n",
    "        return \"Unhealthy\"\n",
    "    else:\n",
    "        return \"Very Unhealthy\"\n",
    "\n",
    "def o3_to_category(value):\n",
    "    if pd.isna(value): return \"No Record\"\n",
    "        \n",
    "    if value <= 54:\n",
    "        return \"Good\"\n",
    "    elif value <= 70:\n",
    "        return \"Moderate\"\n",
    "    elif value <= 85:\n",
    "        return \"Unhealthy for Sensitive Groups\"\n",
    "    elif value <= 105:\n",
    "        return \"Unhealthy\"\n",
    "    else:\n",
    "        return \"Very Unhealthy\"\n",
    "\n",
    "def no2_to_category(value):\n",
    "    if pd.isna(value): return \"No Record\"\n",
    "        \n",
    "    if value <= 53:\n",
    "        return \"Good\"\n",
    "    elif value <= 100:\n",
    "        return \"Moderate\"\n",
    "    elif value <= 360:\n",
    "        return \"Unhealthy for Sensitive Groups\"\n",
    "    elif value <= 649:\n",
    "        return \"Unhealthy\"\n",
    "    else:\n",
    "        return \"Very Unhealthy\""
   ]
  },
  {
   "cell_type": "markdown",
   "id": "b8e5ebbd-253b-4061-aa31-56c343ad4e93",
   "metadata": {
    "deletable": true,
    "editable": true,
    "execution": {
     "iopub.execute_input": "2024-07-27T04:57:26.527854Z",
     "iopub.status.busy": "2024-07-27T04:57:26.526856Z",
     "iopub.status.idle": "2024-07-27T04:57:26.535992Z",
     "shell.execute_reply": "2024-07-27T04:57:26.535992Z",
     "shell.execute_reply.started": "2024-07-27T04:57:26.527854Z"
    },
    "frozen": false,
    "jp-MarkdownHeadingCollapsed": true
   },
   "source": [
    "### Load Dataset"
   ]
  },
  {
   "cell_type": "code",
   "execution_count": 4,
   "id": "c1e0c4cf-253c-4eba-b625-13f588cfc92d",
   "metadata": {
    "deletable": true,
    "editable": true,
    "execution": {
     "iopub.execute_input": "2024-07-28T00:37:11.548876Z",
     "iopub.status.busy": "2024-07-28T00:37:11.543570Z",
     "iopub.status.idle": "2024-07-28T00:37:12.431952Z",
     "shell.execute_reply": "2024-07-28T00:37:12.429951Z",
     "shell.execute_reply.started": "2024-07-28T00:37:11.548876Z"
    },
    "frozen": false
   },
   "outputs": [],
   "source": [
    "df= pd.read_csv(\"df_ispa_dki_all.csv\")\n",
    "df['date'] = pd.to_datetime(df['date'])"
   ]
  },
  {
   "cell_type": "code",
   "execution_count": null,
   "id": "3fe41074-15e9-4ed1-bd22-ebe055573f3e",
   "metadata": {
    "deletable": true,
    "editable": true,
    "frozen": false
   },
   "outputs": [],
   "source": [
    "df.isna().sum()"
   ]
  },
  {
   "cell_type": "markdown",
   "id": "0d24232c-d746-460d-ba2a-7996ce4db7fc",
   "metadata": {
    "deletable": true,
    "editable": true,
    "execution": {
     "iopub.execute_input": "2024-07-27T04:53:26.785516Z",
     "iopub.status.busy": "2024-07-27T04:53:26.785516Z",
     "iopub.status.idle": "2024-07-27T04:53:26.800667Z",
     "shell.execute_reply": "2024-07-27T04:53:26.800030Z",
     "shell.execute_reply.started": "2024-07-27T04:53:26.785516Z"
    },
    "frozen": false
   },
   "source": [
    "### Summary"
   ]
  },
  {
   "cell_type": "code",
   "execution_count": null,
   "id": "4f2e3e64-6ccf-47a6-a030-e44f61de6c3d",
   "metadata": {
    "deletable": true,
    "editable": true,
    "frozen": false
   },
   "outputs": [],
   "source": [
    "df_over_year = df.pivot_table(\n",
    "    index=['station'],\n",
    "    columns=['year'],\n",
    "    values=['pm25'],\n",
    "    aggfunc='mean'\n",
    ").round(2)"
   ]
  },
  {
   "cell_type": "code",
   "execution_count": 22,
   "id": "5798643c-483c-4b1d-817d-f156d4def512",
   "metadata": {
    "deletable": true,
    "editable": true,
    "execution": {
     "iopub.execute_input": "2024-07-28T02:35:48.040188Z",
     "iopub.status.busy": "2024-07-28T02:35:48.039191Z",
     "iopub.status.idle": "2024-07-28T02:35:48.057383Z",
     "shell.execute_reply": "2024-07-28T02:35:48.056571Z",
     "shell.execute_reply.started": "2024-07-28T02:35:48.040188Z"
    },
    "frozen": false
   },
   "outputs": [],
   "source": [
    "def get_summary(df, col_place, col_value, mapfunc):\n",
    "    df = df.copy()\n",
    "    \n",
    "    places = df[col_place].unique()\n",
    "    val_counts = {}\n",
    "    for place in places:\n",
    "        _df = df.query(f\"{col_place}=='{place}'\")[col_value]        \n",
    "        val_counts[place] = _df.map(mapfunc).value_counts().to_dict()\n",
    "\n",
    "    df_val_counts = pd.DataFrame(val_counts)\n",
    "    df_val_counts.index.name = col_value\n",
    "    df_val_counts.columns.name = col_place\n",
    "    \n",
    "    return df_val_counts.fillna(0).astype(int)"
   ]
  },
  {
   "cell_type": "code",
   "execution_count": 23,
   "id": "a2c68b15-1957-4f2e-a4e9-c1c43bc037e9",
   "metadata": {
    "deletable": true,
    "editable": true,
    "execution": {
     "iopub.execute_input": "2024-07-28T02:35:48.664499Z",
     "iopub.status.busy": "2024-07-28T02:35:48.663538Z",
     "iopub.status.idle": "2024-07-28T02:35:48.737806Z",
     "shell.execute_reply": "2024-07-28T02:35:48.735638Z",
     "shell.execute_reply.started": "2024-07-28T02:35:48.664499Z"
    },
    "frozen": false
   },
   "outputs": [
    {
     "data": {
      "text/html": [
       "<div>\n",
       "<style scoped>\n",
       "    .dataframe tbody tr th:only-of-type {\n",
       "        vertical-align: middle;\n",
       "    }\n",
       "\n",
       "    .dataframe tbody tr th {\n",
       "        vertical-align: top;\n",
       "    }\n",
       "\n",
       "    .dataframe thead th {\n",
       "        text-align: right;\n",
       "    }\n",
       "</style>\n",
       "<table border=\"1\" class=\"dataframe\">\n",
       "  <thead>\n",
       "    <tr style=\"text-align: right;\">\n",
       "      <th>district</th>\n",
       "      <th>Jakarta Pusat</th>\n",
       "      <th>Jakarta Utara</th>\n",
       "      <th>Jakarta Timur</th>\n",
       "      <th>Jakarta Selatan</th>\n",
       "      <th>Jakarta Barat</th>\n",
       "    </tr>\n",
       "    <tr>\n",
       "      <th>pm10</th>\n",
       "      <th></th>\n",
       "      <th></th>\n",
       "      <th></th>\n",
       "      <th></th>\n",
       "      <th></th>\n",
       "    </tr>\n",
       "  </thead>\n",
       "  <tbody>\n",
       "    <tr>\n",
       "      <th>Moderate</th>\n",
       "      <td>2936</td>\n",
       "      <td>3003</td>\n",
       "      <td>3048</td>\n",
       "      <td>1945</td>\n",
       "      <td>2117</td>\n",
       "    </tr>\n",
       "    <tr>\n",
       "      <th>Good</th>\n",
       "      <td>1746</td>\n",
       "      <td>1400</td>\n",
       "      <td>937</td>\n",
       "      <td>2327</td>\n",
       "      <td>1485</td>\n",
       "    </tr>\n",
       "    <tr>\n",
       "      <th>No Record</th>\n",
       "      <td>106</td>\n",
       "      <td>176</td>\n",
       "      <td>600</td>\n",
       "      <td>252</td>\n",
       "      <td>197</td>\n",
       "    </tr>\n",
       "    <tr>\n",
       "      <th>Unhealthy for Sensitive Groups</th>\n",
       "      <td>2</td>\n",
       "      <td>6</td>\n",
       "      <td>158</td>\n",
       "      <td>2</td>\n",
       "      <td>10</td>\n",
       "    </tr>\n",
       "    <tr>\n",
       "      <th>Unhealthy</th>\n",
       "      <td>0</td>\n",
       "      <td>0</td>\n",
       "      <td>8</td>\n",
       "      <td>0</td>\n",
       "      <td>0</td>\n",
       "    </tr>\n",
       "  </tbody>\n",
       "</table>\n",
       "</div>"
      ],
      "text/plain": [
       "district                        Jakarta Pusat  Jakarta Utara  Jakarta Timur  \\\n",
       "pm10                                                                          \n",
       "Moderate                                 2936           3003           3048   \n",
       "Good                                     1746           1400            937   \n",
       "No Record                                 106            176            600   \n",
       "Unhealthy for Sensitive Groups              2              6            158   \n",
       "Unhealthy                                   0              0              8   \n",
       "\n",
       "district                        Jakarta Selatan  Jakarta Barat  \n",
       "pm10                                                            \n",
       "Moderate                                   1945           2117  \n",
       "Good                                       2327           1485  \n",
       "No Record                                   252            197  \n",
       "Unhealthy for Sensitive Groups                2             10  \n",
       "Unhealthy                                     0              0  "
      ]
     },
     "execution_count": 23,
     "metadata": {},
     "output_type": "execute_result"
    }
   ],
   "source": [
    "get_summary(df, 'district', 'pm10', pm10_to_category)"
   ]
  },
  {
   "cell_type": "code",
   "execution_count": 19,
   "id": "b967659b-6e95-422e-a048-4d570a8b95d4",
   "metadata": {
    "collapsed": true,
    "deletable": true,
    "editable": true,
    "execution": {
     "iopub.execute_input": "2024-07-28T00:44:05.603514Z",
     "iopub.status.busy": "2024-07-28T00:44:05.603514Z",
     "iopub.status.idle": "2024-07-28T00:44:05.697032Z",
     "shell.execute_reply": "2024-07-28T00:44:05.695137Z",
     "shell.execute_reply.started": "2024-07-28T00:44:05.603514Z"
    },
    "frozen": false,
    "jupyter": {
     "outputs_hidden": true
    },
    "scrolled": true
   },
   "outputs": [
    {
     "data": {
      "text/html": [
       "<div>\n",
       "<style scoped>\n",
       "    .dataframe tbody tr th:only-of-type {\n",
       "        vertical-align: middle;\n",
       "    }\n",
       "\n",
       "    .dataframe tbody tr th {\n",
       "        vertical-align: top;\n",
       "    }\n",
       "\n",
       "    .dataframe thead th {\n",
       "        text-align: right;\n",
       "    }\n",
       "</style>\n",
       "<table border=\"1\" class=\"dataframe\">\n",
       "  <thead>\n",
       "    <tr style=\"text-align: right;\">\n",
       "      <th>district</th>\n",
       "      <th>Jakarta Pusat</th>\n",
       "      <th>Jakarta Utara</th>\n",
       "      <th>Jakarta Timur</th>\n",
       "      <th>Jakarta Selatan</th>\n",
       "      <th>Jakarta Barat</th>\n",
       "    </tr>\n",
       "    <tr>\n",
       "      <th>pm25</th>\n",
       "      <th></th>\n",
       "      <th></th>\n",
       "      <th></th>\n",
       "      <th></th>\n",
       "      <th></th>\n",
       "    </tr>\n",
       "  </thead>\n",
       "  <tbody>\n",
       "    <tr>\n",
       "      <th>No Record</th>\n",
       "      <td>3910.0</td>\n",
       "      <td>3684.0</td>\n",
       "      <td>3656.0</td>\n",
       "      <td>3631.0</td>\n",
       "      <td>3208.0</td>\n",
       "    </tr>\n",
       "    <tr>\n",
       "      <th>Unhealthy</th>\n",
       "      <td>667.0</td>\n",
       "      <td>702.0</td>\n",
       "      <td>993.0</td>\n",
       "      <td>719.0</td>\n",
       "      <td>503.0</td>\n",
       "    </tr>\n",
       "    <tr>\n",
       "      <th>Unhealthy for Sensitive Groups</th>\n",
       "      <td>167.0</td>\n",
       "      <td>169.0</td>\n",
       "      <td>78.0</td>\n",
       "      <td>117.0</td>\n",
       "      <td>76.0</td>\n",
       "    </tr>\n",
       "    <tr>\n",
       "      <th>Moderate</th>\n",
       "      <td>46.0</td>\n",
       "      <td>30.0</td>\n",
       "      <td>6.0</td>\n",
       "      <td>58.0</td>\n",
       "      <td>22.0</td>\n",
       "    </tr>\n",
       "    <tr>\n",
       "      <th>Very Unhealthy</th>\n",
       "      <td>0.0</td>\n",
       "      <td>0.0</td>\n",
       "      <td>18.0</td>\n",
       "      <td>0.0</td>\n",
       "      <td>0.0</td>\n",
       "    </tr>\n",
       "    <tr>\n",
       "      <th>Good</th>\n",
       "      <td>0.0</td>\n",
       "      <td>0.0</td>\n",
       "      <td>0.0</td>\n",
       "      <td>1.0</td>\n",
       "      <td>0.0</td>\n",
       "    </tr>\n",
       "  </tbody>\n",
       "</table>\n",
       "</div>"
      ],
      "text/plain": [
       "district                        Jakarta Pusat  Jakarta Utara  Jakarta Timur  \\\n",
       "pm25                                                                          \n",
       "No Record                              3910.0         3684.0         3656.0   \n",
       "Unhealthy                               667.0          702.0          993.0   \n",
       "Unhealthy for Sensitive Groups          167.0          169.0           78.0   \n",
       "Moderate                                 46.0           30.0            6.0   \n",
       "Very Unhealthy                            0.0            0.0           18.0   \n",
       "Good                                      0.0            0.0            0.0   \n",
       "\n",
       "district                        Jakarta Selatan  Jakarta Barat  \n",
       "pm25                                                            \n",
       "No Record                                3631.0         3208.0  \n",
       "Unhealthy                                 719.0          503.0  \n",
       "Unhealthy for Sensitive Groups            117.0           76.0  \n",
       "Moderate                                   58.0           22.0  \n",
       "Very Unhealthy                              0.0            0.0  \n",
       "Good                                        1.0            0.0  "
      ]
     },
     "execution_count": 19,
     "metadata": {},
     "output_type": "execute_result"
    }
   ],
   "source": [
    "get_summary(df, 'district', 'pm25', pm2_5_to_category)"
   ]
  },
  {
   "cell_type": "code",
   "execution_count": 21,
   "id": "ca9120c8-0cfc-41d4-ac6e-175ddc44443b",
   "metadata": {
    "deletable": true,
    "editable": true,
    "execution": {
     "iopub.execute_input": "2024-07-28T02:35:41.247001Z",
     "iopub.status.busy": "2024-07-28T02:35:41.245006Z",
     "iopub.status.idle": "2024-07-28T02:35:41.375175Z",
     "shell.execute_reply": "2024-07-28T02:35:41.374180Z",
     "shell.execute_reply.started": "2024-07-28T02:35:41.247001Z"
    },
    "frozen": false
   },
   "outputs": [
    {
     "data": {
      "text/html": [
       "<div>\n",
       "<style scoped>\n",
       "    .dataframe tbody tr th:only-of-type {\n",
       "        vertical-align: middle;\n",
       "    }\n",
       "\n",
       "    .dataframe tbody tr th {\n",
       "        vertical-align: top;\n",
       "    }\n",
       "\n",
       "    .dataframe thead th {\n",
       "        text-align: right;\n",
       "    }\n",
       "</style>\n",
       "<table border=\"1\" class=\"dataframe\">\n",
       "  <thead>\n",
       "    <tr style=\"text-align: right;\">\n",
       "      <th>district</th>\n",
       "      <th>Jakarta Pusat</th>\n",
       "      <th>Jakarta Utara</th>\n",
       "      <th>Jakarta Timur</th>\n",
       "      <th>Jakarta Selatan</th>\n",
       "      <th>Jakarta Barat</th>\n",
       "    </tr>\n",
       "    <tr>\n",
       "      <th>no2</th>\n",
       "      <th></th>\n",
       "      <th></th>\n",
       "      <th></th>\n",
       "      <th></th>\n",
       "      <th></th>\n",
       "    </tr>\n",
       "  </thead>\n",
       "  <tbody>\n",
       "    <tr>\n",
       "      <th>Good</th>\n",
       "      <td>4694</td>\n",
       "      <td>4507</td>\n",
       "      <td>4616</td>\n",
       "      <td>4237</td>\n",
       "      <td>3653</td>\n",
       "    </tr>\n",
       "    <tr>\n",
       "      <th>No Record</th>\n",
       "      <td>83</td>\n",
       "      <td>39</td>\n",
       "      <td>106</td>\n",
       "      <td>237</td>\n",
       "      <td>120</td>\n",
       "    </tr>\n",
       "    <tr>\n",
       "      <th>Moderate</th>\n",
       "      <td>13</td>\n",
       "      <td>37</td>\n",
       "      <td>26</td>\n",
       "      <td>48</td>\n",
       "      <td>25</td>\n",
       "    </tr>\n",
       "    <tr>\n",
       "      <th>Unhealthy for Sensitive Groups</th>\n",
       "      <td>0</td>\n",
       "      <td>2</td>\n",
       "      <td>3</td>\n",
       "      <td>4</td>\n",
       "      <td>11</td>\n",
       "    </tr>\n",
       "  </tbody>\n",
       "</table>\n",
       "</div>"
      ],
      "text/plain": [
       "district                        Jakarta Pusat  Jakarta Utara  Jakarta Timur  \\\n",
       "no2                                                                           \n",
       "Good                                     4694           4507           4616   \n",
       "No Record                                  83             39            106   \n",
       "Moderate                                   13             37             26   \n",
       "Unhealthy for Sensitive Groups              0              2              3   \n",
       "\n",
       "district                        Jakarta Selatan  Jakarta Barat  \n",
       "no2                                                             \n",
       "Good                                       4237           3653  \n",
       "No Record                                   237            120  \n",
       "Moderate                                     48             25  \n",
       "Unhealthy for Sensitive Groups                4             11  "
      ]
     },
     "execution_count": 21,
     "metadata": {},
     "output_type": "execute_result"
    }
   ],
   "source": [
    "get_summary(df, 'district', 'no2', no2_to_category)"
   ]
  },
  {
   "cell_type": "code",
   "execution_count": 13,
   "id": "2479f90e-8998-4193-a4e2-ef9a3dc32778",
   "metadata": {
    "deletable": true,
    "editable": true,
    "execution": {
     "iopub.execute_input": "2024-07-28T00:41:45.926702Z",
     "iopub.status.busy": "2024-07-28T00:41:45.926702Z",
     "iopub.status.idle": "2024-07-28T00:41:46.002246Z",
     "shell.execute_reply": "2024-07-28T00:41:46.000814Z",
     "shell.execute_reply.started": "2024-07-28T00:41:45.926702Z"
    },
    "frozen": false
   },
   "outputs": [
    {
     "data": {
      "text/html": [
       "<div>\n",
       "<style scoped>\n",
       "    .dataframe tbody tr th:only-of-type {\n",
       "        vertical-align: middle;\n",
       "    }\n",
       "\n",
       "    .dataframe tbody tr th {\n",
       "        vertical-align: top;\n",
       "    }\n",
       "\n",
       "    .dataframe thead th {\n",
       "        text-align: right;\n",
       "    }\n",
       "</style>\n",
       "<table border=\"1\" class=\"dataframe\">\n",
       "  <thead>\n",
       "    <tr style=\"text-align: right;\">\n",
       "      <th>district</th>\n",
       "      <th>Jakarta Pusat</th>\n",
       "      <th>Jakarta Utara</th>\n",
       "      <th>Jakarta Timur</th>\n",
       "      <th>Jakarta Selatan</th>\n",
       "      <th>Jakarta Barat</th>\n",
       "    </tr>\n",
       "    <tr>\n",
       "      <th>co</th>\n",
       "      <th></th>\n",
       "      <th></th>\n",
       "      <th></th>\n",
       "      <th></th>\n",
       "      <th></th>\n",
       "    </tr>\n",
       "  </thead>\n",
       "  <tbody>\n",
       "    <tr>\n",
       "      <th>Very Unhealthy</th>\n",
       "      <td>3542</td>\n",
       "      <td>2273</td>\n",
       "      <td>2249</td>\n",
       "      <td>2412</td>\n",
       "      <td>2304</td>\n",
       "    </tr>\n",
       "    <tr>\n",
       "      <th>Moderate</th>\n",
       "      <td>421</td>\n",
       "      <td>851</td>\n",
       "      <td>877</td>\n",
       "      <td>761</td>\n",
       "      <td>496</td>\n",
       "    </tr>\n",
       "    <tr>\n",
       "      <th>Unhealthy for Sensitive Groups</th>\n",
       "      <td>390</td>\n",
       "      <td>716</td>\n",
       "      <td>683</td>\n",
       "      <td>598</td>\n",
       "      <td>455</td>\n",
       "    </tr>\n",
       "    <tr>\n",
       "      <th>Unhealthy</th>\n",
       "      <td>339</td>\n",
       "      <td>660</td>\n",
       "      <td>677</td>\n",
       "      <td>589</td>\n",
       "      <td>398</td>\n",
       "    </tr>\n",
       "    <tr>\n",
       "      <th>Good</th>\n",
       "      <td>46</td>\n",
       "      <td>44</td>\n",
       "      <td>89</td>\n",
       "      <td>111</td>\n",
       "      <td>60</td>\n",
       "    </tr>\n",
       "  </tbody>\n",
       "</table>\n",
       "</div>"
      ],
      "text/plain": [
       "district                        Jakarta Pusat  Jakarta Utara  Jakarta Timur  \\\n",
       "co                                                                            \n",
       "Very Unhealthy                           3542           2273           2249   \n",
       "Moderate                                  421            851            877   \n",
       "Unhealthy for Sensitive Groups            390            716            683   \n",
       "Unhealthy                                 339            660            677   \n",
       "Good                                       46             44             89   \n",
       "\n",
       "district                        Jakarta Selatan  Jakarta Barat  \n",
       "co                                                              \n",
       "Very Unhealthy                             2412           2304  \n",
       "Moderate                                    761            496  \n",
       "Unhealthy for Sensitive Groups              598            455  \n",
       "Unhealthy                                   589            398  \n",
       "Good                                        111             60  "
      ]
     },
     "execution_count": 13,
     "metadata": {},
     "output_type": "execute_result"
    }
   ],
   "source": [
    "get_summary(df, 'district', 'co', co_to_category)"
   ]
  },
  {
   "cell_type": "code",
   "execution_count": null,
   "id": "0354e851-5c19-4957-b706-854febc325e4",
   "metadata": {
    "deletable": true,
    "editable": true,
    "frozen": false
   },
   "outputs": [],
   "source": [
    "get_summary(df, 'district', 'so2', so2_to_category)"
   ]
  },
  {
   "cell_type": "code",
   "execution_count": null,
   "id": "e76bad64-9f22-402c-a823-3b7d3486d9b5",
   "metadata": {
    "deletable": true,
    "editable": true,
    "frozen": false
   },
   "outputs": [],
   "source": [
    "get_summary(df, 'district', 'o3', o3_to_category)"
   ]
  },
  {
   "cell_type": "code",
   "execution_count": null,
   "id": "96dcf564-b341-41e6-b9bc-d76d4ed963ca",
   "metadata": {
    "deletable": true,
    "editable": true,
    "frozen": false
   },
   "outputs": [],
   "source": [
    "df_over_year"
   ]
  },
  {
   "cell_type": "code",
   "execution_count": null,
   "id": "150c0354-f516-4e1a-90d2-8ce6d5497710",
   "metadata": {
    "deletable": true,
    "editable": true,
    "frozen": false
   },
   "outputs": [],
   "source": [
    "df_over_year.bfill(axis=1, inplace=True)"
   ]
  },
  {
   "cell_type": "code",
   "execution_count": null,
   "id": "55830555-4a45-4e35-8c5b-8727bfd2ab07",
   "metadata": {
    "deletable": true,
    "editable": true,
    "frozen": false
   },
   "outputs": [],
   "source": [
    "df_over_year.style.map(lambda x: f\"background:{map_color_values[pm10_to_category(x)]}\").format(precision=2)"
   ]
  },
  {
   "cell_type": "code",
   "execution_count": null,
   "id": "30874893-e115-42de-9788-7b6c496f2fab",
   "metadata": {
    "deletable": true,
    "editable": true,
    "frozen": false
   },
   "outputs": [],
   "source": [
    "df_over_year.style.map(lambda x: map_color_values[pm10_to_category[x]])"
   ]
  },
  {
   "cell_type": "code",
   "execution_count": null,
   "id": "31b2d91f-73a9-455d-a9f3-b97767c05848",
   "metadata": {
    "deletable": true,
    "editable": true,
    "frozen": false
   },
   "outputs": [],
   "source": [
    "df_over_year.style.background_gradient(cmap=\"Reds\", axis=0)"
   ]
  },
  {
   "cell_type": "code",
   "execution_count": null,
   "id": "beabbd97-6321-4a76-b6ac-66d52d1b673c",
   "metadata": {
    "deletable": true,
    "editable": true,
    "frozen": false
   },
   "outputs": [],
   "source": [
    "df_over_year.style.highlight_max(color='red').format(precision=2)"
   ]
  },
  {
   "cell_type": "code",
   "execution_count": null,
   "id": "3b55c76e-9cc1-44c9-894b-50a215f04cec",
   "metadata": {
    "deletable": true,
    "editable": true,
    "frozen": false
   },
   "outputs": [],
   "source": [
    "df['category'].unique()"
   ]
  },
  {
   "cell_type": "code",
   "execution_count": null,
   "id": "d7aec351-93e6-4621-a86c-a339c6d30a74",
   "metadata": {
    "deletable": true,
    "editable": true,
    "frozen": false
   },
   "outputs": [],
   "source": []
  }
 ],
 "metadata": {
  "kernelspec": {
   "display_name": "Python 3 (ipykernel)",
   "language": "python",
   "name": "python3"
  },
  "language_info": {
   "codemirror_mode": {
    "name": "ipython",
    "version": 3
   },
   "file_extension": ".py",
   "mimetype": "text/x-python",
   "name": "python",
   "nbconvert_exporter": "python",
   "pygments_lexer": "ipython3",
   "version": "3.9.12"
  }
 },
 "nbformat": 4,
 "nbformat_minor": 5
}
