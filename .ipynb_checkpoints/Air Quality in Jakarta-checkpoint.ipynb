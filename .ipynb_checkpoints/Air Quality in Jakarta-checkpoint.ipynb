{
 "cells": [
  {
   "cell_type": "markdown",
   "id": "19681fb8-58f2-419f-9a8e-482597dd17da",
   "metadata": {
    "deletable": true,
    "editable": true,
    "frozen": false
   },
   "source": [
    "- https://satudata.jakarta.go.id/search?q=udara&halaman=open-data&kategori=dataset&topik=all&organisasi=all&status=all&sort=desc&page_no=2\n",
    "- https://www.kaggle.com/datasets/senadu34/air-quality-index-in-jakarta-2010-2021"
   ]
  },
  {
   "cell_type": "code",
   "execution_count": 1,
   "id": "ea6cbe1a-8953-45b7-8a59-6caa5af8fc39",
   "metadata": {
    "deletable": true,
    "editable": true,
    "execution": {
     "iopub.execute_input": "2024-07-25T04:31:51.405091Z",
     "iopub.status.busy": "2024-07-25T04:31:51.403131Z",
     "iopub.status.idle": "2024-07-25T04:31:52.303409Z",
     "shell.execute_reply": "2024-07-25T04:31:52.302408Z",
     "shell.execute_reply.started": "2024-07-25T04:31:51.404129Z"
    },
    "frozen": false
   },
   "outputs": [],
   "source": [
    "import os\n",
    "\n",
    "import pandas as pd"
   ]
  },
  {
   "cell_type": "markdown",
   "id": "c74aa35e-426c-41c0-a82a-f5d57ecd125b",
   "metadata": {
    "deletable": true,
    "editable": true,
    "frozen": false
   },
   "source": [
    "- **periode_data** : Penjelasan Periode Data 1 Bulan Sekali\n",
    "- **bulan** : adalah bulan penggambilan data Indeks Standar Pencemar Udara (ISPU)\n",
    "- **tanggal** : adalah tanggal pengambilan data Indeks Standar Pencemar Udara (ISPU)\n",
    "- **stasiun** : adalah lokasi penempatan alat pemantauan udara\n",
    "- **pm_sepuluh** : adalah nilai hasil pengukuran Indeks Standar Pencemar Udara (ISPU) untuk parameter - PM10 (nama salah satu nama parameter yang dipantau) yaitu Partikulat dengan ukuran di bawah 10 mikron\n",
    "- **pm_duakomalima** : adalah nilai hasil pengukuran Indeks Standar Pencemar Udara (ISPU) untuk parameter PM2.5 (nama salah satu nama parameter yang dipantau), yaitu Partikulat dengan ukuran di bawah 2.5 mikron\n",
    "- **sulfur_dioksida** : adalah nilai hasil pengukuran Indeks Standar Pencemar Udara (ISPU) untuk parameter sulfur dioksida/ SO2 (nama salah satu nama parameter yang dipantau)\n",
    "- **karbon_monoksida** : adalah nilai hasil pengukuran Indeks Standar Pencemar Udara (ISPU) untuk parameter karbon monoksida/ CO (nama salah satu nama parameter yang dipantau)\n",
    "- **ozon** : adalah nilai hasil pengukuran Indeks Standar Pencemar Udara (ISPU) untuk parameter ozon/ O3 (nama salah satu nama parameter yang dipantau)\n",
    "- **nitrogen_dioksida** : adalah nilai hasil pengukuran Indeks Standar Pencemar Udara (ISPU) untuk parameter nitrogen dioksida/ NO2 (nama salah satu nama parameter yang dipantau)\n",
    "- **max** : adalah nilai tertinggi hasil pengukuran Indeks Standar Pencemar Udara (ISPU) dari beberapa parameter yang dipantau pada Stasiun Pemantau Kualitas Udara (SPKU) dan tanggal pengukuran tertentu\n",
    "- **parameter_pencemar_kritis** : adalah nama parameter yang dipantau yang hasil nilai Indeks Standar Pencemar Udara (ISPU) nya paling tinggi pada Stasiun Pemantau Kualitas Udara (SPKU) dan tanggal tertentu\n",
    "- **kategori** : adalah kategori hasil pengukuran Indeks Standar Pencemar Udara (ISPU) pada Stasiun Pemantau Kualitas Udara (SPKU) dan tanggal tertentu"
   ]
  },
  {
   "cell_type": "code",
   "execution_count": 27,
   "id": "f6ac3556-7f9a-46ce-9f0c-93131a3ed9ae",
   "metadata": {
    "deletable": true,
    "editable": true,
    "execution": {
     "iopub.execute_input": "2024-07-25T04:37:23.980776Z",
     "iopub.status.busy": "2024-07-25T04:37:23.979779Z",
     "iopub.status.idle": "2024-07-25T04:37:23.989752Z",
     "shell.execute_reply": "2024-07-25T04:37:23.988757Z",
     "shell.execute_reply.started": "2024-07-25T04:37:23.980776Z"
    },
    "frozen": false
   },
   "outputs": [],
   "source": [
    "base_path = r\"F:\\Data\\datas\\Air Quality\""
   ]
  },
  {
   "cell_type": "code",
   "execution_count": 12,
   "id": "82afed18-81b0-454b-844e-ff8a903dd3ae",
   "metadata": {
    "deletable": true,
    "editable": true,
    "execution": {
     "iopub.execute_input": "2024-07-25T04:35:13.159784Z",
     "iopub.status.busy": "2024-07-25T04:35:13.159784Z",
     "iopub.status.idle": "2024-07-25T04:35:13.177440Z",
     "shell.execute_reply": "2024-07-25T04:35:13.176442Z",
     "shell.execute_reply.started": "2024-07-25T04:35:13.159784Z"
    },
    "frozen": false
   },
   "outputs": [],
   "source": [
    "filename = \"Data Indeks Standar Pencemar Udara (ISPU) di Provinsi DKI Jakarta 2022.csv\"\n",
    "filepath = os.path.join(path, filename)"
   ]
  },
  {
   "cell_type": "code",
   "execution_count": 28,
   "id": "0ecea2d5-9fae-4e72-8fc4-d469087d32c4",
   "metadata": {
    "deletable": true,
    "editable": true,
    "execution": {
     "iopub.execute_input": "2024-07-25T04:37:27.767506Z",
     "iopub.status.busy": "2024-07-25T04:37:27.767107Z",
     "iopub.status.idle": "2024-07-25T04:37:27.781469Z",
     "shell.execute_reply": "2024-07-25T04:37:27.779484Z",
     "shell.execute_reply.started": "2024-07-25T04:37:27.767506Z"
    },
    "frozen": false
   },
   "outputs": [],
   "source": [
    "paths = [os.path.join(base_path, f\"ispu DKI\\ispu_dki{i}.csv\") for i in range(1, 6)]"
   ]
  },
  {
   "cell_type": "code",
   "execution_count": 30,
   "id": "e6485935-ec0c-49fc-9d0c-9994e652a30f",
   "metadata": {
    "deletable": true,
    "editable": true,
    "execution": {
     "iopub.execute_input": "2024-07-25T04:37:34.557258Z",
     "iopub.status.busy": "2024-07-25T04:37:34.556260Z",
     "iopub.status.idle": "2024-07-25T04:37:34.669271Z",
     "shell.execute_reply": "2024-07-25T04:37:34.668350Z",
     "shell.execute_reply.started": "2024-07-25T04:37:34.557258Z"
    },
    "frozen": false
   },
   "outputs": [],
   "source": [
    "df = pd.DataFrame()\n",
    "for path in paths:\n",
    "    if df.empty:\n",
    "        df = pd.read_csv(path)\n",
    "    else:\n",
    "        df = pd.concat([df, pd.read_csv(path)], axis=0)"
   ]
  },
  {
   "cell_type": "code",
   "execution_count": 13,
   "id": "c764513b-b71a-42ec-ba07-125a9460acff",
   "metadata": {
    "deletable": true,
    "editable": true,
    "execution": {
     "iopub.execute_input": "2024-07-25T04:35:16.048298Z",
     "iopub.status.busy": "2024-07-25T04:35:16.048298Z",
     "iopub.status.idle": "2024-07-25T04:35:16.340894Z",
     "shell.execute_reply": "2024-07-25T04:35:16.338739Z",
     "shell.execute_reply.started": "2024-07-25T04:35:16.048298Z"
    },
    "frozen": false
   },
   "outputs": [],
   "source": [
    "df = pd.read_csv(filepath)"
   ]
  },
  {
   "cell_type": "code",
   "execution_count": 41,
   "id": "3b54713e-a03e-46a7-a60c-8e201a346cc2",
   "metadata": {
    "deletable": true,
    "editable": true,
    "execution": {
     "iopub.execute_input": "2024-07-25T04:41:43.494758Z",
     "iopub.status.busy": "2024-07-25T04:41:43.494758Z",
     "iopub.status.idle": "2024-07-25T04:41:43.666792Z",
     "shell.execute_reply": "2024-07-25T04:41:43.664594Z",
     "shell.execute_reply.started": "2024-07-25T04:41:43.494758Z"
    },
    "frozen": false
   },
   "outputs": [],
   "source": [
    "df['tanggal'] = pd.to_datetime(df['tanggal'])"
   ]
  },
  {
   "cell_type": "code",
   "execution_count": 53,
   "id": "7acb725c-bb74-4912-b03b-94afd544e72c",
   "metadata": {
    "deletable": true,
    "editable": true,
    "execution": {
     "iopub.execute_input": "2024-07-25T04:45:23.440179Z",
     "iopub.status.busy": "2024-07-25T04:45:23.439182Z",
     "iopub.status.idle": "2024-07-25T04:45:23.464141Z",
     "shell.execute_reply": "2024-07-25T04:45:23.463010Z",
     "shell.execute_reply.started": "2024-07-25T04:45:23.439182Z"
    },
    "frozen": false,
    "scrolled": true
   },
   "outputs": [],
   "source": [
    "df['year'] = df['tanggal'].dt.year\n",
    "df['month'] = df['tanggal'].dt.month\n",
    "df['day'] = df['tanggal'].dt.day"
   ]
  },
  {
   "cell_type": "code",
   "execution_count": 82,
   "id": "c03c87df-3682-4089-8c95-ae0817a29a17",
   "metadata": {
    "deletable": true,
    "editable": true,
    "execution": {
     "iopub.execute_input": "2024-07-25T04:50:37.894488Z",
     "iopub.status.busy": "2024-07-25T04:50:37.893488Z",
     "iopub.status.idle": "2024-07-25T04:50:38.223933Z",
     "shell.execute_reply": "2024-07-25T04:50:38.221941Z",
     "shell.execute_reply.started": "2024-07-25T04:50:37.894488Z"
    },
    "frozen": false
   },
   "outputs": [
    {
     "data": {
      "text/html": [
       "<div>\n",
       "<style scoped>\n",
       "    .dataframe tbody tr th:only-of-type {\n",
       "        vertical-align: middle;\n",
       "    }\n",
       "\n",
       "    .dataframe tbody tr th {\n",
       "        vertical-align: top;\n",
       "    }\n",
       "\n",
       "    .dataframe thead th {\n",
       "        text-align: right;\n",
       "    }\n",
       "</style>\n",
       "<table border=\"1\" class=\"dataframe\">\n",
       "  <thead>\n",
       "    <tr style=\"text-align: right;\">\n",
       "      <th>year</th>\n",
       "      <th>2010</th>\n",
       "      <th>2011</th>\n",
       "      <th>2012</th>\n",
       "      <th>2013</th>\n",
       "      <th>2014</th>\n",
       "      <th>2015</th>\n",
       "      <th>2016</th>\n",
       "      <th>2017</th>\n",
       "      <th>2018</th>\n",
       "      <th>2019</th>\n",
       "      <th>2020</th>\n",
       "      <th>2021</th>\n",
       "      <th>All</th>\n",
       "    </tr>\n",
       "    <tr>\n",
       "      <th>stasiun</th>\n",
       "      <th></th>\n",
       "      <th></th>\n",
       "      <th></th>\n",
       "      <th></th>\n",
       "      <th></th>\n",
       "      <th></th>\n",
       "      <th></th>\n",
       "      <th></th>\n",
       "      <th></th>\n",
       "      <th></th>\n",
       "      <th></th>\n",
       "      <th></th>\n",
       "      <th></th>\n",
       "    </tr>\n",
       "  </thead>\n",
       "  <tbody>\n",
       "    <tr>\n",
       "      <th>DKI1 (Bunderan HI)</th>\n",
       "      <td>51.540845</td>\n",
       "      <td>53.309735</td>\n",
       "      <td>54.212885</td>\n",
       "      <td>61.631250</td>\n",
       "      <td>52.357576</td>\n",
       "      <td>59.350148</td>\n",
       "      <td>53.359773</td>\n",
       "      <td>45.980114</td>\n",
       "      <td>45.971429</td>\n",
       "      <td>52.229226</td>\n",
       "      <td>48.307692</td>\n",
       "      <td>49.832877</td>\n",
       "      <td>52.226325</td>\n",
       "    </tr>\n",
       "    <tr>\n",
       "      <th>DKI2 (Kelapa Gading)</th>\n",
       "      <td>18.122449</td>\n",
       "      <td>51.822086</td>\n",
       "      <td>62.783099</td>\n",
       "      <td>55.579832</td>\n",
       "      <td>57.496914</td>\n",
       "      <td>58.897959</td>\n",
       "      <td>53.361644</td>\n",
       "      <td>49.477273</td>\n",
       "      <td>54.484507</td>\n",
       "      <td>61.104972</td>\n",
       "      <td>53.077994</td>\n",
       "      <td>55.795518</td>\n",
       "      <td>55.346311</td>\n",
       "    </tr>\n",
       "    <tr>\n",
       "      <th>DKI3 (Jagakarsa)</th>\n",
       "      <td>49.882353</td>\n",
       "      <td>49.890625</td>\n",
       "      <td>42.350000</td>\n",
       "      <td>29.827195</td>\n",
       "      <td>23.073964</td>\n",
       "      <td>19.660256</td>\n",
       "      <td>51.903333</td>\n",
       "      <td>47.890855</td>\n",
       "      <td>49.492711</td>\n",
       "      <td>56.183616</td>\n",
       "      <td>49.266289</td>\n",
       "      <td>53.421203</td>\n",
       "      <td>43.192736</td>\n",
       "    </tr>\n",
       "    <tr>\n",
       "      <th>DKI4 (Lubang Buaya)</th>\n",
       "      <td>47.945946</td>\n",
       "      <td>77.876471</td>\n",
       "      <td>78.030211</td>\n",
       "      <td>61.501401</td>\n",
       "      <td>61.424157</td>\n",
       "      <td>70.534375</td>\n",
       "      <td>58.342618</td>\n",
       "      <td>57.289326</td>\n",
       "      <td>60.282913</td>\n",
       "      <td>59.230539</td>\n",
       "      <td>59.852507</td>\n",
       "      <td>54.042042</td>\n",
       "      <td>63.211312</td>\n",
       "    </tr>\n",
       "    <tr>\n",
       "      <th>DKI5 (Kebon Jeruk)</th>\n",
       "      <td>NaN</td>\n",
       "      <td>NaN</td>\n",
       "      <td>58.000000</td>\n",
       "      <td>56.502976</td>\n",
       "      <td>57.917127</td>\n",
       "      <td>53.401198</td>\n",
       "      <td>48.541538</td>\n",
       "      <td>39.382637</td>\n",
       "      <td>51.372549</td>\n",
       "      <td>56.784916</td>\n",
       "      <td>46.358127</td>\n",
       "      <td>48.376771</td>\n",
       "      <td>51.137211</td>\n",
       "    </tr>\n",
       "    <tr>\n",
       "      <th>All</th>\n",
       "      <td>47.770325</td>\n",
       "      <td>58.421887</td>\n",
       "      <td>58.947740</td>\n",
       "      <td>52.834591</td>\n",
       "      <td>50.607602</td>\n",
       "      <td>52.699878</td>\n",
       "      <td>53.234430</td>\n",
       "      <td>48.233333</td>\n",
       "      <td>52.366061</td>\n",
       "      <td>57.113830</td>\n",
       "      <td>51.264342</td>\n",
       "      <td>52.262379</td>\n",
       "      <td>53.113963</td>\n",
       "    </tr>\n",
       "  </tbody>\n",
       "</table>\n",
       "</div>"
      ],
      "text/plain": [
       "year                       2010       2011       2012       2013       2014  \\\n",
       "stasiun                                                                       \n",
       "DKI1 (Bunderan HI)    51.540845  53.309735  54.212885  61.631250  52.357576   \n",
       "DKI2 (Kelapa Gading)  18.122449  51.822086  62.783099  55.579832  57.496914   \n",
       "DKI3 (Jagakarsa)      49.882353  49.890625  42.350000  29.827195  23.073964   \n",
       "DKI4 (Lubang Buaya)   47.945946  77.876471  78.030211  61.501401  61.424157   \n",
       "DKI5 (Kebon Jeruk)          NaN        NaN  58.000000  56.502976  57.917127   \n",
       "All                   47.770325  58.421887  58.947740  52.834591  50.607602   \n",
       "\n",
       "year                       2015       2016       2017       2018       2019  \\\n",
       "stasiun                                                                       \n",
       "DKI1 (Bunderan HI)    59.350148  53.359773  45.980114  45.971429  52.229226   \n",
       "DKI2 (Kelapa Gading)  58.897959  53.361644  49.477273  54.484507  61.104972   \n",
       "DKI3 (Jagakarsa)      19.660256  51.903333  47.890855  49.492711  56.183616   \n",
       "DKI4 (Lubang Buaya)   70.534375  58.342618  57.289326  60.282913  59.230539   \n",
       "DKI5 (Kebon Jeruk)    53.401198  48.541538  39.382637  51.372549  56.784916   \n",
       "All                   52.699878  53.234430  48.233333  52.366061  57.113830   \n",
       "\n",
       "year                       2020       2021        All  \n",
       "stasiun                                                \n",
       "DKI1 (Bunderan HI)    48.307692  49.832877  52.226325  \n",
       "DKI2 (Kelapa Gading)  53.077994  55.795518  55.346311  \n",
       "DKI3 (Jagakarsa)      49.266289  53.421203  43.192736  \n",
       "DKI4 (Lubang Buaya)   59.852507  54.042042  63.211312  \n",
       "DKI5 (Kebon Jeruk)    46.358127  48.376771  51.137211  \n",
       "All                   51.264342  52.262379  53.113963  "
      ]
     },
     "execution_count": 82,
     "metadata": {},
     "output_type": "execute_result"
    }
   ],
   "source": [
    "df.pivot_table(index='stasiun', columns='year', values='pm10', aggfunc={'pm10': 'mean'}, margins=True)"
   ]
  },
  {
   "cell_type": "code",
   "execution_count": 56,
   "id": "876e7bb8-ec56-4a01-b158-8b57924f9f84",
   "metadata": {
    "deletable": true,
    "editable": true,
    "execution": {
     "iopub.execute_input": "2024-07-25T04:45:39.670901Z",
     "iopub.status.busy": "2024-07-25T04:45:39.669944Z",
     "iopub.status.idle": "2024-07-25T04:45:39.724865Z",
     "shell.execute_reply": "2024-07-25T04:45:39.723907Z",
     "shell.execute_reply.started": "2024-07-25T04:45:39.670901Z"
    },
    "frozen": false,
    "scrolled": true
   },
   "outputs": [
    {
     "data": {
      "text/html": [
       "<div>\n",
       "<style scoped>\n",
       "    .dataframe tbody tr th:only-of-type {\n",
       "        vertical-align: middle;\n",
       "    }\n",
       "\n",
       "    .dataframe tbody tr th {\n",
       "        vertical-align: top;\n",
       "    }\n",
       "\n",
       "    .dataframe thead tr th {\n",
       "        text-align: left;\n",
       "    }\n",
       "\n",
       "    .dataframe thead tr:last-of-type th {\n",
       "        text-align: right;\n",
       "    }\n",
       "</style>\n",
       "<table border=\"1\" class=\"dataframe\">\n",
       "  <thead>\n",
       "    <tr>\n",
       "      <th></th>\n",
       "      <th colspan=\"12\" halign=\"left\">pm10</th>\n",
       "    </tr>\n",
       "    <tr>\n",
       "      <th>year</th>\n",
       "      <th>2010</th>\n",
       "      <th>2011</th>\n",
       "      <th>2012</th>\n",
       "      <th>2013</th>\n",
       "      <th>2014</th>\n",
       "      <th>2015</th>\n",
       "      <th>2016</th>\n",
       "      <th>2017</th>\n",
       "      <th>2018</th>\n",
       "      <th>2019</th>\n",
       "      <th>2020</th>\n",
       "      <th>2021</th>\n",
       "    </tr>\n",
       "    <tr>\n",
       "      <th>stasiun</th>\n",
       "      <th></th>\n",
       "      <th></th>\n",
       "      <th></th>\n",
       "      <th></th>\n",
       "      <th></th>\n",
       "      <th></th>\n",
       "      <th></th>\n",
       "      <th></th>\n",
       "      <th></th>\n",
       "      <th></th>\n",
       "      <th></th>\n",
       "      <th></th>\n",
       "    </tr>\n",
       "  </thead>\n",
       "  <tbody>\n",
       "    <tr>\n",
       "      <th>DKI1 (Bunderan HI)</th>\n",
       "      <td>51.540845</td>\n",
       "      <td>53.309735</td>\n",
       "      <td>54.212885</td>\n",
       "      <td>61.631250</td>\n",
       "      <td>52.357576</td>\n",
       "      <td>59.350148</td>\n",
       "      <td>53.359773</td>\n",
       "      <td>45.980114</td>\n",
       "      <td>45.971429</td>\n",
       "      <td>52.229226</td>\n",
       "      <td>48.307692</td>\n",
       "      <td>49.832877</td>\n",
       "    </tr>\n",
       "    <tr>\n",
       "      <th>DKI2 (Kelapa Gading)</th>\n",
       "      <td>18.122449</td>\n",
       "      <td>51.822086</td>\n",
       "      <td>62.783099</td>\n",
       "      <td>55.579832</td>\n",
       "      <td>57.496914</td>\n",
       "      <td>58.897959</td>\n",
       "      <td>53.361644</td>\n",
       "      <td>49.477273</td>\n",
       "      <td>54.484507</td>\n",
       "      <td>61.104972</td>\n",
       "      <td>53.077994</td>\n",
       "      <td>55.795518</td>\n",
       "    </tr>\n",
       "    <tr>\n",
       "      <th>DKI3 (Jagakarsa)</th>\n",
       "      <td>49.882353</td>\n",
       "      <td>49.890625</td>\n",
       "      <td>42.350000</td>\n",
       "      <td>29.827195</td>\n",
       "      <td>23.073964</td>\n",
       "      <td>19.660256</td>\n",
       "      <td>51.903333</td>\n",
       "      <td>47.890855</td>\n",
       "      <td>49.492711</td>\n",
       "      <td>56.183616</td>\n",
       "      <td>49.266289</td>\n",
       "      <td>53.421203</td>\n",
       "    </tr>\n",
       "    <tr>\n",
       "      <th>DKI4 (Lubang Buaya)</th>\n",
       "      <td>47.945946</td>\n",
       "      <td>77.876471</td>\n",
       "      <td>78.030211</td>\n",
       "      <td>61.501401</td>\n",
       "      <td>61.424157</td>\n",
       "      <td>70.534375</td>\n",
       "      <td>58.342618</td>\n",
       "      <td>57.289326</td>\n",
       "      <td>60.282913</td>\n",
       "      <td>59.230539</td>\n",
       "      <td>59.852507</td>\n",
       "      <td>54.042042</td>\n",
       "    </tr>\n",
       "    <tr>\n",
       "      <th>DKI5 (Kebon Jeruk)</th>\n",
       "      <td>NaN</td>\n",
       "      <td>NaN</td>\n",
       "      <td>58.000000</td>\n",
       "      <td>56.502976</td>\n",
       "      <td>57.917127</td>\n",
       "      <td>53.401198</td>\n",
       "      <td>48.541538</td>\n",
       "      <td>39.382637</td>\n",
       "      <td>51.372549</td>\n",
       "      <td>56.784916</td>\n",
       "      <td>46.358127</td>\n",
       "      <td>48.376771</td>\n",
       "    </tr>\n",
       "  </tbody>\n",
       "</table>\n",
       "</div>"
      ],
      "text/plain": [
       "                           pm10                                              \\\n",
       "year                       2010       2011       2012       2013       2014   \n",
       "stasiun                                                                       \n",
       "DKI1 (Bunderan HI)    51.540845  53.309735  54.212885  61.631250  52.357576   \n",
       "DKI2 (Kelapa Gading)  18.122449  51.822086  62.783099  55.579832  57.496914   \n",
       "DKI3 (Jagakarsa)      49.882353  49.890625  42.350000  29.827195  23.073964   \n",
       "DKI4 (Lubang Buaya)   47.945946  77.876471  78.030211  61.501401  61.424157   \n",
       "DKI5 (Kebon Jeruk)          NaN        NaN  58.000000  56.502976  57.917127   \n",
       "\n",
       "                                                                             \\\n",
       "year                       2015       2016       2017       2018       2019   \n",
       "stasiun                                                                       \n",
       "DKI1 (Bunderan HI)    59.350148  53.359773  45.980114  45.971429  52.229226   \n",
       "DKI2 (Kelapa Gading)  58.897959  53.361644  49.477273  54.484507  61.104972   \n",
       "DKI3 (Jagakarsa)      19.660256  51.903333  47.890855  49.492711  56.183616   \n",
       "DKI4 (Lubang Buaya)   70.534375  58.342618  57.289326  60.282913  59.230539   \n",
       "DKI5 (Kebon Jeruk)    53.401198  48.541538  39.382637  51.372549  56.784916   \n",
       "\n",
       "                                            \n",
       "year                       2020       2021  \n",
       "stasiun                                     \n",
       "DKI1 (Bunderan HI)    48.307692  49.832877  \n",
       "DKI2 (Kelapa Gading)  53.077994  55.795518  \n",
       "DKI3 (Jagakarsa)      49.266289  53.421203  \n",
       "DKI4 (Lubang Buaya)   59.852507  54.042042  \n",
       "DKI5 (Kebon Jeruk)    46.358127  48.376771  "
      ]
     },
     "execution_count": 56,
     "metadata": {},
     "output_type": "execute_result"
    }
   ],
   "source": [
    "df.groupby(['year', 'stasiun']).agg({'pm10': 'mean'}).unstack(0)"
   ]
  },
  {
   "cell_type": "code",
   "execution_count": null,
   "id": "139f2fd0-1362-46c6-81fd-b3e70f700e8d",
   "metadata": {
    "deletable": true,
    "editable": true,
    "frozen": false
   },
   "outputs": [],
   "source": [
    "df['stasiun'].value_counts()"
   ]
  }
 ],
 "metadata": {
  "kernelspec": {
   "display_name": "Python 3 (ipykernel)",
   "language": "python",
   "name": "python3"
  },
  "language_info": {
   "codemirror_mode": {
    "name": "ipython",
    "version": 3
   },
   "file_extension": ".py",
   "mimetype": "text/x-python",
   "name": "python",
   "nbconvert_exporter": "python",
   "pygments_lexer": "ipython3",
   "version": "3.9.12"
  }
 },
 "nbformat": 4,
 "nbformat_minor": 5
}
