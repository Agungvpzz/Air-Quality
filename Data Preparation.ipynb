{
 "cells": [
  {
   "cell_type": "code",
   "execution_count": 34,
   "id": "ea6cbe1a-8953-45b7-8a59-6caa5af8fc39",
   "metadata": {
    "deletable": true,
    "editable": true,
    "execution": {
     "iopub.execute_input": "2024-07-25T14:30:11.441787Z",
     "iopub.status.busy": "2024-07-25T14:30:11.440789Z",
     "iopub.status.idle": "2024-07-25T14:30:11.449765Z",
     "shell.execute_reply": "2024-07-25T14:30:11.448769Z",
     "shell.execute_reply.started": "2024-07-25T14:30:11.441787Z"
    },
    "frozen": false
   },
   "outputs": [],
   "source": [
    "import os\n",
    "import re\n",
    "\n",
    "import pandas as pd\n",
    "import numpy as np"
   ]
  },
  {
   "cell_type": "markdown",
   "id": "9821658e-a75c-4651-be6e-5428a5eb32c3",
   "metadata": {
    "deletable": true,
    "editable": true,
    "execution": {
     "iopub.execute_input": "2024-07-25T09:34:08.779859Z",
     "iopub.status.busy": "2024-07-25T09:34:08.779859Z",
     "iopub.status.idle": "2024-07-25T09:34:08.794821Z",
     "shell.execute_reply": "2024-07-25T09:34:08.793822Z",
     "shell.execute_reply.started": "2024-07-25T09:34:08.779859Z"
    },
    "frozen": false
   },
   "source": [
    "### Data Sources and Legend"
   ]
  },
  {
   "cell_type": "markdown",
   "id": "4bc1f6e7-7340-42fd-b612-1578966abc5f",
   "metadata": {
    "deletable": true,
    "editable": true,
    "execution": {
     "iopub.execute_input": "2024-07-25T09:44:08.117672Z",
     "iopub.status.busy": "2024-07-25T09:44:08.116677Z",
     "iopub.status.idle": "2024-07-25T09:44:08.140189Z",
     "shell.execute_reply": "2024-07-25T09:44:08.139192Z",
     "shell.execute_reply.started": "2024-07-25T09:44:08.116677Z"
    },
    "frozen": false
   },
   "source": [
    "- https://satudata.jakarta.go.id/\n",
    "- https://www.kaggle.com/datasets/senadu34/air-quality-index-in-jakarta-2010-2021"
   ]
  },
  {
   "cell_type": "markdown",
   "id": "ae25f7eb-cf2c-41c2-84f3-078ab970a0ff",
   "metadata": {
    "deletable": true,
    "editable": true,
    "frozen": false
   },
   "source": [
    "- **date** : Date of air quality measurement\n",
    "- **station** : Measurement location at the station\n",
    "- **pm10** : Particulate matter one of the measured parameters\n",
    "- **pm25** : Particulate matter one of the parameters measured\n",
    "- **so2** : Sulfide (in the form of SO2) one of the parameters measured\n",
    "- **co** : Carbon Monoxide one of the parameters measured\n",
    "- **o3** : Ozone is one of the measured parameters\n",
    "- **no2** : Nitrogen dioxide one of the parameters measured\n",
    "- **max** : The highest measured value of all parameters measured at the same time\n",
    "- **critical**: The parameter with the highest measurement results\n",
    "- **category** : Category based on the calculation of the air pollution standard index"
   ]
  },
  {
   "cell_type": "markdown",
   "id": "96cf400a-2a7e-427b-9b6b-de563d18681a",
   "metadata": {
    "deletable": true,
    "editable": true,
    "execution": {
     "iopub.execute_input": "2024-07-25T09:35:26.727110Z",
     "iopub.status.busy": "2024-07-25T09:35:26.726112Z",
     "iopub.status.idle": "2024-07-25T09:35:26.742466Z",
     "shell.execute_reply": "2024-07-25T09:35:26.741468Z",
     "shell.execute_reply.started": "2024-07-25T09:35:26.727110Z"
    },
    "frozen": false
   },
   "source": [
    "### Load Dataset"
   ]
  },
  {
   "cell_type": "code",
   "execution_count": 2,
   "id": "f6ac3556-7f9a-46ce-9f0c-93131a3ed9ae",
   "metadata": {
    "deletable": true,
    "editable": true,
    "execution": {
     "iopub.execute_input": "2024-07-25T14:18:35.719025Z",
     "iopub.status.busy": "2024-07-25T14:18:35.718026Z",
     "iopub.status.idle": "2024-07-25T14:18:35.736977Z",
     "shell.execute_reply": "2024-07-25T14:18:35.736019Z",
     "shell.execute_reply.started": "2024-07-25T14:18:35.719025Z"
    },
    "frozen": false
   },
   "outputs": [],
   "source": [
    "base_path = r\"F:\\Data\\datas\\Air Quality\""
   ]
  },
  {
   "cell_type": "code",
   "execution_count": 3,
   "id": "82afed18-81b0-454b-844e-ff8a903dd3ae",
   "metadata": {
    "deletable": true,
    "editable": true,
    "execution": {
     "iopub.execute_input": "2024-07-25T14:18:36.545551Z",
     "iopub.status.busy": "2024-07-25T14:18:36.543555Z",
     "iopub.status.idle": "2024-07-25T14:18:36.865945Z",
     "shell.execute_reply": "2024-07-25T14:18:36.863939Z",
     "shell.execute_reply.started": "2024-07-25T14:18:36.545551Z"
    },
    "frozen": false
   },
   "outputs": [],
   "source": [
    "ISPU_JKT_2022_filepath = os.path.join(base_path, \"ISPU DKI 2022.csv\")\n",
    "ISPU_JKT_2023_filepath = os.path.join(base_path, \"ISPU DKI 2023.csv\")\n",
    "ISPU_JKT_2024_filepath = os.path.join(base_path, \"ISPU DKI 2024.csv\")\n",
    "\n",
    "df_ispa_dki_2022 =  pd.read_csv(ISPU_JKT_2022_filepath)\n",
    "df_ispa_dki_2023 =  pd.read_csv(ISPU_JKT_2023_filepath)\n",
    "df_ispa_dki_2024 =  pd.read_csv(ISPU_JKT_2024_filepath)"
   ]
  },
  {
   "cell_type": "code",
   "execution_count": 4,
   "id": "47781a3d-2711-4bfd-a12d-a186fdcb32d6",
   "metadata": {
    "deletable": true,
    "editable": true,
    "execution": {
     "iopub.execute_input": "2024-07-25T14:18:38.508902Z",
     "iopub.status.busy": "2024-07-25T14:18:38.507902Z",
     "iopub.status.idle": "2024-07-25T14:18:38.948415Z",
     "shell.execute_reply": "2024-07-25T14:18:38.947741Z",
     "shell.execute_reply.started": "2024-07-25T14:18:38.508902Z"
    },
    "frozen": false
   },
   "outputs": [],
   "source": [
    "paths = [os.path.join(base_path, f\"ispu DKI\\ispu_dki{i}.csv\") for i in range(1, 6)]\n",
    "\n",
    "df_ispa_dki = pd.DataFrame()\n",
    "for path in paths:\n",
    "    if df_ispa_dki.empty:\n",
    "        df_ispa_dki = pd.read_csv(path)\n",
    "    else:\n",
    "        df_ispa_dki = pd.concat([df_ispa_dki, pd.read_csv(path)], axis=0)"
   ]
  },
  {
   "cell_type": "markdown",
   "id": "120135e4-6054-40fd-ae01-a87211367286",
   "metadata": {
    "deletable": true,
    "editable": true,
    "execution": {
     "iopub.execute_input": "2024-07-25T09:34:43.700253Z",
     "iopub.status.busy": "2024-07-25T09:34:43.699292Z",
     "iopub.status.idle": "2024-07-25T09:34:43.709228Z",
     "shell.execute_reply": "2024-07-25T09:34:43.708231Z",
     "shell.execute_reply.started": "2024-07-25T09:34:43.700253Z"
    },
    "frozen": false
   },
   "source": [
    "### Data Cleaning (Individually)"
   ]
  },
  {
   "cell_type": "markdown",
   "id": "55defa3f-ca5d-4c94-ac41-252c05774314",
   "metadata": {
    "deletable": true,
    "editable": true,
    "execution": {
     "iopub.execute_input": "2024-07-25T09:39:21.133454Z",
     "iopub.status.busy": "2024-07-25T09:39:21.133454Z",
     "iopub.status.idle": "2024-07-25T09:39:21.152324Z",
     "shell.execute_reply": "2024-07-25T09:39:21.151367Z",
     "shell.execute_reply.started": "2024-07-25T09:39:21.133454Z"
    },
    "frozen": false
   },
   "source": [
    "#### Remap column names"
   ]
  },
  {
   "cell_type": "code",
   "execution_count": 5,
   "id": "f91bd029-5924-4ef0-986d-4d824eeecb36",
   "metadata": {
    "deletable": true,
    "editable": true,
    "execution": {
     "iopub.execute_input": "2024-07-25T14:18:40.804318Z",
     "iopub.status.busy": "2024-07-25T14:18:40.803321Z",
     "iopub.status.idle": "2024-07-25T14:18:40.812296Z",
     "shell.execute_reply": "2024-07-25T14:18:40.811299Z",
     "shell.execute_reply.started": "2024-07-25T14:18:40.803321Z"
    },
    "frozen": false
   },
   "outputs": [],
   "source": [
    "remap_column_names = {\n",
    "    'tanggal':'date',\n",
    "    'pm_sepuluh':'pm10', \n",
    "    'pm_duakomalima':'pm25',\n",
    "    'sulfur_dioksida':'so2',\n",
    "    'karbon_monoksida':'co',\n",
    "    'ozon':'o3',\n",
    "    'nitrogen_dioksida':'no2',\n",
    "    'parameter_pencemar_kritis':'critical',\n",
    "    'categori':'category',\n",
    "    'kategori':'category',\n",
    "    'stasiun':'station',\n",
    "    'lokasi_spku':'station'    \n",
    "}"
   ]
  },
  {
   "cell_type": "code",
   "execution_count": 6,
   "id": "b489979f-0ae6-431d-a078-9f4a8bf6c037",
   "metadata": {
    "deletable": true,
    "editable": true,
    "execution": {
     "iopub.execute_input": "2024-07-25T14:18:41.531462Z",
     "iopub.status.busy": "2024-07-25T14:18:41.530501Z",
     "iopub.status.idle": "2024-07-25T14:18:41.546423Z",
     "shell.execute_reply": "2024-07-25T14:18:41.545423Z",
     "shell.execute_reply.started": "2024-07-25T14:18:41.531462Z"
    },
    "frozen": false
   },
   "outputs": [],
   "source": [
    "df_ispa_dki_2022.rename(remap_column_names, axis=1, inplace=True)\n",
    "df_ispa_dki_2023.rename(remap_column_names, axis=1, inplace=True)\n",
    "df_ispa_dki_2024.rename(remap_column_names, axis=1, inplace=True)\n",
    "df_ispa_dki.rename(remap_column_names, axis=1, inplace=True)"
   ]
  },
  {
   "cell_type": "markdown",
   "id": "d5d8731e-5108-4e68-9a1e-8327802d782a",
   "metadata": {
    "deletable": true,
    "editable": true,
    "execution": {
     "iopub.execute_input": "2024-07-25T10:20:12.773232Z",
     "iopub.status.busy": "2024-07-25T10:20:12.772233Z",
     "iopub.status.idle": "2024-07-25T10:20:12.790184Z",
     "shell.execute_reply": "2024-07-25T10:20:12.787195Z",
     "shell.execute_reply.started": "2024-07-25T10:20:12.773232Z"
    },
    "frozen": false
   },
   "source": [
    "#### Fixing row-value error"
   ]
  },
  {
   "cell_type": "code",
   "execution_count": 7,
   "id": "3d2ee135-1ecd-4e16-bcbb-00bea9d5b7b6",
   "metadata": {
    "deletable": true,
    "editable": true,
    "execution": {
     "iopub.execute_input": "2024-07-25T14:18:43.458956Z",
     "iopub.status.busy": "2024-07-25T14:18:43.457958Z",
     "iopub.status.idle": "2024-07-25T14:18:43.480897Z",
     "shell.execute_reply": "2024-07-25T14:18:43.479937Z",
     "shell.execute_reply.started": "2024-07-25T14:18:43.458956Z"
    },
    "frozen": false
   },
   "outputs": [],
   "source": [
    "station_mode_dki_2022 = df_ispa_dki_2022['station'].mode().iloc[0]\n",
    "df_ispa_dki_2022['station'].replace('0', station_mode_dki_2022, inplace=True)"
   ]
  },
  {
   "cell_type": "code",
   "execution_count": 8,
   "id": "94126c26-e210-43d4-92fd-c474c34589e0",
   "metadata": {
    "deletable": true,
    "editable": true,
    "execution": {
     "iopub.execute_input": "2024-07-25T14:18:44.349735Z",
     "iopub.status.busy": "2024-07-25T14:18:44.348738Z",
     "iopub.status.idle": "2024-07-25T14:18:44.360707Z",
     "shell.execute_reply": "2024-07-25T14:18:44.359708Z",
     "shell.execute_reply.started": "2024-07-25T14:18:44.349735Z"
    },
    "frozen": false
   },
   "outputs": [],
   "source": [
    "# Assuming the error value is '12/31/2022' as the missing date left on that day\n",
    "df_ispa_dki_2022.at[0, 'date'] = '12/31/2022'"
   ]
  },
  {
   "cell_type": "markdown",
   "id": "6a2f7f27-47d4-4647-b038-4b02c71d396c",
   "metadata": {
    "deletable": true,
    "editable": true,
    "execution": {
     "iopub.execute_input": "2024-07-25T09:41:51.426509Z",
     "iopub.status.busy": "2024-07-25T09:41:51.425513Z",
     "iopub.status.idle": "2024-07-25T09:41:51.439474Z",
     "shell.execute_reply": "2024-07-25T09:41:51.437480Z",
     "shell.execute_reply.started": "2024-07-25T09:41:51.426509Z"
    },
    "frozen": false
   },
   "source": [
    "#### Fixing column-date error"
   ]
  },
  {
   "cell_type": "code",
   "execution_count": 9,
   "id": "acacb2ea-b7f7-47e8-a2a6-dda0d44b2922",
   "metadata": {
    "deletable": true,
    "editable": true,
    "execution": {
     "iopub.execute_input": "2024-07-25T14:18:45.350425Z",
     "iopub.status.busy": "2024-07-25T14:18:45.349426Z",
     "iopub.status.idle": "2024-07-25T14:18:45.375355Z",
     "shell.execute_reply": "2024-07-25T14:18:45.373475Z",
     "shell.execute_reply.started": "2024-07-25T14:18:45.350425Z"
    },
    "frozen": false
   },
   "outputs": [],
   "source": [
    "df_ispa_dki_2024 = df_ispa_dki_2024.assign(\n",
    "    date = lambda df: \"2024\" + '-' + df['bulan'].astype(str) + '-' + df['date'].astype(str)\n",
    ")"
   ]
  },
  {
   "cell_type": "markdown",
   "id": "7d810864-d63e-4c8e-a866-db90024f8f16",
   "metadata": {
    "deletable": true,
    "editable": true,
    "execution": {
     "iopub.execute_input": "2024-07-25T09:43:08.445377Z",
     "iopub.status.busy": "2024-07-25T09:43:08.444345Z",
     "iopub.status.idle": "2024-07-25T09:43:08.466286Z",
     "shell.execute_reply": "2024-07-25T09:43:08.465286Z",
     "shell.execute_reply.started": "2024-07-25T09:43:08.444345Z"
    },
    "frozen": false
   },
   "source": [
    "#### Convert \"date\" to date time date type"
   ]
  },
  {
   "cell_type": "code",
   "execution_count": 10,
   "id": "141f412e-156e-4ef2-9550-09367c86e74e",
   "metadata": {
    "deletable": true,
    "editable": true,
    "execution": {
     "iopub.execute_input": "2024-07-25T14:18:48.025251Z",
     "iopub.status.busy": "2024-07-25T14:18:48.024255Z",
     "iopub.status.idle": "2024-07-25T14:18:48.087283Z",
     "shell.execute_reply": "2024-07-25T14:18:48.086598Z",
     "shell.execute_reply.started": "2024-07-25T14:18:48.025251Z"
    },
    "frozen": false
   },
   "outputs": [],
   "source": [
    "df_ispa_dki_2022['date'] = pd.to_datetime(df_ispa_dki_2022['date'])\n",
    "df_ispa_dki_2023['date'] = pd.to_datetime(df_ispa_dki_2023['date'])\n",
    "df_ispa_dki_2024['date'] = pd.to_datetime(df_ispa_dki_2024['date'])\n",
    "df_ispa_dki['date'] = pd.to_datetime(df_ispa_dki['date'])"
   ]
  },
  {
   "cell_type": "markdown",
   "id": "1465a429-fe27-4fbd-b970-522aa9ddbe2e",
   "metadata": {
    "deletable": true,
    "editable": true,
    "execution": {
     "iopub.execute_input": "2024-07-25T09:36:34.642289Z",
     "iopub.status.busy": "2024-07-25T09:36:34.641327Z",
     "iopub.status.idle": "2024-07-25T09:36:34.662105Z",
     "shell.execute_reply": "2024-07-25T09:36:34.660160Z",
     "shell.execute_reply.started": "2024-07-25T09:36:34.642289Z"
    },
    "frozen": false
   },
   "source": [
    "### Join Dataset"
   ]
  },
  {
   "cell_type": "code",
   "execution_count": 11,
   "id": "164e7ced-e514-4464-b884-cf60711f6e24",
   "metadata": {
    "deletable": true,
    "editable": true,
    "execution": {
     "iopub.execute_input": "2024-07-25T14:18:50.128720Z",
     "iopub.status.busy": "2024-07-25T14:18:50.127764Z",
     "iopub.status.idle": "2024-07-25T14:18:50.172115Z",
     "shell.execute_reply": "2024-07-25T14:18:50.171153Z",
     "shell.execute_reply.started": "2024-07-25T14:18:50.128720Z"
    },
    "frozen": false,
    "scrolled": true
   },
   "outputs": [],
   "source": [
    "df_ispa_dki_all = pd.concat([\n",
    "    df_ispa_dki,\n",
    "    df_ispa_dki_2022,\n",
    "    df_ispa_dki_2023,\n",
    "    df_ispa_dki_2024,\n",
    "])\n",
    "\n",
    "df_ispa_dki_all = df_ispa_dki_all.reset_index()"
   ]
  },
  {
   "cell_type": "markdown",
   "id": "5abe0a82-c44c-431b-9f94-9e5d6489a4b4",
   "metadata": {
    "deletable": true,
    "editable": true,
    "execution": {
     "iopub.execute_input": "2024-07-25T09:37:12.994484Z",
     "iopub.status.busy": "2024-07-25T09:37:12.993486Z",
     "iopub.status.idle": "2024-07-25T09:37:13.011439Z",
     "shell.execute_reply": "2024-07-25T09:37:13.009444Z",
     "shell.execute_reply.started": "2024-07-25T09:37:12.994484Z"
    },
    "frozen": false
   },
   "source": [
    "### Feature Selection"
   ]
  },
  {
   "cell_type": "code",
   "execution_count": 12,
   "id": "8ec6861f-af57-463d-b6c8-c9e4a0a22cae",
   "metadata": {
    "deletable": true,
    "editable": true,
    "execution": {
     "iopub.execute_input": "2024-07-25T14:18:52.299038Z",
     "iopub.status.busy": "2024-07-25T14:18:52.297044Z",
     "iopub.status.idle": "2024-07-25T14:18:52.307016Z",
     "shell.execute_reply": "2024-07-25T14:18:52.306018Z",
     "shell.execute_reply.started": "2024-07-25T14:18:52.299038Z"
    },
    "frozen": false
   },
   "outputs": [],
   "source": [
    "COLUMNS = ['date', 'station', 'pm10', 'pm25', 'so2', 'co', 'o3', 'no2', 'max', 'critical', 'category']"
   ]
  },
  {
   "cell_type": "code",
   "execution_count": 13,
   "id": "026f853a-3012-4d78-8bdb-5c4d86234064",
   "metadata": {
    "deletable": true,
    "editable": true,
    "execution": {
     "iopub.execute_input": "2024-07-25T14:18:52.820929Z",
     "iopub.status.busy": "2024-07-25T14:18:52.819936Z",
     "iopub.status.idle": "2024-07-25T14:18:52.852842Z",
     "shell.execute_reply": "2024-07-25T14:18:52.850848Z",
     "shell.execute_reply.started": "2024-07-25T14:18:52.820929Z"
    },
    "frozen": false
   },
   "outputs": [],
   "source": [
    "df_ispa_dki_all = df_ispa_dki_all[COLUMNS].copy()"
   ]
  },
  {
   "cell_type": "markdown",
   "id": "47e92b81-1b8a-4a73-912c-a8d62b83de2a",
   "metadata": {
    "deletable": true,
    "editable": true,
    "execution": {
     "iopub.execute_input": "2024-07-25T10:12:14.946305Z",
     "iopub.status.busy": "2024-07-25T10:12:14.945307Z",
     "iopub.status.idle": "2024-07-25T10:12:14.958272Z",
     "shell.execute_reply": "2024-07-25T10:12:14.957276Z",
     "shell.execute_reply.started": "2024-07-25T10:12:14.946305Z"
    },
    "frozen": false
   },
   "source": [
    "### Data Cleaning (Generally)"
   ]
  },
  {
   "cell_type": "markdown",
   "id": "96e48b60-7482-4007-9309-55d6d1d942df",
   "metadata": {
    "deletable": true,
    "editable": true,
    "execution": {
     "iopub.execute_input": "2024-07-25T10:54:00.903179Z",
     "iopub.status.busy": "2024-07-25T10:54:00.902179Z",
     "iopub.status.idle": "2024-07-25T10:54:00.919135Z",
     "shell.execute_reply": "2024-07-25T10:54:00.917138Z",
     "shell.execute_reply.started": "2024-07-25T10:54:00.903179Z"
    },
    "frozen": false
   },
   "source": [
    "#### Handling Numerical-Features Error"
   ]
  },
  {
   "cell_type": "code",
   "execution_count": 14,
   "id": "4996035a-b48d-4275-9cd9-c76ba2e07318",
   "metadata": {
    "deletable": true,
    "editable": true,
    "execution": {
     "iopub.execute_input": "2024-07-25T14:18:55.457451Z",
     "iopub.status.busy": "2024-07-25T14:18:55.456454Z",
     "iopub.status.idle": "2024-07-25T14:18:55.478395Z",
     "shell.execute_reply": "2024-07-25T14:18:55.477397Z",
     "shell.execute_reply.started": "2024-07-25T14:18:55.456454Z"
    },
    "frozen": false
   },
   "outputs": [],
   "source": [
    "FEATURES = ['pm10', 'pm25', 'so2', 'co', 'o3', 'no2']"
   ]
  },
  {
   "cell_type": "code",
   "execution_count": 15,
   "id": "e3f83b56-c04c-4ef1-8523-15906bd4387e",
   "metadata": {
    "deletable": true,
    "editable": true,
    "execution": {
     "iopub.execute_input": "2024-07-25T14:18:56.101362Z",
     "iopub.status.busy": "2024-07-25T14:18:56.100404Z",
     "iopub.status.idle": "2024-07-25T14:18:56.121309Z",
     "shell.execute_reply": "2024-07-25T14:18:56.120312Z",
     "shell.execute_reply.started": "2024-07-25T14:18:56.101362Z"
    },
    "frozen": false
   },
   "outputs": [],
   "source": [
    "# error check\n",
    "_df_ispa_dki_all = df_ispa_dki_all.copy()"
   ]
  },
  {
   "cell_type": "code",
   "execution_count": 16,
   "id": "017958c7-b636-491d-abef-cef645dee744",
   "metadata": {
    "deletable": true,
    "editable": true,
    "execution": {
     "iopub.execute_input": "2024-07-25T14:18:56.659531Z",
     "iopub.status.busy": "2024-07-25T14:18:56.658531Z",
     "iopub.status.idle": "2024-07-25T14:18:56.733636Z",
     "shell.execute_reply": "2024-07-25T14:18:56.732659Z",
     "shell.execute_reply.started": "2024-07-25T14:18:56.659531Z"
    },
    "frozen": false
   },
   "outputs": [],
   "source": [
    "error_report = set()\n",
    "for feature in FEATURES:\n",
    "    pure_nan_idx = np.argwhere(df_ispa_dki_all[feature].isna()).ravel()\n",
    "    df_ispa_dki_all[feature] = pd.to_numeric(df_ispa_dki_all[feature], errors='coerce')\n",
    "    \n",
    "    # Coerce will change the alphabetic string value to nan\n",
    "    error_nan_idx = np.argwhere(df_ispa_dki_all[feature].isna()).ravel()    \n",
    "    error_report.update(set(error_nan_idx).difference(pure_nan_idx))"
   ]
  },
  {
   "cell_type": "code",
   "execution_count": 17,
   "id": "f7390491-aa0c-4de1-ae15-309951fb14f2",
   "metadata": {
    "deletable": true,
    "editable": true,
    "execution": {
     "iopub.execute_input": "2024-07-25T14:18:57.411823Z",
     "iopub.status.busy": "2024-07-25T14:18:57.410830Z",
     "iopub.status.idle": "2024-07-25T14:18:57.448724Z",
     "shell.execute_reply": "2024-07-25T14:18:57.447727Z",
     "shell.execute_reply.started": "2024-07-25T14:18:57.411823Z"
    },
    "frozen": false
   },
   "outputs": [
    {
     "data": {
      "text/plain": [
       "array(['54', '15', '48', '70', '-', '49', '52', '53', '55', '36', '28',\n",
       "       '18', '20', '22', '58', '37', '24', '32', '33', '23', '50', '42',\n",
       "       '21', '29', '30', '51', '40', '25', '26', '35', '17', '27', '34',\n",
       "       '19', '38', '16', '13', '47', '39', '44', '31', '45', '59', '76',\n",
       "       '57', '46', '60', '61', '66', '68', '63', '43', '65', '56', '41',\n",
       "       '62', '67', '64', '81', '107', '83', '73', '74', '111', '135',\n",
       "       '106', '113', '92', '82', '71', '88', '86', '123', '109', '89',\n",
       "       '78', '102', '104', '114', '119', '118', '97', '115', '170', '136',\n",
       "       '139', '126', '128', '110', '91', '85', '72', '95', '99', '79',\n",
       "       '80', '98', '133', '121', '108', '84', '112', '93', '77', '151',\n",
       "       '120', '90', '101', '130', '125', '146', '117', '124', '129',\n",
       "       '116', '105', '96', '134', '217', '75', '103', '122', '138', '127',\n",
       "       '14', '4', '7', '5', '3', '2', '9', '8', '6', '10', '11', '12',\n",
       "       '---', '1'], dtype=object)"
      ]
     },
     "execution_count": 17,
     "metadata": {},
     "output_type": "execute_result"
    }
   ],
   "source": [
    "_df_ispa_dki_all.loc[list(error_report)][FEATURES].melt()['value'].unique()"
   ]
  },
  {
   "cell_type": "code",
   "execution_count": 18,
   "id": "1d1e3346-29e3-4cd6-b031-101f24c60de9",
   "metadata": {
    "deletable": true,
    "editable": true,
    "execution": {
     "iopub.execute_input": "2024-07-25T14:18:59.546955Z",
     "iopub.status.busy": "2024-07-25T14:18:59.545957Z",
     "iopub.status.idle": "2024-07-25T14:18:59.575878Z",
     "shell.execute_reply": "2024-07-25T14:18:59.573883Z",
     "shell.execute_reply.started": "2024-07-25T14:18:59.545957Z"
    },
    "frozen": false
   },
   "outputs": [
    {
     "name": "stdout",
     "output_type": "stream",
     "text": [
      "<class 'pandas.core.frame.DataFrame'>\n",
      "RangeIndex: 24865 entries, 0 to 24864\n",
      "Data columns (total 11 columns):\n",
      " #   Column    Non-Null Count  Dtype         \n",
      "---  ------    --------------  -----         \n",
      " 0   date      24865 non-null  datetime64[ns]\n",
      " 1   station   24865 non-null  object        \n",
      " 2   pm10      21130 non-null  float64       \n",
      " 3   pm25      4372 non-null   float64       \n",
      " 4   so2       21873 non-null  float64       \n",
      " 5   co        22041 non-null  float64       \n",
      " 6   o3        21806 non-null  float64       \n",
      " 7   no2       21877 non-null  float64       \n",
      " 8   max       24832 non-null  object        \n",
      " 9   critical  22448 non-null  object        \n",
      " 10  category  24865 non-null  object        \n",
      "dtypes: datetime64[ns](1), float64(6), object(4)\n",
      "memory usage: 2.1+ MB\n"
     ]
    }
   ],
   "source": [
    "df_ispa_dki_all.info()"
   ]
  },
  {
   "cell_type": "markdown",
   "id": "9d88b290-628f-46c1-9342-be9d9e817aa3",
   "metadata": {
    "deletable": true,
    "editable": true,
    "execution": {
     "iopub.execute_input": "2024-07-25T10:24:15.316378Z",
     "iopub.status.busy": "2024-07-25T10:24:15.315383Z",
     "iopub.status.idle": "2024-07-25T10:24:15.334745Z",
     "shell.execute_reply": "2024-07-25T10:24:15.332749Z",
     "shell.execute_reply.started": "2024-07-25T10:24:15.316378Z"
    },
    "frozen": false
   },
   "source": [
    "#### Handling Missing Values"
   ]
  },
  {
   "cell_type": "code",
   "execution_count": 19,
   "id": "362d844c-7c9e-428f-a852-1c329bf02175",
   "metadata": {
    "deletable": true,
    "editable": true,
    "execution": {
     "iopub.execute_input": "2024-07-25T14:19:02.360869Z",
     "iopub.status.busy": "2024-07-25T14:19:02.359871Z",
     "iopub.status.idle": "2024-07-25T14:19:02.394779Z",
     "shell.execute_reply": "2024-07-25T14:19:02.392784Z",
     "shell.execute_reply.started": "2024-07-25T14:19:02.360869Z"
    },
    "frozen": false
   },
   "outputs": [
    {
     "name": "stdout",
     "output_type": "stream",
     "text": [
      "Num. of missing values based on features: 2403\n"
     ]
    }
   ],
   "source": [
    "non_na_idx = df_ispa_dki_all[FEATURES].dropna(axis=0, how='all').index\n",
    "na_idx = list(set(df_ispa_dki_all.index).difference(non_na_idx))\n",
    "na_based_features = df_ispa_dki_all.loc[na_idx, :].shape[0]\n",
    "print(f\"Num. of missing values based on features: {na_based_features}\")"
   ]
  },
  {
   "cell_type": "code",
   "execution_count": 20,
   "id": "fd34e934-9060-4fb7-bb23-ec7561f912d1",
   "metadata": {
    "deletable": true,
    "editable": true,
    "execution": {
     "iopub.execute_input": "2024-07-25T14:19:03.276191Z",
     "iopub.status.busy": "2024-07-25T14:19:03.276191Z",
     "iopub.status.idle": "2024-07-25T14:19:03.300127Z",
     "shell.execute_reply": "2024-07-25T14:19:03.299128Z",
     "shell.execute_reply.started": "2024-07-25T14:19:03.276191Z"
    },
    "frozen": false
   },
   "outputs": [
    {
     "name": "stdout",
     "output_type": "stream",
     "text": [
      "Num. of missing values based on 'TIDAK ADA DATA' category: 2403\n"
     ]
    }
   ],
   "source": [
    "dropped_idx = df_ispa_dki_all.query(\"category == 'TIDAK ADA DATA'\").index\n",
    "na_based_category = df_ispa_dki_all.loc[dropped_idx, :].shape[0]\n",
    "print(f\"Num. of missing values based on 'TIDAK ADA DATA' category: {na_based_features}\")"
   ]
  },
  {
   "cell_type": "code",
   "execution_count": 21,
   "id": "91a00bc8-1638-480c-9594-4057a6aba28f",
   "metadata": {
    "deletable": true,
    "editable": true,
    "execution": {
     "iopub.execute_input": "2024-07-25T14:19:04.264585Z",
     "iopub.status.busy": "2024-07-25T14:19:04.264585Z",
     "iopub.status.idle": "2024-07-25T14:19:04.282534Z",
     "shell.execute_reply": "2024-07-25T14:19:04.281540Z",
     "shell.execute_reply.started": "2024-07-25T14:19:04.264585Z"
    },
    "frozen": false
   },
   "outputs": [
    {
     "name": "stdout",
     "output_type": "stream",
     "text": [
      "Before dropped: (24865, 11)\n",
      "After dropped: (22461, 11)\n"
     ]
    }
   ],
   "source": [
    "print(\"Before dropped:\", df_ispa_dki_all.shape)\n",
    "df_ispa_dki_all.drop(index=dropped_idx, inplace=True)\n",
    "print(\"After dropped:\", df_ispa_dki_all.shape)"
   ]
  },
  {
   "cell_type": "markdown",
   "id": "4e50721e-c0b0-4335-96ae-9132d1b3b895",
   "metadata": {
    "deletable": true,
    "editable": true,
    "execution": {
     "iopub.execute_input": "2024-07-25T09:39:54.743345Z",
     "iopub.status.busy": "2024-07-25T09:39:54.743345Z",
     "iopub.status.idle": "2024-07-25T09:39:54.764288Z",
     "shell.execute_reply": "2024-07-25T09:39:54.763293Z",
     "shell.execute_reply.started": "2024-07-25T09:39:54.743345Z"
    },
    "frozen": false
   },
   "source": [
    "#### Remap station names"
   ]
  },
  {
   "cell_type": "code",
   "execution_count": 22,
   "id": "9d3e8fba-b494-4695-95f6-051444698654",
   "metadata": {
    "deletable": true,
    "editable": true,
    "execution": {
     "iopub.execute_input": "2024-07-25T14:19:07.166044Z",
     "iopub.status.busy": "2024-07-25T14:19:07.165048Z",
     "iopub.status.idle": "2024-07-25T14:19:07.176019Z",
     "shell.execute_reply": "2024-07-25T14:19:07.175024Z",
     "shell.execute_reply.started": "2024-07-25T14:19:07.166044Z"
    },
    "frozen": false
   },
   "outputs": [],
   "source": [
    "remap_station_names = {    \n",
    "    \"DKI1\": \"DKI1 (Bunderan HI)\",\n",
    "    \"DKI1 Bunderan HI\": \"DKI1 (Bunderan HI)\",\n",
    "    \"DKI1 Bundaran Hotel Indonesia (HI)\": \"DKI1 (Bunderan HI)\",\n",
    "    \"DKI2\": \"DKI2 (Kelapa Gading)\",\n",
    "    \"DKI2 Kelapa Gading\": \"DKI2 (Kelapa Gading)\",\n",
    "    \"DKI3\": \"DKI3 (Jagakarsa)\",\n",
    "    \"DKI3 Jagakarsa\": \"DKI3 (Jagakarsa)\",\n",
    "    \"DKI4\": \"DKI4 (Lubang Buaya)\",\n",
    "    \"DKI4 Lubang Buaya\": \"DKI4 (Lubang Buaya)\",\n",
    "    \"DKI5\": \"DKI5 (Kebon Jeruk)\",\n",
    "    \"DKI5 Kebon Jeruk Jakarta Barat\": \"DKI5 (Kebon Jeruk)\",\n",
    "    \"DKI5 Kebon Jeruk\": \"DKI5 (Kebon Jeruk)\",\n",
    "}"
   ]
  },
  {
   "cell_type": "code",
   "execution_count": 23,
   "id": "f641e90c-1fb9-4fdc-a1ca-4d331fc5794d",
   "metadata": {
    "deletable": true,
    "editable": true,
    "execution": {
     "iopub.execute_input": "2024-07-25T14:19:08.036265Z",
     "iopub.status.busy": "2024-07-25T14:19:08.035266Z",
     "iopub.status.idle": "2024-07-25T14:19:08.057208Z",
     "shell.execute_reply": "2024-07-25T14:19:08.055213Z",
     "shell.execute_reply.started": "2024-07-25T14:19:08.036265Z"
    },
    "frozen": false
   },
   "outputs": [
    {
     "data": {
      "text/plain": [
       "station\n",
       "DKI1 (Bunderan HI)                    4273\n",
       "DKI2 (Kelapa Gading)                  4032\n",
       "DKI3 (Jagakarsa)                      3980\n",
       "DKI4 (Lubang Buaya)                   3974\n",
       "DKI5 (Kebon Jeruk)                    3277\n",
       "DKI2 Kelapa Gading                     514\n",
       "DKI3 Jagakarsa                         513\n",
       "DKI4 Lubang Buaya                      510\n",
       "DKI1 Bunderan HI                       451\n",
       "DKI5 Kebon Jeruk                       303\n",
       "DKI4                                   267\n",
       "DKI5 Kebon Jeruk Jakarta Barat         207\n",
       "DKI1 Bundaran Hotel Indonesia (HI)      62\n",
       "DKI2                                    39\n",
       "DKI3                                    33\n",
       "DKI5                                    22\n",
       "DKI1                                     4\n",
       "Name: count, dtype: int64"
      ]
     },
     "execution_count": 23,
     "metadata": {},
     "output_type": "execute_result"
    }
   ],
   "source": [
    "df_ispa_dki_all['station'].value_counts()"
   ]
  },
  {
   "cell_type": "code",
   "execution_count": 24,
   "id": "4b4f3112-ac6f-4a31-bc65-aa6f5aa369dd",
   "metadata": {
    "deletable": true,
    "editable": true,
    "execution": {
     "iopub.execute_input": "2024-07-25T14:19:09.107996Z",
     "iopub.status.busy": "2024-07-25T14:19:09.106999Z",
     "iopub.status.idle": "2024-07-25T14:19:09.145894Z",
     "shell.execute_reply": "2024-07-25T14:19:09.144897Z",
     "shell.execute_reply.started": "2024-07-25T14:19:09.107996Z"
    },
    "frozen": false
   },
   "outputs": [],
   "source": [
    "df_ispa_dki_all['station'].replace(remap_station_names, inplace=True)"
   ]
  },
  {
   "cell_type": "code",
   "execution_count": 25,
   "id": "5cf5eaf8-aaab-475f-ad17-8fad93758422",
   "metadata": {
    "deletable": true,
    "editable": true,
    "execution": {
     "iopub.execute_input": "2024-07-25T14:19:11.437211Z",
     "iopub.status.busy": "2024-07-25T14:19:11.437211Z",
     "iopub.status.idle": "2024-07-25T14:19:11.464140Z",
     "shell.execute_reply": "2024-07-25T14:19:11.463143Z",
     "shell.execute_reply.started": "2024-07-25T14:19:11.437211Z"
    },
    "frozen": false
   },
   "outputs": [
    {
     "data": {
      "text/plain": [
       "station\n",
       "DKI1 (Bunderan HI)      4790\n",
       "DKI4 (Lubang Buaya)     4751\n",
       "DKI2 (Kelapa Gading)    4585\n",
       "DKI3 (Jagakarsa)        4526\n",
       "DKI5 (Kebon Jeruk)      3809\n",
       "Name: count, dtype: int64"
      ]
     },
     "execution_count": 25,
     "metadata": {},
     "output_type": "execute_result"
    }
   ],
   "source": [
    "df_ispa_dki_all['station'].value_counts()"
   ]
  },
  {
   "cell_type": "markdown",
   "id": "ebb0b26d-6bda-4d15-a63e-2d34257cbae4",
   "metadata": {
    "deletable": true,
    "editable": true,
    "execution": {
     "iopub.execute_input": "2024-07-25T10:23:37.255024Z",
     "iopub.status.busy": "2024-07-25T10:23:37.254027Z",
     "iopub.status.idle": "2024-07-25T10:23:37.266991Z",
     "shell.execute_reply": "2024-07-25T10:23:37.265999Z",
     "shell.execute_reply.started": "2024-07-25T10:23:37.255024Z"
    },
    "frozen": false
   },
   "source": [
    "#### Remap critical names"
   ]
  },
  {
   "cell_type": "code",
   "execution_count": 26,
   "id": "2fa1db28-8e2a-4361-ad30-a86f1818c24e",
   "metadata": {
    "deletable": true,
    "editable": true,
    "execution": {
     "iopub.execute_input": "2024-07-25T14:19:15.554406Z",
     "iopub.status.busy": "2024-07-25T14:19:15.554406Z",
     "iopub.status.idle": "2024-07-25T14:19:15.574351Z",
     "shell.execute_reply": "2024-07-25T14:19:15.573354Z",
     "shell.execute_reply.started": "2024-07-25T14:19:15.554406Z"
    },
    "frozen": false
   },
   "outputs": [
    {
     "data": {
      "text/plain": [
       "critical\n",
       "O3       10868\n",
       "PM10      6258\n",
       "PM25      3820\n",
       "CO         576\n",
       "SO2        424\n",
       "PM2,5      333\n",
       "2          112\n",
       "1           30\n",
       "NO2          9\n",
       "3            7\n",
       "5            3\n",
       "Name: count, dtype: int64"
      ]
     },
     "execution_count": 26,
     "metadata": {},
     "output_type": "execute_result"
    }
   ],
   "source": [
    "df_ispa_dki_all['critical'].value_counts()"
   ]
  },
  {
   "cell_type": "code",
   "execution_count": 27,
   "id": "fb0ec7bc-c3b8-4cbc-a806-66df37a89db1",
   "metadata": {
    "deletable": true,
    "editable": true,
    "execution": {
     "iopub.execute_input": "2024-07-25T14:19:17.011700Z",
     "iopub.status.busy": "2024-07-25T14:19:17.010701Z",
     "iopub.status.idle": "2024-07-25T14:19:17.052589Z",
     "shell.execute_reply": "2024-07-25T14:19:17.051591Z",
     "shell.execute_reply.started": "2024-07-25T14:19:17.011700Z"
    },
    "frozen": false
   },
   "outputs": [],
   "source": [
    "df_ispa_dki_all['critical'] = df_ispa_dki_all[FEATURES].idxmax(axis=1).str.upper()"
   ]
  },
  {
   "cell_type": "code",
   "execution_count": 28,
   "id": "a21303ca-9405-4305-9cb9-a2ffd3b2a40a",
   "metadata": {
    "deletable": true,
    "editable": true,
    "execution": {
     "iopub.execute_input": "2024-07-25T14:19:18.541124Z",
     "iopub.status.busy": "2024-07-25T14:19:18.541124Z",
     "iopub.status.idle": "2024-07-25T14:19:18.558076Z",
     "shell.execute_reply": "2024-07-25T14:19:18.557078Z",
     "shell.execute_reply.started": "2024-07-25T14:19:18.541124Z"
    },
    "frozen": false
   },
   "outputs": [
    {
     "data": {
      "text/plain": [
       "critical\n",
       "O3      11101\n",
       "PM10     6345\n",
       "PM25     3978\n",
       "SO2       550\n",
       "CO        439\n",
       "NO2        48\n",
       "Name: count, dtype: int64"
      ]
     },
     "execution_count": 28,
     "metadata": {},
     "output_type": "execute_result"
    }
   ],
   "source": [
    "df_ispa_dki_all['critical'].value_counts()"
   ]
  },
  {
   "cell_type": "markdown",
   "id": "db10ddf0-14fd-4d9b-adb8-77a8b8fe257b",
   "metadata": {
    "deletable": true,
    "editable": true,
    "execution": {
     "iopub.execute_input": "2024-07-25T09:36:51.991968Z",
     "iopub.status.busy": "2024-07-25T09:36:51.990935Z",
     "iopub.status.idle": "2024-07-25T09:36:52.007887Z",
     "shell.execute_reply": "2024-07-25T09:36:52.006889Z",
     "shell.execute_reply.started": "2024-07-25T09:36:51.991968Z"
    },
    "frozen": false
   },
   "source": [
    "### Feature Engineering"
   ]
  },
  {
   "cell_type": "markdown",
   "id": "908a7f1c-a354-4247-ace8-db5e4da68cf4",
   "metadata": {
    "deletable": true,
    "editable": true,
    "execution": {
     "iopub.execute_input": "2024-07-25T14:51:55.620878Z",
     "iopub.status.busy": "2024-07-25T14:51:55.619880Z",
     "iopub.status.idle": "2024-07-25T14:51:55.631847Z",
     "shell.execute_reply": "2024-07-25T14:51:55.630849Z",
     "shell.execute_reply.started": "2024-07-25T14:51:55.620878Z"
    },
    "frozen": false
   },
   "source": [
    "#### Date Features"
   ]
  },
  {
   "cell_type": "code",
   "execution_count": 29,
   "id": "3b54713e-a03e-46a7-a60c-8e201a346cc2",
   "metadata": {
    "deletable": true,
    "editable": true,
    "execution": {
     "iopub.execute_input": "2024-07-25T14:19:22.099943Z",
     "iopub.status.busy": "2024-07-25T14:19:22.093960Z",
     "iopub.status.idle": "2024-07-25T14:19:22.742781Z",
     "shell.execute_reply": "2024-07-25T14:19:22.730817Z",
     "shell.execute_reply.started": "2024-07-25T14:19:22.098947Z"
    },
    "frozen": false
   },
   "outputs": [],
   "source": [
    "df_ispa_dki_all['year'] = df_ispa_dki_all['date'].dt.year\n",
    "df_ispa_dki_all['quarter'] = df_ispa_dki_all['date'].dt.quarter\n",
    "df_ispa_dki_all['month'] = df_ispa_dki_all['date'].dt.month_name().map(lambda x: x[:3])\n",
    "df_ispa_dki_all['day'] = df_ispa_dki_all['date'].dt.day\n",
    "df_ispa_dki_all['day_of_week'] = df_ispa_dki_all['date'].dt.day_name().map(lambda x: x[:3])"
   ]
  },
  {
   "cell_type": "code",
   "execution_count": 32,
   "id": "e216f872-8d2e-46b9-b33a-cc6849361968",
   "metadata": {
    "deletable": true,
    "editable": true,
    "execution": {
     "iopub.execute_input": "2024-07-25T14:22:07.008155Z",
     "iopub.status.busy": "2024-07-25T14:22:07.007158Z",
     "iopub.status.idle": "2024-07-25T14:22:07.033275Z",
     "shell.execute_reply": "2024-07-25T14:22:07.031095Z",
     "shell.execute_reply.started": "2024-07-25T14:22:07.008155Z"
    },
    "frozen": false
   },
   "outputs": [
    {
     "data": {
      "text/plain": [
       "station\n",
       "DKI1 (Bunderan HI)      4790\n",
       "DKI4 (Lubang Buaya)     4751\n",
       "DKI2 (Kelapa Gading)    4585\n",
       "DKI3 (Jagakarsa)        4526\n",
       "DKI5 (Kebon Jeruk)      3809\n",
       "Name: count, dtype: int64"
      ]
     },
     "execution_count": 32,
     "metadata": {},
     "output_type": "execute_result"
    }
   ],
   "source": [
    "df_ispa_dki_all['station'].value_counts()"
   ]
  },
  {
   "cell_type": "markdown",
   "id": "b2a766b6-0509-45be-81bd-bdcce21bc88d",
   "metadata": {
    "deletable": true,
    "editable": true,
    "execution": {
     "iopub.execute_input": "2024-07-25T14:52:15.337445Z",
     "iopub.status.busy": "2024-07-25T14:52:15.336445Z",
     "iopub.status.idle": "2024-07-25T14:52:15.344423Z",
     "shell.execute_reply": "2024-07-25T14:52:15.343428Z",
     "shell.execute_reply.started": "2024-07-25T14:52:15.337445Z"
    },
    "frozen": false
   },
   "source": [
    "#### Geo-Administration Features"
   ]
  },
  {
   "cell_type": "code",
   "execution_count": 51,
   "id": "d56e735b-583d-4dad-b575-243201d589ca",
   "metadata": {
    "deletable": true,
    "editable": true,
    "execution": {
     "iopub.execute_input": "2024-07-25T14:41:04.974778Z",
     "iopub.status.busy": "2024-07-25T14:41:04.973780Z",
     "iopub.status.idle": "2024-07-25T14:41:04.984751Z",
     "shell.execute_reply": "2024-07-25T14:41:04.983753Z",
     "shell.execute_reply.started": "2024-07-25T14:41:04.974778Z"
    },
    "frozen": false
   },
   "outputs": [],
   "source": [
    "get_district = {\n",
    "    'DKI1': 'Jakarta Pusat', \n",
    "    'DKI2': 'Jakarta Utara', \n",
    "    'DKI3': 'Jakarta Selatan',\n",
    "    'DKI4': 'Jakarta Timur',\n",
    "    'DKI5': 'Jakarta Barat'\n",
    "}\n",
    "\n",
    "get_sub_district = {\n",
    "    'Bunderan HI': 'Menteng', \n",
    "    'Lubang Buaya': 'Cipayung', \n",
    "    'Kelapa Gading': 'Kelapa Gading',\n",
    "    'Jagakarsa': 'Jagakarsa',\n",
    "    'Kebon Jeruk': 'Kebonjeruk'\n",
    "}"
   ]
  },
  {
   "cell_type": "code",
   "execution_count": 71,
   "id": "76e22af2-eee5-4b17-bcf1-8e03fa4d12b4",
   "metadata": {
    "deletable": true,
    "editable": true,
    "execution": {
     "iopub.execute_input": "2024-07-25T14:55:48.573897Z",
     "iopub.status.busy": "2024-07-25T14:55:48.572903Z",
     "iopub.status.idle": "2024-07-25T14:55:48.721017Z",
     "shell.execute_reply": "2024-07-25T14:55:48.720020Z",
     "shell.execute_reply.started": "2024-07-25T14:55:48.573897Z"
    },
    "frozen": false
   },
   "outputs": [],
   "source": [
    "pattern = r'\\((.*?)\\)'\n",
    "\n",
    "df_ispa_dki_all = df_ispa_dki_all.assign(\n",
    "    district = lambda df: df['station'].map(lambda x: get_district[x[:4]]),\n",
    "    sub_district = lambda df: df['station'].str.extract(pattern).map(lambda x: get_sub_district[x])\n",
    ")"
   ]
  },
  {
   "cell_type": "markdown",
   "id": "67ec66c1-43e7-49a3-a1d1-f5a53f0cfbaa",
   "metadata": {
    "deletable": true,
    "editable": true,
    "execution": {
     "iopub.execute_input": "2024-07-25T11:27:47.679810Z",
     "iopub.status.busy": "2024-07-25T11:27:47.678812Z",
     "iopub.status.idle": "2024-07-25T11:27:47.695766Z",
     "shell.execute_reply": "2024-07-25T11:27:47.693774Z",
     "shell.execute_reply.started": "2024-07-25T11:27:47.679810Z"
    },
    "frozen": false
   },
   "source": [
    "### Save the cleaned data"
   ]
  },
  {
   "cell_type": "code",
   "execution_count": 75,
   "id": "e69914d4-3c1d-49d0-9aaf-7be0de9a16cc",
   "metadata": {
    "deletable": true,
    "editable": true,
    "execution": {
     "iopub.execute_input": "2024-07-25T15:06:39.424867Z",
     "iopub.status.busy": "2024-07-25T15:06:39.424867Z",
     "iopub.status.idle": "2024-07-25T15:06:39.447804Z",
     "shell.execute_reply": "2024-07-25T15:06:39.446807Z",
     "shell.execute_reply.started": "2024-07-25T15:06:39.424867Z"
    },
    "frozen": false
   },
   "outputs": [],
   "source": [
    "df_ispa_dki_all = df_ispa_dki_all.sort_values(\"date\")"
   ]
  },
  {
   "cell_type": "code",
   "execution_count": 76,
   "id": "5fc601b7-c0e2-4c55-aba6-3b626c5361ce",
   "metadata": {
    "deletable": true,
    "editable": true,
    "execution": {
     "iopub.execute_input": "2024-07-25T15:06:40.390526Z",
     "iopub.status.busy": "2024-07-25T15:06:40.389526Z",
     "iopub.status.idle": "2024-07-25T15:06:40.614635Z",
     "shell.execute_reply": "2024-07-25T15:06:40.613633Z",
     "shell.execute_reply.started": "2024-07-25T15:06:40.390526Z"
    },
    "frozen": false
   },
   "outputs": [],
   "source": [
    "df_ispa_dki_all.to_csv(\"df_ispa_dki_all.csv\", index=False)"
   ]
  }
 ],
 "metadata": {
  "kernelspec": {
   "display_name": "Python 3 (ipykernel)",
   "language": "python",
   "name": "python3"
  },
  "language_info": {
   "codemirror_mode": {
    "name": "ipython",
    "version": 3
   },
   "file_extension": ".py",
   "mimetype": "text/x-python",
   "name": "python",
   "nbconvert_exporter": "python",
   "pygments_lexer": "ipython3",
   "version": "3.9.12"
  }
 },
 "nbformat": 4,
 "nbformat_minor": 5
}
